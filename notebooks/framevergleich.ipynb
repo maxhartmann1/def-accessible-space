{
 "cells": [
  {
   "cell_type": "code",
   "execution_count": 112,
   "id": "f9b3d29e",
   "metadata": {},
   "outputs": [],
   "source": [
    "import pandas as pd\n",
    "\n",
    "GAMES = [\"J03WQQ\", \"J03WR9\", \"J03WOH\", \"J03WOY\", \"J03WPY\"]\n",
    "PLAYERS = [\"home_11\", \"home_19\", \"home_23\", \"home_25\", \"home_5\", \"home_7\", \"home_9\"]\n",
    "full_df = pd.read_csv(\"output/full_das.csv\")\n",
    "full_df_ohne_cut = full_df[\n",
    "    (full_df[\"game_id\"] == GAMES[0]) &\n",
    "    (full_df[\"player_id\"] == PLAYERS[3]) &\n",
    "    (full_df[\"step\"] == \"step125\") &\n",
    "    (~full_df[\"method\"].str.contains(\"cut\", case=False, na=False)) &\n",
    "    (full_df[\"method\"] == \"random\")\n",
    "].reset_index(drop=True)\n",
    "full_df_mit_cut = full_df[\n",
    "    (full_df[\"game_id\"] == GAMES[0]) &\n",
    "    (full_df[\"player_id\"] == PLAYERS[3]) &\n",
    "    (full_df[\"step\"] == \"step125\") &\n",
    "    (full_df[\"method\"].str.contains(\"cut\", case=False, na=False))\n",
    "].reset_index(drop=True)"
   ]
  },
  {
   "cell_type": "code",
   "execution_count": 85,
   "id": "1648dda2",
   "metadata": {},
   "outputs": [],
   "source": [
    "import numpy as np\n",
    "import pandas as pd\n",
    "import plotly.graph_objects as go\n",
    "\n",
    "def plot_player_time_series(df_input, metric_prefix=\"PotentialDAS_\", title=None, max_traces=40, height=500, width=1000):\n",
    "    df = df_input.copy()\n",
    "    \n",
    "    # df.reset_index(inplace=True)\n",
    "    # df.rename(columns={\"index\": \"frame\"})\n",
    "    x = np.arange(len(df))\n",
    "    das_cols = [c for c in df.columns if c.startswith(metric_prefix)]\n",
    "        \n",
    "    fig = go.Figure()\n",
    "    \n",
    "    for col in das_cols:\n",
    "        label = col[len(metric_prefix):]\n",
    "        y = df[col].values\n",
    "        \n",
    "        hovertemplate = (\n",
    "            \"frame_index: %{x}<br>\"\n",
    "            f\"{label}<br>\"\n",
    "            f\"DAS_potential: \" + \"%{y:.3f}<extra></extra>\"\n",
    "        )\n",
    "        fig.add_trace(\n",
    "            go.Scatter(\n",
    "               x=x, y=y,\n",
    "               mode=\"lines+markers\",\n",
    "               name=label,\n",
    "               hovertemplate=hovertemplate,\n",
    "               marker=dict(size=6),\n",
    "               line=dict(width=1)\n",
    "            )\n",
    "        )\n",
    "    \n",
    "    if title is None:\n",
    "        title = \"DAS_potential Zeitverlauf (indexbasiert)\"\n",
    "    fig.update_layout(\n",
    "        title=title,\n",
    "        xaxis_title=\"Frame (indexbasiert, gleichabständig)\",\n",
    "        yaxis_title=\"DAS_potential\",\n",
    "        height=height,\n",
    "        width=width,\n",
    "        legend_title=\"Methode | Parameter\",\n",
    "        hovermode=\"x unified\"\n",
    "    )\n",
    "    # fig.show()\n",
    "    return fig\n",
    "\n",
    "def add_frame_ranks(df_input, metric_keyword=\"PotentialDAS\", rank_prefix=\"Rank_\"):\n",
    "    \n",
    "    df = df_input.copy().reset_index(drop=True)\n",
    "    \n",
    "    das_cols = [c for c in df.columns if metric_keyword in str(c)]\n",
    "    das_df = df[das_cols].astype(float)\n",
    "    row_ranks = das_df.rank(axis=1, method=\"average\", ascending=False)\n",
    "\n",
    "    rank_cols = [f\"{rank_prefix}{c}\" for c in das_cols]\n",
    "    row_ranks.columns = rank_cols\n",
    "\n",
    "    \n",
    "    result = pd.concat([df, row_ranks], axis=1)\n",
    "    return result\n"
   ]
  },
  {
   "cell_type": "code",
   "execution_count": 114,
   "id": "885a7319",
   "metadata": {},
   "outputs": [
    {
     "data": {
      "application/vnd.plotly.v1+json": {
       "config": {
        "plotlyServerURL": "https://plot.ly"
       },
       "data": [
        {
         "hovertemplate": "frame_index: %{x}<br>random-100<br>DAS_potential: %{y:.3f}<extra></extra>",
         "line": {
          "width": 1
         },
         "marker": {
          "size": 6
         },
         "mode": "lines+markers",
         "name": "random-100",
         "type": "scatter",
         "x": {
          "bdata": "AAABAAIAAwAEAAUABgAHAAgACQAKAAsADAANAA4ADwAQABEAEgATABQAFQAWABcAGAAZABoAGwAcAB0AHgAfACAAIQAiACMAJAAlACYAJwAoACkAKgArACwALQAuAC8AMAAxADIAMwA0ADUANgA3ADgAOQA6ADsAPAA9AD4APwBAAEEAQgBDAEQARQBGAEcASABJAEoASwBMAE0ATgBPAFAAUQBSAFMAVABVAFYAVwBYAFkAWgBbAFwAXQBeAF8AYABhAGIAYwBkAGUAZgBnAGgAaQBqAGsAbABtAG4AbwBwAHEAcgBzAHQAdQB2AHcAeAB5AHoAewB8AH0AfgB/AIAAgQCCAIMAhACFAIYAhwCIAIkAigCLAIwAjQCOAI8AkACRAJIAkwCUAJUAlgCXAJgAmQCaAJsAnACdAJ4AnwCgAKEAogCjAKQApQCmAKcAqACpAKoAqwCsAK0ArgCvALAAsQCyALMAtAC1ALYAtwC4ALkAugC7ALwAvQC+AL8AwADBAMIAwwDEAMUAxgDHAMgA",
          "dtype": "i2"
         },
         "y": {
          "bdata": "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",
          "dtype": "f8"
         }
        },
        {
         "hovertemplate": "frame_index: %{x}<br>random-20<br>DAS_potential: %{y:.3f}<extra></extra>",
         "line": {
          "width": 1
         },
         "marker": {
          "size": 6
         },
         "mode": "lines+markers",
         "name": "random-20",
         "type": "scatter",
         "x": {
          "bdata": "AAABAAIAAwAEAAUABgAHAAgACQAKAAsADAANAA4ADwAQABEAEgATABQAFQAWABcAGAAZABoAGwAcAB0AHgAfACAAIQAiACMAJAAlACYAJwAoACkAKgArACwALQAuAC8AMAAxADIAMwA0ADUANgA3ADgAOQA6ADsAPAA9AD4APwBAAEEAQgBDAEQARQBGAEcASABJAEoASwBMAE0ATgBPAFAAUQBSAFMAVABVAFYAVwBYAFkAWgBbAFwAXQBeAF8AYABhAGIAYwBkAGUAZgBnAGgAaQBqAGsAbABtAG4AbwBwAHEAcgBzAHQAdQB2AHcAeAB5AHoAewB8AH0AfgB/AIAAgQCCAIMAhACFAIYAhwCIAIkAigCLAIwAjQCOAI8AkACRAJIAkwCUAJUAlgCXAJgAmQCaAJsAnACdAJ4AnwCgAKEAogCjAKQApQCmAKcAqACpAKoAqwCsAK0ArgCvALAAsQCyALMAtAC1ALYAtwC4ALkAugC7ALwAvQC+AL8AwADBAMIAwwDEAMUAxgDHAMgA",
          "dtype": "i2"
         },
         "y": {
          "bdata": "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",
          "dtype": "f8"
         }
        },
        {
         "hovertemplate": "frame_index: %{x}<br>random-50<br>DAS_potential: %{y:.3f}<extra></extra>",
         "line": {
          "width": 1
         },
         "marker": {
          "size": 6
         },
         "mode": "lines+markers",
         "name": "random-50",
         "type": "scatter",
         "x": {
          "bdata": "AAABAAIAAwAEAAUABgAHAAgACQAKAAsADAANAA4ADwAQABEAEgATABQAFQAWABcAGAAZABoAGwAcAB0AHgAfACAAIQAiACMAJAAlACYAJwAoACkAKgArACwALQAuAC8AMAAxADIAMwA0ADUANgA3ADgAOQA6ADsAPAA9AD4APwBAAEEAQgBDAEQARQBGAEcASABJAEoASwBMAE0ATgBPAFAAUQBSAFMAVABVAFYAVwBYAFkAWgBbAFwAXQBeAF8AYABhAGIAYwBkAGUAZgBnAGgAaQBqAGsAbABtAG4AbwBwAHEAcgBzAHQAdQB2AHcAeAB5AHoAewB8AH0AfgB/AIAAgQCCAIMAhACFAIYAhwCIAIkAigCLAIwAjQCOAI8AkACRAJIAkwCUAJUAlgCXAJgAmQCaAJsAnACdAJ4AnwCgAKEAogCjAKQApQCmAKcAqACpAKoAqwCsAK0ArgCvALAAsQCyALMAtAC1ALYAtwC4ALkAugC7ALwAvQC+AL8AwADBAMIAwwDEAMUAxgDHAMgA",
          "dtype": "i2"
         },
         "y": {
          "bdata": "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",
          "dtype": "f8"
         }
        }
       ],
       "layout": {
        "height": 500,
        "hovermode": "x unified",
        "legend": {
         "title": {
          "text": "Methode | Parameter"
         }
        },
        "template": {
         "data": {
          "bar": [
           {
            "error_x": {
             "color": "#2a3f5f"
            },
            "error_y": {
             "color": "#2a3f5f"
            },
            "marker": {
             "line": {
              "color": "#E5ECF6",
              "width": 0.5
             },
             "pattern": {
              "fillmode": "overlay",
              "size": 10,
              "solidity": 0.2
             }
            },
            "type": "bar"
           }
          ],
          "barpolar": [
           {
            "marker": {
             "line": {
              "color": "#E5ECF6",
              "width": 0.5
             },
             "pattern": {
              "fillmode": "overlay",
              "size": 10,
              "solidity": 0.2
             }
            },
            "type": "barpolar"
           }
          ],
          "carpet": [
           {
            "aaxis": {
             "endlinecolor": "#2a3f5f",
             "gridcolor": "white",
             "linecolor": "white",
             "minorgridcolor": "white",
             "startlinecolor": "#2a3f5f"
            },
            "baxis": {
             "endlinecolor": "#2a3f5f",
             "gridcolor": "white",
             "linecolor": "white",
             "minorgridcolor": "white",
             "startlinecolor": "#2a3f5f"
            },
            "type": "carpet"
           }
          ],
          "choropleth": [
           {
            "colorbar": {
             "outlinewidth": 0,
             "ticks": ""
            },
            "type": "choropleth"
           }
          ],
          "contour": [
           {
            "colorbar": {
             "outlinewidth": 0,
             "ticks": ""
            },
            "colorscale": [
             [
              0,
              "#0d0887"
             ],
             [
              0.1111111111111111,
              "#46039f"
             ],
             [
              0.2222222222222222,
              "#7201a8"
             ],
             [
              0.3333333333333333,
              "#9c179e"
             ],
             [
              0.4444444444444444,
              "#bd3786"
             ],
             [
              0.5555555555555556,
              "#d8576b"
             ],
             [
              0.6666666666666666,
              "#ed7953"
             ],
             [
              0.7777777777777778,
              "#fb9f3a"
             ],
             [
              0.8888888888888888,
              "#fdca26"
             ],
             [
              1,
              "#f0f921"
             ]
            ],
            "type": "contour"
           }
          ],
          "contourcarpet": [
           {
            "colorbar": {
             "outlinewidth": 0,
             "ticks": ""
            },
            "type": "contourcarpet"
           }
          ],
          "heatmap": [
           {
            "colorbar": {
             "outlinewidth": 0,
             "ticks": ""
            },
            "colorscale": [
             [
              0,
              "#0d0887"
             ],
             [
              0.1111111111111111,
              "#46039f"
             ],
             [
              0.2222222222222222,
              "#7201a8"
             ],
             [
              0.3333333333333333,
              "#9c179e"
             ],
             [
              0.4444444444444444,
              "#bd3786"
             ],
             [
              0.5555555555555556,
              "#d8576b"
             ],
             [
              0.6666666666666666,
              "#ed7953"
             ],
             [
              0.7777777777777778,
              "#fb9f3a"
             ],
             [
              0.8888888888888888,
              "#fdca26"
             ],
             [
              1,
              "#f0f921"
             ]
            ],
            "type": "heatmap"
           }
          ],
          "histogram": [
           {
            "marker": {
             "pattern": {
              "fillmode": "overlay",
              "size": 10,
              "solidity": 0.2
             }
            },
            "type": "histogram"
           }
          ],
          "histogram2d": [
           {
            "colorbar": {
             "outlinewidth": 0,
             "ticks": ""
            },
            "colorscale": [
             [
              0,
              "#0d0887"
             ],
             [
              0.1111111111111111,
              "#46039f"
             ],
             [
              0.2222222222222222,
              "#7201a8"
             ],
             [
              0.3333333333333333,
              "#9c179e"
             ],
             [
              0.4444444444444444,
              "#bd3786"
             ],
             [
              0.5555555555555556,
              "#d8576b"
             ],
             [
              0.6666666666666666,
              "#ed7953"
             ],
             [
              0.7777777777777778,
              "#fb9f3a"
             ],
             [
              0.8888888888888888,
              "#fdca26"
             ],
             [
              1,
              "#f0f921"
             ]
            ],
            "type": "histogram2d"
           }
          ],
          "histogram2dcontour": [
           {
            "colorbar": {
             "outlinewidth": 0,
             "ticks": ""
            },
            "colorscale": [
             [
              0,
              "#0d0887"
             ],
             [
              0.1111111111111111,
              "#46039f"
             ],
             [
              0.2222222222222222,
              "#7201a8"
             ],
             [
              0.3333333333333333,
              "#9c179e"
             ],
             [
              0.4444444444444444,
              "#bd3786"
             ],
             [
              0.5555555555555556,
              "#d8576b"
             ],
             [
              0.6666666666666666,
              "#ed7953"
             ],
             [
              0.7777777777777778,
              "#fb9f3a"
             ],
             [
              0.8888888888888888,
              "#fdca26"
             ],
             [
              1,
              "#f0f921"
             ]
            ],
            "type": "histogram2dcontour"
           }
          ],
          "mesh3d": [
           {
            "colorbar": {
             "outlinewidth": 0,
             "ticks": ""
            },
            "type": "mesh3d"
           }
          ],
          "parcoords": [
           {
            "line": {
             "colorbar": {
              "outlinewidth": 0,
              "ticks": ""
             }
            },
            "type": "parcoords"
           }
          ],
          "pie": [
           {
            "automargin": true,
            "type": "pie"
           }
          ],
          "scatter": [
           {
            "fillpattern": {
             "fillmode": "overlay",
             "size": 10,
             "solidity": 0.2
            },
            "type": "scatter"
           }
          ],
          "scatter3d": [
           {
            "line": {
             "colorbar": {
              "outlinewidth": 0,
              "ticks": ""
             }
            },
            "marker": {
             "colorbar": {
              "outlinewidth": 0,
              "ticks": ""
             }
            },
            "type": "scatter3d"
           }
          ],
          "scattercarpet": [
           {
            "marker": {
             "colorbar": {
              "outlinewidth": 0,
              "ticks": ""
             }
            },
            "type": "scattercarpet"
           }
          ],
          "scattergeo": [
           {
            "marker": {
             "colorbar": {
              "outlinewidth": 0,
              "ticks": ""
             }
            },
            "type": "scattergeo"
           }
          ],
          "scattergl": [
           {
            "marker": {
             "colorbar": {
              "outlinewidth": 0,
              "ticks": ""
             }
            },
            "type": "scattergl"
           }
          ],
          "scattermap": [
           {
            "marker": {
             "colorbar": {
              "outlinewidth": 0,
              "ticks": ""
             }
            },
            "type": "scattermap"
           }
          ],
          "scattermapbox": [
           {
            "marker": {
             "colorbar": {
              "outlinewidth": 0,
              "ticks": ""
             }
            },
            "type": "scattermapbox"
           }
          ],
          "scatterpolar": [
           {
            "marker": {
             "colorbar": {
              "outlinewidth": 0,
              "ticks": ""
             }
            },
            "type": "scatterpolar"
           }
          ],
          "scatterpolargl": [
           {
            "marker": {
             "colorbar": {
              "outlinewidth": 0,
              "ticks": ""
             }
            },
            "type": "scatterpolargl"
           }
          ],
          "scatterternary": [
           {
            "marker": {
             "colorbar": {
              "outlinewidth": 0,
              "ticks": ""
             }
            },
            "type": "scatterternary"
           }
          ],
          "surface": [
           {
            "colorbar": {
             "outlinewidth": 0,
             "ticks": ""
            },
            "colorscale": [
             [
              0,
              "#0d0887"
             ],
             [
              0.1111111111111111,
              "#46039f"
             ],
             [
              0.2222222222222222,
              "#7201a8"
             ],
             [
              0.3333333333333333,
              "#9c179e"
             ],
             [
              0.4444444444444444,
              "#bd3786"
             ],
             [
              0.5555555555555556,
              "#d8576b"
             ],
             [
              0.6666666666666666,
              "#ed7953"
             ],
             [
              0.7777777777777778,
              "#fb9f3a"
             ],
             [
              0.8888888888888888,
              "#fdca26"
             ],
             [
              1,
              "#f0f921"
             ]
            ],
            "type": "surface"
           }
          ],
          "table": [
           {
            "cells": {
             "fill": {
              "color": "#EBF0F8"
             },
             "line": {
              "color": "white"
             }
            },
            "header": {
             "fill": {
              "color": "#C8D4E3"
             },
             "line": {
              "color": "white"
             }
            },
            "type": "table"
           }
          ]
         },
         "layout": {
          "annotationdefaults": {
           "arrowcolor": "#2a3f5f",
           "arrowhead": 0,
           "arrowwidth": 1
          },
          "autotypenumbers": "strict",
          "coloraxis": {
           "colorbar": {
            "outlinewidth": 0,
            "ticks": ""
           }
          },
          "colorscale": {
           "diverging": [
            [
             0,
             "#8e0152"
            ],
            [
             0.1,
             "#c51b7d"
            ],
            [
             0.2,
             "#de77ae"
            ],
            [
             0.3,
             "#f1b6da"
            ],
            [
             0.4,
             "#fde0ef"
            ],
            [
             0.5,
             "#f7f7f7"
            ],
            [
             0.6,
             "#e6f5d0"
            ],
            [
             0.7,
             "#b8e186"
            ],
            [
             0.8,
             "#7fbc41"
            ],
            [
             0.9,
             "#4d9221"
            ],
            [
             1,
             "#276419"
            ]
           ],
           "sequential": [
            [
             0,
             "#0d0887"
            ],
            [
             0.1111111111111111,
             "#46039f"
            ],
            [
             0.2222222222222222,
             "#7201a8"
            ],
            [
             0.3333333333333333,
             "#9c179e"
            ],
            [
             0.4444444444444444,
             "#bd3786"
            ],
            [
             0.5555555555555556,
             "#d8576b"
            ],
            [
             0.6666666666666666,
             "#ed7953"
            ],
            [
             0.7777777777777778,
             "#fb9f3a"
            ],
            [
             0.8888888888888888,
             "#fdca26"
            ],
            [
             1,
             "#f0f921"
            ]
           ],
           "sequentialminus": [
            [
             0,
             "#0d0887"
            ],
            [
             0.1111111111111111,
             "#46039f"
            ],
            [
             0.2222222222222222,
             "#7201a8"
            ],
            [
             0.3333333333333333,
             "#9c179e"
            ],
            [
             0.4444444444444444,
             "#bd3786"
            ],
            [
             0.5555555555555556,
             "#d8576b"
            ],
            [
             0.6666666666666666,
             "#ed7953"
            ],
            [
             0.7777777777777778,
             "#fb9f3a"
            ],
            [
             0.8888888888888888,
             "#fdca26"
            ],
            [
             1,
             "#f0f921"
            ]
           ]
          },
          "colorway": [
           "#636efa",
           "#EF553B",
           "#00cc96",
           "#ab63fa",
           "#FFA15A",
           "#19d3f3",
           "#FF6692",
           "#B6E880",
           "#FF97FF",
           "#FECB52"
          ],
          "font": {
           "color": "#2a3f5f"
          },
          "geo": {
           "bgcolor": "white",
           "lakecolor": "white",
           "landcolor": "#E5ECF6",
           "showlakes": true,
           "showland": true,
           "subunitcolor": "white"
          },
          "hoverlabel": {
           "align": "left"
          },
          "hovermode": "closest",
          "mapbox": {
           "style": "light"
          },
          "paper_bgcolor": "white",
          "plot_bgcolor": "#E5ECF6",
          "polar": {
           "angularaxis": {
            "gridcolor": "white",
            "linecolor": "white",
            "ticks": ""
           },
           "bgcolor": "#E5ECF6",
           "radialaxis": {
            "gridcolor": "white",
            "linecolor": "white",
            "ticks": ""
           }
          },
          "scene": {
           "xaxis": {
            "backgroundcolor": "#E5ECF6",
            "gridcolor": "white",
            "gridwidth": 2,
            "linecolor": "white",
            "showbackground": true,
            "ticks": "",
            "zerolinecolor": "white"
           },
           "yaxis": {
            "backgroundcolor": "#E5ECF6",
            "gridcolor": "white",
            "gridwidth": 2,
            "linecolor": "white",
            "showbackground": true,
            "ticks": "",
            "zerolinecolor": "white"
           },
           "zaxis": {
            "backgroundcolor": "#E5ECF6",
            "gridcolor": "white",
            "gridwidth": 2,
            "linecolor": "white",
            "showbackground": true,
            "ticks": "",
            "zerolinecolor": "white"
           }
          },
          "shapedefaults": {
           "line": {
            "color": "#2a3f5f"
           }
          },
          "ternary": {
           "aaxis": {
            "gridcolor": "white",
            "linecolor": "white",
            "ticks": ""
           },
           "baxis": {
            "gridcolor": "white",
            "linecolor": "white",
            "ticks": ""
           },
           "bgcolor": "#E5ECF6",
           "caxis": {
            "gridcolor": "white",
            "linecolor": "white",
            "ticks": ""
           }
          },
          "title": {
           "x": 0.05
          },
          "xaxis": {
           "automargin": true,
           "gridcolor": "white",
           "linecolor": "white",
           "ticks": "",
           "title": {
            "standoff": 15
           },
           "zerolinecolor": "white",
           "zerolinewidth": 2
          },
          "yaxis": {
           "automargin": true,
           "gridcolor": "white",
           "linecolor": "white",
           "ticks": "",
           "title": {
            "standoff": 15
           },
           "zerolinecolor": "white",
           "zerolinewidth": 2
          }
         }
        },
        "title": {
         "text": "DAS_potential Zeitverlauf (indexbasiert)"
        },
        "width": 1000,
        "xaxis": {
         "title": {
          "text": "Frame (indexbasiert, gleichabständig)"
         }
        },
        "yaxis": {
         "title": {
          "text": "DAS_potential"
         }
        }
       }
      }
     },
     "metadata": {},
     "output_type": "display_data"
    },
    {
     "data": {
      "application/vnd.plotly.v1+json": {
       "config": {
        "plotlyServerURL": "https://plot.ly"
       },
       "data": [
        {
         "hovertemplate": "frame_index: %{x}<br>random-100<br>DAS_potential: %{y:.3f}<extra></extra>",
         "line": {
          "width": 1
         },
         "marker": {
          "size": 6
         },
         "mode": "lines+markers",
         "name": "random-100",
         "type": "scatter",
         "x": {
          "bdata": "AAABAAIAAwAEAAUABgAHAAgACQAKAAsADAANAA4ADwAQABEAEgATABQAFQAWABcAGAAZABoAGwAcAB0AHgAfACAAIQAiACMAJAAlACYAJwAoACkAKgArACwALQAuAC8AMAAxADIAMwA0ADUANgA3ADgAOQA6ADsAPAA9AD4APwBAAEEAQgBDAEQARQBGAEcASABJAEoASwBMAE0ATgBPAFAAUQBSAFMAVABVAFYAVwBYAFkAWgBbAFwAXQBeAF8AYABhAGIAYwBkAGUAZgBnAGgAaQBqAGsAbABtAG4AbwBwAHEAcgBzAHQAdQB2AHcAeAB5AHoAewB8AH0AfgB/AIAAgQCCAIMAhACFAIYAhwCIAIkAigCLAIwAjQCOAI8AkACRAJIAkwCUAJUAlgCXAJgAmQCaAJsAnACdAJ4AnwCgAKEAogCjAKQApQCmAKcAqACpAKoAqwCsAK0ArgCvALAAsQCyALMAtAC1ALYAtwC4ALkAugC7ALwAvQC+AL8AwADBAMIAwwDEAMUAxgDHAMgA",
          "dtype": "i2"
         },
         "y": {
          "bdata": "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",
          "dtype": "f8"
         }
        },
        {
         "hovertemplate": "frame_index: %{x}<br>random-20<br>DAS_potential: %{y:.3f}<extra></extra>",
         "line": {
          "width": 1
         },
         "marker": {
          "size": 6
         },
         "mode": "lines+markers",
         "name": "random-20",
         "type": "scatter",
         "x": {
          "bdata": "AAABAAIAAwAEAAUABgAHAAgACQAKAAsADAANAA4ADwAQABEAEgATABQAFQAWABcAGAAZABoAGwAcAB0AHgAfACAAIQAiACMAJAAlACYAJwAoACkAKgArACwALQAuAC8AMAAxADIAMwA0ADUANgA3ADgAOQA6ADsAPAA9AD4APwBAAEEAQgBDAEQARQBGAEcASABJAEoASwBMAE0ATgBPAFAAUQBSAFMAVABVAFYAVwBYAFkAWgBbAFwAXQBeAF8AYABhAGIAYwBkAGUAZgBnAGgAaQBqAGsAbABtAG4AbwBwAHEAcgBzAHQAdQB2AHcAeAB5AHoAewB8AH0AfgB/AIAAgQCCAIMAhACFAIYAhwCIAIkAigCLAIwAjQCOAI8AkACRAJIAkwCUAJUAlgCXAJgAmQCaAJsAnACdAJ4AnwCgAKEAogCjAKQApQCmAKcAqACpAKoAqwCsAK0ArgCvALAAsQCyALMAtAC1ALYAtwC4ALkAugC7ALwAvQC+AL8AwADBAMIAwwDEAMUAxgDHAMgA",
          "dtype": "i2"
         },
         "y": {
          "bdata": "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",
          "dtype": "f8"
         }
        },
        {
         "hovertemplate": "frame_index: %{x}<br>random-50<br>DAS_potential: %{y:.3f}<extra></extra>",
         "line": {
          "width": 1
         },
         "marker": {
          "size": 6
         },
         "mode": "lines+markers",
         "name": "random-50",
         "type": "scatter",
         "x": {
          "bdata": "AAABAAIAAwAEAAUABgAHAAgACQAKAAsADAANAA4ADwAQABEAEgATABQAFQAWABcAGAAZABoAGwAcAB0AHgAfACAAIQAiACMAJAAlACYAJwAoACkAKgArACwALQAuAC8AMAAxADIAMwA0ADUANgA3ADgAOQA6ADsAPAA9AD4APwBAAEEAQgBDAEQARQBGAEcASABJAEoASwBMAE0ATgBPAFAAUQBSAFMAVABVAFYAVwBYAFkAWgBbAFwAXQBeAF8AYABhAGIAYwBkAGUAZgBnAGgAaQBqAGsAbABtAG4AbwBwAHEAcgBzAHQAdQB2AHcAeAB5AHoAewB8AH0AfgB/AIAAgQCCAIMAhACFAIYAhwCIAIkAigCLAIwAjQCOAI8AkACRAJIAkwCUAJUAlgCXAJgAmQCaAJsAnACdAJ4AnwCgAKEAogCjAKQApQCmAKcAqACpAKoAqwCsAK0ArgCvALAAsQCyALMAtAC1ALYAtwC4ALkAugC7ALwAvQC+AL8AwADBAMIAwwDEAMUAxgDHAMgA",
          "dtype": "i2"
         },
         "y": {
          "bdata": "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",
          "dtype": "f8"
         }
        }
       ],
       "layout": {
        "height": 500,
        "hovermode": "x unified",
        "legend": {
         "title": {
          "text": "Methode | Parameter"
         }
        },
        "template": {
         "data": {
          "bar": [
           {
            "error_x": {
             "color": "#2a3f5f"
            },
            "error_y": {
             "color": "#2a3f5f"
            },
            "marker": {
             "line": {
              "color": "#E5ECF6",
              "width": 0.5
             },
             "pattern": {
              "fillmode": "overlay",
              "size": 10,
              "solidity": 0.2
             }
            },
            "type": "bar"
           }
          ],
          "barpolar": [
           {
            "marker": {
             "line": {
              "color": "#E5ECF6",
              "width": 0.5
             },
             "pattern": {
              "fillmode": "overlay",
              "size": 10,
              "solidity": 0.2
             }
            },
            "type": "barpolar"
           }
          ],
          "carpet": [
           {
            "aaxis": {
             "endlinecolor": "#2a3f5f",
             "gridcolor": "white",
             "linecolor": "white",
             "minorgridcolor": "white",
             "startlinecolor": "#2a3f5f"
            },
            "baxis": {
             "endlinecolor": "#2a3f5f",
             "gridcolor": "white",
             "linecolor": "white",
             "minorgridcolor": "white",
             "startlinecolor": "#2a3f5f"
            },
            "type": "carpet"
           }
          ],
          "choropleth": [
           {
            "colorbar": {
             "outlinewidth": 0,
             "ticks": ""
            },
            "type": "choropleth"
           }
          ],
          "contour": [
           {
            "colorbar": {
             "outlinewidth": 0,
             "ticks": ""
            },
            "colorscale": [
             [
              0,
              "#0d0887"
             ],
             [
              0.1111111111111111,
              "#46039f"
             ],
             [
              0.2222222222222222,
              "#7201a8"
             ],
             [
              0.3333333333333333,
              "#9c179e"
             ],
             [
              0.4444444444444444,
              "#bd3786"
             ],
             [
              0.5555555555555556,
              "#d8576b"
             ],
             [
              0.6666666666666666,
              "#ed7953"
             ],
             [
              0.7777777777777778,
              "#fb9f3a"
             ],
             [
              0.8888888888888888,
              "#fdca26"
             ],
             [
              1,
              "#f0f921"
             ]
            ],
            "type": "contour"
           }
          ],
          "contourcarpet": [
           {
            "colorbar": {
             "outlinewidth": 0,
             "ticks": ""
            },
            "type": "contourcarpet"
           }
          ],
          "heatmap": [
           {
            "colorbar": {
             "outlinewidth": 0,
             "ticks": ""
            },
            "colorscale": [
             [
              0,
              "#0d0887"
             ],
             [
              0.1111111111111111,
              "#46039f"
             ],
             [
              0.2222222222222222,
              "#7201a8"
             ],
             [
              0.3333333333333333,
              "#9c179e"
             ],
             [
              0.4444444444444444,
              "#bd3786"
             ],
             [
              0.5555555555555556,
              "#d8576b"
             ],
             [
              0.6666666666666666,
              "#ed7953"
             ],
             [
              0.7777777777777778,
              "#fb9f3a"
             ],
             [
              0.8888888888888888,
              "#fdca26"
             ],
             [
              1,
              "#f0f921"
             ]
            ],
            "type": "heatmap"
           }
          ],
          "histogram": [
           {
            "marker": {
             "pattern": {
              "fillmode": "overlay",
              "size": 10,
              "solidity": 0.2
             }
            },
            "type": "histogram"
           }
          ],
          "histogram2d": [
           {
            "colorbar": {
             "outlinewidth": 0,
             "ticks": ""
            },
            "colorscale": [
             [
              0,
              "#0d0887"
             ],
             [
              0.1111111111111111,
              "#46039f"
             ],
             [
              0.2222222222222222,
              "#7201a8"
             ],
             [
              0.3333333333333333,
              "#9c179e"
             ],
             [
              0.4444444444444444,
              "#bd3786"
             ],
             [
              0.5555555555555556,
              "#d8576b"
             ],
             [
              0.6666666666666666,
              "#ed7953"
             ],
             [
              0.7777777777777778,
              "#fb9f3a"
             ],
             [
              0.8888888888888888,
              "#fdca26"
             ],
             [
              1,
              "#f0f921"
             ]
            ],
            "type": "histogram2d"
           }
          ],
          "histogram2dcontour": [
           {
            "colorbar": {
             "outlinewidth": 0,
             "ticks": ""
            },
            "colorscale": [
             [
              0,
              "#0d0887"
             ],
             [
              0.1111111111111111,
              "#46039f"
             ],
             [
              0.2222222222222222,
              "#7201a8"
             ],
             [
              0.3333333333333333,
              "#9c179e"
             ],
             [
              0.4444444444444444,
              "#bd3786"
             ],
             [
              0.5555555555555556,
              "#d8576b"
             ],
             [
              0.6666666666666666,
              "#ed7953"
             ],
             [
              0.7777777777777778,
              "#fb9f3a"
             ],
             [
              0.8888888888888888,
              "#fdca26"
             ],
             [
              1,
              "#f0f921"
             ]
            ],
            "type": "histogram2dcontour"
           }
          ],
          "mesh3d": [
           {
            "colorbar": {
             "outlinewidth": 0,
             "ticks": ""
            },
            "type": "mesh3d"
           }
          ],
          "parcoords": [
           {
            "line": {
             "colorbar": {
              "outlinewidth": 0,
              "ticks": ""
             }
            },
            "type": "parcoords"
           }
          ],
          "pie": [
           {
            "automargin": true,
            "type": "pie"
           }
          ],
          "scatter": [
           {
            "fillpattern": {
             "fillmode": "overlay",
             "size": 10,
             "solidity": 0.2
            },
            "type": "scatter"
           }
          ],
          "scatter3d": [
           {
            "line": {
             "colorbar": {
              "outlinewidth": 0,
              "ticks": ""
             }
            },
            "marker": {
             "colorbar": {
              "outlinewidth": 0,
              "ticks": ""
             }
            },
            "type": "scatter3d"
           }
          ],
          "scattercarpet": [
           {
            "marker": {
             "colorbar": {
              "outlinewidth": 0,
              "ticks": ""
             }
            },
            "type": "scattercarpet"
           }
          ],
          "scattergeo": [
           {
            "marker": {
             "colorbar": {
              "outlinewidth": 0,
              "ticks": ""
             }
            },
            "type": "scattergeo"
           }
          ],
          "scattergl": [
           {
            "marker": {
             "colorbar": {
              "outlinewidth": 0,
              "ticks": ""
             }
            },
            "type": "scattergl"
           }
          ],
          "scattermap": [
           {
            "marker": {
             "colorbar": {
              "outlinewidth": 0,
              "ticks": ""
             }
            },
            "type": "scattermap"
           }
          ],
          "scattermapbox": [
           {
            "marker": {
             "colorbar": {
              "outlinewidth": 0,
              "ticks": ""
             }
            },
            "type": "scattermapbox"
           }
          ],
          "scatterpolar": [
           {
            "marker": {
             "colorbar": {
              "outlinewidth": 0,
              "ticks": ""
             }
            },
            "type": "scatterpolar"
           }
          ],
          "scatterpolargl": [
           {
            "marker": {
             "colorbar": {
              "outlinewidth": 0,
              "ticks": ""
             }
            },
            "type": "scatterpolargl"
           }
          ],
          "scatterternary": [
           {
            "marker": {
             "colorbar": {
              "outlinewidth": 0,
              "ticks": ""
             }
            },
            "type": "scatterternary"
           }
          ],
          "surface": [
           {
            "colorbar": {
             "outlinewidth": 0,
             "ticks": ""
            },
            "colorscale": [
             [
              0,
              "#0d0887"
             ],
             [
              0.1111111111111111,
              "#46039f"
             ],
             [
              0.2222222222222222,
              "#7201a8"
             ],
             [
              0.3333333333333333,
              "#9c179e"
             ],
             [
              0.4444444444444444,
              "#bd3786"
             ],
             [
              0.5555555555555556,
              "#d8576b"
             ],
             [
              0.6666666666666666,
              "#ed7953"
             ],
             [
              0.7777777777777778,
              "#fb9f3a"
             ],
             [
              0.8888888888888888,
              "#fdca26"
             ],
             [
              1,
              "#f0f921"
             ]
            ],
            "type": "surface"
           }
          ],
          "table": [
           {
            "cells": {
             "fill": {
              "color": "#EBF0F8"
             },
             "line": {
              "color": "white"
             }
            },
            "header": {
             "fill": {
              "color": "#C8D4E3"
             },
             "line": {
              "color": "white"
             }
            },
            "type": "table"
           }
          ]
         },
         "layout": {
          "annotationdefaults": {
           "arrowcolor": "#2a3f5f",
           "arrowhead": 0,
           "arrowwidth": 1
          },
          "autotypenumbers": "strict",
          "coloraxis": {
           "colorbar": {
            "outlinewidth": 0,
            "ticks": ""
           }
          },
          "colorscale": {
           "diverging": [
            [
             0,
             "#8e0152"
            ],
            [
             0.1,
             "#c51b7d"
            ],
            [
             0.2,
             "#de77ae"
            ],
            [
             0.3,
             "#f1b6da"
            ],
            [
             0.4,
             "#fde0ef"
            ],
            [
             0.5,
             "#f7f7f7"
            ],
            [
             0.6,
             "#e6f5d0"
            ],
            [
             0.7,
             "#b8e186"
            ],
            [
             0.8,
             "#7fbc41"
            ],
            [
             0.9,
             "#4d9221"
            ],
            [
             1,
             "#276419"
            ]
           ],
           "sequential": [
            [
             0,
             "#0d0887"
            ],
            [
             0.1111111111111111,
             "#46039f"
            ],
            [
             0.2222222222222222,
             "#7201a8"
            ],
            [
             0.3333333333333333,
             "#9c179e"
            ],
            [
             0.4444444444444444,
             "#bd3786"
            ],
            [
             0.5555555555555556,
             "#d8576b"
            ],
            [
             0.6666666666666666,
             "#ed7953"
            ],
            [
             0.7777777777777778,
             "#fb9f3a"
            ],
            [
             0.8888888888888888,
             "#fdca26"
            ],
            [
             1,
             "#f0f921"
            ]
           ],
           "sequentialminus": [
            [
             0,
             "#0d0887"
            ],
            [
             0.1111111111111111,
             "#46039f"
            ],
            [
             0.2222222222222222,
             "#7201a8"
            ],
            [
             0.3333333333333333,
             "#9c179e"
            ],
            [
             0.4444444444444444,
             "#bd3786"
            ],
            [
             0.5555555555555556,
             "#d8576b"
            ],
            [
             0.6666666666666666,
             "#ed7953"
            ],
            [
             0.7777777777777778,
             "#fb9f3a"
            ],
            [
             0.8888888888888888,
             "#fdca26"
            ],
            [
             1,
             "#f0f921"
            ]
           ]
          },
          "colorway": [
           "#636efa",
           "#EF553B",
           "#00cc96",
           "#ab63fa",
           "#FFA15A",
           "#19d3f3",
           "#FF6692",
           "#B6E880",
           "#FF97FF",
           "#FECB52"
          ],
          "font": {
           "color": "#2a3f5f"
          },
          "geo": {
           "bgcolor": "white",
           "lakecolor": "white",
           "landcolor": "#E5ECF6",
           "showlakes": true,
           "showland": true,
           "subunitcolor": "white"
          },
          "hoverlabel": {
           "align": "left"
          },
          "hovermode": "closest",
          "mapbox": {
           "style": "light"
          },
          "paper_bgcolor": "white",
          "plot_bgcolor": "#E5ECF6",
          "polar": {
           "angularaxis": {
            "gridcolor": "white",
            "linecolor": "white",
            "ticks": ""
           },
           "bgcolor": "#E5ECF6",
           "radialaxis": {
            "gridcolor": "white",
            "linecolor": "white",
            "ticks": ""
           }
          },
          "scene": {
           "xaxis": {
            "backgroundcolor": "#E5ECF6",
            "gridcolor": "white",
            "gridwidth": 2,
            "linecolor": "white",
            "showbackground": true,
            "ticks": "",
            "zerolinecolor": "white"
           },
           "yaxis": {
            "backgroundcolor": "#E5ECF6",
            "gridcolor": "white",
            "gridwidth": 2,
            "linecolor": "white",
            "showbackground": true,
            "ticks": "",
            "zerolinecolor": "white"
           },
           "zaxis": {
            "backgroundcolor": "#E5ECF6",
            "gridcolor": "white",
            "gridwidth": 2,
            "linecolor": "white",
            "showbackground": true,
            "ticks": "",
            "zerolinecolor": "white"
           }
          },
          "shapedefaults": {
           "line": {
            "color": "#2a3f5f"
           }
          },
          "ternary": {
           "aaxis": {
            "gridcolor": "white",
            "linecolor": "white",
            "ticks": ""
           },
           "baxis": {
            "gridcolor": "white",
            "linecolor": "white",
            "ticks": ""
           },
           "bgcolor": "#E5ECF6",
           "caxis": {
            "gridcolor": "white",
            "linecolor": "white",
            "ticks": ""
           }
          },
          "title": {
           "x": 0.05
          },
          "xaxis": {
           "automargin": true,
           "gridcolor": "white",
           "linecolor": "white",
           "ticks": "",
           "title": {
            "standoff": 15
           },
           "zerolinecolor": "white",
           "zerolinewidth": 2
          },
          "yaxis": {
           "automargin": true,
           "gridcolor": "white",
           "linecolor": "white",
           "ticks": "",
           "title": {
            "standoff": 15
           },
           "zerolinecolor": "white",
           "zerolinewidth": 2
          }
         }
        },
        "title": {
         "text": "DAS_potential Zeitverlauf (indexbasiert)"
        },
        "width": 1000,
        "xaxis": {
         "title": {
          "text": "Frame (indexbasiert, gleichabständig)"
         }
        },
        "yaxis": {
         "title": {
          "text": "DAS_potential"
         }
        }
       }
      }
     },
     "metadata": {},
     "output_type": "display_data"
    }
   ],
   "source": [
    "df = full_df_ohne_cut.copy()\n",
    "keys = [\"game_id\", \"player_id\", \"frame\"]\n",
    "\n",
    "pivot = df.pivot_table(\n",
    "    index=keys,\n",
    "    columns=\"tuning\",\n",
    "    values=[\"DAS_new\", \"DAS_potential\"],\n",
    "    aggfunc=\"first\"\n",
    ")\n",
    "pivot.index = [frame for _, _, frame in pivot.index]\n",
    "pivot.columns = [f\"{metric.split(\"_\")[1].capitalize()}DAS_{tuning.split(\"-\")[0]}-{tuning.split(\"-N_\")[1]}\" for metric, tuning in pivot.columns]\n",
    "pivot.columns = [col.split(\"-\")[0] if \"all_positions\" in col else col for col in pivot.columns]\n",
    "pivot_ranked = add_frame_ranks(pivot)\n",
    "\n",
    "fig = plot_player_time_series(pivot)\n",
    "fig.show()\n",
    "\n",
    "fig = plot_player_time_series(pivot_ranked, metric_prefix=\"Rank_PotentialDAS_\")\n",
    "fig.show()"
   ]
  },
  {
   "cell_type": "code",
   "execution_count": 88,
   "id": "f2e4f840",
   "metadata": {},
   "outputs": [
    {
     "data": {
      "application/vnd.plotly.v1+json": {
       "config": {
        "plotlyServerURL": "https://plot.ly"
       },
       "data": [
        {
         "hovertemplate": "frame_index: %{x}<br>all_positions_cut_1.0<br>DAS_potential: %{y:.3f}<extra></extra>",
         "line": {
          "width": 1
         },
         "marker": {
          "size": 6
         },
         "mode": "lines+markers",
         "name": "all_positions_cut_1.0",
         "type": "scatter",
         "x": {
          "bdata": "AAECAwQFBgcICQoLDA0ODxAREhMUFRYXGBkaGxwdHh8gISIjJCUmJygpKissLS4vMDEyMzQ1Njc4OTo=",
          "dtype": "i1"
         },
         "y": {
          "bdata": "4BDaZn+n4j/g2ECf+T/hP2DLwnh/aOI/N1qlt3sTuj9TbsZNzhjyP/11mRcLYMo/AH/VflqI1T8QjhKhJAXbP/UNBuLS08g/CMPQnm+ryT/oxUWsDi6eP7RLJlG8yuY/DqYswiZzzD8gQ2YpBRq7PxKxdATNjq4/kL5//w110T8AAAAAAAAAAJB6HfEmAvY/IPOM2SZSyz9g/N9h277WP2BcI+Dzp8E/cntWvnrEkj+S6s5301HQP6hulBrv08I/QL7eTN0r0D8wzYzhV6X4P+9n1zex8tM/Ji0p5kyI8z+Q3/l1JCTNP0ASc4ja9/o//9QsAy3byT/AM9dNwWXTP8QCm/Z5WRBAsMbdWk+umT/8D4/pdqmyPypuhTeshuc/YGaUiIYD6D//hCp0opbcPzD2kL4fn+s/sKymmBIG8T/4j5sLkFmAP1K1gc9ZOuw/sGZkFnDU8T840aYB6q3zP1o3RlDoX/U/B2jYd21O3D8IHHYao/QLQM9++/3u99A/AAAAAAAAAAAgNRggNBLRP9l3GVjCX/0/7JCi+NWe4T96yiVKAz+7P59Vbpimz88//6cUC6MnsD+caxmptXRoP/AHYWKbj+s/mKT5VMvI8D+HIxkIGFDxPw==",
          "dtype": "f8"
         }
        },
        {
         "hovertemplate": "frame_index: %{x}<br>random_cut_1.0-100-C_1.0<br>DAS_potential: %{y:.3f}<extra></extra>",
         "line": {
          "width": 1
         },
         "marker": {
          "size": 6
         },
         "mode": "lines+markers",
         "name": "random_cut_1.0-100-C_1.0",
         "type": "scatter",
         "x": {
          "bdata": "AAECAwQFBgcICQoLDA0ODxAREhMUFRYXGBkaGxwdHh8gISIjJCUmJygpKissLS4vMDEyMzQ1Njc4OTo=",
          "dtype": "i1"
         },
         "y": {
          "bdata": "4BDaZn+n4j/g2ECf+T/hP2DLwnh/aOI/N1qlt3sTuj9TbsZNzhjyP/11mRcLYMo/AH/VflqI1T8QjhKhJAXbP/UNBuLS08g/CMPQnm+ryT/oxUWsDi6eP7RLJlG8yuY/DqYswiZzzD8gQ2YpBRq7PxKxdATNjq4/kL5//w110T8AAAAAAAAAAJB6HfEmAvY/IPOM2SZSyz9g/N9h277WP2BcI+Dzp8E/cntWvnrEkj+S6s5301HQP6hulBrv08I/QL7eTN0r0D8wzYzhV6X4P+9n1zex8tM/Ji0p5kyI8z+Q3/l1JCTNP0ASc4ja9/o//9QsAy3byT/AM9dNwWXTP8QCm/Z5WRBAsMbdWk+umT/8D4/pdqmyPypuhTeshuc/YGaUiIYD6D//hCp0opbcPzD2kL4fn+s/sKymmBIG8T/4j5sLkFmAP1K1gc9ZOuw/sGZkFnDU8T840aYB6q3zP1o3RlDoX/U/B2jYd21O3D8IHHYao/QLQM9++/3u99A/AAAAAAAAAAAgNRggNBLRP9l3GVjCX/0/7JCi+NWe4T96yiVKAz+7P59Vbpimz88//6cUC6MnsD+caxmptXRoP/AHYWKbj+s/mKT5VMvI8D+HIxkIGFDxPw==",
          "dtype": "f8"
         }
        },
        {
         "hovertemplate": "frame_index: %{x}<br>random_cut_1.0-20-C_1.0<br>DAS_potential: %{y:.3f}<extra></extra>",
         "line": {
          "width": 1
         },
         "marker": {
          "size": 6
         },
         "mode": "lines+markers",
         "name": "random_cut_1.0-20-C_1.0",
         "type": "scatter",
         "x": {
          "bdata": "AAECAwQFBgcICQoLDA0ODxAREhMUFRYXGBkaGxwdHh8gISIjJCUmJygpKissLS4vMDEyMzQ1Njc4OTo=",
          "dtype": "i1"
         },
         "y": {
          "bdata": "zMtwIwszhj/g2ECf+T/hP2DLwnh/aOI/ENtwIp0dsz/AEGfqxl3wP+tYeekiar0//sKJaXpzrj8QjhKhJAXbP9oLh2jtqrU/jz/mFoKrxD/oxUWsDi6eP/f0uphSu90//1eRDT4PsD8Q2u2KHBqxPxKxdATNjq4/fx1aWXLCzT8AAAAAAAAAADSf4kJEKvQ/TifI8oz0wD/I8Z98gpbUPzRfpWWRUaU/91nOEQcVkT+S6s5301HQPxtrrJEqZ6o/QL7eTN0r0D9YkHlGdGzyP2DWLKs/Ycw/Ji0p5kyI8z+uKzp4EYrBP4BMKBGnEeg//9QsAy3byT+eybFLCQXOP8QCm/Z5WRBA9jyhsn5hjT8AXjwcaHOiPypuhTeshuc/YGaUiIYD6D8AXWVxP9/SPzD2kL4fn+s/YF0J28No3j/4j5sLkFmAP1K1gc9ZOuw/sDD1hV4q4T8g8xIUpLjjP0ZH0LdHrvQ/iGDIo+oA3D+iGOIOz5MHQB87WR6qUcM/AAAAAAAAAAAgNRggNBLRP9l3GVjCX/0/bOgXVnhf4D96yiVKAz+7P59Vbpimz88/7qO7QIJNmT8AAAAAAAAAAFB0tou8pOo/e9l5kgfOsT+HIxkIGFDxPw==",
          "dtype": "f8"
         }
        },
        {
         "hovertemplate": "frame_index: %{x}<br>random_cut_1.0-50-C_1.0<br>DAS_potential: %{y:.3f}<extra></extra>",
         "line": {
          "width": 1
         },
         "marker": {
          "size": 6
         },
         "mode": "lines+markers",
         "name": "random_cut_1.0-50-C_1.0",
         "type": "scatter",
         "x": {
          "bdata": "AAECAwQFBgcICQoLDA0ODxAREhMUFRYXGBkaGxwdHh8gISIjJCUmJygpKissLS4vMDEyMzQ1Njc4OTo=",
          "dtype": "i1"
         },
         "y": {
          "bdata": "4BDaZn+n4j/g2ECf+T/hPyBX/SNj3eA/N1qlt3sTuj9TbsZNzhjyPwATHGGuqsg/AH/VflqI1T8QjhKhJAXbP/UNBuLS08g/CMPQnm+ryT/oxUWsDi6ePxDqRRNo7eI/DqYswiZzzD/TP/5RZzqlPxKxdATNjq4/vjz8P9y1zz8AAAAAAAAAAJB6HfEmAvY/faSVlGxzwT9g/N9h277WP2BcI+Dzp8E/cntWvnrEkj+S6s5301HQPxA+CCq+jL0/QL7eTN0r0D8wzYzhV6X4P+9n1zex8tM/Ji0p5kyI8z+uKzp4EYrBP0ASc4ja9/o//9QsAy3byT/AM9dNwWXTP5oyt9/mhw9AsMbdWk+umT/8D4/pdqmyP+QUecsONec/YGaUiIYD6D//hCp0opbcPzD2kL4fn+s/kErRyHw88D/JVAbsott1P1K1gc9ZOuw/sGZkFnDU8T/gKDOHFqnwP1o3RlDoX/U/B2jYd21O3D8IHHYao/QLQF+JkPjJFc0/AAAAAAAAAAB+cAmluW3JP9l3GVjCX/0/2B5oNaLK3T98FvnlIyO7Pz6wnQ7gSs8/f3gbZtN7rz8AAAAAAAAAAFB0tou8pOo/L62LSPk77j+HIxkIGFDxPw==",
          "dtype": "f8"
         }
        }
       ],
       "layout": {
        "height": 500,
        "hovermode": "x unified",
        "legend": {
         "title": {
          "text": "Methode | Parameter"
         }
        },
        "template": {
         "data": {
          "bar": [
           {
            "error_x": {
             "color": "#2a3f5f"
            },
            "error_y": {
             "color": "#2a3f5f"
            },
            "marker": {
             "line": {
              "color": "#E5ECF6",
              "width": 0.5
             },
             "pattern": {
              "fillmode": "overlay",
              "size": 10,
              "solidity": 0.2
             }
            },
            "type": "bar"
           }
          ],
          "barpolar": [
           {
            "marker": {
             "line": {
              "color": "#E5ECF6",
              "width": 0.5
             },
             "pattern": {
              "fillmode": "overlay",
              "size": 10,
              "solidity": 0.2
             }
            },
            "type": "barpolar"
           }
          ],
          "carpet": [
           {
            "aaxis": {
             "endlinecolor": "#2a3f5f",
             "gridcolor": "white",
             "linecolor": "white",
             "minorgridcolor": "white",
             "startlinecolor": "#2a3f5f"
            },
            "baxis": {
             "endlinecolor": "#2a3f5f",
             "gridcolor": "white",
             "linecolor": "white",
             "minorgridcolor": "white",
             "startlinecolor": "#2a3f5f"
            },
            "type": "carpet"
           }
          ],
          "choropleth": [
           {
            "colorbar": {
             "outlinewidth": 0,
             "ticks": ""
            },
            "type": "choropleth"
           }
          ],
          "contour": [
           {
            "colorbar": {
             "outlinewidth": 0,
             "ticks": ""
            },
            "colorscale": [
             [
              0,
              "#0d0887"
             ],
             [
              0.1111111111111111,
              "#46039f"
             ],
             [
              0.2222222222222222,
              "#7201a8"
             ],
             [
              0.3333333333333333,
              "#9c179e"
             ],
             [
              0.4444444444444444,
              "#bd3786"
             ],
             [
              0.5555555555555556,
              "#d8576b"
             ],
             [
              0.6666666666666666,
              "#ed7953"
             ],
             [
              0.7777777777777778,
              "#fb9f3a"
             ],
             [
              0.8888888888888888,
              "#fdca26"
             ],
             [
              1,
              "#f0f921"
             ]
            ],
            "type": "contour"
           }
          ],
          "contourcarpet": [
           {
            "colorbar": {
             "outlinewidth": 0,
             "ticks": ""
            },
            "type": "contourcarpet"
           }
          ],
          "heatmap": [
           {
            "colorbar": {
             "outlinewidth": 0,
             "ticks": ""
            },
            "colorscale": [
             [
              0,
              "#0d0887"
             ],
             [
              0.1111111111111111,
              "#46039f"
             ],
             [
              0.2222222222222222,
              "#7201a8"
             ],
             [
              0.3333333333333333,
              "#9c179e"
             ],
             [
              0.4444444444444444,
              "#bd3786"
             ],
             [
              0.5555555555555556,
              "#d8576b"
             ],
             [
              0.6666666666666666,
              "#ed7953"
             ],
             [
              0.7777777777777778,
              "#fb9f3a"
             ],
             [
              0.8888888888888888,
              "#fdca26"
             ],
             [
              1,
              "#f0f921"
             ]
            ],
            "type": "heatmap"
           }
          ],
          "histogram": [
           {
            "marker": {
             "pattern": {
              "fillmode": "overlay",
              "size": 10,
              "solidity": 0.2
             }
            },
            "type": "histogram"
           }
          ],
          "histogram2d": [
           {
            "colorbar": {
             "outlinewidth": 0,
             "ticks": ""
            },
            "colorscale": [
             [
              0,
              "#0d0887"
             ],
             [
              0.1111111111111111,
              "#46039f"
             ],
             [
              0.2222222222222222,
              "#7201a8"
             ],
             [
              0.3333333333333333,
              "#9c179e"
             ],
             [
              0.4444444444444444,
              "#bd3786"
             ],
             [
              0.5555555555555556,
              "#d8576b"
             ],
             [
              0.6666666666666666,
              "#ed7953"
             ],
             [
              0.7777777777777778,
              "#fb9f3a"
             ],
             [
              0.8888888888888888,
              "#fdca26"
             ],
             [
              1,
              "#f0f921"
             ]
            ],
            "type": "histogram2d"
           }
          ],
          "histogram2dcontour": [
           {
            "colorbar": {
             "outlinewidth": 0,
             "ticks": ""
            },
            "colorscale": [
             [
              0,
              "#0d0887"
             ],
             [
              0.1111111111111111,
              "#46039f"
             ],
             [
              0.2222222222222222,
              "#7201a8"
             ],
             [
              0.3333333333333333,
              "#9c179e"
             ],
             [
              0.4444444444444444,
              "#bd3786"
             ],
             [
              0.5555555555555556,
              "#d8576b"
             ],
             [
              0.6666666666666666,
              "#ed7953"
             ],
             [
              0.7777777777777778,
              "#fb9f3a"
             ],
             [
              0.8888888888888888,
              "#fdca26"
             ],
             [
              1,
              "#f0f921"
             ]
            ],
            "type": "histogram2dcontour"
           }
          ],
          "mesh3d": [
           {
            "colorbar": {
             "outlinewidth": 0,
             "ticks": ""
            },
            "type": "mesh3d"
           }
          ],
          "parcoords": [
           {
            "line": {
             "colorbar": {
              "outlinewidth": 0,
              "ticks": ""
             }
            },
            "type": "parcoords"
           }
          ],
          "pie": [
           {
            "automargin": true,
            "type": "pie"
           }
          ],
          "scatter": [
           {
            "fillpattern": {
             "fillmode": "overlay",
             "size": 10,
             "solidity": 0.2
            },
            "type": "scatter"
           }
          ],
          "scatter3d": [
           {
            "line": {
             "colorbar": {
              "outlinewidth": 0,
              "ticks": ""
             }
            },
            "marker": {
             "colorbar": {
              "outlinewidth": 0,
              "ticks": ""
             }
            },
            "type": "scatter3d"
           }
          ],
          "scattercarpet": [
           {
            "marker": {
             "colorbar": {
              "outlinewidth": 0,
              "ticks": ""
             }
            },
            "type": "scattercarpet"
           }
          ],
          "scattergeo": [
           {
            "marker": {
             "colorbar": {
              "outlinewidth": 0,
              "ticks": ""
             }
            },
            "type": "scattergeo"
           }
          ],
          "scattergl": [
           {
            "marker": {
             "colorbar": {
              "outlinewidth": 0,
              "ticks": ""
             }
            },
            "type": "scattergl"
           }
          ],
          "scattermap": [
           {
            "marker": {
             "colorbar": {
              "outlinewidth": 0,
              "ticks": ""
             }
            },
            "type": "scattermap"
           }
          ],
          "scattermapbox": [
           {
            "marker": {
             "colorbar": {
              "outlinewidth": 0,
              "ticks": ""
             }
            },
            "type": "scattermapbox"
           }
          ],
          "scatterpolar": [
           {
            "marker": {
             "colorbar": {
              "outlinewidth": 0,
              "ticks": ""
             }
            },
            "type": "scatterpolar"
           }
          ],
          "scatterpolargl": [
           {
            "marker": {
             "colorbar": {
              "outlinewidth": 0,
              "ticks": ""
             }
            },
            "type": "scatterpolargl"
           }
          ],
          "scatterternary": [
           {
            "marker": {
             "colorbar": {
              "outlinewidth": 0,
              "ticks": ""
             }
            },
            "type": "scatterternary"
           }
          ],
          "surface": [
           {
            "colorbar": {
             "outlinewidth": 0,
             "ticks": ""
            },
            "colorscale": [
             [
              0,
              "#0d0887"
             ],
             [
              0.1111111111111111,
              "#46039f"
             ],
             [
              0.2222222222222222,
              "#7201a8"
             ],
             [
              0.3333333333333333,
              "#9c179e"
             ],
             [
              0.4444444444444444,
              "#bd3786"
             ],
             [
              0.5555555555555556,
              "#d8576b"
             ],
             [
              0.6666666666666666,
              "#ed7953"
             ],
             [
              0.7777777777777778,
              "#fb9f3a"
             ],
             [
              0.8888888888888888,
              "#fdca26"
             ],
             [
              1,
              "#f0f921"
             ]
            ],
            "type": "surface"
           }
          ],
          "table": [
           {
            "cells": {
             "fill": {
              "color": "#EBF0F8"
             },
             "line": {
              "color": "white"
             }
            },
            "header": {
             "fill": {
              "color": "#C8D4E3"
             },
             "line": {
              "color": "white"
             }
            },
            "type": "table"
           }
          ]
         },
         "layout": {
          "annotationdefaults": {
           "arrowcolor": "#2a3f5f",
           "arrowhead": 0,
           "arrowwidth": 1
          },
          "autotypenumbers": "strict",
          "coloraxis": {
           "colorbar": {
            "outlinewidth": 0,
            "ticks": ""
           }
          },
          "colorscale": {
           "diverging": [
            [
             0,
             "#8e0152"
            ],
            [
             0.1,
             "#c51b7d"
            ],
            [
             0.2,
             "#de77ae"
            ],
            [
             0.3,
             "#f1b6da"
            ],
            [
             0.4,
             "#fde0ef"
            ],
            [
             0.5,
             "#f7f7f7"
            ],
            [
             0.6,
             "#e6f5d0"
            ],
            [
             0.7,
             "#b8e186"
            ],
            [
             0.8,
             "#7fbc41"
            ],
            [
             0.9,
             "#4d9221"
            ],
            [
             1,
             "#276419"
            ]
           ],
           "sequential": [
            [
             0,
             "#0d0887"
            ],
            [
             0.1111111111111111,
             "#46039f"
            ],
            [
             0.2222222222222222,
             "#7201a8"
            ],
            [
             0.3333333333333333,
             "#9c179e"
            ],
            [
             0.4444444444444444,
             "#bd3786"
            ],
            [
             0.5555555555555556,
             "#d8576b"
            ],
            [
             0.6666666666666666,
             "#ed7953"
            ],
            [
             0.7777777777777778,
             "#fb9f3a"
            ],
            [
             0.8888888888888888,
             "#fdca26"
            ],
            [
             1,
             "#f0f921"
            ]
           ],
           "sequentialminus": [
            [
             0,
             "#0d0887"
            ],
            [
             0.1111111111111111,
             "#46039f"
            ],
            [
             0.2222222222222222,
             "#7201a8"
            ],
            [
             0.3333333333333333,
             "#9c179e"
            ],
            [
             0.4444444444444444,
             "#bd3786"
            ],
            [
             0.5555555555555556,
             "#d8576b"
            ],
            [
             0.6666666666666666,
             "#ed7953"
            ],
            [
             0.7777777777777778,
             "#fb9f3a"
            ],
            [
             0.8888888888888888,
             "#fdca26"
            ],
            [
             1,
             "#f0f921"
            ]
           ]
          },
          "colorway": [
           "#636efa",
           "#EF553B",
           "#00cc96",
           "#ab63fa",
           "#FFA15A",
           "#19d3f3",
           "#FF6692",
           "#B6E880",
           "#FF97FF",
           "#FECB52"
          ],
          "font": {
           "color": "#2a3f5f"
          },
          "geo": {
           "bgcolor": "white",
           "lakecolor": "white",
           "landcolor": "#E5ECF6",
           "showlakes": true,
           "showland": true,
           "subunitcolor": "white"
          },
          "hoverlabel": {
           "align": "left"
          },
          "hovermode": "closest",
          "mapbox": {
           "style": "light"
          },
          "paper_bgcolor": "white",
          "plot_bgcolor": "#E5ECF6",
          "polar": {
           "angularaxis": {
            "gridcolor": "white",
            "linecolor": "white",
            "ticks": ""
           },
           "bgcolor": "#E5ECF6",
           "radialaxis": {
            "gridcolor": "white",
            "linecolor": "white",
            "ticks": ""
           }
          },
          "scene": {
           "xaxis": {
            "backgroundcolor": "#E5ECF6",
            "gridcolor": "white",
            "gridwidth": 2,
            "linecolor": "white",
            "showbackground": true,
            "ticks": "",
            "zerolinecolor": "white"
           },
           "yaxis": {
            "backgroundcolor": "#E5ECF6",
            "gridcolor": "white",
            "gridwidth": 2,
            "linecolor": "white",
            "showbackground": true,
            "ticks": "",
            "zerolinecolor": "white"
           },
           "zaxis": {
            "backgroundcolor": "#E5ECF6",
            "gridcolor": "white",
            "gridwidth": 2,
            "linecolor": "white",
            "showbackground": true,
            "ticks": "",
            "zerolinecolor": "white"
           }
          },
          "shapedefaults": {
           "line": {
            "color": "#2a3f5f"
           }
          },
          "ternary": {
           "aaxis": {
            "gridcolor": "white",
            "linecolor": "white",
            "ticks": ""
           },
           "baxis": {
            "gridcolor": "white",
            "linecolor": "white",
            "ticks": ""
           },
           "bgcolor": "#E5ECF6",
           "caxis": {
            "gridcolor": "white",
            "linecolor": "white",
            "ticks": ""
           }
          },
          "title": {
           "x": 0.05
          },
          "xaxis": {
           "automargin": true,
           "gridcolor": "white",
           "linecolor": "white",
           "ticks": "",
           "title": {
            "standoff": 15
           },
           "zerolinecolor": "white",
           "zerolinewidth": 2
          },
          "yaxis": {
           "automargin": true,
           "gridcolor": "white",
           "linecolor": "white",
           "ticks": "",
           "title": {
            "standoff": 15
           },
           "zerolinecolor": "white",
           "zerolinewidth": 2
          }
         }
        },
        "title": {
         "text": "DAS_potential Zeitverlauf (indexbasiert)"
        },
        "width": 1000,
        "xaxis": {
         "title": {
          "text": "Frame (indexbasiert, gleichabständig)"
         }
        },
        "yaxis": {
         "title": {
          "text": "DAS_potential"
         }
        }
       }
      }
     },
     "metadata": {},
     "output_type": "display_data"
    },
    {
     "data": {
      "application/vnd.plotly.v1+json": {
       "config": {
        "plotlyServerURL": "https://plot.ly"
       },
       "data": [
        {
         "hovertemplate": "frame_index: %{x}<br>all_positions_cut_1.0<br>DAS_potential: %{y:.3f}<extra></extra>",
         "line": {
          "width": 1
         },
         "marker": {
          "size": 6
         },
         "mode": "lines+markers",
         "name": "all_positions_cut_1.0",
         "type": "scatter",
         "x": {
          "bdata": "AAECAwQFBgcICQoLDA0ODxAREhMUFRYXGBkaGxwdHh8gISIjJCUmJygpKissLS4vMDEyMzQ1Njc4OTo=",
          "dtype": "i1"
         },
         "y": {
          "bdata": "AAAAAAAAAEAAAAAAAAAEQAAAAAAAAABAAAAAAAAAAEAAAAAAAAAAQAAAAAAAAPg/AAAAAAAAAEAAAAAAAAAEQAAAAAAAAABAAAAAAAAAAEAAAAAAAAAEQAAAAAAAAPg/AAAAAAAAAEAAAAAAAAD4PwAAAAAAAARAAAAAAAAA+D8AAAAAAAAEQAAAAAAAAABAAAAAAAAA+D8AAAAAAAAAQAAAAAAAAABAAAAAAAAAAEAAAAAAAAAEQAAAAAAAAPg/AAAAAAAABEAAAAAAAAAAQAAAAAAAAABAAAAAAAAABEAAAAAAAAD4PwAAAAAAAABAAAAAAAAABEAAAAAAAAAAQAAAAAAAAABAAAAAAAAAAEAAAAAAAAAAQAAAAAAAAABAAAAAAAAABEAAAAAAAAAAQAAAAAAAAARAAAAAAAAA+D8AAAAAAAAAQAAAAAAAAARAAAAAAAAAAEAAAAAAAAD4PwAAAAAAAABAAAAAAAAAAEAAAAAAAAAAQAAAAAAAAPg/AAAAAAAABEAAAAAAAAAAQAAAAAAAAARAAAAAAAAA+D8AAAAAAAAAQAAAAAAAAABAAAAAAAAA+D8AAAAAAAD4PwAAAAAAAPg/AAAAAAAA+D8AAAAAAAAEQA==",
          "dtype": "f8"
         }
        },
        {
         "hovertemplate": "frame_index: %{x}<br>random_cut_1.0-100-C_1.0<br>DAS_potential: %{y:.3f}<extra></extra>",
         "line": {
          "width": 1
         },
         "marker": {
          "size": 6
         },
         "mode": "lines+markers",
         "name": "random_cut_1.0-100-C_1.0",
         "type": "scatter",
         "x": {
          "bdata": "AAECAwQFBgcICQoLDA0ODxAREhMUFRYXGBkaGxwdHh8gISIjJCUmJygpKissLS4vMDEyMzQ1Njc4OTo=",
          "dtype": "i1"
         },
         "y": {
          "bdata": "AAAAAAAAAEAAAAAAAAAEQAAAAAAAAABAAAAAAAAAAEAAAAAAAAAAQAAAAAAAAPg/AAAAAAAAAEAAAAAAAAAEQAAAAAAAAABAAAAAAAAAAEAAAAAAAAAEQAAAAAAAAPg/AAAAAAAAAEAAAAAAAAD4PwAAAAAAAARAAAAAAAAA+D8AAAAAAAAEQAAAAAAAAABAAAAAAAAA+D8AAAAAAAAAQAAAAAAAAABAAAAAAAAAAEAAAAAAAAAEQAAAAAAAAPg/AAAAAAAABEAAAAAAAAAAQAAAAAAAAABAAAAAAAAABEAAAAAAAAD4PwAAAAAAAABAAAAAAAAABEAAAAAAAAAAQAAAAAAAAABAAAAAAAAAAEAAAAAAAAAAQAAAAAAAAABAAAAAAAAABEAAAAAAAAAAQAAAAAAAAARAAAAAAAAA+D8AAAAAAAAAQAAAAAAAAARAAAAAAAAAAEAAAAAAAAD4PwAAAAAAAABAAAAAAAAAAEAAAAAAAAAAQAAAAAAAAPg/AAAAAAAABEAAAAAAAAAAQAAAAAAAAARAAAAAAAAA+D8AAAAAAAAAQAAAAAAAAABAAAAAAAAA+D8AAAAAAAD4PwAAAAAAAPg/AAAAAAAA+D8AAAAAAAAEQA==",
          "dtype": "f8"
         }
        },
        {
         "hovertemplate": "frame_index: %{x}<br>random_cut_1.0-20-C_1.0<br>DAS_potential: %{y:.3f}<extra></extra>",
         "line": {
          "width": 1
         },
         "marker": {
          "size": 6
         },
         "mode": "lines+markers",
         "name": "random_cut_1.0-20-C_1.0",
         "type": "scatter",
         "x": {
          "bdata": "AAECAwQFBgcICQoLDA0ODxAREhMUFRYXGBkaGxwdHh8gISIjJCUmJygpKissLS4vMDEyMzQ1Njc4OTo=",
          "dtype": "i1"
         },
         "y": {
          "bdata": "AAAAAAAAEEAAAAAAAAAEQAAAAAAAAABAAAAAAAAAEEAAAAAAAAAQQAAAAAAAABBAAAAAAAAAEEAAAAAAAAAEQAAAAAAAABBAAAAAAAAAEEAAAAAAAAAEQAAAAAAAABBAAAAAAAAAEEAAAAAAAAAIQAAAAAAAAARAAAAAAAAAEEAAAAAAAAAEQAAAAAAAABBAAAAAAAAAEEAAAAAAAAAQQAAAAAAAABBAAAAAAAAAEEAAAAAAAAAEQAAAAAAAABBAAAAAAAAABEAAAAAAAAAQQAAAAAAAABBAAAAAAAAABEAAAAAAAAAMQAAAAAAAABBAAAAAAAAABEAAAAAAAAAQQAAAAAAAAABAAAAAAAAAEEAAAAAAAAAQQAAAAAAAAABAAAAAAAAABEAAAAAAAAAQQAAAAAAAAARAAAAAAAAAEEAAAAAAAAAAQAAAAAAAAARAAAAAAAAAEEAAAAAAAAAQQAAAAAAAABBAAAAAAAAAEEAAAAAAAAAQQAAAAAAAABBAAAAAAAAABEAAAAAAAAAAQAAAAAAAAARAAAAAAAAACEAAAAAAAAAAQAAAAAAAAABAAAAAAAAAEEAAAAAAAAAMQAAAAAAAAAxAAAAAAAAAEEAAAAAAAAAEQA==",
          "dtype": "f8"
         }
        },
        {
         "hovertemplate": "frame_index: %{x}<br>random_cut_1.0-50-C_1.0<br>DAS_potential: %{y:.3f}<extra></extra>",
         "line": {
          "width": 1
         },
         "marker": {
          "size": 6
         },
         "mode": "lines+markers",
         "name": "random_cut_1.0-50-C_1.0",
         "type": "scatter",
         "x": {
          "bdata": "AAECAwQFBgcICQoLDA0ODxAREhMUFRYXGBkaGxwdHh8gISIjJCUmJygpKissLS4vMDEyMzQ1Njc4OTo=",
          "dtype": "i1"
         },
         "y": {
          "bdata": "AAAAAAAAAEAAAAAAAAAEQAAAAAAAABBAAAAAAAAAAEAAAAAAAAAAQAAAAAAAAAhAAAAAAAAAAEAAAAAAAAAEQAAAAAAAAABAAAAAAAAAAEAAAAAAAAAEQAAAAAAAAAhAAAAAAAAAAEAAAAAAAAAQQAAAAAAAAARAAAAAAAAACEAAAAAAAAAEQAAAAAAAAABAAAAAAAAACEAAAAAAAAAAQAAAAAAAAABAAAAAAAAAAEAAAAAAAAAEQAAAAAAAAAhAAAAAAAAABEAAAAAAAAAAQAAAAAAAAABAAAAAAAAABEAAAAAAAAAMQAAAAAAAAABAAAAAAAAABEAAAAAAAAAAQAAAAAAAABBAAAAAAAAAAEAAAAAAAAAAQAAAAAAAABBAAAAAAAAABEAAAAAAAAAAQAAAAAAAAARAAAAAAAAACEAAAAAAAAAQQAAAAAAAAARAAAAAAAAAAEAAAAAAAAAIQAAAAAAAAABAAAAAAAAAAEAAAAAAAAAAQAAAAAAAAAhAAAAAAAAABEAAAAAAAAAQQAAAAAAAAARAAAAAAAAAEEAAAAAAAAAQQAAAAAAAABBAAAAAAAAACEAAAAAAAAAMQAAAAAAAAAxAAAAAAAAACEAAAAAAAAAEQA==",
          "dtype": "f8"
         }
        }
       ],
       "layout": {
        "height": 500,
        "hovermode": "x unified",
        "legend": {
         "title": {
          "text": "Methode | Parameter"
         }
        },
        "template": {
         "data": {
          "bar": [
           {
            "error_x": {
             "color": "#2a3f5f"
            },
            "error_y": {
             "color": "#2a3f5f"
            },
            "marker": {
             "line": {
              "color": "#E5ECF6",
              "width": 0.5
             },
             "pattern": {
              "fillmode": "overlay",
              "size": 10,
              "solidity": 0.2
             }
            },
            "type": "bar"
           }
          ],
          "barpolar": [
           {
            "marker": {
             "line": {
              "color": "#E5ECF6",
              "width": 0.5
             },
             "pattern": {
              "fillmode": "overlay",
              "size": 10,
              "solidity": 0.2
             }
            },
            "type": "barpolar"
           }
          ],
          "carpet": [
           {
            "aaxis": {
             "endlinecolor": "#2a3f5f",
             "gridcolor": "white",
             "linecolor": "white",
             "minorgridcolor": "white",
             "startlinecolor": "#2a3f5f"
            },
            "baxis": {
             "endlinecolor": "#2a3f5f",
             "gridcolor": "white",
             "linecolor": "white",
             "minorgridcolor": "white",
             "startlinecolor": "#2a3f5f"
            },
            "type": "carpet"
           }
          ],
          "choropleth": [
           {
            "colorbar": {
             "outlinewidth": 0,
             "ticks": ""
            },
            "type": "choropleth"
           }
          ],
          "contour": [
           {
            "colorbar": {
             "outlinewidth": 0,
             "ticks": ""
            },
            "colorscale": [
             [
              0,
              "#0d0887"
             ],
             [
              0.1111111111111111,
              "#46039f"
             ],
             [
              0.2222222222222222,
              "#7201a8"
             ],
             [
              0.3333333333333333,
              "#9c179e"
             ],
             [
              0.4444444444444444,
              "#bd3786"
             ],
             [
              0.5555555555555556,
              "#d8576b"
             ],
             [
              0.6666666666666666,
              "#ed7953"
             ],
             [
              0.7777777777777778,
              "#fb9f3a"
             ],
             [
              0.8888888888888888,
              "#fdca26"
             ],
             [
              1,
              "#f0f921"
             ]
            ],
            "type": "contour"
           }
          ],
          "contourcarpet": [
           {
            "colorbar": {
             "outlinewidth": 0,
             "ticks": ""
            },
            "type": "contourcarpet"
           }
          ],
          "heatmap": [
           {
            "colorbar": {
             "outlinewidth": 0,
             "ticks": ""
            },
            "colorscale": [
             [
              0,
              "#0d0887"
             ],
             [
              0.1111111111111111,
              "#46039f"
             ],
             [
              0.2222222222222222,
              "#7201a8"
             ],
             [
              0.3333333333333333,
              "#9c179e"
             ],
             [
              0.4444444444444444,
              "#bd3786"
             ],
             [
              0.5555555555555556,
              "#d8576b"
             ],
             [
              0.6666666666666666,
              "#ed7953"
             ],
             [
              0.7777777777777778,
              "#fb9f3a"
             ],
             [
              0.8888888888888888,
              "#fdca26"
             ],
             [
              1,
              "#f0f921"
             ]
            ],
            "type": "heatmap"
           }
          ],
          "histogram": [
           {
            "marker": {
             "pattern": {
              "fillmode": "overlay",
              "size": 10,
              "solidity": 0.2
             }
            },
            "type": "histogram"
           }
          ],
          "histogram2d": [
           {
            "colorbar": {
             "outlinewidth": 0,
             "ticks": ""
            },
            "colorscale": [
             [
              0,
              "#0d0887"
             ],
             [
              0.1111111111111111,
              "#46039f"
             ],
             [
              0.2222222222222222,
              "#7201a8"
             ],
             [
              0.3333333333333333,
              "#9c179e"
             ],
             [
              0.4444444444444444,
              "#bd3786"
             ],
             [
              0.5555555555555556,
              "#d8576b"
             ],
             [
              0.6666666666666666,
              "#ed7953"
             ],
             [
              0.7777777777777778,
              "#fb9f3a"
             ],
             [
              0.8888888888888888,
              "#fdca26"
             ],
             [
              1,
              "#f0f921"
             ]
            ],
            "type": "histogram2d"
           }
          ],
          "histogram2dcontour": [
           {
            "colorbar": {
             "outlinewidth": 0,
             "ticks": ""
            },
            "colorscale": [
             [
              0,
              "#0d0887"
             ],
             [
              0.1111111111111111,
              "#46039f"
             ],
             [
              0.2222222222222222,
              "#7201a8"
             ],
             [
              0.3333333333333333,
              "#9c179e"
             ],
             [
              0.4444444444444444,
              "#bd3786"
             ],
             [
              0.5555555555555556,
              "#d8576b"
             ],
             [
              0.6666666666666666,
              "#ed7953"
             ],
             [
              0.7777777777777778,
              "#fb9f3a"
             ],
             [
              0.8888888888888888,
              "#fdca26"
             ],
             [
              1,
              "#f0f921"
             ]
            ],
            "type": "histogram2dcontour"
           }
          ],
          "mesh3d": [
           {
            "colorbar": {
             "outlinewidth": 0,
             "ticks": ""
            },
            "type": "mesh3d"
           }
          ],
          "parcoords": [
           {
            "line": {
             "colorbar": {
              "outlinewidth": 0,
              "ticks": ""
             }
            },
            "type": "parcoords"
           }
          ],
          "pie": [
           {
            "automargin": true,
            "type": "pie"
           }
          ],
          "scatter": [
           {
            "fillpattern": {
             "fillmode": "overlay",
             "size": 10,
             "solidity": 0.2
            },
            "type": "scatter"
           }
          ],
          "scatter3d": [
           {
            "line": {
             "colorbar": {
              "outlinewidth": 0,
              "ticks": ""
             }
            },
            "marker": {
             "colorbar": {
              "outlinewidth": 0,
              "ticks": ""
             }
            },
            "type": "scatter3d"
           }
          ],
          "scattercarpet": [
           {
            "marker": {
             "colorbar": {
              "outlinewidth": 0,
              "ticks": ""
             }
            },
            "type": "scattercarpet"
           }
          ],
          "scattergeo": [
           {
            "marker": {
             "colorbar": {
              "outlinewidth": 0,
              "ticks": ""
             }
            },
            "type": "scattergeo"
           }
          ],
          "scattergl": [
           {
            "marker": {
             "colorbar": {
              "outlinewidth": 0,
              "ticks": ""
             }
            },
            "type": "scattergl"
           }
          ],
          "scattermap": [
           {
            "marker": {
             "colorbar": {
              "outlinewidth": 0,
              "ticks": ""
             }
            },
            "type": "scattermap"
           }
          ],
          "scattermapbox": [
           {
            "marker": {
             "colorbar": {
              "outlinewidth": 0,
              "ticks": ""
             }
            },
            "type": "scattermapbox"
           }
          ],
          "scatterpolar": [
           {
            "marker": {
             "colorbar": {
              "outlinewidth": 0,
              "ticks": ""
             }
            },
            "type": "scatterpolar"
           }
          ],
          "scatterpolargl": [
           {
            "marker": {
             "colorbar": {
              "outlinewidth": 0,
              "ticks": ""
             }
            },
            "type": "scatterpolargl"
           }
          ],
          "scatterternary": [
           {
            "marker": {
             "colorbar": {
              "outlinewidth": 0,
              "ticks": ""
             }
            },
            "type": "scatterternary"
           }
          ],
          "surface": [
           {
            "colorbar": {
             "outlinewidth": 0,
             "ticks": ""
            },
            "colorscale": [
             [
              0,
              "#0d0887"
             ],
             [
              0.1111111111111111,
              "#46039f"
             ],
             [
              0.2222222222222222,
              "#7201a8"
             ],
             [
              0.3333333333333333,
              "#9c179e"
             ],
             [
              0.4444444444444444,
              "#bd3786"
             ],
             [
              0.5555555555555556,
              "#d8576b"
             ],
             [
              0.6666666666666666,
              "#ed7953"
             ],
             [
              0.7777777777777778,
              "#fb9f3a"
             ],
             [
              0.8888888888888888,
              "#fdca26"
             ],
             [
              1,
              "#f0f921"
             ]
            ],
            "type": "surface"
           }
          ],
          "table": [
           {
            "cells": {
             "fill": {
              "color": "#EBF0F8"
             },
             "line": {
              "color": "white"
             }
            },
            "header": {
             "fill": {
              "color": "#C8D4E3"
             },
             "line": {
              "color": "white"
             }
            },
            "type": "table"
           }
          ]
         },
         "layout": {
          "annotationdefaults": {
           "arrowcolor": "#2a3f5f",
           "arrowhead": 0,
           "arrowwidth": 1
          },
          "autotypenumbers": "strict",
          "coloraxis": {
           "colorbar": {
            "outlinewidth": 0,
            "ticks": ""
           }
          },
          "colorscale": {
           "diverging": [
            [
             0,
             "#8e0152"
            ],
            [
             0.1,
             "#c51b7d"
            ],
            [
             0.2,
             "#de77ae"
            ],
            [
             0.3,
             "#f1b6da"
            ],
            [
             0.4,
             "#fde0ef"
            ],
            [
             0.5,
             "#f7f7f7"
            ],
            [
             0.6,
             "#e6f5d0"
            ],
            [
             0.7,
             "#b8e186"
            ],
            [
             0.8,
             "#7fbc41"
            ],
            [
             0.9,
             "#4d9221"
            ],
            [
             1,
             "#276419"
            ]
           ],
           "sequential": [
            [
             0,
             "#0d0887"
            ],
            [
             0.1111111111111111,
             "#46039f"
            ],
            [
             0.2222222222222222,
             "#7201a8"
            ],
            [
             0.3333333333333333,
             "#9c179e"
            ],
            [
             0.4444444444444444,
             "#bd3786"
            ],
            [
             0.5555555555555556,
             "#d8576b"
            ],
            [
             0.6666666666666666,
             "#ed7953"
            ],
            [
             0.7777777777777778,
             "#fb9f3a"
            ],
            [
             0.8888888888888888,
             "#fdca26"
            ],
            [
             1,
             "#f0f921"
            ]
           ],
           "sequentialminus": [
            [
             0,
             "#0d0887"
            ],
            [
             0.1111111111111111,
             "#46039f"
            ],
            [
             0.2222222222222222,
             "#7201a8"
            ],
            [
             0.3333333333333333,
             "#9c179e"
            ],
            [
             0.4444444444444444,
             "#bd3786"
            ],
            [
             0.5555555555555556,
             "#d8576b"
            ],
            [
             0.6666666666666666,
             "#ed7953"
            ],
            [
             0.7777777777777778,
             "#fb9f3a"
            ],
            [
             0.8888888888888888,
             "#fdca26"
            ],
            [
             1,
             "#f0f921"
            ]
           ]
          },
          "colorway": [
           "#636efa",
           "#EF553B",
           "#00cc96",
           "#ab63fa",
           "#FFA15A",
           "#19d3f3",
           "#FF6692",
           "#B6E880",
           "#FF97FF",
           "#FECB52"
          ],
          "font": {
           "color": "#2a3f5f"
          },
          "geo": {
           "bgcolor": "white",
           "lakecolor": "white",
           "landcolor": "#E5ECF6",
           "showlakes": true,
           "showland": true,
           "subunitcolor": "white"
          },
          "hoverlabel": {
           "align": "left"
          },
          "hovermode": "closest",
          "mapbox": {
           "style": "light"
          },
          "paper_bgcolor": "white",
          "plot_bgcolor": "#E5ECF6",
          "polar": {
           "angularaxis": {
            "gridcolor": "white",
            "linecolor": "white",
            "ticks": ""
           },
           "bgcolor": "#E5ECF6",
           "radialaxis": {
            "gridcolor": "white",
            "linecolor": "white",
            "ticks": ""
           }
          },
          "scene": {
           "xaxis": {
            "backgroundcolor": "#E5ECF6",
            "gridcolor": "white",
            "gridwidth": 2,
            "linecolor": "white",
            "showbackground": true,
            "ticks": "",
            "zerolinecolor": "white"
           },
           "yaxis": {
            "backgroundcolor": "#E5ECF6",
            "gridcolor": "white",
            "gridwidth": 2,
            "linecolor": "white",
            "showbackground": true,
            "ticks": "",
            "zerolinecolor": "white"
           },
           "zaxis": {
            "backgroundcolor": "#E5ECF6",
            "gridcolor": "white",
            "gridwidth": 2,
            "linecolor": "white",
            "showbackground": true,
            "ticks": "",
            "zerolinecolor": "white"
           }
          },
          "shapedefaults": {
           "line": {
            "color": "#2a3f5f"
           }
          },
          "ternary": {
           "aaxis": {
            "gridcolor": "white",
            "linecolor": "white",
            "ticks": ""
           },
           "baxis": {
            "gridcolor": "white",
            "linecolor": "white",
            "ticks": ""
           },
           "bgcolor": "#E5ECF6",
           "caxis": {
            "gridcolor": "white",
            "linecolor": "white",
            "ticks": ""
           }
          },
          "title": {
           "x": 0.05
          },
          "xaxis": {
           "automargin": true,
           "gridcolor": "white",
           "linecolor": "white",
           "ticks": "",
           "title": {
            "standoff": 15
           },
           "zerolinecolor": "white",
           "zerolinewidth": 2
          },
          "yaxis": {
           "automargin": true,
           "gridcolor": "white",
           "linecolor": "white",
           "ticks": "",
           "title": {
            "standoff": 15
           },
           "zerolinecolor": "white",
           "zerolinewidth": 2
          }
         }
        },
        "title": {
         "text": "DAS_potential Zeitverlauf (indexbasiert)"
        },
        "width": 1000,
        "xaxis": {
         "title": {
          "text": "Frame (indexbasiert, gleichabständig)"
         }
        },
        "yaxis": {
         "title": {
          "text": "DAS_potential"
         }
        }
       }
      }
     },
     "metadata": {},
     "output_type": "display_data"
    }
   ],
   "source": [
    "df = full_df_mit_cut.copy()\n",
    "keys = [\"game_id\", \"player_id\", \"frame\"]\n",
    "\n",
    "pivot = df.pivot_table(\n",
    "    index=keys,\n",
    "    columns=\"tuning\",\n",
    "    values=[\"DAS_new\", \"DAS_potential\"],\n",
    "    aggfunc=\"first\"\n",
    ")\n",
    "pivot.index = [frame for _, _, frame in pivot.index]\n",
    "pivot.columns = [f\"{metric.split(\"_\")[1].capitalize()}DAS_{tuning.split(\"-\")[0]}-{tuning.split(\"-N_\")[1]}\" for metric, tuning in pivot.columns]\n",
    "pivot.columns = [col.split(\"-\")[0] if \"all_positions\" in col else col for col in pivot.columns]\n",
    "pivot_ranked = add_frame_ranks(pivot)\n",
    "\n",
    "fig = plot_player_time_series(pivot)\n",
    "fig.show()\n",
    "fig = plot_player_time_series(pivot_ranked, metric_prefix=\"Rank_PotentialDAS_\")\n",
    "fig.show()"
   ]
  },
  {
   "cell_type": "code",
   "execution_count": 111,
   "id": "b9474179",
   "metadata": {},
   "outputs": [
    {
     "data": {
      "text/plain": [
       "array([0.])"
      ]
     },
     "metadata": {},
     "output_type": "display_data"
    },
    {
     "data": {
      "text/plain": [
       "array([0.])"
      ]
     },
     "metadata": {},
     "output_type": "display_data"
    }
   ],
   "source": [
    "keys = [\"game_id\", \"player_id\", \"frame\"]\n",
    "df_100_all = full_df[\n",
    "    (full_df[\"tuning\"].str.contains(\"N_100\")) |\n",
    "    (full_df[\"method\"].str.contains(\"all_positions\"))\n",
    "]\n",
    "pivot_100_all = df_100_all.pivot_table(\n",
    "    index=keys,\n",
    "    columns=\"tuning\",\n",
    "    values=[\"DAS_new\"],\n",
    "    aggfunc=\"first\",\n",
    "    fill_value=0\n",
    ")\n",
    "pivot_100_all.columns = [f\"{metric.split(\"_\")[1].capitalize()}DAS_{tuning.split(\"-\")[0]}-{tuning.split(\"-N_\")[1]}\" for metric, tuning in pivot_100_all.columns]\n",
    "pivot_100_all.columns = [col.split(\"-\")[0] if \"all_positions\" in col else col for col in pivot_100_all.columns]\n",
    "pivot_100_all[\"Diff ohne Cut\"] = pivot_100_all[\"NewDAS_all_positions\"] - pivot_100_all[\"NewDAS_random-100\"]\n",
    "pivot_100_all[\"Diff mit Cut\"] = pivot_100_all[\"NewDAS_all_positions_cut_1.0\"] - pivot_100_all[\"NewDAS_random_cut_1.0-100-C_1.0\"]\n",
    "pivot_comp = pivot_100_all[[\"Diff ohne Cut\", \"Diff mit Cut\"]]\n",
    "display(pivot_comp[\"Diff mit Cut\"].unique())\n",
    "display(pivot_comp[\"Diff ohne Cut\"].unique())"
   ]
  }
 ],
 "metadata": {
  "kernelspec": {
   "display_name": "venv",
   "language": "python",
   "name": "python3"
  },
  "language_info": {
   "codemirror_mode": {
    "name": "ipython",
    "version": 3
   },
   "file_extension": ".py",
   "mimetype": "text/x-python",
   "name": "python",
   "nbconvert_exporter": "python",
   "pygments_lexer": "ipython3",
   "version": "3.13.0"
  }
 },
 "nbformat": 4,
 "nbformat_minor": 5
}
