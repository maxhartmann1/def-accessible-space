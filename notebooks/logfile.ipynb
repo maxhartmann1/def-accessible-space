{
 "cells": [
  {
   "cell_type": "markdown",
   "id": "2b498019",
   "metadata": {},
   "source": [
    "# Log File einlesen"
   ]
  },
  {
   "cell_type": "code",
   "execution_count": 2,
   "id": "e922803d",
   "metadata": {},
   "outputs": [],
   "source": [
    "import re\n",
    "import pandas as pd\n",
    "\n",
    "with open(\"../berechnung.log\", \"r\") as f:\n",
    "    lines = f.readlines()\n",
    "    \n",
    "records_player = []\n",
    "records_game = []\n",
    "\n",
    "for line in lines:\n",
    "    line = line.strip()\n",
    "    \n",
    "    m = re.search(\n",
    "        r\"Pitch Result bei step size (?P<step>\\d+) für (?P<game_id>\\w+) in (?P<time>[\\d.]+) Sekunden\",\n",
    "        line\n",
    "    )\n",
    "    if m:\n",
    "        records_game.append({\n",
    "            \"type\": \"game\",\n",
    "            \"step\": int(m[\"step\"]),\n",
    "            \"game_id\": m[\"game_id\"],\n",
    "            \"time_sec\": float(m[\"time\"]),\n",
    "        })\n",
    "        continue\n",
    "    \n",
    "    m = re.search(\n",
    "        r\"Frames erstellen für (?P<player>\\w+) mit (?P<frames>\\d+) Frames bei step size (?P<step>\\d+) für (?P<game_id>\\w+) mit (?P<method>\\w+) in (?P<time>[\\d.]+) Sekunden\",\n",
    "        line\n",
    "    )\n",
    "    if m:\n",
    "        records_player.append({\n",
    "            \"type\": \"frames\",\n",
    "            \"player\": m[\"player\"],\n",
    "            \"frames\": int(m[\"frames\"]),\n",
    "            \"step\": int(m[\"step\"]),\n",
    "            \"game_id\": m[\"game_id\"],\n",
    "            \"method\": m[\"method\"],\n",
    "            \"time_sec\": float(m[\"time\"]),\n",
    "            \"param_max_radius\": None,\n",
    "            \"param_opt_step_size\": None,\n",
    "            \"param_min_dist\": None,\n",
    "            \"param_n\": None\n",
    "        })\n",
    "        continue\n",
    "    \n",
    "    m = re.search(\n",
    "        r\"Pitch Result berechnen für (?P<player>\\w+) mit (?P<frames>\\d+) Frames für (?P<game_id>\\w+) in (?P<time>[\\d.]+) Sekunden\",\n",
    "        line\n",
    "    )\n",
    "    if m:\n",
    "        records_player.append({\n",
    "            \"type\": \"pitch_result\",\n",
    "            \"player\": m[\"player\"],\n",
    "            \"frames\": int(m[\"frames\"]),\n",
    "            \"step\": None,    # kommt von \"Frames erstellen\"\n",
    "            \"game_id\": m[\"game_id\"],\n",
    "            \"method\": None,\n",
    "            \"time_sec\": float(m[\"time\"]),\n",
    "            \"param_max_radius\": None,\n",
    "            \"param_opt_step_size\": None,\n",
    "            \"param_min_dist\": None,\n",
    "            \"param_n\": None\n",
    "        })\n",
    "        continue\n",
    "\n",
    "    m = re.search(r\"Params des oben genannten Runs: (.*)\", line)\n",
    "    if m and records_player:\n",
    "        params = eval(m.group(1))\n",
    "        for key, value in params.items():\n",
    "            records_player[-1][f\"param_{key}\"] = value\n",
    "            records_player[-2][f\"param_{key}\"] = value\n",
    "    \n",
    "df_games = pd.DataFrame(records_game)\n",
    "df_player = pd.DataFrame(records_player)\n",
    "df_player = df_player[df_player[\"param_n\"].notna()]"
   ]
  },
  {
   "cell_type": "code",
   "execution_count": 4,
   "id": "0e69a4cb",
   "metadata": {},
   "outputs": [
    {
     "data": {
      "application/vnd.microsoft.datawrangler.viewer.v0+json": {
       "columns": [
        {
         "name": "index",
         "rawType": "int64",
         "type": "integer"
        },
        {
         "name": "player",
         "rawType": "object",
         "type": "string"
        },
        {
         "name": "game_id",
         "rawType": "object",
         "type": "string"
        },
        {
         "name": "frames",
         "rawType": "int64",
         "type": "integer"
        },
        {
         "name": "step",
         "rawType": "float64",
         "type": "float"
        },
        {
         "name": "method",
         "rawType": "object",
         "type": "string"
        },
        {
         "name": "time_frames_sec",
         "rawType": "float64",
         "type": "float"
        },
        {
         "name": "time_pitch_sec",
         "rawType": "float64",
         "type": "float"
        },
        {
         "name": "total_time_sec",
         "rawType": "float64",
         "type": "float"
        },
        {
         "name": "param_max_radius",
         "rawType": "float64",
         "type": "float"
        },
        {
         "name": "param_opt_step_size",
         "rawType": "float64",
         "type": "float"
        },
        {
         "name": "param_min_dist",
         "rawType": "float64",
         "type": "float"
        },
        {
         "name": "param_n",
         "rawType": "float64",
         "type": "float"
        }
       ],
       "ref": "40c153c4-e173-46f9-9de3-1baa40df22e7",
       "rows": [
        [
         "0",
         "home_25",
         "J03WQQ",
         "1003",
         "25.0",
         "random",
         "142.245",
         "2210.731",
         "2352.976",
         "5.0",
         "1.0",
         "2.0",
         "20.0"
        ],
        [
         "1",
         "home_25",
         "J03WQQ",
         "201",
         "125.0",
         "random",
         "18.6694",
         "292.3684",
         "311.0378",
         "5.0",
         "1.0",
         "2.0",
         "20.0"
        ],
        [
         "2",
         "home_25",
         "J03WQQ",
         "201",
         "125.0",
         "random",
         "52.2024",
         "939.6736",
         "991.876",
         "5.0",
         "1.0",
         "2.0",
         "50.0"
        ],
        [
         "3",
         "home_25",
         "J03WQQ",
         "201",
         "125.0",
         "all_positions",
         "82.7304",
         "1629.993",
         "1712.7233999999999",
         "5.0",
         "1.0",
         "2.0",
         "20.0"
        ],
        [
         "4",
         "home_13",
         "J03WQQ",
         "31",
         "125.0",
         "random",
         "2.8612",
         "34.1022",
         "36.96340000000001",
         "5.0",
         "1.0",
         "2.0",
         "20.0"
        ]
       ],
       "shape": {
        "columns": 12,
        "rows": 5
       }
      },
      "text/html": [
       "<div>\n",
       "<style scoped>\n",
       "    .dataframe tbody tr th:only-of-type {\n",
       "        vertical-align: middle;\n",
       "    }\n",
       "\n",
       "    .dataframe tbody tr th {\n",
       "        vertical-align: top;\n",
       "    }\n",
       "\n",
       "    .dataframe thead th {\n",
       "        text-align: right;\n",
       "    }\n",
       "</style>\n",
       "<table border=\"1\" class=\"dataframe\">\n",
       "  <thead>\n",
       "    <tr style=\"text-align: right;\">\n",
       "      <th></th>\n",
       "      <th>player</th>\n",
       "      <th>game_id</th>\n",
       "      <th>frames</th>\n",
       "      <th>step</th>\n",
       "      <th>method</th>\n",
       "      <th>time_frames_sec</th>\n",
       "      <th>time_pitch_sec</th>\n",
       "      <th>total_time_sec</th>\n",
       "      <th>param_max_radius</th>\n",
       "      <th>param_opt_step_size</th>\n",
       "      <th>param_min_dist</th>\n",
       "      <th>param_n</th>\n",
       "    </tr>\n",
       "  </thead>\n",
       "  <tbody>\n",
       "    <tr>\n",
       "      <th>0</th>\n",
       "      <td>home_25</td>\n",
       "      <td>J03WQQ</td>\n",
       "      <td>1003</td>\n",
       "      <td>25.0</td>\n",
       "      <td>random</td>\n",
       "      <td>142.2450</td>\n",
       "      <td>2210.7310</td>\n",
       "      <td>2352.9760</td>\n",
       "      <td>5.0</td>\n",
       "      <td>1.0</td>\n",
       "      <td>2.0</td>\n",
       "      <td>20.0</td>\n",
       "    </tr>\n",
       "    <tr>\n",
       "      <th>1</th>\n",
       "      <td>home_25</td>\n",
       "      <td>J03WQQ</td>\n",
       "      <td>201</td>\n",
       "      <td>125.0</td>\n",
       "      <td>random</td>\n",
       "      <td>18.6694</td>\n",
       "      <td>292.3684</td>\n",
       "      <td>311.0378</td>\n",
       "      <td>5.0</td>\n",
       "      <td>1.0</td>\n",
       "      <td>2.0</td>\n",
       "      <td>20.0</td>\n",
       "    </tr>\n",
       "    <tr>\n",
       "      <th>2</th>\n",
       "      <td>home_25</td>\n",
       "      <td>J03WQQ</td>\n",
       "      <td>201</td>\n",
       "      <td>125.0</td>\n",
       "      <td>random</td>\n",
       "      <td>52.2024</td>\n",
       "      <td>939.6736</td>\n",
       "      <td>991.8760</td>\n",
       "      <td>5.0</td>\n",
       "      <td>1.0</td>\n",
       "      <td>2.0</td>\n",
       "      <td>50.0</td>\n",
       "    </tr>\n",
       "    <tr>\n",
       "      <th>3</th>\n",
       "      <td>home_25</td>\n",
       "      <td>J03WQQ</td>\n",
       "      <td>201</td>\n",
       "      <td>125.0</td>\n",
       "      <td>all_positions</td>\n",
       "      <td>82.7304</td>\n",
       "      <td>1629.9930</td>\n",
       "      <td>1712.7234</td>\n",
       "      <td>5.0</td>\n",
       "      <td>1.0</td>\n",
       "      <td>2.0</td>\n",
       "      <td>20.0</td>\n",
       "    </tr>\n",
       "    <tr>\n",
       "      <th>4</th>\n",
       "      <td>home_13</td>\n",
       "      <td>J03WQQ</td>\n",
       "      <td>31</td>\n",
       "      <td>125.0</td>\n",
       "      <td>random</td>\n",
       "      <td>2.8612</td>\n",
       "      <td>34.1022</td>\n",
       "      <td>36.9634</td>\n",
       "      <td>5.0</td>\n",
       "      <td>1.0</td>\n",
       "      <td>2.0</td>\n",
       "      <td>20.0</td>\n",
       "    </tr>\n",
       "  </tbody>\n",
       "</table>\n",
       "</div>"
      ],
      "text/plain": [
       "    player game_id  frames   step         method  time_frames_sec  \\\n",
       "0  home_25  J03WQQ    1003   25.0         random         142.2450   \n",
       "1  home_25  J03WQQ     201  125.0         random          18.6694   \n",
       "2  home_25  J03WQQ     201  125.0         random          52.2024   \n",
       "3  home_25  J03WQQ     201  125.0  all_positions          82.7304   \n",
       "4  home_13  J03WQQ      31  125.0         random           2.8612   \n",
       "\n",
       "   time_pitch_sec  total_time_sec  param_max_radius  param_opt_step_size  \\\n",
       "0       2210.7310       2352.9760               5.0                  1.0   \n",
       "1        292.3684        311.0378               5.0                  1.0   \n",
       "2        939.6736        991.8760               5.0                  1.0   \n",
       "3       1629.9930       1712.7234               5.0                  1.0   \n",
       "4         34.1022         36.9634               5.0                  1.0   \n",
       "\n",
       "   param_min_dist  param_n  \n",
       "0             2.0     20.0  \n",
       "1             2.0     20.0  \n",
       "2             2.0     50.0  \n",
       "3             2.0     20.0  \n",
       "4             2.0     20.0  "
      ]
     },
     "execution_count": 4,
     "metadata": {},
     "output_type": "execute_result"
    }
   ],
   "source": [
    "# Player DF mergen\n",
    "df_frames = df_player[df_player[\"type\"] == \"frames\"].copy()\n",
    "df_pitch = df_player[df_player[\"type\"] == \"pitch_result\"].copy()\n",
    "\n",
    "keys = [\"player\", \"game_id\", \"frames\"]\n",
    "df_frames[\"run_idx\"] = df_frames.groupby(keys).cumcount()\n",
    "df_pitch[\"run_idx\"] = df_pitch.groupby(keys).cumcount()\n",
    "\n",
    "wide = df_frames.merge(\n",
    "    df_pitch[keys + [\"run_idx\", \"time_sec\"]],\n",
    "    on=keys + [\"run_idx\"], how=\"left\", suffixes=(\"_frame\", \"_pitch\")\n",
    ")\n",
    "wide = wide.rename(columns={\n",
    "    \"time_sec_frame\": \"time_frames_sec\",\n",
    "    \"time_sec_pitch\":  \"time_pitch_sec\"\n",
    "})\n",
    "wide[\"total_time_sec\"] = wide[\"time_frames_sec\"].fillna(0) + wide[\"time_pitch_sec\"].fillna(0)\n",
    "\n",
    "cols = keys + [\"step\", \"method\", \"time_frames_sec\", \"time_pitch_sec\", \"total_time_sec\"] + [c for c in wide.columns if c.startswith(\"param_\")]\n",
    "wide = wide[cols]\n",
    "\n",
    "wide.head()"
   ]
  },
  {
   "cell_type": "code",
   "execution_count": 69,
   "id": "947a475b",
   "metadata": {},
   "outputs": [
    {
     "data": {
      "application/vnd.microsoft.datawrangler.viewer.v0+json": {
       "columns": [
        {
         "name": "step",
         "rawType": "int64",
         "type": "integer"
        },
        {
         "name": "time_sec",
         "rawType": "float64",
         "type": "float"
        }
       ],
       "ref": "72cccee7-e30c-4f65-8dc3-70d47bb8f7bc",
       "rows": [
        [
         "25",
         "116.5604"
        ],
        [
         "125",
         "25.95496"
        ]
       ],
       "shape": {
        "columns": 1,
        "rows": 2
       }
      },
      "text/plain": [
       "step\n",
       "25     116.56040\n",
       "125     25.95496\n",
       "Name: time_sec, dtype: float64"
      ]
     },
     "execution_count": 69,
     "metadata": {},
     "output_type": "execute_result"
    }
   ],
   "source": [
    "# Game DF auswerten\n",
    "df_games.groupby(\"step\")[\"time_sec\"].mean()"
   ]
  },
  {
   "cell_type": "code",
   "execution_count": 94,
   "id": "b697db82",
   "metadata": {},
   "outputs": [
    {
     "data": {
      "application/vnd.microsoft.datawrangler.viewer.v0+json": {
       "columns": [
        {
         "name": "step",
         "rawType": "float64",
         "type": "float"
        },
        {
         "name": "('total_time_sec', 'all_positions')",
         "rawType": "float64",
         "type": "float"
        },
        {
         "name": "('total_time_sec', 'random_n100')",
         "rawType": "float64",
         "type": "float"
        },
        {
         "name": "('total_time_sec', 'random_n20')",
         "rawType": "float64",
         "type": "float"
        },
        {
         "name": "('total_time_sec', 'random_n50')",
         "rawType": "float64",
         "type": "float"
        }
       ],
       "ref": "6e30f958-040d-4cd9-ab23-f372ec2851a5",
       "rows": [
        [
         "25.0",
         null,
         null,
         "2352.976",
         null
        ],
        [
         "125.0",
         "1059.748",
         "1008.223",
         "173.086",
         "401.254"
        ]
       ],
       "shape": {
        "columns": 4,
        "rows": 2
       }
      },
      "text/html": [
       "<div>\n",
       "<style scoped>\n",
       "    .dataframe tbody tr th:only-of-type {\n",
       "        vertical-align: middle;\n",
       "    }\n",
       "\n",
       "    .dataframe tbody tr th {\n",
       "        vertical-align: top;\n",
       "    }\n",
       "\n",
       "    .dataframe thead tr th {\n",
       "        text-align: left;\n",
       "    }\n",
       "\n",
       "    .dataframe thead tr:last-of-type th {\n",
       "        text-align: right;\n",
       "    }\n",
       "</style>\n",
       "<table border=\"1\" class=\"dataframe\">\n",
       "  <thead>\n",
       "    <tr>\n",
       "      <th></th>\n",
       "      <th colspan=\"4\" halign=\"left\">total_time_sec</th>\n",
       "    </tr>\n",
       "    <tr>\n",
       "      <th>method</th>\n",
       "      <th>all_positions</th>\n",
       "      <th>random_n100</th>\n",
       "      <th>random_n20</th>\n",
       "      <th>random_n50</th>\n",
       "    </tr>\n",
       "    <tr>\n",
       "      <th>step</th>\n",
       "      <th></th>\n",
       "      <th></th>\n",
       "      <th></th>\n",
       "      <th></th>\n",
       "    </tr>\n",
       "  </thead>\n",
       "  <tbody>\n",
       "    <tr>\n",
       "      <th>25.0</th>\n",
       "      <td>NaN</td>\n",
       "      <td>NaN</td>\n",
       "      <td>2352.976</td>\n",
       "      <td>NaN</td>\n",
       "    </tr>\n",
       "    <tr>\n",
       "      <th>125.0</th>\n",
       "      <td>1059.748</td>\n",
       "      <td>1008.223</td>\n",
       "      <td>173.086</td>\n",
       "      <td>401.254</td>\n",
       "    </tr>\n",
       "  </tbody>\n",
       "</table>\n",
       "</div>"
      ],
      "text/plain": [
       "       total_time_sec                                  \n",
       "method  all_positions random_n100 random_n20 random_n50\n",
       "step                                                   \n",
       "25.0              NaN         NaN   2352.976        NaN\n",
       "125.0        1059.748    1008.223    173.086    401.254"
      ]
     },
     "metadata": {},
     "output_type": "display_data"
    },
    {
     "data": {
      "application/vnd.microsoft.datawrangler.viewer.v0+json": {
       "columns": [
        {
         "name": "step",
         "rawType": "float64",
         "type": "float"
        },
        {
         "name": "('time_per_frame', 'all_positions')",
         "rawType": "float64",
         "type": "float"
        },
        {
         "name": "('time_per_frame', 'random_n100')",
         "rawType": "float64",
         "type": "float"
        },
        {
         "name": "('time_per_frame', 'random_n20')",
         "rawType": "float64",
         "type": "float"
        },
        {
         "name": "('time_per_frame', 'random_n50')",
         "rawType": "float64",
         "type": "float"
        }
       ],
       "ref": "7b622c44-9e59-455a-887a-126dfe525142",
       "rows": [
        [
         "25.0",
         null,
         null,
         "2.346",
         null
        ],
        [
         "125.0",
         "7.041",
         "7.28",
         "1.367",
         "3.494"
        ]
       ],
       "shape": {
        "columns": 4,
        "rows": 2
       }
      },
      "text/html": [
       "<div>\n",
       "<style scoped>\n",
       "    .dataframe tbody tr th:only-of-type {\n",
       "        vertical-align: middle;\n",
       "    }\n",
       "\n",
       "    .dataframe tbody tr th {\n",
       "        vertical-align: top;\n",
       "    }\n",
       "\n",
       "    .dataframe thead tr th {\n",
       "        text-align: left;\n",
       "    }\n",
       "\n",
       "    .dataframe thead tr:last-of-type th {\n",
       "        text-align: right;\n",
       "    }\n",
       "</style>\n",
       "<table border=\"1\" class=\"dataframe\">\n",
       "  <thead>\n",
       "    <tr>\n",
       "      <th></th>\n",
       "      <th colspan=\"4\" halign=\"left\">time_per_frame</th>\n",
       "    </tr>\n",
       "    <tr>\n",
       "      <th>method</th>\n",
       "      <th>all_positions</th>\n",
       "      <th>random_n100</th>\n",
       "      <th>random_n20</th>\n",
       "      <th>random_n50</th>\n",
       "    </tr>\n",
       "    <tr>\n",
       "      <th>step</th>\n",
       "      <th></th>\n",
       "      <th></th>\n",
       "      <th></th>\n",
       "      <th></th>\n",
       "    </tr>\n",
       "  </thead>\n",
       "  <tbody>\n",
       "    <tr>\n",
       "      <th>25.0</th>\n",
       "      <td>NaN</td>\n",
       "      <td>NaN</td>\n",
       "      <td>2.346</td>\n",
       "      <td>NaN</td>\n",
       "    </tr>\n",
       "    <tr>\n",
       "      <th>125.0</th>\n",
       "      <td>7.041</td>\n",
       "      <td>7.28</td>\n",
       "      <td>1.367</td>\n",
       "      <td>3.494</td>\n",
       "    </tr>\n",
       "  </tbody>\n",
       "</table>\n",
       "</div>"
      ],
      "text/plain": [
       "       time_per_frame                                  \n",
       "method  all_positions random_n100 random_n20 random_n50\n",
       "step                                                   \n",
       "25.0              NaN         NaN      2.346        NaN\n",
       "125.0           7.041        7.28      1.367      3.494"
      ]
     },
     "metadata": {},
     "output_type": "display_data"
    }
   ],
   "source": [
    "# Player DF auswerten\n",
    "# df = wide[\n",
    "#     (wide[\"player\"] == \"home_25\") & (wide[\"game_id\"] == \"J03WQQ\")\n",
    "#     ].copy()\n",
    "df = wide.copy()\n",
    "df[\"method\"] = df.apply(\n",
    "    lambda row: f\"{row['method']}_n{int(row['param_n'])}\" if row[\"method\"] == \"random\" else row[\"method\"],\n",
    "    axis=1\n",
    ")\n",
    "df[\"time_per_frame\"] = df[\"total_time_sec\"] / df[\"frames\"]\n",
    "\n",
    "summary = (df.groupby(\"method\")\n",
    "        .agg(runs=(\"total_time_sec\", \"count\"),\n",
    "             mean_total=(\"total_time_sec\", \"mean\"),\n",
    "             median_total=(\"total_time_sec\", \"median\"),\n",
    "             mean_tpf=(\"time_per_frame\", \"mean\"),\n",
    "             median_tpf=(\"time_per_frame\", \"median\"),\n",
    "             weighted_tpf=(\"total_time_sec\", lambda x: x.sum()))\n",
    "        )\n",
    "summary[\"weighted_tpf\"] = summary[\"weighted_tpf\"] / df.groupby(\"method\")[\"frames\"].sum()\n",
    "summary = summary.sort_values(\"median_tpf\")\n",
    "# display(summary)\n",
    "\n",
    "by_step = (df.groupby([\"step\", \"method\"])\n",
    "           .agg(runs=(\"total_time_sec\", \"count\"),\n",
    "                median_tpf=(\"time_per_frame\", \"median\"))\n",
    "           .reset_index()\n",
    "           .sort_values([\"step\", \"median_tpf\"]))\n",
    "# display(by_step)\n",
    "\n",
    "per_player = (df.groupby([\"player\", \"method\"])\n",
    "              .agg(median_tpf=(\"time_per_frame\", \"median\"),\n",
    "                   mean_tpf=(\"time_per_frame\", \"mean\"))\n",
    "              .reset_index()\n",
    "            )\n",
    "# display(per_player)\n",
    "player_fair = (per_player.groupby(\"method\")[[\"median_tpf\", \"mean_tpf\"]]\n",
    "               .median()\n",
    "               .sort_values(by=\"median_tpf\"))\n",
    "# display(player_fair)\n",
    "\n",
    "\n",
    "q_low, q_high = df[\"time_per_frame\"].quantile([0.05, 0.95])\n",
    "df_trim = df[(df[\"time_per_frame\"].between(q_low, q_high))]\n",
    "\n",
    "pivot_total = pd.pivot_table(\n",
    "    df_trim,\n",
    "    index=[\"step\"],\n",
    "    columns=\"method\",\n",
    "    values=[\"total_time_sec\"],\n",
    "    aggfunc=\"mean\"\n",
    ").round(3)\n",
    "pivot_mean = pd.pivot_table(\n",
    "    df_trim,\n",
    "    index=[\"step\"],\n",
    "    columns=\"method\",\n",
    "    values=[\"time_per_frame\"],\n",
    "    aggfunc=\"mean\"\n",
    ").round(3)\n",
    "display(pivot_total)\n",
    "display(pivot_mean)"
   ]
  },
  {
   "cell_type": "code",
   "execution_count": 92,
   "id": "53e95081",
   "metadata": {},
   "outputs": [
    {
     "data": {
      "image/png": "[encoded data removed]",
      "text/plain": [
       "<Figure size 640x480 with 1 Axes>"
      ]
     },
     "metadata": {},
     "output_type": "display_data"
    },
    {
     "data": {
      "image/png": "[encoded data removed]",
      "text/plain": [
       "<Figure size 640x480 with 1 Axes>"
      ]
     },
     "metadata": {},
     "output_type": "display_data"
    }
   ],
   "source": [
    "import seaborn as sns, matplotlib.pyplot as plt\n",
    "sns.boxplot(data=df, x=\"method\", y=\"time_per_frame\"); plt.xticks(rotation=45); plt.show()\n",
    "sns.scatterplot(data=df, x=\"frames\", y=\"total_time_sec\", hue=\"method\"); plt.show()\n"
   ]
  }
 ],
 "metadata": {
  "kernelspec": {
   "display_name": "venv",
   "language": "python",
   "name": "python3"
  },
  "language_info": {
   "codemirror_mode": {
    "name": "ipython",
    "version": 3
   },
   "file_extension": ".py",
   "mimetype": "text/x-python",
   "name": "python",
   "nbconvert_exporter": "python",
   "pygments_lexer": "ipython3",
   "version": "3.13.0"
  }
 },
 "nbformat": 4,
 "nbformat_minor": 5
}
