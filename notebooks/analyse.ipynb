{
 "cells": [
  {
   "cell_type": "code",
   "execution_count": 5,
   "id": "fb55debe",
   "metadata": {},
   "outputs": [],
   "source": [
    "import pandas as pd\n",
    "import seaborn as sns\n",
    "import matplotlib.pyplot as plt\n",
    "import numpy as np\n",
    "import plotly.express as px\n",
    "import plotly.io as pio\n",
    "import plotly.graph_objects as go\n",
    "from pathlib import Path\n",
    "\n",
    "sns.set(style=\"whitegrid\")\n",
    "BASE_PATH = Path(\"../cache_new/optimization/\")\n",
    "DATASET_PATH = Path(\"../datasets/IDSSE/\")\n",
    "pio.renderers.default = \"vscode\"\n"
   ]
  },
  {
   "cell_type": "code",
   "execution_count": 61,
   "id": "781cdb96",
   "metadata": {},
   "outputs": [],
   "source": [
    "def prepare_data():\n",
    "    csv_files = list(BASE_PATH.rglob(\"*df_reduced.csv\"))\n",
    "    dataframes = []\n",
    "\n",
    "    for file in csv_files:\n",
    "        df = pd.read_csv(file)\n",
    "        parts = file.parts[-6:]\n",
    "        \n",
    "        match_id = parts[0]\n",
    "        step = parts[2]\n",
    "        player = parts[1]\n",
    "        method = parts[3]\n",
    "        parameters = parts[4]\n",
    "\n",
    "        df[\"game_id\"] = match_id\n",
    "        df[\"step\"] = step\n",
    "        df[\"player\"] = player\n",
    "        df[\"method\"] = method\n",
    "        df[\"parameters\"] = parameters\n",
    "        df[\"tuning\"] = method + \"-\" + parameters\n",
    "\n",
    "        dataframes.append(df)\n",
    "\n",
    "    full_df = pd.concat(dataframes, ignore_index=True)\n",
    "    full_df[\"DAS_potential_percentage\"] = np.where(\n",
    "        full_df[\"DAS_potential\"] > 0,\n",
    "        ((full_df[\"DAS\"] - full_df[\"DAS_new\"]) / full_df[\"DAS\"]) * 100,\n",
    "        0.0,\n",
    "    )\n",
    "\n",
    "    return full_df\n",
    "\n",
    "def group_data(full_df):\n",
    "    agg = (\n",
    "        full_df.groupby([\"game_id\", \"player\", \"step\", \"method\", \"parameters\", \"tuning\"]).agg(\n",
    "            DAS_potential=(\"DAS_potential\", \"mean\"),\n",
    "            MAX_DAS_potential=(\"DAS_potential\", \"max\"),\n",
    "            SUM_DAS_potential=(\"DAS_potential\", \"sum\"),\n",
    "            DAS_potential_percentage=(\"DAS_potential_percentage\", \"mean\"),\n",
    "            distance=(\"distance\", \"mean\"),\n",
    "            count=(\"DAS_potential\", \"count\")\n",
    "        )\n",
    "        .reset_index()\n",
    "    )\n",
    "    cond = (\n",
    "        full_df[full_df[\"DAS\"] > 1]\n",
    "        .groupby([\"game_id\", \"player\", \"step\", \"method\", \"parameters\", \"tuning\"])[[\"DAS_potential_percentage\", \"DAS_potential\"]]\n",
    "        .mean()\n",
    "        .reset_index()\n",
    "        .rename(columns={\"DAS_potential_percentage\": \"DAS_potential_percentage_over1\", \"DAS_potential\": \"DAS_potential_over1\"})\n",
    "    )\n",
    "    grouped_df = agg.merge(cond, on=[\"game_id\", \"player\", \"step\", \"method\", \"parameters\", \"tuning\"], how=\"left\")\n",
    "    grouped_df[\"DAS_potential_percentage_over1\"] = grouped_df[\"DAS_potential_percentage_over1\"].fillna(0.0)\n",
    "    grouped_df[\"DAS_potential_over1\"] = grouped_df[\"DAS_potential_over1\"].fillna(0.0)\n",
    "    return grouped_df\n",
    "\n",
    "def add_player_names():\n",
    "    files = list(DATASET_PATH.rglob(\"*players.parquet\"))\n",
    "    dataframes = []\n",
    "    \n",
    "    for file in files:\n",
    "        df = pd.read_parquet(file).copy()\n",
    "        parts = file.parts\n",
    "        game_id = parts[3]\n",
    "        df[\"game_id\"] = game_id\n",
    "        df[\"team\"] = \"home\" if \"home_players\" in parts[4] else \"away\"\n",
    "        df[\"player\"] = df['team'] + \"_\" + df['shirt_num'].astype(str)\n",
    "        dataframes.append(df)\n",
    "    \n",
    "    all_players = pd.concat(dataframes, ignore_index=True)\n",
    "    cols = [\"game_id\", \"id\", \"full_name\", \"player\"]\n",
    "    return all_players[cols].drop_duplicates()\n",
    "    \n",
    "def compare_methods(fair_grouped_df):\n",
    "    fig, axes = plt.subplots(4, 1, figsize=(14, 20), sharex=True)\n",
    "    \n",
    "    sns.boxplot(data=fair_grouped_df,\n",
    "                x=\"tuning\",\n",
    "                y=\"DAS_potential_percentage\",\n",
    "                ax=axes[0]\n",
    "    )\n",
    "    axes[0].set_title(\"Boxplot DAS-Potential (%)\")\n",
    "    axes[0].set_ylabel(\"Verbesserung (%)\")\n",
    "    axes[0].set_xlabel(\"\")\n",
    "    axes[0].tick_params(axis=\"x\", which=\"both\", bottom=False, labelbottom=False)\n",
    "\n",
    "    sns.boxplot(data=fair_grouped_df,\n",
    "                x=\"tuning\",\n",
    "                y=\"DAS_potential\",\n",
    "                ax=axes[1]\n",
    "    )\n",
    "    axes[1].set_title(\"Boxplot DAS-Potential\")\n",
    "    axes[1].set_ylabel(\"Verbesserung\")\n",
    "    axes[1].set_xlabel(\"\")\n",
    "    axes[1].tick_params(axis=\"x\", which=\"both\", bottom=False, labelbottom=False)\n",
    "    \n",
    "    sns.boxplot(data=fair_grouped_df,\n",
    "                x=\"tuning\",\n",
    "                y=\"DAS_potential_percentage_over1\",\n",
    "                ax=axes[2]\n",
    "    )\n",
    "    axes[2].set_title(\"Boxplot DAS-Potential > 1 (%)\")\n",
    "    axes[2].set_ylabel(\"Verbesserung\")\n",
    "    axes[2].tick_params(axis=\"x\", rotation=45)\n",
    "    \n",
    "    sns.boxplot(data=fair_grouped_df,\n",
    "                x=\"tuning\",\n",
    "                y=\"DAS_potential_over1\",\n",
    "                ax=axes[3]\n",
    "    )\n",
    "    axes[3].set_title(\"Boxplot DAS-Potential > 1\")\n",
    "    axes[3].set_ylabel(\"Verbesserung\")\n",
    "    axes[3].tick_params(axis=\"x\", rotation=45)\n",
    "    \n",
    "    fig.suptitle(\"Vergleich der Methoden\", fontsize=16)\n",
    "    fig.tight_layout()\n",
    "    plt.show()\n",
    "\n",
    "def line_players(grouped_df, metric=\"DAS_potential\"):\n",
    "    df = grouped_df.copy()\n",
    "    df[\"game_id\"] = df[\"game_id\"].astype(str)\n",
    "    tunings = df[\"tuning\"].unique()\n",
    "    \n",
    "    fig = go.Figure()\n",
    "    trace_tuning = []\n",
    "    \n",
    "    hovertemplate = (\n",
    "        \"Spiel: %{x}<br>\"\n",
    "        f\"{metric}: \" + \"%{y:.3f}<br>\"\n",
    "        \"count: %{customdata}<extra></extra>\"\n",
    "    )\n",
    "    \n",
    "    for t in tunings:\n",
    "        dft = df[df[\"tuning\"] == t]\n",
    "        for name, g in dft.groupby(\"full_name\"):\n",
    "            fig.add_trace(\n",
    "                go.Scatter(\n",
    "                    x=g[\"game_id\"], y=g[metric],\n",
    "                    mode=\"lines+markers\",\n",
    "                    name=name,\n",
    "                    legendgroup=name,\n",
    "                    showlegend=(t == tunings[0]),\n",
    "                    customdata=g[\"count\"].values,\n",
    "                    hovertemplate=hovertemplate,\n",
    "                    marker=dict(size=6),\n",
    "                    line=dict(width=1)\n",
    "                )\n",
    "            )\n",
    "            trace_tuning.append(t)\n",
    "            \n",
    "    buttons = []\n",
    "    for t in tunings:\n",
    "        visible_mask = [tt == t for tt in trace_tuning]\n",
    "        buttons.append(dict(\n",
    "            label=t,\n",
    "            method=\"update\",\n",
    "            args=[\n",
    "                {\"visible\": visible_mask},\n",
    "                {\"title\": f\"DAS Potential pro Spiel (Tuning: {t})\"}\n",
    "            ]\n",
    "        ))\n",
    "    initial_mask = [tt == tunings[0] for tt in trace_tuning]\n",
    "    fig.update_traces(visible=False)\n",
    "    for i, vis in enumerate(initial_mask):\n",
    "        fig.data[i].visible = vis\n",
    "        \n",
    "    # fig = px.line(\n",
    "    #     grouped_df,\n",
    "    #     x=\"game_id\",\n",
    "    #     y=\"DAS_potential\",\n",
    "    #     color=\"full_name\",\n",
    "    #     markers=True,\n",
    "    #     title=\"DAS Potential pro Spiel\"\n",
    "    # )\n",
    "\n",
    "    \n",
    "    fig.update_layout(\n",
    "        title=f\"DAS Potential pro Spiel (Tuning: {tunings[0]})\",\n",
    "        xaxis_title=\"Spiel\",\n",
    "        yaxis_title=metric,\n",
    "        legend_title=\"Spieler\",\n",
    "        updatemenus=[dict(\n",
    "            type=\"dropdown\",\n",
    "            x=1.1,\n",
    "            y=1.15,\n",
    "            xanchor=\"left\",\n",
    "            buttons=buttons,\n",
    "            active=0\n",
    "        )],\n",
    "        hovermode=\"closest\"\n",
    "    )\n",
    "    fig.show()\n",
    "    \n",
    "def scatter_dist_pot(grouped_df):\n",
    "    plt.figure(figsize=(8,6))\n",
    "    sns.scatterplot(data=grouped_df, x=\"distance\", y=\"DAS_potential_percentage\", hue=\"method\")\n",
    "    plt.title(\"Zusammenhang: Entfernung vs. Potential\")\n",
    "    plt.xlabel(\"Entfernung (m)\")\n",
    "    plt.ylabel(\"DAS_potential_percentage (%)\")\n",
    "    plt.tight_layout()\n",
    "    plt.show()\n",
    "    \n",
    "def facet_grid(grouped_df):\n",
    "    g = sns.FacetGrid(\n",
    "        data=grouped_df,\n",
    "        col=\"game_id\",\n",
    "        hue=\"method\",\n",
    "        sharey=True,\n",
    "        height=4,\n",
    "        aspect=1.5\n",
    "    )\n",
    "    g.map(sns.barplot, \"player\", \"DAS_potential_percentage\", order=sorted(grouped_df[\"player\"].unique()), errorbar=None)\n",
    "    g.add_legend()\n",
    "    g.set_titles(col_template=\"Match: {col_name}\")\n",
    "    g.set_axis_labels(\"Spieler\", \"Verbesserung (%)\")\n",
    "    for ax in g.axes.flat:\n",
    "        ax.tick_params(axis=\"x\", rotation=45)\n",
    "        \n",
    "    plt.tight_layout()\n",
    "    plt.show()\n",
    "    "
   ]
  },
  {
   "cell_type": "code",
   "execution_count": 50,
   "id": "35a941b8",
   "metadata": {},
   "outputs": [
    {
     "data": {
      "text/plain": [
       "(29042, 16)"
      ]
     },
     "metadata": {},
     "output_type": "display_data"
    },
    {
     "data": {
      "application/vnd.microsoft.datawrangler.viewer.v0+json": {
       "columns": [
        {
         "name": "index",
         "rawType": "int64",
         "type": "integer"
        },
        {
         "name": "player_id",
         "rawType": "object",
         "type": "string"
        },
        {
         "name": "frame",
         "rawType": "int64",
         "type": "integer"
        },
        {
         "name": "DAS",
         "rawType": "float64",
         "type": "float"
        },
        {
         "name": "DAS_new",
         "rawType": "float64",
         "type": "float"
        },
        {
         "name": "new_frame",
         "rawType": "object",
         "type": "string"
        },
        {
         "name": "DAS_potential",
         "rawType": "float64",
         "type": "float"
        },
        {
         "name": "move_x",
         "rawType": "float64",
         "type": "float"
        },
        {
         "name": "move_y",
         "rawType": "float64",
         "type": "float"
        },
        {
         "name": "distance",
         "rawType": "float64",
         "type": "float"
        },
        {
         "name": "game_id",
         "rawType": "object",
         "type": "string"
        },
        {
         "name": "step",
         "rawType": "object",
         "type": "string"
        },
        {
         "name": "player",
         "rawType": "object",
         "type": "string"
        },
        {
         "name": "method",
         "rawType": "object",
         "type": "string"
        },
        {
         "name": "parameters",
         "rawType": "object",
         "type": "string"
        },
        {
         "name": "tuning",
         "rawType": "object",
         "type": "string"
        },
        {
         "name": "DAS_potential_percentage",
         "rawType": "float64",
         "type": "float"
        }
       ],
       "ref": "3950ea55-d30d-4069-9f5f-d273f5bf5d01",
       "rows": [
        [
         "0",
         "home_19",
         "160412",
         "0.24402100190626",
         "0.2327512391950002",
         "160412_home_19_-4.00_-2.00",
         "0.0112697627112597",
         "-4.0",
         "-2.0",
         "4.47213595499958",
         "J03WOH",
         "step125",
         "home_19",
         "random",
         "R_5-S_1-D_2-N_20",
         "random-R_5-S_1-D_2-N_20",
         "4.618357691846966"
        ],
        [
         "1",
         "home_19",
         "160728",
         "0.5915251782401425",
         "0.5854071321619118",
         "160728_home_19_-4.00_0.00",
         "0.0061180460782307",
         "-4.0",
         "0.0",
         "4.0",
         "J03WOH",
         "step125",
         "home_19",
         "random",
         "R_5-S_1-D_2-N_20",
         "random-R_5-S_1-D_2-N_20",
         "1.0342832906001829"
        ],
        [
         "2",
         "home_19",
         "160887",
         "1.9646076115001276",
         "1.917561325269127",
         "160887_home_19_-2.00_4.00",
         "0.0470462862310003",
         "-2.0",
         "4.0",
         "4.47213595499958",
         "J03WOH",
         "step125",
         "home_19",
         "random",
         "R_5-S_1-D_2-N_20",
         "random-R_5-S_1-D_2-N_20",
         "2.394691232773815"
        ],
        [
         "3",
         "home_19",
         "164080",
         "0.0207537783360861",
         "0.0207257159010353",
         "164080_home_19_-4.00_1.00",
         "2.806243505087957e-05",
         "-4.0",
         "1.0",
         "4.123105625617661",
         "J03WOH",
         "step125",
         "home_19",
         "random",
         "R_5-S_1-D_2-N_20",
         "random-R_5-S_1-D_2-N_20",
         "0.13521602956511097"
        ],
        [
         "4",
         "home_19",
         "164747",
         "0.1403226953580471",
         "0.1392909435213183",
         "164747_home_19_-3.00_-1.00",
         "0.0010317518367288",
         "-3.0",
         "-1.0",
         "3.1622776601683795",
         "J03WOH",
         "step125",
         "home_19",
         "random",
         "R_5-S_1-D_2-N_20",
         "random-R_5-S_1-D_2-N_20",
         "0.7352708227961122"
        ],
        [
         "5",
         "home_28",
         "160412",
         "0.24402100190626",
         "0.1500609847735962",
         "160412_home_28_-2.00_-4.00",
         "0.0939600171326637",
         "-2.0",
         "-4.0",
         "4.47213595499958",
         "J03WOH",
         "step125",
         "home_28",
         "random",
         "R_5-S_1-D_2-N_20",
         "random-R_5-S_1-D_2-N_20",
         "38.50488949666647"
        ],
        [
         "6",
         "home_28",
         "160728",
         "0.5915251782401425",
         "0.5714534327781013",
         "160728_home_28_-4.00_-1.00",
         "0.0200717454620411",
         "-4.0",
         "-1.0",
         "4.123105625617661",
         "J03WOH",
         "step125",
         "home_28",
         "random",
         "R_5-S_1-D_2-N_20",
         "random-R_5-S_1-D_2-N_20",
         "3.393219122431437"
        ],
        [
         "7",
         "home_28",
         "160887",
         "1.9646076115001276",
         "1.8745804608140173",
         "160887_home_28_-4.00_3.00",
         "0.0900271506861098",
         "-4.0",
         "3.0",
         "5.0",
         "J03WOH",
         "step125",
         "home_28",
         "random",
         "R_5-S_1-D_2-N_20",
         "random-R_5-S_1-D_2-N_20",
         "4.582449449911667"
        ],
        [
         "8",
         "home_28",
         "164080",
         "0.0207537783360861",
         "0.020797668856487",
         "164080_home_28_-4.00_0.00",
         "0.0",
         "-4.0",
         "0.0",
         "4.0",
         "J03WOH",
         "step125",
         "home_28",
         "random",
         "R_5-S_1-D_2-N_20",
         "random-R_5-S_1-D_2-N_20",
         "0.0"
        ],
        [
         "9",
         "home_28",
         "164747",
         "0.1403226953580471",
         "0.1240086431135832",
         "164747_home_28_-3.00_-2.00",
         "0.0163140522444638",
         "-3.0",
         "-2.0",
         "3.605551275463989",
         "J03WOH",
         "step125",
         "home_28",
         "random",
         "R_5-S_1-D_2-N_20",
         "random-R_5-S_1-D_2-N_20",
         "11.626096692938365"
        ],
        [
         "10",
         "home_10",
         "10056",
         "0.2736999183204355",
         "0.2096478200106261",
         "10056_home_10_-3.00_4.00",
         "0.0640520983098093",
         "-3.0",
         "4.0",
         "5.0",
         "J03WOH",
         "step125",
         "home_10",
         "random",
         "R_5-S_1-D_2-N_20",
         "random-R_5-S_1-D_2-N_20",
         "23.40230815663602"
        ],
        [
         "11",
         "home_10",
         "16835",
         "0.2296091663329403",
         "0.2208844281482094",
         "16835_home_10_-4.00_2.00",
         "0.0087247381847309",
         "-4.0",
         "2.0",
         "4.47213595499958",
         "J03WOH",
         "step125",
         "home_10",
         "random",
         "R_5-S_1-D_2-N_20",
         "random-R_5-S_1-D_2-N_20",
         "3.7998213765036466"
        ],
        [
         "12",
         "home_10",
         "17986",
         "14.058229671144934",
         "14.054686199847543",
         "17986_home_10_-4.00_0.00",
         "0.0035434712973891",
         "-4.0",
         "0.0",
         "4.0",
         "J03WOH",
         "step125",
         "home_10",
         "random",
         "R_5-S_1-D_2-N_20",
         "random-R_5-S_1-D_2-N_20",
         "0.02520567226657336"
        ],
        [
         "13",
         "home_10",
         "23551",
         "0.5864880466907406",
         "0.5821390950098992",
         "23551_home_10_-2.00_-4.00",
         "0.0043489516808413",
         "-2.0",
         "-4.0",
         "4.47213595499958",
         "J03WOH",
         "step125",
         "home_10",
         "random",
         "R_5-S_1-D_2-N_20",
         "random-R_5-S_1-D_2-N_20",
         "0.7415243508167536"
        ],
        [
         "14",
         "home_10",
         "23777",
         "0.1123927308172209",
         "0.1152608129846014",
         "23777_home_10_1.00_2.00",
         "0.0",
         "1.0",
         "2.0",
         "2.23606797749979",
         "J03WOH",
         "step125",
         "home_10",
         "random",
         "R_5-S_1-D_2-N_20",
         "random-R_5-S_1-D_2-N_20",
         "0.0"
        ],
        [
         "15",
         "home_10",
         "24490",
         "0.0016982341858222",
         "0.0014599827955825",
         "24490_home_10_-4.00_-1.00",
         "0.0002382513902396",
         "-4.0",
         "-1.0",
         "4.123105625617661",
         "J03WOH",
         "step125",
         "home_10",
         "random",
         "R_5-S_1-D_2-N_20",
         "random-R_5-S_1-D_2-N_20",
         "14.029360157082849"
        ],
        [
         "16",
         "home_10",
         "24615",
         "0.0029263390744279",
         "0.0025466953436039",
         "24615_home_10_-3.00_2.00",
         "0.0003796437308239",
         "-3.0",
         "2.0",
         "3.605551275463989",
         "J03WOH",
         "step125",
         "home_10",
         "random",
         "R_5-S_1-D_2-N_20",
         "random-R_5-S_1-D_2-N_20",
         "12.97333361473911"
        ],
        [
         "17",
         "home_10",
         "24740",
         "0.0094722715029387",
         "0.0081672095350536",
         "24740_home_10_-2.00_-1.00",
         "0.001305061967885",
         "-2.0",
         "-1.0",
         "2.23606797749979",
         "J03WOH",
         "step125",
         "home_10",
         "random",
         "R_5-S_1-D_2-N_20",
         "random-R_5-S_1-D_2-N_20",
         "13.777708625435983"
        ],
        [
         "18",
         "home_10",
         "25422",
         "0.161649422347315",
         "0.1526948808818844",
         "25422_home_10_3.00_2.00",
         "0.0089545414654305",
         "3.0",
         "2.0",
         "3.605551275463989",
         "J03WOH",
         "step125",
         "home_10",
         "random",
         "R_5-S_1-D_2-N_20",
         "random-R_5-S_1-D_2-N_20",
         "5.5394825019486555"
        ],
        [
         "19",
         "home_10",
         "25902",
         "0.0329167831027676",
         "0.0317787851028324",
         "25902_home_10_2.00_-3.00",
         "0.0011379979999351",
         "2.0",
         "-3.0",
         "3.605551275463989",
         "J03WOH",
         "step125",
         "home_10",
         "random",
         "R_5-S_1-D_2-N_20",
         "random-R_5-S_1-D_2-N_20",
         "3.4571968845871743"
        ],
        [
         "20",
         "home_10",
         "26066",
         "0.0898179604664272",
         "0.0889749791853853",
         "26066_home_10_-4.00_-2.00",
         "0.0008429812810418",
         "-4.0",
         "-2.0",
         "4.47213595499958",
         "J03WOH",
         "step125",
         "home_10",
         "random",
         "R_5-S_1-D_2-N_20",
         "random-R_5-S_1-D_2-N_20",
         "0.9385442250795709"
        ],
        [
         "21",
         "home_10",
         "26233",
         "1.1085306190076043",
         "1.1085563386031403",
         "26233_home_10_-2.00_2.00",
         "0.0",
         "-2.0",
         "2.0",
         "2.8284271247461903",
         "J03WOH",
         "step125",
         "home_10",
         "random",
         "R_5-S_1-D_2-N_20",
         "random-R_5-S_1-D_2-N_20",
         "0.0"
        ],
        [
         "22",
         "home_10",
         "26429",
         "0.7935810932484828",
         "0.7916665320537407",
         "26429_home_10_0.00_4.00",
         "0.001914561194742",
         "0.0",
         "4.0",
         "4.0",
         "J03WOH",
         "step125",
         "home_10",
         "random",
         "R_5-S_1-D_2-N_20",
         "random-R_5-S_1-D_2-N_20",
         "0.24125589823529395"
        ],
        [
         "23",
         "home_10",
         "26788",
         "0.055929491604296",
         "0.0472875908761137",
         "26788_home_10_4.00_-1.00",
         "0.0086419007281822",
         "4.0",
         "-1.0",
         "4.123105625617661",
         "J03WOH",
         "step125",
         "home_10",
         "random",
         "R_5-S_1-D_2-N_20",
         "random-R_5-S_1-D_2-N_20",
         "15.451420136846922"
        ],
        [
         "24",
         "home_10",
         "26999",
         "0.0104316411415911",
         "0.0100803236492294",
         "26999_home_10_0.00_-1.00",
         "0.0003513174923617",
         "0.0",
         "-1.0",
         "1.0",
         "J03WOH",
         "step125",
         "home_10",
         "random",
         "R_5-S_1-D_2-N_20",
         "random-R_5-S_1-D_2-N_20",
         "3.3678065377555266"
        ],
        [
         "25",
         "home_10",
         "32094",
         "0.089295076173501",
         "0.089194159048425",
         "32094_home_10_-4.00_1.00",
         "0.0001009171250759",
         "-4.0",
         "1.0",
         "4.123105625617661",
         "J03WOH",
         "step125",
         "home_10",
         "random",
         "R_5-S_1-D_2-N_20",
         "random-R_5-S_1-D_2-N_20",
         "0.11301533007254318"
        ],
        [
         "26",
         "home_10",
         "33140",
         "0.0027278915559998",
         "0.0027287198705507",
         "33140_home_10_0.00_-5.00",
         "0.0",
         "0.0",
         "-5.0",
         "5.0",
         "J03WOH",
         "step125",
         "home_10",
         "random",
         "R_5-S_1-D_2-N_20",
         "random-R_5-S_1-D_2-N_20",
         "0.0"
        ],
        [
         "27",
         "home_10",
         "35248",
         "0.0127443476394185",
         "0.0086534307457044",
         "35248_home_10_-3.00_-4.00",
         "0.0040909168937141",
         "-3.0",
         "-4.0",
         "5.0",
         "J03WOH",
         "step125",
         "home_10",
         "random",
         "R_5-S_1-D_2-N_20",
         "random-R_5-S_1-D_2-N_20",
         "32.099853279745915"
        ],
        [
         "28",
         "home_10",
         "39647",
         "0.008426279606297",
         "0.0083449489586003",
         "39647_home_10_-4.00_-2.00",
         "8.13306476966924e-05",
         "-4.0",
         "-2.0",
         "4.47213595499958",
         "J03WOH",
         "step125",
         "home_10",
         "random",
         "R_5-S_1-D_2-N_20",
         "random-R_5-S_1-D_2-N_20",
         "0.9652023371728882"
        ],
        [
         "29",
         "home_10",
         "40626",
         "1.9300806834143065",
         "1.8867226894664468",
         "40626_home_10_-3.00_4.00",
         "0.0433579939478596",
         "-3.0",
         "4.0",
         "5.0",
         "J03WOH",
         "step125",
         "home_10",
         "random",
         "R_5-S_1-D_2-N_20",
         "random-R_5-S_1-D_2-N_20",
         "2.246434271916525"
        ],
        [
         "30",
         "home_10",
         "42447",
         "3.6999545518936943",
         "3.678874464572705",
         "42447_home_10_-3.00_-3.00",
         "0.021080087320989",
         "-3.0",
         "-3.0",
         "4.242640687119285",
         "J03WOH",
         "step125",
         "home_10",
         "random",
         "R_5-S_1-D_2-N_20",
         "random-R_5-S_1-D_2-N_20",
         "0.5697390880166346"
        ],
        [
         "31",
         "home_10",
         "42852",
         "0.0079718407698085",
         "0.0078526972324901",
         "42852_home_10_2.00_-4.00",
         "0.0001191435373183",
         "2.0",
         "-4.0",
         "4.47213595499958",
         "J03WOH",
         "step125",
         "home_10",
         "random",
         "R_5-S_1-D_2-N_20",
         "random-R_5-S_1-D_2-N_20",
         "1.4945549059337557"
        ],
        [
         "32",
         "home_10",
         "44090",
         "0.4465531743799378",
         "0.3978066367321746",
         "44090_home_10_-4.00_-3.00",
         "0.0487465376477631",
         "-4.0",
         "-3.0",
         "5.0",
         "J03WOH",
         "step125",
         "home_10",
         "random",
         "R_5-S_1-D_2-N_20",
         "random-R_5-S_1-D_2-N_20",
         "10.9161776120952"
        ],
        [
         "33",
         "home_10",
         "44559",
         "0.4714681794439252",
         "0.4662422801413453",
         "44559_home_10_-5.00_0.00",
         "0.0052258993025798",
         "-5.0",
         "0.0",
         "5.0",
         "J03WOH",
         "step125",
         "home_10",
         "random",
         "R_5-S_1-D_2-N_20",
         "random-R_5-S_1-D_2-N_20",
         "1.1084309674395512"
        ],
        [
         "34",
         "home_10",
         "46039",
         "5.631665235765533",
         "5.515108895490472",
         "46039_home_10_0.00_-1.00",
         "0.1165563402750615",
         "0.0",
         "-1.0",
         "1.0",
         "J03WOH",
         "step125",
         "home_10",
         "random",
         "R_5-S_1-D_2-N_20",
         "random-R_5-S_1-D_2-N_20",
         "2.0696603117464534"
        ],
        [
         "35",
         "home_10",
         "46253",
         "1.8174383893885897",
         "1.7712585671807644",
         "46253_home_10_-5.00_0.00",
         "0.0461798222078253",
         "-5.0",
         "0.0",
         "5.0",
         "J03WOH",
         "step125",
         "home_10",
         "random",
         "R_5-S_1-D_2-N_20",
         "random-R_5-S_1-D_2-N_20",
         "2.5409291713795508"
        ],
        [
         "36",
         "home_10",
         "47388",
         "0.2839545026236997",
         "0.2835984560157142",
         "47388_home_10_-3.00_1.00",
         "0.0003560466079854",
         "-3.0",
         "1.0",
         "3.1622776601683795",
         "J03WOH",
         "step125",
         "home_10",
         "random",
         "R_5-S_1-D_2-N_20",
         "random-R_5-S_1-D_2-N_20",
         "0.12538861144855018"
        ],
        [
         "37",
         "home_10",
         "49365",
         "0.0259003820249814",
         "0.020138498922231",
         "49365_home_10_-2.00_4.00",
         "0.0057618831027504",
         "-2.0",
         "4.0",
         "4.47213595499958",
         "J03WOH",
         "step125",
         "home_10",
         "random",
         "R_5-S_1-D_2-N_20",
         "random-R_5-S_1-D_2-N_20",
         "22.246324773097765"
        ],
        [
         "38",
         "home_10",
         "51616",
         "0.0105023975276587",
         "0.0093089978414145",
         "51616_home_10_-4.00_-2.00",
         "0.0011933996862441",
         "-4.0",
         "-2.0",
         "4.47213595499958",
         "J03WOH",
         "step125",
         "home_10",
         "random",
         "R_5-S_1-D_2-N_20",
         "random-R_5-S_1-D_2-N_20",
         "11.363116689320792"
        ],
        [
         "39",
         "home_10",
         "51872",
         "0.0227194150294834",
         "0.0202565193430094",
         "51872_home_10_-4.00_3.00",
         "0.002462895686474",
         "-4.0",
         "3.0",
         "5.0",
         "J03WOH",
         "step125",
         "home_10",
         "random",
         "R_5-S_1-D_2-N_20",
         "random-R_5-S_1-D_2-N_20",
         "10.840488997088427"
        ],
        [
         "40",
         "home_10",
         "53929",
         "0.0030462354280975",
         "0.0024787028673458",
         "53929_home_10_0.00_5.00",
         "0.0005675325607516",
         "0.0",
         "5.0",
         "5.0",
         "J03WOH",
         "step125",
         "home_10",
         "random",
         "R_5-S_1-D_2-N_20",
         "random-R_5-S_1-D_2-N_20",
         "18.630620454248596"
        ],
        [
         "41",
         "home_10",
         "54097",
         "0.0483903255895881",
         "0.0483649112446761",
         "54097_home_10_-3.00_2.00",
         "2.541434491194761e-05",
         "-3.0",
         "2.0",
         "3.605551275463989",
         "J03WOH",
         "step125",
         "home_10",
         "random",
         "R_5-S_1-D_2-N_20",
         "random-R_5-S_1-D_2-N_20",
         "0.05251947492054994"
        ],
        [
         "42",
         "home_10",
         "54270",
         "5.56868703801969",
         "5.5649774150964975",
         "54270_home_10_-5.00_0.00",
         "0.0037096229231927",
         "-5.0",
         "0.0",
         "5.0",
         "J03WOH",
         "step125",
         "home_10",
         "random",
         "R_5-S_1-D_2-N_20",
         "random-R_5-S_1-D_2-N_20",
         "0.06661575516572693"
        ],
        [
         "43",
         "home_10",
         "56509",
         "0.8347828682215512",
         "0.791334618151011",
         "56509_home_10_-4.00_2.00",
         "0.0434482500705402",
         "-4.0",
         "2.0",
         "4.47213595499958",
         "J03WOH",
         "step125",
         "home_10",
         "random",
         "R_5-S_1-D_2-N_20",
         "random-R_5-S_1-D_2-N_20",
         "5.2047366715974634"
        ],
        [
         "44",
         "home_10",
         "56878",
         "4.119044151315701",
         "4.060799032897222",
         "56878_home_10_-4.00_-2.00",
         "0.0582451184184789",
         "-4.0",
         "-2.0",
         "4.47213595499958",
         "J03WOH",
         "step125",
         "home_10",
         "random",
         "R_5-S_1-D_2-N_20",
         "random-R_5-S_1-D_2-N_20",
         "1.4140445277789582"
        ],
        [
         "45",
         "home_10",
         "62918",
         "0.1045655876816087",
         "0.0865771539314928",
         "62918_home_10_-4.00_1.00",
         "0.0179884337501159",
         "-4.0",
         "1.0",
         "4.123105625617661",
         "J03WOH",
         "step125",
         "home_10",
         "random",
         "R_5-S_1-D_2-N_20",
         "random-R_5-S_1-D_2-N_20",
         "17.203015015694074"
        ],
        [
         "46",
         "home_10",
         "63503",
         "0.4831582552945708",
         "0.462344426226578",
         "63503_home_10_-4.00_-2.00",
         "0.0208138290679927",
         "-4.0",
         "-2.0",
         "4.47213595499958",
         "J03WOH",
         "step125",
         "home_10",
         "random",
         "R_5-S_1-D_2-N_20",
         "random-R_5-S_1-D_2-N_20",
         "4.307869903889578"
        ],
        [
         "47",
         "home_10",
         "63663",
         "7.53621188406457",
         "7.52749525718164",
         "63663_home_10_-4.00_-1.00",
         "0.0087166268829292",
         "-4.0",
         "-1.0",
         "4.123105625617661",
         "J03WOH",
         "step125",
         "home_10",
         "random",
         "R_5-S_1-D_2-N_20",
         "random-R_5-S_1-D_2-N_20",
         "0.11566324059122611"
        ],
        [
         "48",
         "home_10",
         "64387",
         "13.095484015818634",
         "13.081300153799932",
         "64387_home_10_-4.00_-3.00",
         "0.0141838620187009",
         "-4.0",
         "-3.0",
         "5.0",
         "J03WOH",
         "step125",
         "home_10",
         "random",
         "R_5-S_1-D_2-N_20",
         "random-R_5-S_1-D_2-N_20",
         "0.10831109412656578"
        ],
        [
         "49",
         "home_10",
         "65293",
         "1.3092599086074603",
         "1.2410830192330724",
         "65293_home_10_-3.00_-3.00",
         "0.0681768893743879",
         "-3.0",
         "-3.0",
         "4.242640687119285",
         "J03WOH",
         "step125",
         "home_10",
         "random",
         "R_5-S_1-D_2-N_20",
         "random-R_5-S_1-D_2-N_20",
         "5.207284583158239"
        ]
       ],
       "shape": {
        "columns": 16,
        "rows": 29042
       }
      },
      "text/html": [
       "<div>\n",
       "<style scoped>\n",
       "    .dataframe tbody tr th:only-of-type {\n",
       "        vertical-align: middle;\n",
       "    }\n",
       "\n",
       "    .dataframe tbody tr th {\n",
       "        vertical-align: top;\n",
       "    }\n",
       "\n",
       "    .dataframe thead th {\n",
       "        text-align: right;\n",
       "    }\n",
       "</style>\n",
       "<table border=\"1\" class=\"dataframe\">\n",
       "  <thead>\n",
       "    <tr style=\"text-align: right;\">\n",
       "      <th></th>\n",
       "      <th>player_id</th>\n",
       "      <th>frame</th>\n",
       "      <th>DAS</th>\n",
       "      <th>DAS_new</th>\n",
       "      <th>new_frame</th>\n",
       "      <th>DAS_potential</th>\n",
       "      <th>move_x</th>\n",
       "      <th>move_y</th>\n",
       "      <th>distance</th>\n",
       "      <th>game_id</th>\n",
       "      <th>step</th>\n",
       "      <th>player</th>\n",
       "      <th>method</th>\n",
       "      <th>parameters</th>\n",
       "      <th>tuning</th>\n",
       "      <th>DAS_potential_percentage</th>\n",
       "    </tr>\n",
       "  </thead>\n",
       "  <tbody>\n",
       "    <tr>\n",
       "      <th>0</th>\n",
       "      <td>home_19</td>\n",
       "      <td>160412</td>\n",
       "      <td>0.244021</td>\n",
       "      <td>0.232751</td>\n",
       "      <td>160412_home_19_-4.00_-2.00</td>\n",
       "      <td>0.011270</td>\n",
       "      <td>-4.0</td>\n",
       "      <td>-2.0</td>\n",
       "      <td>4.472136</td>\n",
       "      <td>J03WOH</td>\n",
       "      <td>step125</td>\n",
       "      <td>home_19</td>\n",
       "      <td>random</td>\n",
       "      <td>R_5-S_1-D_2-N_20</td>\n",
       "      <td>random-R_5-S_1-D_2-N_20</td>\n",
       "      <td>4.618358</td>\n",
       "    </tr>\n",
       "    <tr>\n",
       "      <th>1</th>\n",
       "      <td>home_19</td>\n",
       "      <td>160728</td>\n",
       "      <td>0.591525</td>\n",
       "      <td>0.585407</td>\n",
       "      <td>160728_home_19_-4.00_0.00</td>\n",
       "      <td>0.006118</td>\n",
       "      <td>-4.0</td>\n",
       "      <td>0.0</td>\n",
       "      <td>4.000000</td>\n",
       "      <td>J03WOH</td>\n",
       "      <td>step125</td>\n",
       "      <td>home_19</td>\n",
       "      <td>random</td>\n",
       "      <td>R_5-S_1-D_2-N_20</td>\n",
       "      <td>random-R_5-S_1-D_2-N_20</td>\n",
       "      <td>1.034283</td>\n",
       "    </tr>\n",
       "    <tr>\n",
       "      <th>2</th>\n",
       "      <td>home_19</td>\n",
       "      <td>160887</td>\n",
       "      <td>1.964608</td>\n",
       "      <td>1.917561</td>\n",
       "      <td>160887_home_19_-2.00_4.00</td>\n",
       "      <td>0.047046</td>\n",
       "      <td>-2.0</td>\n",
       "      <td>4.0</td>\n",
       "      <td>4.472136</td>\n",
       "      <td>J03WOH</td>\n",
       "      <td>step125</td>\n",
       "      <td>home_19</td>\n",
       "      <td>random</td>\n",
       "      <td>R_5-S_1-D_2-N_20</td>\n",
       "      <td>random-R_5-S_1-D_2-N_20</td>\n",
       "      <td>2.394691</td>\n",
       "    </tr>\n",
       "    <tr>\n",
       "      <th>3</th>\n",
       "      <td>home_19</td>\n",
       "      <td>164080</td>\n",
       "      <td>0.020754</td>\n",
       "      <td>0.020726</td>\n",
       "      <td>164080_home_19_-4.00_1.00</td>\n",
       "      <td>0.000028</td>\n",
       "      <td>-4.0</td>\n",
       "      <td>1.0</td>\n",
       "      <td>4.123106</td>\n",
       "      <td>J03WOH</td>\n",
       "      <td>step125</td>\n",
       "      <td>home_19</td>\n",
       "      <td>random</td>\n",
       "      <td>R_5-S_1-D_2-N_20</td>\n",
       "      <td>random-R_5-S_1-D_2-N_20</td>\n",
       "      <td>0.135216</td>\n",
       "    </tr>\n",
       "    <tr>\n",
       "      <th>4</th>\n",
       "      <td>home_19</td>\n",
       "      <td>164747</td>\n",
       "      <td>0.140323</td>\n",
       "      <td>0.139291</td>\n",
       "      <td>164747_home_19_-3.00_-1.00</td>\n",
       "      <td>0.001032</td>\n",
       "      <td>-3.0</td>\n",
       "      <td>-1.0</td>\n",
       "      <td>3.162278</td>\n",
       "      <td>J03WOH</td>\n",
       "      <td>step125</td>\n",
       "      <td>home_19</td>\n",
       "      <td>random</td>\n",
       "      <td>R_5-S_1-D_2-N_20</td>\n",
       "      <td>random-R_5-S_1-D_2-N_20</td>\n",
       "      <td>0.735271</td>\n",
       "    </tr>\n",
       "    <tr>\n",
       "      <th>...</th>\n",
       "      <td>...</td>\n",
       "      <td>...</td>\n",
       "      <td>...</td>\n",
       "      <td>...</td>\n",
       "      <td>...</td>\n",
       "      <td>...</td>\n",
       "      <td>...</td>\n",
       "      <td>...</td>\n",
       "      <td>...</td>\n",
       "      <td>...</td>\n",
       "      <td>...</td>\n",
       "      <td>...</td>\n",
       "      <td>...</td>\n",
       "      <td>...</td>\n",
       "      <td>...</td>\n",
       "      <td>...</td>\n",
       "    </tr>\n",
       "    <tr>\n",
       "      <th>29037</th>\n",
       "      <td>home_31</td>\n",
       "      <td>158123</td>\n",
       "      <td>2.387345</td>\n",
       "      <td>2.142135</td>\n",
       "      <td>158123_home_31_-1.00_-3.00</td>\n",
       "      <td>0.245209</td>\n",
       "      <td>-1.0</td>\n",
       "      <td>-3.0</td>\n",
       "      <td>3.162278</td>\n",
       "      <td>J03WN1</td>\n",
       "      <td>step125</td>\n",
       "      <td>home_31</td>\n",
       "      <td>random</td>\n",
       "      <td>R_5-S_1-D_2-N_20</td>\n",
       "      <td>random-R_5-S_1-D_2-N_20</td>\n",
       "      <td>10.271214</td>\n",
       "    </tr>\n",
       "    <tr>\n",
       "      <th>29038</th>\n",
       "      <td>home_31</td>\n",
       "      <td>159791</td>\n",
       "      <td>0.004201</td>\n",
       "      <td>0.004169</td>\n",
       "      <td>159791_home_31_4.00_-2.00</td>\n",
       "      <td>0.000031</td>\n",
       "      <td>4.0</td>\n",
       "      <td>-2.0</td>\n",
       "      <td>4.472136</td>\n",
       "      <td>J03WN1</td>\n",
       "      <td>step125</td>\n",
       "      <td>home_31</td>\n",
       "      <td>random</td>\n",
       "      <td>R_5-S_1-D_2-N_20</td>\n",
       "      <td>random-R_5-S_1-D_2-N_20</td>\n",
       "      <td>0.740253</td>\n",
       "    </tr>\n",
       "    <tr>\n",
       "      <th>29039</th>\n",
       "      <td>home_31</td>\n",
       "      <td>166506</td>\n",
       "      <td>0.246944</td>\n",
       "      <td>0.241663</td>\n",
       "      <td>166506_home_31_4.00_0.00</td>\n",
       "      <td>0.005282</td>\n",
       "      <td>4.0</td>\n",
       "      <td>0.0</td>\n",
       "      <td>4.000000</td>\n",
       "      <td>J03WN1</td>\n",
       "      <td>step125</td>\n",
       "      <td>home_31</td>\n",
       "      <td>random</td>\n",
       "      <td>R_5-S_1-D_2-N_20</td>\n",
       "      <td>random-R_5-S_1-D_2-N_20</td>\n",
       "      <td>2.138825</td>\n",
       "    </tr>\n",
       "    <tr>\n",
       "      <th>29040</th>\n",
       "      <td>home_31</td>\n",
       "      <td>168445</td>\n",
       "      <td>0.367376</td>\n",
       "      <td>0.363733</td>\n",
       "      <td>168445_home_31_0.00_-5.00</td>\n",
       "      <td>0.003643</td>\n",
       "      <td>0.0</td>\n",
       "      <td>-5.0</td>\n",
       "      <td>5.000000</td>\n",
       "      <td>J03WN1</td>\n",
       "      <td>step125</td>\n",
       "      <td>home_31</td>\n",
       "      <td>random</td>\n",
       "      <td>R_5-S_1-D_2-N_20</td>\n",
       "      <td>random-R_5-S_1-D_2-N_20</td>\n",
       "      <td>0.991750</td>\n",
       "    </tr>\n",
       "    <tr>\n",
       "      <th>29041</th>\n",
       "      <td>home_31</td>\n",
       "      <td>170948</td>\n",
       "      <td>11.899525</td>\n",
       "      <td>12.172492</td>\n",
       "      <td>170948_home_31_-4.00_3.00</td>\n",
       "      <td>0.000000</td>\n",
       "      <td>-4.0</td>\n",
       "      <td>3.0</td>\n",
       "      <td>5.000000</td>\n",
       "      <td>J03WN1</td>\n",
       "      <td>step125</td>\n",
       "      <td>home_31</td>\n",
       "      <td>random</td>\n",
       "      <td>R_5-S_1-D_2-N_20</td>\n",
       "      <td>random-R_5-S_1-D_2-N_20</td>\n",
       "      <td>0.000000</td>\n",
       "    </tr>\n",
       "  </tbody>\n",
       "</table>\n",
       "<p>29042 rows × 16 columns</p>\n",
       "</div>"
      ],
      "text/plain": [
       "      player_id   frame        DAS    DAS_new                   new_frame  \\\n",
       "0       home_19  160412   0.244021   0.232751  160412_home_19_-4.00_-2.00   \n",
       "1       home_19  160728   0.591525   0.585407   160728_home_19_-4.00_0.00   \n",
       "2       home_19  160887   1.964608   1.917561   160887_home_19_-2.00_4.00   \n",
       "3       home_19  164080   0.020754   0.020726   164080_home_19_-4.00_1.00   \n",
       "4       home_19  164747   0.140323   0.139291  164747_home_19_-3.00_-1.00   \n",
       "...         ...     ...        ...        ...                         ...   \n",
       "29037   home_31  158123   2.387345   2.142135  158123_home_31_-1.00_-3.00   \n",
       "29038   home_31  159791   0.004201   0.004169   159791_home_31_4.00_-2.00   \n",
       "29039   home_31  166506   0.246944   0.241663    166506_home_31_4.00_0.00   \n",
       "29040   home_31  168445   0.367376   0.363733   168445_home_31_0.00_-5.00   \n",
       "29041   home_31  170948  11.899525  12.172492   170948_home_31_-4.00_3.00   \n",
       "\n",
       "       DAS_potential  move_x  move_y  distance game_id     step   player  \\\n",
       "0           0.011270    -4.0    -2.0  4.472136  J03WOH  step125  home_19   \n",
       "1           0.006118    -4.0     0.0  4.000000  J03WOH  step125  home_19   \n",
       "2           0.047046    -2.0     4.0  4.472136  J03WOH  step125  home_19   \n",
       "3           0.000028    -4.0     1.0  4.123106  J03WOH  step125  home_19   \n",
       "4           0.001032    -3.0    -1.0  3.162278  J03WOH  step125  home_19   \n",
       "...              ...     ...     ...       ...     ...      ...      ...   \n",
       "29037       0.245209    -1.0    -3.0  3.162278  J03WN1  step125  home_31   \n",
       "29038       0.000031     4.0    -2.0  4.472136  J03WN1  step125  home_31   \n",
       "29039       0.005282     4.0     0.0  4.000000  J03WN1  step125  home_31   \n",
       "29040       0.003643     0.0    -5.0  5.000000  J03WN1  step125  home_31   \n",
       "29041       0.000000    -4.0     3.0  5.000000  J03WN1  step125  home_31   \n",
       "\n",
       "       method        parameters                   tuning  \\\n",
       "0      random  R_5-S_1-D_2-N_20  random-R_5-S_1-D_2-N_20   \n",
       "1      random  R_5-S_1-D_2-N_20  random-R_5-S_1-D_2-N_20   \n",
       "2      random  R_5-S_1-D_2-N_20  random-R_5-S_1-D_2-N_20   \n",
       "3      random  R_5-S_1-D_2-N_20  random-R_5-S_1-D_2-N_20   \n",
       "4      random  R_5-S_1-D_2-N_20  random-R_5-S_1-D_2-N_20   \n",
       "...       ...               ...                      ...   \n",
       "29037  random  R_5-S_1-D_2-N_20  random-R_5-S_1-D_2-N_20   \n",
       "29038  random  R_5-S_1-D_2-N_20  random-R_5-S_1-D_2-N_20   \n",
       "29039  random  R_5-S_1-D_2-N_20  random-R_5-S_1-D_2-N_20   \n",
       "29040  random  R_5-S_1-D_2-N_20  random-R_5-S_1-D_2-N_20   \n",
       "29041  random  R_5-S_1-D_2-N_20  random-R_5-S_1-D_2-N_20   \n",
       "\n",
       "       DAS_potential_percentage  \n",
       "0                      4.618358  \n",
       "1                      1.034283  \n",
       "2                      2.394691  \n",
       "3                      0.135216  \n",
       "4                      0.735271  \n",
       "...                         ...  \n",
       "29037                 10.271214  \n",
       "29038                  0.740253  \n",
       "29039                  2.138825  \n",
       "29040                  0.991750  \n",
       "29041                  0.000000  \n",
       "\n",
       "[29042 rows x 16 columns]"
      ]
     },
     "metadata": {},
     "output_type": "display_data"
    },
    {
     "data": {
      "text/plain": [
       "(244, 14)"
      ]
     },
     "metadata": {},
     "output_type": "display_data"
    },
    {
     "data": {
      "application/vnd.microsoft.datawrangler.viewer.v0+json": {
       "columns": [
        {
         "name": "index",
         "rawType": "int64",
         "type": "integer"
        },
        {
         "name": "game_id",
         "rawType": "object",
         "type": "string"
        },
        {
         "name": "player",
         "rawType": "object",
         "type": "string"
        },
        {
         "name": "step",
         "rawType": "object",
         "type": "string"
        },
        {
         "name": "method",
         "rawType": "object",
         "type": "string"
        },
        {
         "name": "parameters",
         "rawType": "object",
         "type": "string"
        },
        {
         "name": "tuning",
         "rawType": "object",
         "type": "string"
        },
        {
         "name": "DAS_potential",
         "rawType": "float64",
         "type": "float"
        },
        {
         "name": "MAX_DAS_potential",
         "rawType": "float64",
         "type": "float"
        },
        {
         "name": "SUM_DAS_potential",
         "rawType": "float64",
         "type": "float"
        },
        {
         "name": "DAS_potential_percentage",
         "rawType": "float64",
         "type": "float"
        },
        {
         "name": "distance",
         "rawType": "float64",
         "type": "float"
        },
        {
         "name": "count",
         "rawType": "int64",
         "type": "integer"
        },
        {
         "name": "DAS_potential_percentage_over1",
         "rawType": "float64",
         "type": "float"
        },
        {
         "name": "DAS_potential_over1",
         "rawType": "float64",
         "type": "float"
        }
       ],
       "ref": "3ba5f2cb-fe16-47a9-baca-aec9a364936c",
       "rows": [
        [
         "0",
         "J03WMX",
         "away_10",
         "step125",
         "random",
         "R_5-S_1-D_2-N_20",
         "random-R_5-S_1-D_2-N_20",
         "0.04570564935930606",
         "1.622119491519407",
         "7.175786949411051",
         "6.164977650542347",
         "4.157398868481379",
         "157",
         "3.150073370715315",
         "0.13011461669091803"
        ],
        [
         "1",
         "J03WMX",
         "away_11",
         "step125",
         "random",
         "R_5-S_1-D_2-N_20",
         "random-R_5-S_1-D_2-N_20",
         "0.1167991183804226",
         "4.439813053879503",
         "15.651081862976628",
         "5.990453253754946",
         "4.183218430560281",
         "134",
         "6.164009132917318",
         "0.3606894792467752"
        ],
        [
         "2",
         "J03WMX",
         "away_13",
         "step125",
         "random",
         "R_5-S_1-D_2-N_20",
         "random-R_5-S_1-D_2-N_20",
         "0.006928778606954732",
         "0.03594412940542",
         "0.15936190795995883",
         "3.607357226202637",
         "4.259150421326691",
         "23",
         "0.20986232088133958",
         "0.005968485084441143"
        ],
        [
         "3",
         "J03WMX",
         "away_2",
         "step125",
         "random",
         "R_5-S_1-D_2-N_20",
         "random-R_5-S_1-D_2-N_20",
         "0.1369257184956186",
         "1.952330605483404",
         "21.49733780381212",
         "9.110195196226247",
         "4.149131303478908",
         "157",
         "10.122403064347",
         "0.40299109822819057"
        ],
        [
         "4",
         "J03WMX",
         "away_22",
         "step125",
         "random",
         "R_5-S_1-D_2-N_20",
         "random-R_5-S_1-D_2-N_20",
         "0.20588033206119716",
         "3.40491523139708",
         "8.64697394657028",
         "6.0050428498968085",
         "4.408858272389397",
         "42",
         "7.996183269232202",
         "0.5632334119944274"
        ],
        [
         "5",
         "J03WMX",
         "away_25",
         "step125",
         "random",
         "R_5-S_1-D_2-N_20",
         "random-R_5-S_1-D_2-N_20",
         "0.03791043070012706",
         "0.7377585259404509",
         "4.359699530514612",
         "8.231233389063537",
         "4.101686446831251",
         "115",
         "4.26930580733895",
         "0.10990890451656163"
        ],
        [
         "6",
         "J03WMX",
         "away_27",
         "step125",
         "random",
         "R_5-S_1-D_2-N_20",
         "random-R_5-S_1-D_2-N_20",
         "0.06686252784110072",
         "1.3611365726150115",
         "10.497416871052813",
         "1.9578796526953075",
         "4.499312680920124",
         "157",
         "3.9438094775354817",
         "0.2083960051316885"
        ],
        [
         "7",
         "J03WMX",
         "away_38",
         "step125",
         "random",
         "R_5-S_1-D_2-N_20",
         "random-R_5-S_1-D_2-N_20",
         "0.09041407072809539",
         "3.534150001792307",
         "12.115485477564782",
         "8.657347467303069",
         "3.86497097257901",
         "134",
         "6.090810493073785",
         "0.2719325887361679"
        ],
        [
         "8",
         "J03WMX",
         "away_39",
         "step125",
         "random",
         "R_5-S_1-D_2-N_20",
         "random-R_5-S_1-D_2-N_20",
         "0.01702342940815438",
         "0.0518022687172878",
         "0.1021405764489263",
         "3.3286406509498296",
         "3.9391285427152347",
         "6",
         "0.6668182439374579",
         "0.0277720636227307"
        ],
        [
         "9",
         "J03WMX",
         "away_4",
         "step125",
         "random",
         "R_5-S_1-D_2-N_20",
         "random-R_5-S_1-D_2-N_20",
         "0.1932567204090868",
         "3.322178446555082",
         "30.34130510422663",
         "12.275344959252342",
         "4.26548476952577",
         "157",
         "12.901000835151647",
         "0.5663680305159923"
        ],
        [
         "10",
         "J03WMX",
         "away_40",
         "step125",
         "random",
         "R_5-S_1-D_2-N_20",
         "random-R_5-S_1-D_2-N_20",
         "0.07408215926240314",
         "2.3815150223995087",
         "11.186406048622874",
         "5.972771120515875",
         "4.244527438887877",
         "151",
         "3.9932369655213815",
         "0.22136009935910053"
        ],
        [
         "11",
         "J03WMX",
         "away_42",
         "step125",
         "random",
         "R_5-S_1-D_2-N_20",
         "random-R_5-S_1-D_2-N_20",
         "0.017296311891333783",
         "0.0293817119145918",
         "0.10377787134800269",
         "3.582981369833909",
         "4.621442816846941",
         "6",
         "0.4252653769291668",
         "0.0177117186159785"
        ],
        [
         "12",
         "J03WMX",
         "away_5",
         "step125",
         "random",
         "R_5-S_1-D_2-N_20",
         "random-R_5-S_1-D_2-N_20",
         "0.09181355432442831",
         "1.9077160075772728",
         "14.414728028935244",
         "7.0770048136035095",
         "4.186583991883587",
         "157",
         "6.826210092698765",
         "0.2754071591160235"
        ],
        [
         "13",
         "J03WMX",
         "away_6",
         "step125",
         "random",
         "R_5-S_1-D_2-N_20",
         "random-R_5-S_1-D_2-N_20",
         "0.09658120469724742",
         "2.0980776049784424",
         "15.163249137467844",
         "8.638017957523445",
         "3.9104096259158063",
         "157",
         "7.2447254915385555",
         "0.2871940953545587"
        ],
        [
         "14",
         "J03WMX",
         "away_7",
         "step125",
         "random",
         "R_5-S_1-D_2-N_20",
         "random-R_5-S_1-D_2-N_20",
         "0.034889021167713426",
         "1.6361001024082569",
         "5.477576323331008",
         "4.6822376130139185",
         "4.116449476543057",
         "157",
         "3.2570494348703036",
         "0.10065812743102255"
        ],
        [
         "15",
         "J03WMX",
         "away_8",
         "step125",
         "random",
         "R_5-S_1-D_2-N_20",
         "random-R_5-S_1-D_2-N_20",
         "0.17291101056002778",
         "1.1585273061006252",
         "2.9394871795204724",
         "9.336653101383334",
         "4.163340421640573",
         "17",
         "12.053005208507187",
         "0.45917155496844764"
        ],
        [
         "16",
         "J03WMX",
         "home_11",
         "step125",
         "random",
         "R_5-S_1-D_2-N_20",
         "random-R_5-S_1-D_2-N_20",
         "0.042340386205473875",
         "1.1575281124241377",
         "6.7321214066703465",
         "6.830607960754345",
         "4.065266144261456",
         "159",
         "3.8402985360203816",
         "0.1373498435960814"
        ],
        [
         "17",
         "J03WMX",
         "home_14",
         "step125",
         "random",
         "R_5-S_1-D_2-N_20",
         "random-R_5-S_1-D_2-N_20",
         "0.08025045538628478",
         "4.35380129315145",
         "16.61184426496095",
         "6.981697560785961",
         "4.027292338527363",
         "207",
         "5.452863715987762",
         "0.25624559339487935"
        ],
        [
         "18",
         "J03WMX",
         "home_17",
         "step125",
         "random",
         "R_5-S_1-D_2-N_20",
         "random-R_5-S_1-D_2-N_20",
         "0.05939243360323778",
         "0.8874007666670103",
         "2.8508368129554134",
         "5.877310188229457",
         "4.242081215244352",
         "48",
         "5.201544667939911",
         "0.15276787421060806"
        ],
        [
         "19",
         "J03WMX",
         "home_2",
         "step125",
         "random",
         "R_5-S_1-D_2-N_20",
         "random-R_5-S_1-D_2-N_20",
         "0.055090996035807825",
         "1.0638669906902931",
         "8.759468369693444",
         "7.583230184347087",
         "4.070104569231532",
         "159",
         "5.386371787991241",
         "0.17484152421699656"
        ],
        [
         "20",
         "J03WMX",
         "home_20",
         "step125",
         "random",
         "R_5-S_1-D_2-N_20",
         "random-R_5-S_1-D_2-N_20",
         "0.10188706617058628",
         "4.26556509625215",
         "21.09062269731136",
         "2.030356896683345",
         "4.463706137341829",
         "207",
         "4.718463476582413",
         "0.3608362560958582"
        ],
        [
         "21",
         "J03WMX",
         "home_24",
         "step125",
         "random",
         "R_5-S_1-D_2-N_20",
         "random-R_5-S_1-D_2-N_20",
         "0.11857443753252757",
         "2.40939746409704",
         "24.544908569233208",
         "10.646189115986608",
         "4.330201568837905",
         "207",
         "12.321677601995503",
         "0.3748203194491973"
        ],
        [
         "22",
         "J03WMX",
         "home_25",
         "step125",
         "all_positions",
         "R_5-S_1-D_2-N_20",
         "all_positions-R_5-S_1-D_2-N_20",
         "0.03212820124075443",
         "0.4172862974971689",
         "0.9638460372226331",
         "5.58829702878486",
         "4.57442984234265",
         "30",
         "2.0353990283162275",
         "0.0868585404531322"
        ],
        [
         "23",
         "J03WMX",
         "home_25",
         "step125",
         "random",
         "R_5-S_1-D_2-N_100",
         "random-R_5-S_1-D_2-N_100",
         "0.03212820124075443",
         "0.4172862974971689",
         "0.9638460372226331",
         "5.58829702878486",
         "4.57442984234265",
         "30",
         "2.0353990283162275",
         "0.0868585404531322"
        ],
        [
         "24",
         "J03WMX",
         "home_25",
         "step125",
         "random",
         "R_5-S_1-D_2-N_20",
         "random-R_5-S_1-D_2-N_20",
         "0.030707112369451457",
         "0.4172862974971689",
         "0.9212133710835437",
         "5.14397642122666",
         "4.3884951983312765",
         "30",
         "1.965713375602185",
         "0.08482686186247063"
        ],
        [
         "25",
         "J03WMX",
         "home_25",
         "step125",
         "random",
         "R_5-S_1-D_2-N_50",
         "random-R_5-S_1-D_2-N_50",
         "0.03150937258051357",
         "0.4172862974971689",
         "0.945281177415407",
         "5.501193232893572",
         "4.526483058469895",
         "30",
         "2.0206899087229733",
         "0.0855169983397528"
        ],
        [
         "26",
         "J03WMX",
         "home_27",
         "step125",
         "random",
         "R_5-S_1-D_2-N_20",
         "random-R_5-S_1-D_2-N_20",
         "0.029148359449469637",
         "0.6572784726700682",
         "4.634589152465672",
         "5.212102077705122",
         "4.237004526259232",
         "159",
         "2.007229967454851",
         "0.09050095786790777"
        ],
        [
         "27",
         "J03WMX",
         "home_28",
         "step125",
         "random",
         "R_5-S_1-D_2-N_20",
         "random-R_5-S_1-D_2-N_20",
         "0.09120233249655223",
         "3.891799638807951",
         "18.87888282678631",
         "8.517861402386078",
         "4.11470704612939",
         "207",
         "6.577380166453861",
         "0.29020752685684165"
        ],
        [
         "28",
         "J03WMX",
         "home_29",
         "step125",
         "random",
         "R_5-S_1-D_2-N_20",
         "random-R_5-S_1-D_2-N_20",
         "0.02514099646046768",
         "0.4376117033017894",
         "1.2067678301024487",
         "4.447554571947642",
         "3.9367580455334665",
         "48",
         "2.280216023399126",
         "0.05771732877454258"
        ],
        [
         "29",
         "J03WMX",
         "home_3",
         "step125",
         "random",
         "R_5-S_1-D_2-N_20",
         "random-R_5-S_1-D_2-N_20",
         "0.07136942081402557",
         "0.9272646026384734",
         "2.141082624420767",
         "6.335636290408195",
         "4.494432521930079",
         "30",
         "6.010373004068589",
         "0.21738026734975782"
        ],
        [
         "30",
         "J03WMX",
         "home_37",
         "step125",
         "random",
         "R_5-S_1-D_2-N_20",
         "random-R_5-S_1-D_2-N_20",
         "0.04934509728614649",
         "1.247465720992876",
         "8.734082219647929",
         "5.699754405263397",
         "4.186355227911517",
         "177",
         "4.486693279729292",
         "0.16360322971531005"
        ],
        [
         "31",
         "J03WMX",
         "home_4",
         "step125",
         "random",
         "R_5-S_1-D_2-N_20",
         "random-R_5-S_1-D_2-N_20",
         "0.11272271186322072",
         "4.089123170092346",
         "23.33360135568669",
         "10.538430263613613",
         "4.175133641306169",
         "207",
         "10.407675871977673",
         "0.3643822203047414"
        ],
        [
         "32",
         "J03WMX",
         "home_6",
         "step125",
         "random",
         "R_5-S_1-D_2-N_20",
         "random-R_5-S_1-D_2-N_20",
         "0.08846147535800451",
         "1.629228331041846",
         "18.311525399106934",
         "7.8343694454568515",
         "4.000910301511751",
         "207",
         "7.225661212421622",
         "0.28754469108622266"
        ],
        [
         "33",
         "J03WMX",
         "home_7",
         "step125",
         "random",
         "R_5-S_1-D_2-N_20",
         "random-R_5-S_1-D_2-N_20",
         "0.046051407580155024",
         "1.265820497538196",
         "8.151099141687439",
         "6.9250661531760365",
         "4.21369556206702",
         "177",
         "4.631748916311897",
         "0.14159154357599707"
        ],
        [
         "34",
         "J03WMX",
         "home_8",
         "step125",
         "random",
         "R_5-S_1-D_2-N_20",
         "random-R_5-S_1-D_2-N_20",
         "0.05541637415536312",
         "1.151044519095496",
         "2.6599859594574298",
         "4.743699056764183",
         "3.8899981007705193",
         "48",
         "2.561107312930105",
         "0.143104053629716"
        ],
        [
         "35",
         "J03WN1",
         "away_1",
         "step125",
         "random",
         "R_5-S_1-D_2-N_20",
         "random-R_5-S_1-D_2-N_20",
         "0.2873170292863992",
         "8.238758217255999",
         "41.373652217241485",
         "2.838076371568387",
         "4.520457156797361",
         "144",
         "5.992059037183392",
         "0.6991157987333727"
        ],
        [
         "36",
         "J03WN1",
         "away_11",
         "step125",
         "random",
         "R_5-S_1-D_2-N_20",
         "random-R_5-S_1-D_2-N_20",
         "0.21940209659111212",
         "4.91976778883366",
         "27.86406626707124",
         "9.649494911393449",
         "4.107590463918451",
         "127",
         "8.111153861739025",
         "0.5421424753554431"
        ],
        [
         "37",
         "J03WN1",
         "away_12",
         "step125",
         "random",
         "R_5-S_1-D_2-N_20",
         "random-R_5-S_1-D_2-N_20",
         "0.44912333021064893",
         "19.6944436578512",
         "64.67375955033344",
         "9.885058143799114",
         "4.1805201460371855",
         "144",
         "12.96226529613762",
         "1.0738455518605383"
        ],
        [
         "38",
         "J03WN1",
         "away_18",
         "step125",
         "random",
         "R_5-S_1-D_2-N_20",
         "random-R_5-S_1-D_2-N_20",
         "0.016260560707232",
         "0.016260560707232",
         "0.016260560707232",
         "14.336893407572568",
         "3.605551275463989",
         "1",
         "0.0",
         "0.0"
        ],
        [
         "39",
         "J03WN1",
         "away_19",
         "step125",
         "random",
         "R_5-S_1-D_2-N_20",
         "random-R_5-S_1-D_2-N_20",
         "0.1429979811374206",
         "5.174868119949224",
         "20.448711302651144",
         "7.991462893252821",
         "4.1744011674651835",
         "143",
         "4.6799924529658155",
         "0.3279882413111"
        ],
        [
         "40",
         "J03WN1",
         "away_21",
         "step125",
         "random",
         "R_5-S_1-D_2-N_20",
         "random-R_5-S_1-D_2-N_20",
         "0.03931470270808685",
         "0.0868884940579162",
         "0.3145176216646948",
         "6.419597562097911",
         "4.714793400779363",
         "8",
         "2.3640529402648522",
         "0.0424496788837922"
        ],
        [
         "41",
         "J03WN1",
         "away_23",
         "step125",
         "random",
         "R_5-S_1-D_2-N_20",
         "random-R_5-S_1-D_2-N_20",
         "0.2094774479880688",
         "1.9762367499945208",
         "3.56111661579717",
         "7.032688185462911",
         "4.272920604651138",
         "17",
         "6.629518561486964",
         "0.35151273864021976"
        ],
        [
         "42",
         "J03WN1",
         "away_25",
         "step125",
         "random",
         "R_5-S_1-D_2-N_20",
         "random-R_5-S_1-D_2-N_20",
         "0.206390119767174",
         "6.668153644131201",
         "29.720177246473057",
         "7.4543849799490305",
         "4.17034138286881",
         "144",
         "6.7319674008406185",
         "0.4867475253513022"
        ],
        [
         "43",
         "J03WN1",
         "away_27",
         "step125",
         "random",
         "R_5-S_1-D_2-N_20",
         "random-R_5-S_1-D_2-N_20",
         "0.13708882854880383",
         "5.201283412132021",
         "19.740791311027753",
         "6.916885582543388",
         "4.101109522288639",
         "144",
         "5.168078992876903",
         "0.315323135966549"
        ],
        [
         "44",
         "J03WN1",
         "away_30",
         "step125",
         "random",
         "R_5-S_1-D_2-N_20",
         "random-R_5-S_1-D_2-N_20",
         "0.13999316132105832",
         "5.423207762400329",
         "20.1590152302324",
         "5.9913171158648355",
         "4.21635702446325",
         "144",
         "4.446934107048991",
         "0.3310489074511722"
        ],
        [
         "45",
         "J03WN1",
         "away_4",
         "step125",
         "random",
         "R_5-S_1-D_2-N_20",
         "random-R_5-S_1-D_2-N_20",
         "0.23913642674849506",
         "6.078613805910142",
         "34.43564545178329",
         "7.49830946559219",
         "4.159583782718259",
         "144",
         "9.23437347054188",
         "0.5633842211189697"
        ],
        [
         "46",
         "J03WN1",
         "away_5",
         "step125",
         "random",
         "R_5-S_1-D_2-N_20",
         "random-R_5-S_1-D_2-N_20",
         "0.21041680963169618",
         "5.815340436681492",
         "30.300020586964248",
         "8.066049907286276",
         "4.190588909758344",
         "144",
         "7.110871612579213",
         "0.48402429561819027"
        ],
        [
         "47",
         "J03WN1",
         "away_9",
         "step125",
         "random",
         "R_5-S_1-D_2-N_20",
         "random-R_5-S_1-D_2-N_20",
         "0.12475126526615021",
         "5.188882012458592",
         "17.96418219832563",
         "6.619335518965931",
         "4.017983335014184",
         "144",
         "4.2155255698528755",
         "0.2903869739182348"
        ],
        [
         "48",
         "J03WN1",
         "home_1",
         "step125",
         "random",
         "R_5-S_1-D_2-N_20",
         "random-R_5-S_1-D_2-N_20",
         "0.27013925068147454",
         "16.906395268674316",
         "37.00907734336201",
         "2.431898479798216",
         "4.41951666598854",
         "137",
         "5.3111262009351226",
         "0.7688478863666669"
        ],
        [
         "49",
         "J03WN1",
         "home_10",
         "step125",
         "random",
         "R_5-S_1-D_2-N_20",
         "random-R_5-S_1-D_2-N_20",
         "0.09476091263216974",
         "1.7197841372895135",
         "8.623243049527446",
         "7.436150745968408",
         "4.158896441674446",
         "91",
         "5.710947627197302",
         "0.26113122345192913"
        ]
       ],
       "shape": {
        "columns": 14,
        "rows": 244
       }
      },
      "text/html": [
       "<div>\n",
       "<style scoped>\n",
       "    .dataframe tbody tr th:only-of-type {\n",
       "        vertical-align: middle;\n",
       "    }\n",
       "\n",
       "    .dataframe tbody tr th {\n",
       "        vertical-align: top;\n",
       "    }\n",
       "\n",
       "    .dataframe thead th {\n",
       "        text-align: right;\n",
       "    }\n",
       "</style>\n",
       "<table border=\"1\" class=\"dataframe\">\n",
       "  <thead>\n",
       "    <tr style=\"text-align: right;\">\n",
       "      <th></th>\n",
       "      <th>game_id</th>\n",
       "      <th>player</th>\n",
       "      <th>step</th>\n",
       "      <th>method</th>\n",
       "      <th>parameters</th>\n",
       "      <th>tuning</th>\n",
       "      <th>DAS_potential</th>\n",
       "      <th>MAX_DAS_potential</th>\n",
       "      <th>SUM_DAS_potential</th>\n",
       "      <th>DAS_potential_percentage</th>\n",
       "      <th>distance</th>\n",
       "      <th>count</th>\n",
       "      <th>DAS_potential_percentage_over1</th>\n",
       "      <th>DAS_potential_over1</th>\n",
       "    </tr>\n",
       "  </thead>\n",
       "  <tbody>\n",
       "    <tr>\n",
       "      <th>0</th>\n",
       "      <td>J03WMX</td>\n",
       "      <td>away_10</td>\n",
       "      <td>step125</td>\n",
       "      <td>random</td>\n",
       "      <td>R_5-S_1-D_2-N_20</td>\n",
       "      <td>random-R_5-S_1-D_2-N_20</td>\n",
       "      <td>0.045706</td>\n",
       "      <td>1.622119</td>\n",
       "      <td>7.175787</td>\n",
       "      <td>6.164978</td>\n",
       "      <td>4.157399</td>\n",
       "      <td>157</td>\n",
       "      <td>3.150073</td>\n",
       "      <td>0.130115</td>\n",
       "    </tr>\n",
       "    <tr>\n",
       "      <th>1</th>\n",
       "      <td>J03WMX</td>\n",
       "      <td>away_11</td>\n",
       "      <td>step125</td>\n",
       "      <td>random</td>\n",
       "      <td>R_5-S_1-D_2-N_20</td>\n",
       "      <td>random-R_5-S_1-D_2-N_20</td>\n",
       "      <td>0.116799</td>\n",
       "      <td>4.439813</td>\n",
       "      <td>15.651082</td>\n",
       "      <td>5.990453</td>\n",
       "      <td>4.183218</td>\n",
       "      <td>134</td>\n",
       "      <td>6.164009</td>\n",
       "      <td>0.360689</td>\n",
       "    </tr>\n",
       "    <tr>\n",
       "      <th>2</th>\n",
       "      <td>J03WMX</td>\n",
       "      <td>away_13</td>\n",
       "      <td>step125</td>\n",
       "      <td>random</td>\n",
       "      <td>R_5-S_1-D_2-N_20</td>\n",
       "      <td>random-R_5-S_1-D_2-N_20</td>\n",
       "      <td>0.006929</td>\n",
       "      <td>0.035944</td>\n",
       "      <td>0.159362</td>\n",
       "      <td>3.607357</td>\n",
       "      <td>4.259150</td>\n",
       "      <td>23</td>\n",
       "      <td>0.209862</td>\n",
       "      <td>0.005968</td>\n",
       "    </tr>\n",
       "    <tr>\n",
       "      <th>3</th>\n",
       "      <td>J03WMX</td>\n",
       "      <td>away_2</td>\n",
       "      <td>step125</td>\n",
       "      <td>random</td>\n",
       "      <td>R_5-S_1-D_2-N_20</td>\n",
       "      <td>random-R_5-S_1-D_2-N_20</td>\n",
       "      <td>0.136926</td>\n",
       "      <td>1.952331</td>\n",
       "      <td>21.497338</td>\n",
       "      <td>9.110195</td>\n",
       "      <td>4.149131</td>\n",
       "      <td>157</td>\n",
       "      <td>10.122403</td>\n",
       "      <td>0.402991</td>\n",
       "    </tr>\n",
       "    <tr>\n",
       "      <th>4</th>\n",
       "      <td>J03WMX</td>\n",
       "      <td>away_22</td>\n",
       "      <td>step125</td>\n",
       "      <td>random</td>\n",
       "      <td>R_5-S_1-D_2-N_20</td>\n",
       "      <td>random-R_5-S_1-D_2-N_20</td>\n",
       "      <td>0.205880</td>\n",
       "      <td>3.404915</td>\n",
       "      <td>8.646974</td>\n",
       "      <td>6.005043</td>\n",
       "      <td>4.408858</td>\n",
       "      <td>42</td>\n",
       "      <td>7.996183</td>\n",
       "      <td>0.563233</td>\n",
       "    </tr>\n",
       "    <tr>\n",
       "      <th>...</th>\n",
       "      <td>...</td>\n",
       "      <td>...</td>\n",
       "      <td>...</td>\n",
       "      <td>...</td>\n",
       "      <td>...</td>\n",
       "      <td>...</td>\n",
       "      <td>...</td>\n",
       "      <td>...</td>\n",
       "      <td>...</td>\n",
       "      <td>...</td>\n",
       "      <td>...</td>\n",
       "      <td>...</td>\n",
       "      <td>...</td>\n",
       "      <td>...</td>\n",
       "    </tr>\n",
       "    <tr>\n",
       "      <th>239</th>\n",
       "      <td>J03WR9</td>\n",
       "      <td>home_46</td>\n",
       "      <td>step125</td>\n",
       "      <td>random</td>\n",
       "      <td>R_5-S_1-D_2-N_20</td>\n",
       "      <td>random-R_5-S_1-D_2-N_20</td>\n",
       "      <td>0.020975</td>\n",
       "      <td>0.099206</td>\n",
       "      <td>0.125850</td>\n",
       "      <td>10.998616</td>\n",
       "      <td>3.264324</td>\n",
       "      <td>6</td>\n",
       "      <td>0.372275</td>\n",
       "      <td>0.020268</td>\n",
       "    </tr>\n",
       "    <tr>\n",
       "      <th>240</th>\n",
       "      <td>J03WR9</td>\n",
       "      <td>home_5</td>\n",
       "      <td>step125</td>\n",
       "      <td>random</td>\n",
       "      <td>R_5-S_1-D_2-N_20</td>\n",
       "      <td>random-R_5-S_1-D_2-N_20</td>\n",
       "      <td>0.113947</td>\n",
       "      <td>4.108052</td>\n",
       "      <td>15.268849</td>\n",
       "      <td>11.293032</td>\n",
       "      <td>4.238039</td>\n",
       "      <td>134</td>\n",
       "      <td>11.386927</td>\n",
       "      <td>0.611929</td>\n",
       "    </tr>\n",
       "    <tr>\n",
       "      <th>241</th>\n",
       "      <td>J03WR9</td>\n",
       "      <td>home_7</td>\n",
       "      <td>step125</td>\n",
       "      <td>random</td>\n",
       "      <td>R_5-S_1-D_2-N_20</td>\n",
       "      <td>random-R_5-S_1-D_2-N_20</td>\n",
       "      <td>0.060233</td>\n",
       "      <td>4.258467</td>\n",
       "      <td>7.228016</td>\n",
       "      <td>8.311592</td>\n",
       "      <td>4.072808</td>\n",
       "      <td>120</td>\n",
       "      <td>4.338032</td>\n",
       "      <td>0.321813</td>\n",
       "    </tr>\n",
       "    <tr>\n",
       "      <th>242</th>\n",
       "      <td>J03WR9</td>\n",
       "      <td>home_8</td>\n",
       "      <td>step125</td>\n",
       "      <td>random</td>\n",
       "      <td>R_5-S_1-D_2-N_20</td>\n",
       "      <td>random-R_5-S_1-D_2-N_20</td>\n",
       "      <td>0.048807</td>\n",
       "      <td>1.520485</td>\n",
       "      <td>6.540151</td>\n",
       "      <td>6.739138</td>\n",
       "      <td>4.187040</td>\n",
       "      <td>134</td>\n",
       "      <td>4.941708</td>\n",
       "      <td>0.242528</td>\n",
       "    </tr>\n",
       "    <tr>\n",
       "      <th>243</th>\n",
       "      <td>J03WR9</td>\n",
       "      <td>home_9</td>\n",
       "      <td>step125</td>\n",
       "      <td>random</td>\n",
       "      <td>R_5-S_1-D_2-N_20</td>\n",
       "      <td>random-R_5-S_1-D_2-N_20</td>\n",
       "      <td>0.055477</td>\n",
       "      <td>5.105295</td>\n",
       "      <td>7.433889</td>\n",
       "      <td>7.552363</td>\n",
       "      <td>4.146452</td>\n",
       "      <td>134</td>\n",
       "      <td>1.607110</td>\n",
       "      <td>0.300741</td>\n",
       "    </tr>\n",
       "  </tbody>\n",
       "</table>\n",
       "<p>244 rows × 14 columns</p>\n",
       "</div>"
      ],
      "text/plain": [
       "    game_id   player     step  method        parameters  \\\n",
       "0    J03WMX  away_10  step125  random  R_5-S_1-D_2-N_20   \n",
       "1    J03WMX  away_11  step125  random  R_5-S_1-D_2-N_20   \n",
       "2    J03WMX  away_13  step125  random  R_5-S_1-D_2-N_20   \n",
       "3    J03WMX   away_2  step125  random  R_5-S_1-D_2-N_20   \n",
       "4    J03WMX  away_22  step125  random  R_5-S_1-D_2-N_20   \n",
       "..      ...      ...      ...     ...               ...   \n",
       "239  J03WR9  home_46  step125  random  R_5-S_1-D_2-N_20   \n",
       "240  J03WR9   home_5  step125  random  R_5-S_1-D_2-N_20   \n",
       "241  J03WR9   home_7  step125  random  R_5-S_1-D_2-N_20   \n",
       "242  J03WR9   home_8  step125  random  R_5-S_1-D_2-N_20   \n",
       "243  J03WR9   home_9  step125  random  R_5-S_1-D_2-N_20   \n",
       "\n",
       "                      tuning  DAS_potential  MAX_DAS_potential  \\\n",
       "0    random-R_5-S_1-D_2-N_20       0.045706           1.622119   \n",
       "1    random-R_5-S_1-D_2-N_20       0.116799           4.439813   \n",
       "2    random-R_5-S_1-D_2-N_20       0.006929           0.035944   \n",
       "3    random-R_5-S_1-D_2-N_20       0.136926           1.952331   \n",
       "4    random-R_5-S_1-D_2-N_20       0.205880           3.404915   \n",
       "..                       ...            ...                ...   \n",
       "239  random-R_5-S_1-D_2-N_20       0.020975           0.099206   \n",
       "240  random-R_5-S_1-D_2-N_20       0.113947           4.108052   \n",
       "241  random-R_5-S_1-D_2-N_20       0.060233           4.258467   \n",
       "242  random-R_5-S_1-D_2-N_20       0.048807           1.520485   \n",
       "243  random-R_5-S_1-D_2-N_20       0.055477           5.105295   \n",
       "\n",
       "     SUM_DAS_potential  DAS_potential_percentage  distance  count  \\\n",
       "0             7.175787                  6.164978  4.157399    157   \n",
       "1            15.651082                  5.990453  4.183218    134   \n",
       "2             0.159362                  3.607357  4.259150     23   \n",
       "3            21.497338                  9.110195  4.149131    157   \n",
       "4             8.646974                  6.005043  4.408858     42   \n",
       "..                 ...                       ...       ...    ...   \n",
       "239           0.125850                 10.998616  3.264324      6   \n",
       "240          15.268849                 11.293032  4.238039    134   \n",
       "241           7.228016                  8.311592  4.072808    120   \n",
       "242           6.540151                  6.739138  4.187040    134   \n",
       "243           7.433889                  7.552363  4.146452    134   \n",
       "\n",
       "     DAS_potential_percentage_over1  DAS_potential_over1  \n",
       "0                          3.150073             0.130115  \n",
       "1                          6.164009             0.360689  \n",
       "2                          0.209862             0.005968  \n",
       "3                         10.122403             0.402991  \n",
       "4                          7.996183             0.563233  \n",
       "..                              ...                  ...  \n",
       "239                        0.372275             0.020268  \n",
       "240                       11.386927             0.611929  \n",
       "241                        4.338032             0.321813  \n",
       "242                        4.941708             0.242528  \n",
       "243                        1.607110             0.300741  \n",
       "\n",
       "[244 rows x 14 columns]"
      ]
     },
     "metadata": {},
     "output_type": "display_data"
    }
   ],
   "source": [
    "full_df = prepare_data()\n",
    "full_df.to_csv(\"output/full_das.csv\", index=False)\n",
    "grouped_df = group_data(full_df)\n",
    "grouped_df.to_csv(\"output/grouped_das.csv\", index=False)\n",
    "\n",
    "display(full_df.shape)\n",
    "display(full_df)\n",
    "display(grouped_df.shape)\n",
    "display(grouped_df)\n"
   ]
  },
  {
   "cell_type": "code",
   "execution_count": 51,
   "id": "da49d633",
   "metadata": {},
   "outputs": [
    {
     "data": {
      "application/vnd.microsoft.datawrangler.viewer.v0+json": {
       "columns": [
        {
         "name": "index",
         "rawType": "int64",
         "type": "integer"
        },
        {
         "name": "game_id",
         "rawType": "object",
         "type": "string"
        },
        {
         "name": "all_positions-R_5-S_1-D_2-N_20",
         "rawType": "int64",
         "type": "integer"
        },
        {
         "name": "all_positions_cut_1.0-R_5-S_1-D_2-N_20-C_1.0",
         "rawType": "int64",
         "type": "integer"
        },
        {
         "name": "random-R_5-S_1-D_2-N_100",
         "rawType": "int64",
         "type": "integer"
        },
        {
         "name": "random-R_5-S_1-D_2-N_20",
         "rawType": "int64",
         "type": "integer"
        },
        {
         "name": "random-R_5-S_1-D_2-N_50",
         "rawType": "int64",
         "type": "integer"
        },
        {
         "name": "random_cut_1.0-R_5-S_1-D_2-N_100-C_1.0",
         "rawType": "int64",
         "type": "integer"
        },
        {
         "name": "random_cut_1.0-R_5-S_1-D_2-N_20-C_1.0",
         "rawType": "int64",
         "type": "integer"
        },
        {
         "name": "random_cut_1.0-R_5-S_1-D_2-N_50-C_1.0",
         "rawType": "int64",
         "type": "integer"
        }
       ],
       "ref": "5dfb7d01-0fc3-4971-8552-5de637356428",
       "rows": [
        [
         "0",
         "J03WMX",
         "1",
         "0",
         "1",
         "32",
         "1",
         "0",
         "0",
         "0"
        ],
        [
         "1",
         "J03WN1",
         "1",
         "0",
         "1",
         "29",
         "1",
         "0",
         "0",
         "0"
        ],
        [
         "2",
         "J03WOH",
         "1",
         "0",
         "1",
         "32",
         "1",
         "0",
         "0",
         "0"
        ],
        [
         "3",
         "J03WOY",
         "1",
         "0",
         "1",
         "32",
         "1",
         "0",
         "0",
         "0"
        ],
        [
         "4",
         "J03WPY",
         "1",
         "0",
         "1",
         "31",
         "1",
         "0",
         "0",
         "0"
        ],
        [
         "5",
         "J03WQQ",
         "1",
         "1",
         "1",
         "31",
         "1",
         "1",
         "1",
         "1"
        ],
        [
         "6",
         "J03WR9",
         "1",
         "0",
         "1",
         "30",
         "1",
         "0",
         "0",
         "0"
        ]
       ],
       "shape": {
        "columns": 9,
        "rows": 7
       }
      },
      "text/html": [
       "<div>\n",
       "<style scoped>\n",
       "    .dataframe tbody tr th:only-of-type {\n",
       "        vertical-align: middle;\n",
       "    }\n",
       "\n",
       "    .dataframe tbody tr th {\n",
       "        vertical-align: top;\n",
       "    }\n",
       "\n",
       "    .dataframe thead th {\n",
       "        text-align: right;\n",
       "    }\n",
       "</style>\n",
       "<table border=\"1\" class=\"dataframe\">\n",
       "  <thead>\n",
       "    <tr style=\"text-align: right;\">\n",
       "      <th>tuning</th>\n",
       "      <th>game_id</th>\n",
       "      <th>all_positions-R_5-S_1-D_2-N_20</th>\n",
       "      <th>all_positions_cut_1.0-R_5-S_1-D_2-N_20-C_1.0</th>\n",
       "      <th>random-R_5-S_1-D_2-N_100</th>\n",
       "      <th>random-R_5-S_1-D_2-N_20</th>\n",
       "      <th>random-R_5-S_1-D_2-N_50</th>\n",
       "      <th>random_cut_1.0-R_5-S_1-D_2-N_100-C_1.0</th>\n",
       "      <th>random_cut_1.0-R_5-S_1-D_2-N_20-C_1.0</th>\n",
       "      <th>random_cut_1.0-R_5-S_1-D_2-N_50-C_1.0</th>\n",
       "    </tr>\n",
       "  </thead>\n",
       "  <tbody>\n",
       "    <tr>\n",
       "      <th>0</th>\n",
       "      <td>J03WMX</td>\n",
       "      <td>1</td>\n",
       "      <td>0</td>\n",
       "      <td>1</td>\n",
       "      <td>32</td>\n",
       "      <td>1</td>\n",
       "      <td>0</td>\n",
       "      <td>0</td>\n",
       "      <td>0</td>\n",
       "    </tr>\n",
       "    <tr>\n",
       "      <th>1</th>\n",
       "      <td>J03WN1</td>\n",
       "      <td>1</td>\n",
       "      <td>0</td>\n",
       "      <td>1</td>\n",
       "      <td>29</td>\n",
       "      <td>1</td>\n",
       "      <td>0</td>\n",
       "      <td>0</td>\n",
       "      <td>0</td>\n",
       "    </tr>\n",
       "    <tr>\n",
       "      <th>2</th>\n",
       "      <td>J03WOH</td>\n",
       "      <td>1</td>\n",
       "      <td>0</td>\n",
       "      <td>1</td>\n",
       "      <td>32</td>\n",
       "      <td>1</td>\n",
       "      <td>0</td>\n",
       "      <td>0</td>\n",
       "      <td>0</td>\n",
       "    </tr>\n",
       "    <tr>\n",
       "      <th>3</th>\n",
       "      <td>J03WOY</td>\n",
       "      <td>1</td>\n",
       "      <td>0</td>\n",
       "      <td>1</td>\n",
       "      <td>32</td>\n",
       "      <td>1</td>\n",
       "      <td>0</td>\n",
       "      <td>0</td>\n",
       "      <td>0</td>\n",
       "    </tr>\n",
       "    <tr>\n",
       "      <th>4</th>\n",
       "      <td>J03WPY</td>\n",
       "      <td>1</td>\n",
       "      <td>0</td>\n",
       "      <td>1</td>\n",
       "      <td>31</td>\n",
       "      <td>1</td>\n",
       "      <td>0</td>\n",
       "      <td>0</td>\n",
       "      <td>0</td>\n",
       "    </tr>\n",
       "    <tr>\n",
       "      <th>5</th>\n",
       "      <td>J03WQQ</td>\n",
       "      <td>1</td>\n",
       "      <td>1</td>\n",
       "      <td>1</td>\n",
       "      <td>31</td>\n",
       "      <td>1</td>\n",
       "      <td>1</td>\n",
       "      <td>1</td>\n",
       "      <td>1</td>\n",
       "    </tr>\n",
       "    <tr>\n",
       "      <th>6</th>\n",
       "      <td>J03WR9</td>\n",
       "      <td>1</td>\n",
       "      <td>0</td>\n",
       "      <td>1</td>\n",
       "      <td>30</td>\n",
       "      <td>1</td>\n",
       "      <td>0</td>\n",
       "      <td>0</td>\n",
       "      <td>0</td>\n",
       "    </tr>\n",
       "  </tbody>\n",
       "</table>\n",
       "</div>"
      ],
      "text/plain": [
       "tuning game_id  all_positions-R_5-S_1-D_2-N_20  \\\n",
       "0       J03WMX                               1   \n",
       "1       J03WN1                               1   \n",
       "2       J03WOH                               1   \n",
       "3       J03WOY                               1   \n",
       "4       J03WPY                               1   \n",
       "5       J03WQQ                               1   \n",
       "6       J03WR9                               1   \n",
       "\n",
       "tuning  all_positions_cut_1.0-R_5-S_1-D_2-N_20-C_1.0  \\\n",
       "0                                                  0   \n",
       "1                                                  0   \n",
       "2                                                  0   \n",
       "3                                                  0   \n",
       "4                                                  0   \n",
       "5                                                  1   \n",
       "6                                                  0   \n",
       "\n",
       "tuning  random-R_5-S_1-D_2-N_100  random-R_5-S_1-D_2-N_20  \\\n",
       "0                              1                       32   \n",
       "1                              1                       29   \n",
       "2                              1                       32   \n",
       "3                              1                       32   \n",
       "4                              1                       31   \n",
       "5                              1                       31   \n",
       "6                              1                       30   \n",
       "\n",
       "tuning  random-R_5-S_1-D_2-N_50  random_cut_1.0-R_5-S_1-D_2-N_100-C_1.0  \\\n",
       "0                             1                                       0   \n",
       "1                             1                                       0   \n",
       "2                             1                                       0   \n",
       "3                             1                                       0   \n",
       "4                             1                                       0   \n",
       "5                             1                                       1   \n",
       "6                             1                                       0   \n",
       "\n",
       "tuning  random_cut_1.0-R_5-S_1-D_2-N_20-C_1.0  \\\n",
       "0                                           0   \n",
       "1                                           0   \n",
       "2                                           0   \n",
       "3                                           0   \n",
       "4                                           0   \n",
       "5                                           1   \n",
       "6                                           0   \n",
       "\n",
       "tuning  random_cut_1.0-R_5-S_1-D_2-N_50-C_1.0  \n",
       "0                                           0  \n",
       "1                                           0  \n",
       "2                                           0  \n",
       "3                                           0  \n",
       "4                                           0  \n",
       "5                                           1  \n",
       "6                                           0  "
      ]
     },
     "execution_count": 51,
     "metadata": {},
     "output_type": "execute_result"
    }
   ],
   "source": [
    "# Übersicht vorhandene databallpy_event\n",
    "pivot = full_df.groupby([\"game_id\", \"tuning\"])[\"player\"].nunique().unstack(fill_value=0).reset_index()\n",
    "\n",
    "pivot"
   ]
  },
  {
   "cell_type": "code",
   "execution_count": 54,
   "id": "854f10bd",
   "metadata": {},
   "outputs": [
    {
     "name": "stdout",
     "output_type": "stream",
     "text": [
      "Anzahl verschiedener Parameterkombinationen: 4\n"
     ]
    },
    {
     "data": {
      "text/plain": [
       "'Vollständige Kombinationen: 6'"
      ]
     },
     "metadata": {},
     "output_type": "display_data"
    },
    {
     "data": {
      "image/png": "[encoded data removed]",
      "text/plain": [
       "<Figure size 1400x2000 with 4 Axes>"
      ]
     },
     "metadata": {},
     "output_type": "display_data"
    }
   ],
   "source": [
    "# Fairer Vergleich Methoden / Parameter ohne Cut STEP 125\n",
    "grouped_df_125 = grouped_df[grouped_df[\"step\"] == \"step125\"].copy()\n",
    "mask_no_cut = ~grouped_df_125[\"tuning\"].str.contains(\"cut\", case=False, na=False)\n",
    "grouped_no_cut = grouped_df_125[mask_no_cut].copy()\n",
    "n_total_params = grouped_no_cut[\"tuning\"].nunique()\n",
    "print(f\"Anzahl verschiedener Parameterkombinationen: {n_total_params}\")\n",
    "\n",
    "param_counts = (\n",
    "    grouped_df.groupby([\"game_id\", \"player\"])[\"tuning\"]\n",
    "    .nunique()\n",
    "    .reset_index(name=\"param_count\")\n",
    ")\n",
    "complete_combinations = param_counts[param_counts[\"param_count\"] == n_total_params]\n",
    "display(f\"Vollständige Kombinationen: {len(complete_combinations)}\")\n",
    "\n",
    "fair_grouped_df = grouped_df.merge(complete_combinations, on=[\"game_id\", \"player\"])\n",
    "\n",
    "compare_methods(fair_grouped_df)\n",
    "\n"
   ]
  },
  {
   "cell_type": "code",
   "execution_count": 35,
   "id": "7c1dc01b",
   "metadata": {},
   "outputs": [
    {
     "data": {
      "image/png": "[encoded data removed]",
      "text/plain": [
       "<Figure size 800x600 with 1 Axes>"
      ]
     },
     "metadata": {},
     "output_type": "display_data"
    }
   ],
   "source": [
    "scatter_dist_pot(grouped_df)\n",
    "\n"
   ]
  },
  {
   "cell_type": "code",
   "execution_count": 63,
   "id": "a2a55a06",
   "metadata": {},
   "outputs": [
    {
     "name": "stdout",
     "output_type": "stream",
     "text": [
      "Anzahl Spiele: 7\n"
     ]
    },
    {
     "data": {
      "application/vnd.plotly.v1+json": {
       "config": {
        "plotlyServerURL": "https://plot.ly"
       },
       "data": [
        {
         "customdata": {
          "bdata": "GgCPAHUAyQCGAA==",
          "dtype": "i2"
         },
         "hovertemplate": "Spiel: %{x}<br>DAS_potential: %{y:.3f}<br>count: %{customdata}<extra></extra>",
         "legendgroup": "Christoph Klarer",
         "line": {
          "width": 1
         },
         "marker": {
          "size": 6
         },
         "mode": "lines+markers",
         "name": "Christoph Klarer",
         "showlegend": true,
         "type": "scatter",
         "visible": true,
         "x": [
          "J03WOH",
          "J03WOY",
          "J03WPY",
          "J03WQQ",
          "J03WR9"
         ],
         "y": {
          "bdata": "27b64mP1uz+KuCS6uNu+PzKImxQducw/RzFPw1F3yD/s0e48myu9Pw==",
          "dtype": "f8"
         }
        },
        {
         "customdata": {
          "bdata": "egBsAHUAlQCGAA==",
          "dtype": "i2"
         },
         "hovertemplate": "Spiel: %{x}<br>DAS_potential: %{y:.3f}<br>count: %{customdata}<extra></extra>",
         "legendgroup": "Dawid Igor Kownacki",
         "line": {
          "width": 1
         },
         "marker": {
          "size": 6
         },
         "mode": "lines+markers",
         "name": "Dawid Igor Kownacki",
         "showlegend": true,
         "type": "scatter",
         "visible": true,
         "x": [
          "J03WOH",
          "J03WOY",
          "J03WPY",
          "J03WQQ",
          "J03WR9"
         ],
         "y": {
          "bdata": "Wrf6t6J0pD+m7ifWuiazPzah1R4hwZ8/B8dU+cN7pz+29xL4c2esPw==",
          "dtype": "f8"
         }
        },
        {
         "customdata": {
          "bdata": "BQAjAFQAxwB4AA==",
          "dtype": "i2"
         },
         "hovertemplate": "Spiel: %{x}<br>DAS_potential: %{y:.3f}<br>count: %{customdata}<extra></extra>",
         "legendgroup": "Emmanuel Iyoha",
         "line": {
          "width": 1
         },
         "marker": {
          "size": 6
         },
         "mode": "lines+markers",
         "name": "Emmanuel Iyoha",
         "showlegend": true,
         "type": "scatter",
         "visible": true,
         "x": [
          "J03WOH",
          "J03WOY",
          "J03WPY",
          "J03WQQ",
          "J03WR9"
         ],
         "y": {
          "bdata": "mJKYvYjTij/bmIzJVGamP3ELsARE85I/uUYOywWGuD/gtRYlKrmqPw==",
          "dtype": "f8"
         }
        },
        {
         "customdata": {
          "bdata": "egCFAF4ANAAOAA==",
          "dtype": "i2"
         },
         "hovertemplate": "Spiel: %{x}<br>DAS_potential: %{y:.3f}<br>count: %{customdata}<extra></extra>",
         "legendgroup": "Felix Klaus",
         "line": {
          "width": 1
         },
         "marker": {
          "size": 6
         },
         "mode": "lines+markers",
         "name": "Felix Klaus",
         "showlegend": true,
         "type": "scatter",
         "visible": true,
         "x": [
          "J03WOH",
          "J03WOY",
          "J03WPY",
          "J03WQQ",
          "J03WR9"
         ],
         "y": {
          "bdata": "o0NQibsJrD+ade9GJOixP6K+XbOG+qw/Z0N5VdsQxz8gSzfpxFyGPw==",
          "dtype": "f8"
         }
        },
        {
         "customdata": {
          "bdata": "fwCPAHUAyQCGAA==",
          "dtype": "i2"
         },
         "hovertemplate": "Spiel: %{x}<br>DAS_potential: %{y:.3f}<br>count: %{customdata}<extra></extra>",
         "legendgroup": "Florian Kastenmeier",
         "line": {
          "width": 1
         },
         "marker": {
          "size": 6
         },
         "mode": "lines+markers",
         "name": "Florian Kastenmeier",
         "showlegend": true,
         "type": "scatter",
         "visible": true,
         "x": [
          "J03WOH",
          "J03WOY",
          "J03WPY",
          "J03WQQ",
          "J03WR9"
         ],
         "y": {
          "bdata": "3xSkeh2asT/ivQKaWrOvP42NF2tgcNQ/Ke2rz3bEsz/RygGtUbK1Pw==",
          "dtype": "f8"
         }
        },
        {
         "customdata": {
          "bdata": "ZQB/ABcAlQB4AA==",
          "dtype": "i2"
         },
         "hovertemplate": "Spiel: %{x}<br>DAS_potential: %{y:.3f}<br>count: %{customdata}<extra></extra>",
         "legendgroup": "Kristoffer Paul Peterson",
         "line": {
          "width": 1
         },
         "marker": {
          "size": 6
         },
         "mode": "lines+markers",
         "name": "Kristoffer Paul Peterson",
         "showlegend": true,
         "type": "scatter",
         "visible": true,
         "x": [
          "J03WOH",
          "J03WOY",
          "J03WPY",
          "J03WQQ",
          "J03WR9"
         ],
         "y": {
          "bdata": "oWcbc9D3qj8WNBtHbJ6tP8PhosLz0bY//0HcGlPqtz8rKnfJ69auPw==",
          "dtype": "f8"
         }
        },
        {
         "customdata": {
          "bdata": "fwCPAHUAyQCGAA==",
          "dtype": "i2"
         },
         "hovertemplate": "Spiel: %{x}<br>DAS_potential: %{y:.3f}<br>count: %{customdata}<extra></extra>",
         "legendgroup": "Matthias Jürgen Zimmermann",
         "line": {
          "width": 1
         },
         "marker": {
          "size": 6
         },
         "mode": "lines+markers",
         "name": "Matthias Jürgen Zimmermann",
         "showlegend": true,
         "type": "scatter",
         "visible": true,
         "x": [
          "J03WOH",
          "J03WOY",
          "J03WPY",
          "J03WQQ",
          "J03WR9"
         ],
         "y": {
          "bdata": "+6Goqipcvj/D5IiFIUOzP3GVC1RPAMI/83KbVYFaxj8LwAwI2qW0Pw==",
          "dtype": "f8"
         }
        },
        {
         "customdata": {
          "bdata": "GgBsAFQAqgAOAA==",
          "dtype": "i2"
         },
         "hovertemplate": "Spiel: %{x}<br>DAS_potential: %{y:.3f}<br>count: %{customdata}<extra></extra>",
         "legendgroup": "Shinta Karl Appelkamp",
         "line": {
          "width": 1
         },
         "marker": {
          "size": 6
         },
         "mode": "lines+markers",
         "name": "Shinta Karl Appelkamp",
         "showlegend": true,
         "type": "scatter",
         "visible": true,
         "x": [
          "J03WOH",
          "J03WOY",
          "J03WPY",
          "J03WQQ",
          "J03WR9"
         ],
         "y": {
          "bdata": "n0AMes1gkz+ouhDgrLGmPxeCuKbdTak/p2VtOG/ssz+V26AMBHJ4Pw==",
          "dtype": "f8"
         }
        },
        {
         "customdata": {
          "bdata": "fwCPAHUAyQCGAA==",
          "dtype": "i2"
         },
         "hovertemplate": "Spiel: %{x}<br>DAS_potential: %{y:.3f}<br>count: %{customdata}<extra></extra>",
         "legendgroup": "Matthias Jürgen Zimmermann",
         "line": {
          "width": 1
         },
         "marker": {
          "size": 6
         },
         "mode": "lines+markers",
         "name": "Matthias Jürgen Zimmermann",
         "showlegend": false,
         "type": "scatter",
         "visible": false,
         "x": [
          "J03WOH",
          "J03WOY",
          "J03WPY",
          "J03WQQ",
          "J03WR9"
         ],
         "y": {
          "bdata": "YZX9xX6zwT/Didp22Z+5P4Rj1D7gXcY/BOBbsNBhyT+uHvAfZlS4Pw==",
          "dtype": "f8"
         }
        },
        {
         "customdata": {
          "bdata": "fwCPAHUAyQCGAA==",
          "dtype": "i2"
         },
         "hovertemplate": "Spiel: %{x}<br>DAS_potential: %{y:.3f}<br>count: %{customdata}<extra></extra>",
         "legendgroup": "Matthias Jürgen Zimmermann",
         "line": {
          "width": 1
         },
         "marker": {
          "size": 6
         },
         "mode": "lines+markers",
         "name": "Matthias Jürgen Zimmermann",
         "showlegend": false,
         "type": "scatter",
         "visible": false,
         "x": [
          "J03WOH",
          "J03WOY",
          "J03WPY",
          "J03WQQ",
          "J03WR9"
         ],
         "y": {
          "bdata": "YZX9xX6zwT/Didp22Z+5P4Rj1D7gXcY/BOBbsNBhyT+uHvAfZlS4Pw==",
          "dtype": "f8"
         }
        },
        {
         "customdata": {
          "bdata": "fwCPAHUAyQCGAA==",
          "dtype": "i2"
         },
         "hovertemplate": "Spiel: %{x}<br>DAS_potential: %{y:.3f}<br>count: %{customdata}<extra></extra>",
         "legendgroup": "Matthias Jürgen Zimmermann",
         "line": {
          "width": 1
         },
         "marker": {
          "size": 6
         },
         "mode": "lines+markers",
         "name": "Matthias Jürgen Zimmermann",
         "showlegend": false,
         "type": "scatter",
         "visible": false,
         "x": [
          "J03WOH",
          "J03WOY",
          "J03WPY",
          "J03WQQ",
          "J03WR9"
         ],
         "y": {
          "bdata": "eZYSL+ZmwT9YAEcKCea4PwV06e2ZlsU/vJ7tDeUyyD/GU3qBE4a3Pw==",
          "dtype": "f8"
         }
        },
        {
         "customdata": {
          "bdata": "Ow==",
          "dtype": "i1"
         },
         "hovertemplate": "Spiel: %{x}<br>DAS_potential: %{y:.3f}<br>count: %{customdata}<extra></extra>",
         "legendgroup": "Matthias Jürgen Zimmermann",
         "line": {
          "width": 1
         },
         "marker": {
          "size": 6
         },
         "mode": "lines+markers",
         "name": "Matthias Jürgen Zimmermann",
         "showlegend": false,
         "type": "scatter",
         "visible": false,
         "x": [
          "J03WQQ"
         ],
         "y": {
          "bdata": "SacTq5/44z8=",
          "dtype": "f8"
         }
        },
        {
         "customdata": {
          "bdata": "Ow==",
          "dtype": "i1"
         },
         "hovertemplate": "Spiel: %{x}<br>DAS_potential: %{y:.3f}<br>count: %{customdata}<extra></extra>",
         "legendgroup": "Matthias Jürgen Zimmermann",
         "line": {
          "width": 1
         },
         "marker": {
          "size": 6
         },
         "mode": "lines+markers",
         "name": "Matthias Jürgen Zimmermann",
         "showlegend": false,
         "type": "scatter",
         "visible": false,
         "x": [
          "J03WQQ"
         ],
         "y": {
          "bdata": "SacTq5/44z8=",
          "dtype": "f8"
         }
        },
        {
         "customdata": {
          "bdata": "Ow==",
          "dtype": "i1"
         },
         "hovertemplate": "Spiel: %{x}<br>DAS_potential: %{y:.3f}<br>count: %{customdata}<extra></extra>",
         "legendgroup": "Matthias Jürgen Zimmermann",
         "line": {
          "width": 1
         },
         "marker": {
          "size": 6
         },
         "mode": "lines+markers",
         "name": "Matthias Jürgen Zimmermann",
         "showlegend": false,
         "type": "scatter",
         "visible": false,
         "x": [
          "J03WQQ"
         ],
         "y": {
          "bdata": "NMnpLC/T3z8=",
          "dtype": "f8"
         }
        },
        {
         "customdata": {
          "bdata": "Ow==",
          "dtype": "i1"
         },
         "hovertemplate": "Spiel: %{x}<br>DAS_potential: %{y:.3f}<br>count: %{customdata}<extra></extra>",
         "legendgroup": "Matthias Jürgen Zimmermann",
         "line": {
          "width": 1
         },
         "marker": {
          "size": 6
         },
         "mode": "lines+markers",
         "name": "Matthias Jürgen Zimmermann",
         "showlegend": false,
         "type": "scatter",
         "visible": false,
         "x": [
          "J03WQQ"
         ],
         "y": {
          "bdata": "8ECUgeVR4z8=",
          "dtype": "f8"
         }
        }
       ],
       "layout": {
        "hovermode": "closest",
        "legend": {
         "title": {
          "text": "Spieler"
         }
        },
        "template": {
         "data": {
          "bar": [
           {
            "error_x": {
             "color": "#2a3f5f"
            },
            "error_y": {
             "color": "#2a3f5f"
            },
            "marker": {
             "line": {
              "color": "#E5ECF6",
              "width": 0.5
             },
             "pattern": {
              "fillmode": "overlay",
              "size": 10,
              "solidity": 0.2
             }
            },
            "type": "bar"
           }
          ],
          "barpolar": [
           {
            "marker": {
             "line": {
              "color": "#E5ECF6",
              "width": 0.5
             },
             "pattern": {
              "fillmode": "overlay",
              "size": 10,
              "solidity": 0.2
             }
            },
            "type": "barpolar"
           }
          ],
          "carpet": [
           {
            "aaxis": {
             "endlinecolor": "#2a3f5f",
             "gridcolor": "white",
             "linecolor": "white",
             "minorgridcolor": "white",
             "startlinecolor": "#2a3f5f"
            },
            "baxis": {
             "endlinecolor": "#2a3f5f",
             "gridcolor": "white",
             "linecolor": "white",
             "minorgridcolor": "white",
             "startlinecolor": "#2a3f5f"
            },
            "type": "carpet"
           }
          ],
          "choropleth": [
           {
            "colorbar": {
             "outlinewidth": 0,
             "ticks": ""
            },
            "type": "choropleth"
           }
          ],
          "contour": [
           {
            "colorbar": {
             "outlinewidth": 0,
             "ticks": ""
            },
            "colorscale": [
             [
              0,
              "#0d0887"
             ],
             [
              0.1111111111111111,
              "#46039f"
             ],
             [
              0.2222222222222222,
              "#7201a8"
             ],
             [
              0.3333333333333333,
              "#9c179e"
             ],
             [
              0.4444444444444444,
              "#bd3786"
             ],
             [
              0.5555555555555556,
              "#d8576b"
             ],
             [
              0.6666666666666666,
              "#ed7953"
             ],
             [
              0.7777777777777778,
              "#fb9f3a"
             ],
             [
              0.8888888888888888,
              "#fdca26"
             ],
             [
              1,
              "#f0f921"
             ]
            ],
            "type": "contour"
           }
          ],
          "contourcarpet": [
           {
            "colorbar": {
             "outlinewidth": 0,
             "ticks": ""
            },
            "type": "contourcarpet"
           }
          ],
          "heatmap": [
           {
            "colorbar": {
             "outlinewidth": 0,
             "ticks": ""
            },
            "colorscale": [
             [
              0,
              "#0d0887"
             ],
             [
              0.1111111111111111,
              "#46039f"
             ],
             [
              0.2222222222222222,
              "#7201a8"
             ],
             [
              0.3333333333333333,
              "#9c179e"
             ],
             [
              0.4444444444444444,
              "#bd3786"
             ],
             [
              0.5555555555555556,
              "#d8576b"
             ],
             [
              0.6666666666666666,
              "#ed7953"
             ],
             [
              0.7777777777777778,
              "#fb9f3a"
             ],
             [
              0.8888888888888888,
              "#fdca26"
             ],
             [
              1,
              "#f0f921"
             ]
            ],
            "type": "heatmap"
           }
          ],
          "histogram": [
           {
            "marker": {
             "pattern": {
              "fillmode": "overlay",
              "size": 10,
              "solidity": 0.2
             }
            },
            "type": "histogram"
           }
          ],
          "histogram2d": [
           {
            "colorbar": {
             "outlinewidth": 0,
             "ticks": ""
            },
            "colorscale": [
             [
              0,
              "#0d0887"
             ],
             [
              0.1111111111111111,
              "#46039f"
             ],
             [
              0.2222222222222222,
              "#7201a8"
             ],
             [
              0.3333333333333333,
              "#9c179e"
             ],
             [
              0.4444444444444444,
              "#bd3786"
             ],
             [
              0.5555555555555556,
              "#d8576b"
             ],
             [
              0.6666666666666666,
              "#ed7953"
             ],
             [
              0.7777777777777778,
              "#fb9f3a"
             ],
             [
              0.8888888888888888,
              "#fdca26"
             ],
             [
              1,
              "#f0f921"
             ]
            ],
            "type": "histogram2d"
           }
          ],
          "histogram2dcontour": [
           {
            "colorbar": {
             "outlinewidth": 0,
             "ticks": ""
            },
            "colorscale": [
             [
              0,
              "#0d0887"
             ],
             [
              0.1111111111111111,
              "#46039f"
             ],
             [
              0.2222222222222222,
              "#7201a8"
             ],
             [
              0.3333333333333333,
              "#9c179e"
             ],
             [
              0.4444444444444444,
              "#bd3786"
             ],
             [
              0.5555555555555556,
              "#d8576b"
             ],
             [
              0.6666666666666666,
              "#ed7953"
             ],
             [
              0.7777777777777778,
              "#fb9f3a"
             ],
             [
              0.8888888888888888,
              "#fdca26"
             ],
             [
              1,
              "#f0f921"
             ]
            ],
            "type": "histogram2dcontour"
           }
          ],
          "mesh3d": [
           {
            "colorbar": {
             "outlinewidth": 0,
             "ticks": ""
            },
            "type": "mesh3d"
           }
          ],
          "parcoords": [
           {
            "line": {
             "colorbar": {
              "outlinewidth": 0,
              "ticks": ""
             }
            },
            "type": "parcoords"
           }
          ],
          "pie": [
           {
            "automargin": true,
            "type": "pie"
           }
          ],
          "scatter": [
           {
            "fillpattern": {
             "fillmode": "overlay",
             "size": 10,
             "solidity": 0.2
            },
            "type": "scatter"
           }
          ],
          "scatter3d": [
           {
            "line": {
             "colorbar": {
              "outlinewidth": 0,
              "ticks": ""
             }
            },
            "marker": {
             "colorbar": {
              "outlinewidth": 0,
              "ticks": ""
             }
            },
            "type": "scatter3d"
           }
          ],
          "scattercarpet": [
           {
            "marker": {
             "colorbar": {
              "outlinewidth": 0,
              "ticks": ""
             }
            },
            "type": "scattercarpet"
           }
          ],
          "scattergeo": [
           {
            "marker": {
             "colorbar": {
              "outlinewidth": 0,
              "ticks": ""
             }
            },
            "type": "scattergeo"
           }
          ],
          "scattergl": [
           {
            "marker": {
             "colorbar": {
              "outlinewidth": 0,
              "ticks": ""
             }
            },
            "type": "scattergl"
           }
          ],
          "scattermap": [
           {
            "marker": {
             "colorbar": {
              "outlinewidth": 0,
              "ticks": ""
             }
            },
            "type": "scattermap"
           }
          ],
          "scattermapbox": [
           {
            "marker": {
             "colorbar": {
              "outlinewidth": 0,
              "ticks": ""
             }
            },
            "type": "scattermapbox"
           }
          ],
          "scatterpolar": [
           {
            "marker": {
             "colorbar": {
              "outlinewidth": 0,
              "ticks": ""
             }
            },
            "type": "scatterpolar"
           }
          ],
          "scatterpolargl": [
           {
            "marker": {
             "colorbar": {
              "outlinewidth": 0,
              "ticks": ""
             }
            },
            "type": "scatterpolargl"
           }
          ],
          "scatterternary": [
           {
            "marker": {
             "colorbar": {
              "outlinewidth": 0,
              "ticks": ""
             }
            },
            "type": "scatterternary"
           }
          ],
          "surface": [
           {
            "colorbar": {
             "outlinewidth": 0,
             "ticks": ""
            },
            "colorscale": [
             [
              0,
              "#0d0887"
             ],
             [
              0.1111111111111111,
              "#46039f"
             ],
             [
              0.2222222222222222,
              "#7201a8"
             ],
             [
              0.3333333333333333,
              "#9c179e"
             ],
             [
              0.4444444444444444,
              "#bd3786"
             ],
             [
              0.5555555555555556,
              "#d8576b"
             ],
             [
              0.6666666666666666,
              "#ed7953"
             ],
             [
              0.7777777777777778,
              "#fb9f3a"
             ],
             [
              0.8888888888888888,
              "#fdca26"
             ],
             [
              1,
              "#f0f921"
             ]
            ],
            "type": "surface"
           }
          ],
          "table": [
           {
            "cells": {
             "fill": {
              "color": "#EBF0F8"
             },
             "line": {
              "color": "white"
             }
            },
            "header": {
             "fill": {
              "color": "#C8D4E3"
             },
             "line": {
              "color": "white"
             }
            },
            "type": "table"
           }
          ]
         },
         "layout": {
          "annotationdefaults": {
           "arrowcolor": "#2a3f5f",
           "arrowhead": 0,
           "arrowwidth": 1
          },
          "autotypenumbers": "strict",
          "coloraxis": {
           "colorbar": {
            "outlinewidth": 0,
            "ticks": ""
           }
          },
          "colorscale": {
           "diverging": [
            [
             0,
             "#8e0152"
            ],
            [
             0.1,
             "#c51b7d"
            ],
            [
             0.2,
             "#de77ae"
            ],
            [
             0.3,
             "#f1b6da"
            ],
            [
             0.4,
             "#fde0ef"
            ],
            [
             0.5,
             "#f7f7f7"
            ],
            [
             0.6,
             "#e6f5d0"
            ],
            [
             0.7,
             "#b8e186"
            ],
            [
             0.8,
             "#7fbc41"
            ],
            [
             0.9,
             "#4d9221"
            ],
            [
             1,
             "#276419"
            ]
           ],
           "sequential": [
            [
             0,
             "#0d0887"
            ],
            [
             0.1111111111111111,
             "#46039f"
            ],
            [
             0.2222222222222222,
             "#7201a8"
            ],
            [
             0.3333333333333333,
             "#9c179e"
            ],
            [
             0.4444444444444444,
             "#bd3786"
            ],
            [
             0.5555555555555556,
             "#d8576b"
            ],
            [
             0.6666666666666666,
             "#ed7953"
            ],
            [
             0.7777777777777778,
             "#fb9f3a"
            ],
            [
             0.8888888888888888,
             "#fdca26"
            ],
            [
             1,
             "#f0f921"
            ]
           ],
           "sequentialminus": [
            [
             0,
             "#0d0887"
            ],
            [
             0.1111111111111111,
             "#46039f"
            ],
            [
             0.2222222222222222,
             "#7201a8"
            ],
            [
             0.3333333333333333,
             "#9c179e"
            ],
            [
             0.4444444444444444,
             "#bd3786"
            ],
            [
             0.5555555555555556,
             "#d8576b"
            ],
            [
             0.6666666666666666,
             "#ed7953"
            ],
            [
             0.7777777777777778,
             "#fb9f3a"
            ],
            [
             0.8888888888888888,
             "#fdca26"
            ],
            [
             1,
             "#f0f921"
            ]
           ]
          },
          "colorway": [
           "#636efa",
           "#EF553B",
           "#00cc96",
           "#ab63fa",
           "#FFA15A",
           "#19d3f3",
           "#FF6692",
           "#B6E880",
           "#FF97FF",
           "#FECB52"
          ],
          "font": {
           "color": "#2a3f5f"
          },
          "geo": {
           "bgcolor": "white",
           "lakecolor": "white",
           "landcolor": "#E5ECF6",
           "showlakes": true,
           "showland": true,
           "subunitcolor": "white"
          },
          "hoverlabel": {
           "align": "left"
          },
          "hovermode": "closest",
          "mapbox": {
           "style": "light"
          },
          "paper_bgcolor": "white",
          "plot_bgcolor": "#E5ECF6",
          "polar": {
           "angularaxis": {
            "gridcolor": "white",
            "linecolor": "white",
            "ticks": ""
           },
           "bgcolor": "#E5ECF6",
           "radialaxis": {
            "gridcolor": "white",
            "linecolor": "white",
            "ticks": ""
           }
          },
          "scene": {
           "xaxis": {
            "backgroundcolor": "#E5ECF6",
            "gridcolor": "white",
            "gridwidth": 2,
            "linecolor": "white",
            "showbackground": true,
            "ticks": "",
            "zerolinecolor": "white"
           },
           "yaxis": {
            "backgroundcolor": "#E5ECF6",
            "gridcolor": "white",
            "gridwidth": 2,
            "linecolor": "white",
            "showbackground": true,
            "ticks": "",
            "zerolinecolor": "white"
           },
           "zaxis": {
            "backgroundcolor": "#E5ECF6",
            "gridcolor": "white",
            "gridwidth": 2,
            "linecolor": "white",
            "showbackground": true,
            "ticks": "",
            "zerolinecolor": "white"
           }
          },
          "shapedefaults": {
           "line": {
            "color": "#2a3f5f"
           }
          },
          "ternary": {
           "aaxis": {
            "gridcolor": "white",
            "linecolor": "white",
            "ticks": ""
           },
           "baxis": {
            "gridcolor": "white",
            "linecolor": "white",
            "ticks": ""
           },
           "bgcolor": "#E5ECF6",
           "caxis": {
            "gridcolor": "white",
            "linecolor": "white",
            "ticks": ""
           }
          },
          "title": {
           "x": 0.05
          },
          "xaxis": {
           "automargin": true,
           "gridcolor": "white",
           "linecolor": "white",
           "ticks": "",
           "title": {
            "standoff": 15
           },
           "zerolinecolor": "white",
           "zerolinewidth": 2
          },
          "yaxis": {
           "automargin": true,
           "gridcolor": "white",
           "linecolor": "white",
           "ticks": "",
           "title": {
            "standoff": 15
           },
           "zerolinecolor": "white",
           "zerolinewidth": 2
          }
         }
        },
        "title": {
         "text": "DAS Potential pro Spiel (Tuning: random-R_5-S_1-D_2-N_20)"
        },
        "updatemenus": [
         {
          "active": 0,
          "buttons": [
           {
            "args": [
             {
              "visible": [
               true,
               true,
               true,
               true,
               true,
               true,
               true,
               true,
               false,
               false,
               false,
               false,
               false,
               false,
               false
              ]
             },
             {
              "title": "DAS Potential pro Spiel (Tuning: random-R_5-S_1-D_2-N_20)"
             }
            ],
            "label": "random-R_5-S_1-D_2-N_20",
            "method": "update"
           },
           {
            "args": [
             {
              "visible": [
               false,
               false,
               false,
               false,
               false,
               false,
               false,
               false,
               true,
               false,
               false,
               false,
               false,
               false,
               false
              ]
             },
             {
              "title": "DAS Potential pro Spiel (Tuning: all_positions-R_5-S_1-D_2-N_20)"
             }
            ],
            "label": "all_positions-R_5-S_1-D_2-N_20",
            "method": "update"
           },
           {
            "args": [
             {
              "visible": [
               false,
               false,
               false,
               false,
               false,
               false,
               false,
               false,
               false,
               true,
               false,
               false,
               false,
               false,
               false
              ]
             },
             {
              "title": "DAS Potential pro Spiel (Tuning: random-R_5-S_1-D_2-N_100)"
             }
            ],
            "label": "random-R_5-S_1-D_2-N_100",
            "method": "update"
           },
           {
            "args": [
             {
              "visible": [
               false,
               false,
               false,
               false,
               false,
               false,
               false,
               false,
               false,
               false,
               true,
               false,
               false,
               false,
               false
              ]
             },
             {
              "title": "DAS Potential pro Spiel (Tuning: random-R_5-S_1-D_2-N_50)"
             }
            ],
            "label": "random-R_5-S_1-D_2-N_50",
            "method": "update"
           },
           {
            "args": [
             {
              "visible": [
               false,
               false,
               false,
               false,
               false,
               false,
               false,
               false,
               false,
               false,
               false,
               true,
               false,
               false,
               false
              ]
             },
             {
              "title": "DAS Potential pro Spiel (Tuning: all_positions_cut_1.0-R_5-S_1-D_2-N_20-C_1.0)"
             }
            ],
            "label": "all_positions_cut_1.0-R_5-S_1-D_2-N_20-C_1.0",
            "method": "update"
           },
           {
            "args": [
             {
              "visible": [
               false,
               false,
               false,
               false,
               false,
               false,
               false,
               false,
               false,
               false,
               false,
               false,
               true,
               false,
               false
              ]
             },
             {
              "title": "DAS Potential pro Spiel (Tuning: random_cut_1.0-R_5-S_1-D_2-N_100-C_1.0)"
             }
            ],
            "label": "random_cut_1.0-R_5-S_1-D_2-N_100-C_1.0",
            "method": "update"
           },
           {
            "args": [
             {
              "visible": [
               false,
               false,
               false,
               false,
               false,
               false,
               false,
               false,
               false,
               false,
               false,
               false,
               false,
               true,
               false
              ]
             },
             {
              "title": "DAS Potential pro Spiel (Tuning: random_cut_1.0-R_5-S_1-D_2-N_20-C_1.0)"
             }
            ],
            "label": "random_cut_1.0-R_5-S_1-D_2-N_20-C_1.0",
            "method": "update"
           },
           {
            "args": [
             {
              "visible": [
               false,
               false,
               false,
               false,
               false,
               false,
               false,
               false,
               false,
               false,
               false,
               false,
               false,
               false,
               true
              ]
             },
             {
              "title": "DAS Potential pro Spiel (Tuning: random_cut_1.0-R_5-S_1-D_2-N_50-C_1.0)"
             }
            ],
            "label": "random_cut_1.0-R_5-S_1-D_2-N_50-C_1.0",
            "method": "update"
           }
          ],
          "type": "dropdown",
          "x": 1.1,
          "xanchor": "left",
          "y": 1.15
         }
        ],
        "xaxis": {
         "title": {
          "text": "Spiel"
         }
        },
        "yaxis": {
         "title": {
          "text": "DAS_potential"
         }
        }
       }
      }
     },
     "metadata": {},
     "output_type": "display_data"
    },
    {
     "data": {
      "application/vnd.plotly.v1+json": {
       "config": {
        "plotlyServerURL": "https://plot.ly"
       },
       "data": [
        {
         "customdata": {
          "bdata": "GgCPAHUAyQCGAA==",
          "dtype": "i2"
         },
         "hovertemplate": "Spiel: %{x}<br>DAS_potential_percentage_over1: %{y:.3f}<br>count: %{customdata}<extra></extra>",
         "legendgroup": "Christoph Klarer",
         "line": {
          "width": 1
         },
         "marker": {
          "size": 6
         },
         "mode": "lines+markers",
         "name": "Christoph Klarer",
         "showlegend": true,
         "type": "scatter",
         "visible": true,
         "x": [
          "J03WOH",
          "J03WOY",
          "J03WPY",
          "J03WQQ",
          "J03WR9"
         ],
         "y": {
          "bdata": "ERRqCD/AK0Blp8BEl/EiQBdphWeoTB5Af/c5NArCJkBDLuBPG8YmQA==",
          "dtype": "f8"
         }
        },
        {
         "customdata": {
          "bdata": "egBsAHUAlQCGAA==",
          "dtype": "i2"
         },
         "hovertemplate": "Spiel: %{x}<br>DAS_potential_percentage_over1: %{y:.3f}<br>count: %{customdata}<extra></extra>",
         "legendgroup": "Dawid Igor Kownacki",
         "line": {
          "width": 1
         },
         "marker": {
          "size": 6
         },
         "mode": "lines+markers",
         "name": "Dawid Igor Kownacki",
         "showlegend": true,
         "type": "scatter",
         "visible": true,
         "x": [
          "J03WOH",
          "J03WOY",
          "J03WPY",
          "J03WQQ",
          "J03WR9"
         ],
         "y": {
          "bdata": "HjOJ+AOvCkDmFWRoHywMQK4IHFcL7vk/EfeQtngOBUC2Ghb5uLb5Pw==",
          "dtype": "f8"
         }
        },
        {
         "customdata": {
          "bdata": "BQAjAFQAxwB4AA==",
          "dtype": "i2"
         },
         "hovertemplate": "Spiel: %{x}<br>DAS_potential_percentage_over1: %{y:.3f}<br>count: %{customdata}<extra></extra>",
         "legendgroup": "Emmanuel Iyoha",
         "line": {
          "width": 1
         },
         "marker": {
          "size": 6
         },
         "mode": "lines+markers",
         "name": "Emmanuel Iyoha",
         "showlegend": true,
         "type": "scatter",
         "visible": true,
         "x": [
          "J03WOH",
          "J03WOY",
          "J03WPY",
          "J03WQQ",
          "J03WR9"
         ],
         "y": {
          "bdata": "bUCG4FMoA0C5URkm3M4FQFvrB5u0hvc/AneallAQF0BODlBj6lATQA==",
          "dtype": "f8"
         }
        },
        {
         "customdata": {
          "bdata": "egCFAF4ANAAOAA==",
          "dtype": "i2"
         },
         "hovertemplate": "Spiel: %{x}<br>DAS_potential_percentage_over1: %{y:.3f}<br>count: %{customdata}<extra></extra>",
         "legendgroup": "Felix Klaus",
         "line": {
          "width": 1
         },
         "marker": {
          "size": 6
         },
         "mode": "lines+markers",
         "name": "Felix Klaus",
         "showlegend": true,
         "type": "scatter",
         "visible": true,
         "x": [
          "J03WOH",
          "J03WOY",
          "J03WPY",
          "J03WQQ",
          "J03WR9"
         ],
         "y": {
          "bdata": "r0wXAmhEFUAR9eBrgOcYQNjHSZM1tAhAQ8TumvsfF0AhRYkBtGQNQA==",
          "dtype": "f8"
         }
        },
        {
         "customdata": {
          "bdata": "fwCPAHUAyQCGAA==",
          "dtype": "i2"
         },
         "hovertemplate": "Spiel: %{x}<br>DAS_potential_percentage_over1: %{y:.3f}<br>count: %{customdata}<extra></extra>",
         "legendgroup": "Florian Kastenmeier",
         "line": {
          "width": 1
         },
         "marker": {
          "size": 6
         },
         "mode": "lines+markers",
         "name": "Florian Kastenmeier",
         "showlegend": true,
         "type": "scatter",
         "visible": true,
         "x": [
          "J03WOH",
          "J03WOY",
          "J03WPY",
          "J03WQQ",
          "J03WR9"
         ],
         "y": {
          "bdata": "Ua2z/l8FB0APts11Q18PQCsgPpsbhSFASxR2cLelEUCKsEOgp2kRQA==",
          "dtype": "f8"
         }
        },
        {
         "customdata": {
          "bdata": "ZQB/ABcAlQB4AA==",
          "dtype": "i2"
         },
         "hovertemplate": "Spiel: %{x}<br>DAS_potential_percentage_over1: %{y:.3f}<br>count: %{customdata}<extra></extra>",
         "legendgroup": "Kristoffer Paul Peterson",
         "line": {
          "width": 1
         },
         "marker": {
          "size": 6
         },
         "mode": "lines+markers",
         "name": "Kristoffer Paul Peterson",
         "showlegend": true,
         "type": "scatter",
         "visible": true,
         "x": [
          "J03WOH",
          "J03WOY",
          "J03WPY",
          "J03WQQ",
          "J03WR9"
         ],
         "y": {
          "bdata": "1MLLZc83EUAiuniTPxkRQK2Hbqn1zRxAx6cLOSHMGUCPegYNJVoRQA==",
          "dtype": "f8"
         }
        },
        {
         "customdata": {
          "bdata": "fwCPAHUAyQCGAA==",
          "dtype": "i2"
         },
         "hovertemplate": "Spiel: %{x}<br>DAS_potential_percentage_over1: %{y:.3f}<br>count: %{customdata}<extra></extra>",
         "legendgroup": "Matthias Jürgen Zimmermann",
         "line": {
          "width": 1
         },
         "marker": {
          "size": 6
         },
         "mode": "lines+markers",
         "name": "Matthias Jürgen Zimmermann",
         "showlegend": true,
         "type": "scatter",
         "visible": true,
         "x": [
          "J03WOH",
          "J03WOY",
          "J03WPY",
          "J03WQQ",
          "J03WR9"
         ],
         "y": {
          "bdata": "6nPxyfqhHkBTEUrRYEEZQFBz1MVv3xdABWzw/dw4JEBhlCPizcQjQA==",
          "dtype": "f8"
         }
        },
        {
         "customdata": {
          "bdata": "GgBsAFQAqgAOAA==",
          "dtype": "i2"
         },
         "hovertemplate": "Spiel: %{x}<br>DAS_potential_percentage_over1: %{y:.3f}<br>count: %{customdata}<extra></extra>",
         "legendgroup": "Shinta Karl Appelkamp",
         "line": {
          "width": 1
         },
         "marker": {
          "size": 6
         },
         "mode": "lines+markers",
         "name": "Shinta Karl Appelkamp",
         "showlegend": true,
         "type": "scatter",
         "visible": true,
         "x": [
          "J03WOH",
          "J03WOY",
          "J03WPY",
          "J03WQQ",
          "J03WR9"
         ],
         "y": {
          "bdata": "R5MPgsE3+D/0An3Qp1sKQJvP9INnIAxAKbHN2xONDECLD28iFDmpPw==",
          "dtype": "f8"
         }
        },
        {
         "customdata": {
          "bdata": "fwCPAHUAyQCGAA==",
          "dtype": "i2"
         },
         "hovertemplate": "Spiel: %{x}<br>DAS_potential_percentage_over1: %{y:.3f}<br>count: %{customdata}<extra></extra>",
         "legendgroup": "Matthias Jürgen Zimmermann",
         "line": {
          "width": 1
         },
         "marker": {
          "size": 6
         },
         "mode": "lines+markers",
         "name": "Matthias Jürgen Zimmermann",
         "showlegend": false,
         "type": "scatter",
         "visible": false,
         "x": [
          "J03WOH",
          "J03WOY",
          "J03WPY",
          "J03WQQ",
          "J03WR9"
         ],
         "y": {
          "bdata": "lQ2cRN5RIkBukfH0DScfQCB3JotiJSBAbCsT06HjJkCNCfwpDWMoQA==",
          "dtype": "f8"
         }
        },
        {
         "customdata": {
          "bdata": "fwCPAHUAyQCGAA==",
          "dtype": "i2"
         },
         "hovertemplate": "Spiel: %{x}<br>DAS_potential_percentage_over1: %{y:.3f}<br>count: %{customdata}<extra></extra>",
         "legendgroup": "Matthias Jürgen Zimmermann",
         "line": {
          "width": 1
         },
         "marker": {
          "size": 6
         },
         "mode": "lines+markers",
         "name": "Matthias Jürgen Zimmermann",
         "showlegend": false,
         "type": "scatter",
         "visible": false,
         "x": [
          "J03WOH",
          "J03WOY",
          "J03WPY",
          "J03WQQ",
          "J03WR9"
         ],
         "y": {
          "bdata": "lQ2cRN5RIkBukfH0DScfQCB3JotiJSBAbCsT06HjJkCNCfwpDWMoQA==",
          "dtype": "f8"
         }
        },
        {
         "customdata": {
          "bdata": "fwCPAHUAyQCGAA==",
          "dtype": "i2"
         },
         "hovertemplate": "Spiel: %{x}<br>DAS_potential_percentage_over1: %{y:.3f}<br>count: %{customdata}<extra></extra>",
         "legendgroup": "Matthias Jürgen Zimmermann",
         "line": {
          "width": 1
         },
         "marker": {
          "size": 6
         },
         "mode": "lines+markers",
         "name": "Matthias Jürgen Zimmermann",
         "showlegend": false,
         "type": "scatter",
         "visible": false,
         "x": [
          "J03WOH",
          "J03WOY",
          "J03WPY",
          "J03WQQ",
          "J03WR9"
         ],
         "y": {
          "bdata": "Lh2gRj8tIkDftoOPU/QdQMMoRYs+Rh5AyELgIhj7JUB927HpKWYnQA==",
          "dtype": "f8"
         }
        },
        {
         "customdata": {
          "bdata": "Ow==",
          "dtype": "i1"
         },
         "hovertemplate": "Spiel: %{x}<br>DAS_potential_percentage_over1: %{y:.3f}<br>count: %{customdata}<extra></extra>",
         "legendgroup": "Matthias Jürgen Zimmermann",
         "line": {
          "width": 1
         },
         "marker": {
          "size": 6
         },
         "mode": "lines+markers",
         "name": "Matthias Jürgen Zimmermann",
         "showlegend": false,
         "type": "scatter",
         "visible": false,
         "x": [
          "J03WQQ"
         ],
         "y": {
          "bdata": "bCsT06HjJkA=",
          "dtype": "f8"
         }
        },
        {
         "customdata": {
          "bdata": "Ow==",
          "dtype": "i1"
         },
         "hovertemplate": "Spiel: %{x}<br>DAS_potential_percentage_over1: %{y:.3f}<br>count: %{customdata}<extra></extra>",
         "legendgroup": "Matthias Jürgen Zimmermann",
         "line": {
          "width": 1
         },
         "marker": {
          "size": 6
         },
         "mode": "lines+markers",
         "name": "Matthias Jürgen Zimmermann",
         "showlegend": false,
         "type": "scatter",
         "visible": false,
         "x": [
          "J03WQQ"
         ],
         "y": {
          "bdata": "bCsT06HjJkA=",
          "dtype": "f8"
         }
        },
        {
         "customdata": {
          "bdata": "Ow==",
          "dtype": "i1"
         },
         "hovertemplate": "Spiel: %{x}<br>DAS_potential_percentage_over1: %{y:.3f}<br>count: %{customdata}<extra></extra>",
         "legendgroup": "Matthias Jürgen Zimmermann",
         "line": {
          "width": 1
         },
         "marker": {
          "size": 6
         },
         "mode": "lines+markers",
         "name": "Matthias Jürgen Zimmermann",
         "showlegend": false,
         "type": "scatter",
         "visible": false,
         "x": [
          "J03WQQ"
         ],
         "y": {
          "bdata": "DcES9XnjIkA=",
          "dtype": "f8"
         }
        },
        {
         "customdata": {
          "bdata": "Ow==",
          "dtype": "i1"
         },
         "hovertemplate": "Spiel: %{x}<br>DAS_potential_percentage_over1: %{y:.3f}<br>count: %{customdata}<extra></extra>",
         "legendgroup": "Matthias Jürgen Zimmermann",
         "line": {
          "width": 1
         },
         "marker": {
          "size": 6
         },
         "mode": "lines+markers",
         "name": "Matthias Jürgen Zimmermann",
         "showlegend": false,
         "type": "scatter",
         "visible": false,
         "x": [
          "J03WQQ"
         ],
         "y": {
          "bdata": "Rb9p+ljsJUA=",
          "dtype": "f8"
         }
        }
       ],
       "layout": {
        "hovermode": "closest",
        "legend": {
         "title": {
          "text": "Spieler"
         }
        },
        "template": {
         "data": {
          "bar": [
           {
            "error_x": {
             "color": "#2a3f5f"
            },
            "error_y": {
             "color": "#2a3f5f"
            },
            "marker": {
             "line": {
              "color": "#E5ECF6",
              "width": 0.5
             },
             "pattern": {
              "fillmode": "overlay",
              "size": 10,
              "solidity": 0.2
             }
            },
            "type": "bar"
           }
          ],
          "barpolar": [
           {
            "marker": {
             "line": {
              "color": "#E5ECF6",
              "width": 0.5
             },
             "pattern": {
              "fillmode": "overlay",
              "size": 10,
              "solidity": 0.2
             }
            },
            "type": "barpolar"
           }
          ],
          "carpet": [
           {
            "aaxis": {
             "endlinecolor": "#2a3f5f",
             "gridcolor": "white",
             "linecolor": "white",
             "minorgridcolor": "white",
             "startlinecolor": "#2a3f5f"
            },
            "baxis": {
             "endlinecolor": "#2a3f5f",
             "gridcolor": "white",
             "linecolor": "white",
             "minorgridcolor": "white",
             "startlinecolor": "#2a3f5f"
            },
            "type": "carpet"
           }
          ],
          "choropleth": [
           {
            "colorbar": {
             "outlinewidth": 0,
             "ticks": ""
            },
            "type": "choropleth"
           }
          ],
          "contour": [
           {
            "colorbar": {
             "outlinewidth": 0,
             "ticks": ""
            },
            "colorscale": [
             [
              0,
              "#0d0887"
             ],
             [
              0.1111111111111111,
              "#46039f"
             ],
             [
              0.2222222222222222,
              "#7201a8"
             ],
             [
              0.3333333333333333,
              "#9c179e"
             ],
             [
              0.4444444444444444,
              "#bd3786"
             ],
             [
              0.5555555555555556,
              "#d8576b"
             ],
             [
              0.6666666666666666,
              "#ed7953"
             ],
             [
              0.7777777777777778,
              "#fb9f3a"
             ],
             [
              0.8888888888888888,
              "#fdca26"
             ],
             [
              1,
              "#f0f921"
             ]
            ],
            "type": "contour"
           }
          ],
          "contourcarpet": [
           {
            "colorbar": {
             "outlinewidth": 0,
             "ticks": ""
            },
            "type": "contourcarpet"
           }
          ],
          "heatmap": [
           {
            "colorbar": {
             "outlinewidth": 0,
             "ticks": ""
            },
            "colorscale": [
             [
              0,
              "#0d0887"
             ],
             [
              0.1111111111111111,
              "#46039f"
             ],
             [
              0.2222222222222222,
              "#7201a8"
             ],
             [
              0.3333333333333333,
              "#9c179e"
             ],
             [
              0.4444444444444444,
              "#bd3786"
             ],
             [
              0.5555555555555556,
              "#d8576b"
             ],
             [
              0.6666666666666666,
              "#ed7953"
             ],
             [
              0.7777777777777778,
              "#fb9f3a"
             ],
             [
              0.8888888888888888,
              "#fdca26"
             ],
             [
              1,
              "#f0f921"
             ]
            ],
            "type": "heatmap"
           }
          ],
          "histogram": [
           {
            "marker": {
             "pattern": {
              "fillmode": "overlay",
              "size": 10,
              "solidity": 0.2
             }
            },
            "type": "histogram"
           }
          ],
          "histogram2d": [
           {
            "colorbar": {
             "outlinewidth": 0,
             "ticks": ""
            },
            "colorscale": [
             [
              0,
              "#0d0887"
             ],
             [
              0.1111111111111111,
              "#46039f"
             ],
             [
              0.2222222222222222,
              "#7201a8"
             ],
             [
              0.3333333333333333,
              "#9c179e"
             ],
             [
              0.4444444444444444,
              "#bd3786"
             ],
             [
              0.5555555555555556,
              "#d8576b"
             ],
             [
              0.6666666666666666,
              "#ed7953"
             ],
             [
              0.7777777777777778,
              "#fb9f3a"
             ],
             [
              0.8888888888888888,
              "#fdca26"
             ],
             [
              1,
              "#f0f921"
             ]
            ],
            "type": "histogram2d"
           }
          ],
          "histogram2dcontour": [
           {
            "colorbar": {
             "outlinewidth": 0,
             "ticks": ""
            },
            "colorscale": [
             [
              0,
              "#0d0887"
             ],
             [
              0.1111111111111111,
              "#46039f"
             ],
             [
              0.2222222222222222,
              "#7201a8"
             ],
             [
              0.3333333333333333,
              "#9c179e"
             ],
             [
              0.4444444444444444,
              "#bd3786"
             ],
             [
              0.5555555555555556,
              "#d8576b"
             ],
             [
              0.6666666666666666,
              "#ed7953"
             ],
             [
              0.7777777777777778,
              "#fb9f3a"
             ],
             [
              0.8888888888888888,
              "#fdca26"
             ],
             [
              1,
              "#f0f921"
             ]
            ],
            "type": "histogram2dcontour"
           }
          ],
          "mesh3d": [
           {
            "colorbar": {
             "outlinewidth": 0,
             "ticks": ""
            },
            "type": "mesh3d"
           }
          ],
          "parcoords": [
           {
            "line": {
             "colorbar": {
              "outlinewidth": 0,
              "ticks": ""
             }
            },
            "type": "parcoords"
           }
          ],
          "pie": [
           {
            "automargin": true,
            "type": "pie"
           }
          ],
          "scatter": [
           {
            "fillpattern": {
             "fillmode": "overlay",
             "size": 10,
             "solidity": 0.2
            },
            "type": "scatter"
           }
          ],
          "scatter3d": [
           {
            "line": {
             "colorbar": {
              "outlinewidth": 0,
              "ticks": ""
             }
            },
            "marker": {
             "colorbar": {
              "outlinewidth": 0,
              "ticks": ""
             }
            },
            "type": "scatter3d"
           }
          ],
          "scattercarpet": [
           {
            "marker": {
             "colorbar": {
              "outlinewidth": 0,
              "ticks": ""
             }
            },
            "type": "scattercarpet"
           }
          ],
          "scattergeo": [
           {
            "marker": {
             "colorbar": {
              "outlinewidth": 0,
              "ticks": ""
             }
            },
            "type": "scattergeo"
           }
          ],
          "scattergl": [
           {
            "marker": {
             "colorbar": {
              "outlinewidth": 0,
              "ticks": ""
             }
            },
            "type": "scattergl"
           }
          ],
          "scattermap": [
           {
            "marker": {
             "colorbar": {
              "outlinewidth": 0,
              "ticks": ""
             }
            },
            "type": "scattermap"
           }
          ],
          "scattermapbox": [
           {
            "marker": {
             "colorbar": {
              "outlinewidth": 0,
              "ticks": ""
             }
            },
            "type": "scattermapbox"
           }
          ],
          "scatterpolar": [
           {
            "marker": {
             "colorbar": {
              "outlinewidth": 0,
              "ticks": ""
             }
            },
            "type": "scatterpolar"
           }
          ],
          "scatterpolargl": [
           {
            "marker": {
             "colorbar": {
              "outlinewidth": 0,
              "ticks": ""
             }
            },
            "type": "scatterpolargl"
           }
          ],
          "scatterternary": [
           {
            "marker": {
             "colorbar": {
              "outlinewidth": 0,
              "ticks": ""
             }
            },
            "type": "scatterternary"
           }
          ],
          "surface": [
           {
            "colorbar": {
             "outlinewidth": 0,
             "ticks": ""
            },
            "colorscale": [
             [
              0,
              "#0d0887"
             ],
             [
              0.1111111111111111,
              "#46039f"
             ],
             [
              0.2222222222222222,
              "#7201a8"
             ],
             [
              0.3333333333333333,
              "#9c179e"
             ],
             [
              0.4444444444444444,
              "#bd3786"
             ],
             [
              0.5555555555555556,
              "#d8576b"
             ],
             [
              0.6666666666666666,
              "#ed7953"
             ],
             [
              0.7777777777777778,
              "#fb9f3a"
             ],
             [
              0.8888888888888888,
              "#fdca26"
             ],
             [
              1,
              "#f0f921"
             ]
            ],
            "type": "surface"
           }
          ],
          "table": [
           {
            "cells": {
             "fill": {
              "color": "#EBF0F8"
             },
             "line": {
              "color": "white"
             }
            },
            "header": {
             "fill": {
              "color": "#C8D4E3"
             },
             "line": {
              "color": "white"
             }
            },
            "type": "table"
           }
          ]
         },
         "layout": {
          "annotationdefaults": {
           "arrowcolor": "#2a3f5f",
           "arrowhead": 0,
           "arrowwidth": 1
          },
          "autotypenumbers": "strict",
          "coloraxis": {
           "colorbar": {
            "outlinewidth": 0,
            "ticks": ""
           }
          },
          "colorscale": {
           "diverging": [
            [
             0,
             "#8e0152"
            ],
            [
             0.1,
             "#c51b7d"
            ],
            [
             0.2,
             "#de77ae"
            ],
            [
             0.3,
             "#f1b6da"
            ],
            [
             0.4,
             "#fde0ef"
            ],
            [
             0.5,
             "#f7f7f7"
            ],
            [
             0.6,
             "#e6f5d0"
            ],
            [
             0.7,
             "#b8e186"
            ],
            [
             0.8,
             "#7fbc41"
            ],
            [
             0.9,
             "#4d9221"
            ],
            [
             1,
             "#276419"
            ]
           ],
           "sequential": [
            [
             0,
             "#0d0887"
            ],
            [
             0.1111111111111111,
             "#46039f"
            ],
            [
             0.2222222222222222,
             "#7201a8"
            ],
            [
             0.3333333333333333,
             "#9c179e"
            ],
            [
             0.4444444444444444,
             "#bd3786"
            ],
            [
             0.5555555555555556,
             "#d8576b"
            ],
            [
             0.6666666666666666,
             "#ed7953"
            ],
            [
             0.7777777777777778,
             "#fb9f3a"
            ],
            [
             0.8888888888888888,
             "#fdca26"
            ],
            [
             1,
             "#f0f921"
            ]
           ],
           "sequentialminus": [
            [
             0,
             "#0d0887"
            ],
            [
             0.1111111111111111,
             "#46039f"
            ],
            [
             0.2222222222222222,
             "#7201a8"
            ],
            [
             0.3333333333333333,
             "#9c179e"
            ],
            [
             0.4444444444444444,
             "#bd3786"
            ],
            [
             0.5555555555555556,
             "#d8576b"
            ],
            [
             0.6666666666666666,
             "#ed7953"
            ],
            [
             0.7777777777777778,
             "#fb9f3a"
            ],
            [
             0.8888888888888888,
             "#fdca26"
            ],
            [
             1,
             "#f0f921"
            ]
           ]
          },
          "colorway": [
           "#636efa",
           "#EF553B",
           "#00cc96",
           "#ab63fa",
           "#FFA15A",
           "#19d3f3",
           "#FF6692",
           "#B6E880",
           "#FF97FF",
           "#FECB52"
          ],
          "font": {
           "color": "#2a3f5f"
          },
          "geo": {
           "bgcolor": "white",
           "lakecolor": "white",
           "landcolor": "#E5ECF6",
           "showlakes": true,
           "showland": true,
           "subunitcolor": "white"
          },
          "hoverlabel": {
           "align": "left"
          },
          "hovermode": "closest",
          "mapbox": {
           "style": "light"
          },
          "paper_bgcolor": "white",
          "plot_bgcolor": "#E5ECF6",
          "polar": {
           "angularaxis": {
            "gridcolor": "white",
            "linecolor": "white",
            "ticks": ""
           },
           "bgcolor": "#E5ECF6",
           "radialaxis": {
            "gridcolor": "white",
            "linecolor": "white",
            "ticks": ""
           }
          },
          "scene": {
           "xaxis": {
            "backgroundcolor": "#E5ECF6",
            "gridcolor": "white",
            "gridwidth": 2,
            "linecolor": "white",
            "showbackground": true,
            "ticks": "",
            "zerolinecolor": "white"
           },
           "yaxis": {
            "backgroundcolor": "#E5ECF6",
            "gridcolor": "white",
            "gridwidth": 2,
            "linecolor": "white",
            "showbackground": true,
            "ticks": "",
            "zerolinecolor": "white"
           },
           "zaxis": {
            "backgroundcolor": "#E5ECF6",
            "gridcolor": "white",
            "gridwidth": 2,
            "linecolor": "white",
            "showbackground": true,
            "ticks": "",
            "zerolinecolor": "white"
           }
          },
          "shapedefaults": {
           "line": {
            "color": "#2a3f5f"
           }
          },
          "ternary": {
           "aaxis": {
            "gridcolor": "white",
            "linecolor": "white",
            "ticks": ""
           },
           "baxis": {
            "gridcolor": "white",
            "linecolor": "white",
            "ticks": ""
           },
           "bgcolor": "#E5ECF6",
           "caxis": {
            "gridcolor": "white",
            "linecolor": "white",
            "ticks": ""
           }
          },
          "title": {
           "x": 0.05
          },
          "xaxis": {
           "automargin": true,
           "gridcolor": "white",
           "linecolor": "white",
           "ticks": "",
           "title": {
            "standoff": 15
           },
           "zerolinecolor": "white",
           "zerolinewidth": 2
          },
          "yaxis": {
           "automargin": true,
           "gridcolor": "white",
           "linecolor": "white",
           "ticks": "",
           "title": {
            "standoff": 15
           },
           "zerolinecolor": "white",
           "zerolinewidth": 2
          }
         }
        },
        "title": {
         "text": "DAS Potential pro Spiel (Tuning: random-R_5-S_1-D_2-N_20)"
        },
        "updatemenus": [
         {
          "active": 0,
          "buttons": [
           {
            "args": [
             {
              "visible": [
               true,
               true,
               true,
               true,
               true,
               true,
               true,
               true,
               false,
               false,
               false,
               false,
               false,
               false,
               false
              ]
             },
             {
              "title": "DAS Potential pro Spiel (Tuning: random-R_5-S_1-D_2-N_20)"
             }
            ],
            "label": "random-R_5-S_1-D_2-N_20",
            "method": "update"
           },
           {
            "args": [
             {
              "visible": [
               false,
               false,
               false,
               false,
               false,
               false,
               false,
               false,
               true,
               false,
               false,
               false,
               false,
               false,
               false
              ]
             },
             {
              "title": "DAS Potential pro Spiel (Tuning: all_positions-R_5-S_1-D_2-N_20)"
             }
            ],
            "label": "all_positions-R_5-S_1-D_2-N_20",
            "method": "update"
           },
           {
            "args": [
             {
              "visible": [
               false,
               false,
               false,
               false,
               false,
               false,
               false,
               false,
               false,
               true,
               false,
               false,
               false,
               false,
               false
              ]
             },
             {
              "title": "DAS Potential pro Spiel (Tuning: random-R_5-S_1-D_2-N_100)"
             }
            ],
            "label": "random-R_5-S_1-D_2-N_100",
            "method": "update"
           },
           {
            "args": [
             {
              "visible": [
               false,
               false,
               false,
               false,
               false,
               false,
               false,
               false,
               false,
               false,
               true,
               false,
               false,
               false,
               false
              ]
             },
             {
              "title": "DAS Potential pro Spiel (Tuning: random-R_5-S_1-D_2-N_50)"
             }
            ],
            "label": "random-R_5-S_1-D_2-N_50",
            "method": "update"
           },
           {
            "args": [
             {
              "visible": [
               false,
               false,
               false,
               false,
               false,
               false,
               false,
               false,
               false,
               false,
               false,
               true,
               false,
               false,
               false
              ]
             },
             {
              "title": "DAS Potential pro Spiel (Tuning: all_positions_cut_1.0-R_5-S_1-D_2-N_20-C_1.0)"
             }
            ],
            "label": "all_positions_cut_1.0-R_5-S_1-D_2-N_20-C_1.0",
            "method": "update"
           },
           {
            "args": [
             {
              "visible": [
               false,
               false,
               false,
               false,
               false,
               false,
               false,
               false,
               false,
               false,
               false,
               false,
               true,
               false,
               false
              ]
             },
             {
              "title": "DAS Potential pro Spiel (Tuning: random_cut_1.0-R_5-S_1-D_2-N_100-C_1.0)"
             }
            ],
            "label": "random_cut_1.0-R_5-S_1-D_2-N_100-C_1.0",
            "method": "update"
           },
           {
            "args": [
             {
              "visible": [
               false,
               false,
               false,
               false,
               false,
               false,
               false,
               false,
               false,
               false,
               false,
               false,
               false,
               true,
               false
              ]
             },
             {
              "title": "DAS Potential pro Spiel (Tuning: random_cut_1.0-R_5-S_1-D_2-N_20-C_1.0)"
             }
            ],
            "label": "random_cut_1.0-R_5-S_1-D_2-N_20-C_1.0",
            "method": "update"
           },
           {
            "args": [
             {
              "visible": [
               false,
               false,
               false,
               false,
               false,
               false,
               false,
               false,
               false,
               false,
               false,
               false,
               false,
               false,
               true
              ]
             },
             {
              "title": "DAS Potential pro Spiel (Tuning: random_cut_1.0-R_5-S_1-D_2-N_50-C_1.0)"
             }
            ],
            "label": "random_cut_1.0-R_5-S_1-D_2-N_50-C_1.0",
            "method": "update"
           }
          ],
          "type": "dropdown",
          "x": 1.1,
          "xanchor": "left",
          "y": 1.15
         }
        ],
        "xaxis": {
         "title": {
          "text": "Spiel"
         }
        },
        "yaxis": {
         "title": {
          "text": "DAS_potential_percentage_over1"
         }
        }
       }
      }
     },
     "metadata": {},
     "output_type": "display_data"
    },
    {
     "data": {
      "application/vnd.plotly.v1+json": {
       "config": {
        "plotlyServerURL": "https://plot.ly"
       },
       "data": [
        {
         "customdata": {
          "bdata": "GgCPAHUAyQCGAA==",
          "dtype": "i2"
         },
         "hovertemplate": "Spiel: %{x}<br>DAS_potential_over1: %{y:.3f}<br>count: %{customdata}<extra></extra>",
         "legendgroup": "Christoph Klarer",
         "line": {
          "width": 1
         },
         "marker": {
          "size": 6
         },
         "mode": "lines+markers",
         "name": "Christoph Klarer",
         "showlegend": true,
         "type": "scatter",
         "visible": true,
         "x": [
          "J03WOH",
          "J03WOY",
          "J03WPY",
          "J03WQQ",
          "J03WR9"
         ],
         "y": {
          "bdata": "WXSBwB0A1z8T9t5YWgDbP33Uo5cbbeQ/I3JtsQgn4z/QRWwi7ZTjPw==",
          "dtype": "f8"
         }
        },
        {
         "customdata": {
          "bdata": "egBsAHUAlQCGAA==",
          "dtype": "i2"
         },
         "hovertemplate": "Spiel: %{x}<br>DAS_potential_over1: %{y:.3f}<br>count: %{customdata}<extra></extra>",
         "legendgroup": "Dawid Igor Kownacki",
         "line": {
          "width": 1
         },
         "marker": {
          "size": 6
         },
         "mode": "lines+markers",
         "name": "Dawid Igor Kownacki",
         "showlegend": true,
         "type": "scatter",
         "visible": true,
         "x": [
          "J03WOH",
          "J03WOY",
          "J03WPY",
          "J03WQQ",
          "J03WR9"
         ],
         "y": {
          "bdata": "fM6xcj1TuT8oiELswzXXPwl3qdWW6rQ/lSHDnJARxD+BVsoaVT/TPw==",
          "dtype": "f8"
         }
        },
        {
         "customdata": {
          "bdata": "BQAjAFQAxwB4AA==",
          "dtype": "i2"
         },
         "hovertemplate": "Spiel: %{x}<br>DAS_potential_over1: %{y:.3f}<br>count: %{customdata}<extra></extra>",
         "legendgroup": "Emmanuel Iyoha",
         "line": {
          "width": 1
         },
         "marker": {
          "size": 6
         },
         "mode": "lines+markers",
         "name": "Emmanuel Iyoha",
         "showlegend": true,
         "type": "scatter",
         "visible": true,
         "x": [
          "J03WOH",
          "J03WOY",
          "J03WPY",
          "J03WQQ",
          "J03WR9"
         ],
         "y": {
          "bdata": "VVOFaXMWqD/nf6R4VzS4PwjNX7mR5KM/o/0gkLhG0z9CCJ/XYjDSPw==",
          "dtype": "f8"
         }
        },
        {
         "customdata": {
          "bdata": "egCFAF4ANAAOAA==",
          "dtype": "i2"
         },
         "hovertemplate": "Spiel: %{x}<br>DAS_potential_over1: %{y:.3f}<br>count: %{customdata}<extra></extra>",
         "legendgroup": "Felix Klaus",
         "line": {
          "width": 1
         },
         "marker": {
          "size": 6
         },
         "mode": "lines+markers",
         "name": "Felix Klaus",
         "showlegend": true,
         "type": "scatter",
         "visible": true,
         "x": [
          "J03WOH",
          "J03WOY",
          "J03WPY",
          "J03WQQ",
          "J03WR9"
         ],
         "y": {
          "bdata": "r9TeA3Z0wj+UH2RO6nnRPzIAEUM7FcE/dAsc9U942T8bQYGkeAimPw==",
          "dtype": "f8"
         }
        },
        {
         "customdata": {
          "bdata": "fwCPAHUAyQCGAA==",
          "dtype": "i2"
         },
         "hovertemplate": "Spiel: %{x}<br>DAS_potential_over1: %{y:.3f}<br>count: %{customdata}<extra></extra>",
         "legendgroup": "Florian Kastenmeier",
         "line": {
          "width": 1
         },
         "marker": {
          "size": 6
         },
         "mode": "lines+markers",
         "name": "Florian Kastenmeier",
         "showlegend": true,
         "type": "scatter",
         "visible": true,
         "x": [
          "J03WOH",
          "J03WOY",
          "J03WPY",
          "J03WQQ",
          "J03WR9"
         ],
         "y": {
          "bdata": "o/MOW9t8yz/diuPg+UbPP/VH1p+Bge4/UIn3Rs2O0D8GEbvzM8fePw==",
          "dtype": "f8"
         }
        },
        {
         "customdata": {
          "bdata": "ZQB/ABcAlQB4AA==",
          "dtype": "i2"
         },
         "hovertemplate": "Spiel: %{x}<br>DAS_potential_over1: %{y:.3f}<br>count: %{customdata}<extra></extra>",
         "legendgroup": "Kristoffer Paul Peterson",
         "line": {
          "width": 1
         },
         "marker": {
          "size": 6
         },
         "mode": "lines+markers",
         "name": "Kristoffer Paul Peterson",
         "showlegend": true,
         "type": "scatter",
         "visible": true,
         "x": [
          "J03WOH",
          "J03WOY",
          "J03WPY",
          "J03WQQ",
          "J03WR9"
         ],
         "y": {
          "bdata": "9R95DZVrwz9VSrt3NNbJPyAWIsDnW98/SlS03+Ku1T8JFKSllpjUPw==",
          "dtype": "f8"
         }
        },
        {
         "customdata": {
          "bdata": "fwCPAHUAyQCGAA==",
          "dtype": "i2"
         },
         "hovertemplate": "Spiel: %{x}<br>DAS_potential_over1: %{y:.3f}<br>count: %{customdata}<extra></extra>",
         "legendgroup": "Matthias Jürgen Zimmermann",
         "line": {
          "width": 1
         },
         "marker": {
          "size": 6
         },
         "mode": "lines+markers",
         "name": "Matthias Jürgen Zimmermann",
         "showlegend": true,
         "type": "scatter",
         "visible": true,
         "x": [
          "J03WOH",
          "J03WOY",
          "J03WPY",
          "J03WQQ",
          "J03WR9"
         ],
         "y": {
          "bdata": "2mlCPK8e1j+qc+JmzgHRP4i1oToLqtk/auopWfyi4T8ui3ZpN6bbPw==",
          "dtype": "f8"
         }
        },
        {
         "customdata": {
          "bdata": "GgBsAFQAqgAOAA==",
          "dtype": "i2"
         },
         "hovertemplate": "Spiel: %{x}<br>DAS_potential_over1: %{y:.3f}<br>count: %{customdata}<extra></extra>",
         "legendgroup": "Shinta Karl Appelkamp",
         "line": {
          "width": 1
         },
         "marker": {
          "size": 6
         },
         "mode": "lines+markers",
         "name": "Shinta Karl Appelkamp",
         "showlegend": true,
         "type": "scatter",
         "visible": true,
         "x": [
          "J03WOH",
          "J03WOY",
          "J03WPY",
          "J03WQQ",
          "J03WR9"
         ],
         "y": {
          "bdata": "DlwMu2w2oz+W/J+EporGPz7ENC2Oz70/wNGus3bc0D/Vq3tF4rtDPw==",
          "dtype": "f8"
         }
        },
        {
         "customdata": {
          "bdata": "fwCPAHUAyQCGAA==",
          "dtype": "i2"
         },
         "hovertemplate": "Spiel: %{x}<br>DAS_potential_over1: %{y:.3f}<br>count: %{customdata}<extra></extra>",
         "legendgroup": "Matthias Jürgen Zimmermann",
         "line": {
          "width": 1
         },
         "marker": {
          "size": 6
         },
         "mode": "lines+markers",
         "name": "Matthias Jürgen Zimmermann",
         "showlegend": false,
         "type": "scatter",
         "visible": false,
         "x": [
          "J03WOH",
          "J03WOY",
          "J03WPY",
          "J03WQQ",
          "J03WR9"
         ],
         "y": {
          "bdata": "kuyHpaHL2T/HBqSVB4vWP7beqPav7N8/SacTq5/44z8EJPaGn1zgPw==",
          "dtype": "f8"
         }
        },
        {
         "customdata": {
          "bdata": "fwCPAHUAyQCGAA==",
          "dtype": "i2"
         },
         "hovertemplate": "Spiel: %{x}<br>DAS_potential_over1: %{y:.3f}<br>count: %{customdata}<extra></extra>",
         "legendgroup": "Matthias Jürgen Zimmermann",
         "line": {
          "width": 1
         },
         "marker": {
          "size": 6
         },
         "mode": "lines+markers",
         "name": "Matthias Jürgen Zimmermann",
         "showlegend": false,
         "type": "scatter",
         "visible": false,
         "x": [
          "J03WOH",
          "J03WOY",
          "J03WPY",
          "J03WQQ",
          "J03WR9"
         ],
         "y": {
          "bdata": "kuyHpaHL2T/HBqSVB4vWP7beqPav7N8/SacTq5/44z8EJPaGn1zgPw==",
          "dtype": "f8"
         }
        },
        {
         "customdata": {
          "bdata": "fwCPAHUAyQCGAA==",
          "dtype": "i2"
         },
         "hovertemplate": "Spiel: %{x}<br>DAS_potential_over1: %{y:.3f}<br>count: %{customdata}<extra></extra>",
         "legendgroup": "Matthias Jürgen Zimmermann",
         "line": {
          "width": 1
         },
         "marker": {
          "size": 6
         },
         "mode": "lines+markers",
         "name": "Matthias Jürgen Zimmermann",
         "showlegend": false,
         "type": "scatter",
         "visible": false,
         "x": [
          "J03WOH",
          "J03WOY",
          "J03WPY",
          "J03WQQ",
          "J03WR9"
         ],
         "y": {
          "bdata": "qdL57U932T+FMNDesPTVP8+AS9p6zd4/RUZYeXQG4z+dFvkEhbvfPw==",
          "dtype": "f8"
         }
        },
        {
         "customdata": {
          "bdata": "Ow==",
          "dtype": "i1"
         },
         "hovertemplate": "Spiel: %{x}<br>DAS_potential_over1: %{y:.3f}<br>count: %{customdata}<extra></extra>",
         "legendgroup": "Matthias Jürgen Zimmermann",
         "line": {
          "width": 1
         },
         "marker": {
          "size": 6
         },
         "mode": "lines+markers",
         "name": "Matthias Jürgen Zimmermann",
         "showlegend": false,
         "type": "scatter",
         "visible": false,
         "x": [
          "J03WQQ"
         ],
         "y": {
          "bdata": "SacTq5/44z8=",
          "dtype": "f8"
         }
        },
        {
         "customdata": {
          "bdata": "Ow==",
          "dtype": "i1"
         },
         "hovertemplate": "Spiel: %{x}<br>DAS_potential_over1: %{y:.3f}<br>count: %{customdata}<extra></extra>",
         "legendgroup": "Matthias Jürgen Zimmermann",
         "line": {
          "width": 1
         },
         "marker": {
          "size": 6
         },
         "mode": "lines+markers",
         "name": "Matthias Jürgen Zimmermann",
         "showlegend": false,
         "type": "scatter",
         "visible": false,
         "x": [
          "J03WQQ"
         ],
         "y": {
          "bdata": "SacTq5/44z8=",
          "dtype": "f8"
         }
        },
        {
         "customdata": {
          "bdata": "Ow==",
          "dtype": "i1"
         },
         "hovertemplate": "Spiel: %{x}<br>DAS_potential_over1: %{y:.3f}<br>count: %{customdata}<extra></extra>",
         "legendgroup": "Matthias Jürgen Zimmermann",
         "line": {
          "width": 1
         },
         "marker": {
          "size": 6
         },
         "mode": "lines+markers",
         "name": "Matthias Jürgen Zimmermann",
         "showlegend": false,
         "type": "scatter",
         "visible": false,
         "x": [
          "J03WQQ"
         ],
         "y": {
          "bdata": "NMnpLC/T3z8=",
          "dtype": "f8"
         }
        },
        {
         "customdata": {
          "bdata": "Ow==",
          "dtype": "i1"
         },
         "hovertemplate": "Spiel: %{x}<br>DAS_potential_over1: %{y:.3f}<br>count: %{customdata}<extra></extra>",
         "legendgroup": "Matthias Jürgen Zimmermann",
         "line": {
          "width": 1
         },
         "marker": {
          "size": 6
         },
         "mode": "lines+markers",
         "name": "Matthias Jürgen Zimmermann",
         "showlegend": false,
         "type": "scatter",
         "visible": false,
         "x": [
          "J03WQQ"
         ],
         "y": {
          "bdata": "8ECUgeVR4z8=",
          "dtype": "f8"
         }
        }
       ],
       "layout": {
        "hovermode": "closest",
        "legend": {
         "title": {
          "text": "Spieler"
         }
        },
        "template": {
         "data": {
          "bar": [
           {
            "error_x": {
             "color": "#2a3f5f"
            },
            "error_y": {
             "color": "#2a3f5f"
            },
            "marker": {
             "line": {
              "color": "#E5ECF6",
              "width": 0.5
             },
             "pattern": {
              "fillmode": "overlay",
              "size": 10,
              "solidity": 0.2
             }
            },
            "type": "bar"
           }
          ],
          "barpolar": [
           {
            "marker": {
             "line": {
              "color": "#E5ECF6",
              "width": 0.5
             },
             "pattern": {
              "fillmode": "overlay",
              "size": 10,
              "solidity": 0.2
             }
            },
            "type": "barpolar"
           }
          ],
          "carpet": [
           {
            "aaxis": {
             "endlinecolor": "#2a3f5f",
             "gridcolor": "white",
             "linecolor": "white",
             "minorgridcolor": "white",
             "startlinecolor": "#2a3f5f"
            },
            "baxis": {
             "endlinecolor": "#2a3f5f",
             "gridcolor": "white",
             "linecolor": "white",
             "minorgridcolor": "white",
             "startlinecolor": "#2a3f5f"
            },
            "type": "carpet"
           }
          ],
          "choropleth": [
           {
            "colorbar": {
             "outlinewidth": 0,
             "ticks": ""
            },
            "type": "choropleth"
           }
          ],
          "contour": [
           {
            "colorbar": {
             "outlinewidth": 0,
             "ticks": ""
            },
            "colorscale": [
             [
              0,
              "#0d0887"
             ],
             [
              0.1111111111111111,
              "#46039f"
             ],
             [
              0.2222222222222222,
              "#7201a8"
             ],
             [
              0.3333333333333333,
              "#9c179e"
             ],
             [
              0.4444444444444444,
              "#bd3786"
             ],
             [
              0.5555555555555556,
              "#d8576b"
             ],
             [
              0.6666666666666666,
              "#ed7953"
             ],
             [
              0.7777777777777778,
              "#fb9f3a"
             ],
             [
              0.8888888888888888,
              "#fdca26"
             ],
             [
              1,
              "#f0f921"
             ]
            ],
            "type": "contour"
           }
          ],
          "contourcarpet": [
           {
            "colorbar": {
             "outlinewidth": 0,
             "ticks": ""
            },
            "type": "contourcarpet"
           }
          ],
          "heatmap": [
           {
            "colorbar": {
             "outlinewidth": 0,
             "ticks": ""
            },
            "colorscale": [
             [
              0,
              "#0d0887"
             ],
             [
              0.1111111111111111,
              "#46039f"
             ],
             [
              0.2222222222222222,
              "#7201a8"
             ],
             [
              0.3333333333333333,
              "#9c179e"
             ],
             [
              0.4444444444444444,
              "#bd3786"
             ],
             [
              0.5555555555555556,
              "#d8576b"
             ],
             [
              0.6666666666666666,
              "#ed7953"
             ],
             [
              0.7777777777777778,
              "#fb9f3a"
             ],
             [
              0.8888888888888888,
              "#fdca26"
             ],
             [
              1,
              "#f0f921"
             ]
            ],
            "type": "heatmap"
           }
          ],
          "histogram": [
           {
            "marker": {
             "pattern": {
              "fillmode": "overlay",
              "size": 10,
              "solidity": 0.2
             }
            },
            "type": "histogram"
           }
          ],
          "histogram2d": [
           {
            "colorbar": {
             "outlinewidth": 0,
             "ticks": ""
            },
            "colorscale": [
             [
              0,
              "#0d0887"
             ],
             [
              0.1111111111111111,
              "#46039f"
             ],
             [
              0.2222222222222222,
              "#7201a8"
             ],
             [
              0.3333333333333333,
              "#9c179e"
             ],
             [
              0.4444444444444444,
              "#bd3786"
             ],
             [
              0.5555555555555556,
              "#d8576b"
             ],
             [
              0.6666666666666666,
              "#ed7953"
             ],
             [
              0.7777777777777778,
              "#fb9f3a"
             ],
             [
              0.8888888888888888,
              "#fdca26"
             ],
             [
              1,
              "#f0f921"
             ]
            ],
            "type": "histogram2d"
           }
          ],
          "histogram2dcontour": [
           {
            "colorbar": {
             "outlinewidth": 0,
             "ticks": ""
            },
            "colorscale": [
             [
              0,
              "#0d0887"
             ],
             [
              0.1111111111111111,
              "#46039f"
             ],
             [
              0.2222222222222222,
              "#7201a8"
             ],
             [
              0.3333333333333333,
              "#9c179e"
             ],
             [
              0.4444444444444444,
              "#bd3786"
             ],
             [
              0.5555555555555556,
              "#d8576b"
             ],
             [
              0.6666666666666666,
              "#ed7953"
             ],
             [
              0.7777777777777778,
              "#fb9f3a"
             ],
             [
              0.8888888888888888,
              "#fdca26"
             ],
             [
              1,
              "#f0f921"
             ]
            ],
            "type": "histogram2dcontour"
           }
          ],
          "mesh3d": [
           {
            "colorbar": {
             "outlinewidth": 0,
             "ticks": ""
            },
            "type": "mesh3d"
           }
          ],
          "parcoords": [
           {
            "line": {
             "colorbar": {
              "outlinewidth": 0,
              "ticks": ""
             }
            },
            "type": "parcoords"
           }
          ],
          "pie": [
           {
            "automargin": true,
            "type": "pie"
           }
          ],
          "scatter": [
           {
            "fillpattern": {
             "fillmode": "overlay",
             "size": 10,
             "solidity": 0.2
            },
            "type": "scatter"
           }
          ],
          "scatter3d": [
           {
            "line": {
             "colorbar": {
              "outlinewidth": 0,
              "ticks": ""
             }
            },
            "marker": {
             "colorbar": {
              "outlinewidth": 0,
              "ticks": ""
             }
            },
            "type": "scatter3d"
           }
          ],
          "scattercarpet": [
           {
            "marker": {
             "colorbar": {
              "outlinewidth": 0,
              "ticks": ""
             }
            },
            "type": "scattercarpet"
           }
          ],
          "scattergeo": [
           {
            "marker": {
             "colorbar": {
              "outlinewidth": 0,
              "ticks": ""
             }
            },
            "type": "scattergeo"
           }
          ],
          "scattergl": [
           {
            "marker": {
             "colorbar": {
              "outlinewidth": 0,
              "ticks": ""
             }
            },
            "type": "scattergl"
           }
          ],
          "scattermap": [
           {
            "marker": {
             "colorbar": {
              "outlinewidth": 0,
              "ticks": ""
             }
            },
            "type": "scattermap"
           }
          ],
          "scattermapbox": [
           {
            "marker": {
             "colorbar": {
              "outlinewidth": 0,
              "ticks": ""
             }
            },
            "type": "scattermapbox"
           }
          ],
          "scatterpolar": [
           {
            "marker": {
             "colorbar": {
              "outlinewidth": 0,
              "ticks": ""
             }
            },
            "type": "scatterpolar"
           }
          ],
          "scatterpolargl": [
           {
            "marker": {
             "colorbar": {
              "outlinewidth": 0,
              "ticks": ""
             }
            },
            "type": "scatterpolargl"
           }
          ],
          "scatterternary": [
           {
            "marker": {
             "colorbar": {
              "outlinewidth": 0,
              "ticks": ""
             }
            },
            "type": "scatterternary"
           }
          ],
          "surface": [
           {
            "colorbar": {
             "outlinewidth": 0,
             "ticks": ""
            },
            "colorscale": [
             [
              0,
              "#0d0887"
             ],
             [
              0.1111111111111111,
              "#46039f"
             ],
             [
              0.2222222222222222,
              "#7201a8"
             ],
             [
              0.3333333333333333,
              "#9c179e"
             ],
             [
              0.4444444444444444,
              "#bd3786"
             ],
             [
              0.5555555555555556,
              "#d8576b"
             ],
             [
              0.6666666666666666,
              "#ed7953"
             ],
             [
              0.7777777777777778,
              "#fb9f3a"
             ],
             [
              0.8888888888888888,
              "#fdca26"
             ],
             [
              1,
              "#f0f921"
             ]
            ],
            "type": "surface"
           }
          ],
          "table": [
           {
            "cells": {
             "fill": {
              "color": "#EBF0F8"
             },
             "line": {
              "color": "white"
             }
            },
            "header": {
             "fill": {
              "color": "#C8D4E3"
             },
             "line": {
              "color": "white"
             }
            },
            "type": "table"
           }
          ]
         },
         "layout": {
          "annotationdefaults": {
           "arrowcolor": "#2a3f5f",
           "arrowhead": 0,
           "arrowwidth": 1
          },
          "autotypenumbers": "strict",
          "coloraxis": {
           "colorbar": {
            "outlinewidth": 0,
            "ticks": ""
           }
          },
          "colorscale": {
           "diverging": [
            [
             0,
             "#8e0152"
            ],
            [
             0.1,
             "#c51b7d"
            ],
            [
             0.2,
             "#de77ae"
            ],
            [
             0.3,
             "#f1b6da"
            ],
            [
             0.4,
             "#fde0ef"
            ],
            [
             0.5,
             "#f7f7f7"
            ],
            [
             0.6,
             "#e6f5d0"
            ],
            [
             0.7,
             "#b8e186"
            ],
            [
             0.8,
             "#7fbc41"
            ],
            [
             0.9,
             "#4d9221"
            ],
            [
             1,
             "#276419"
            ]
           ],
           "sequential": [
            [
             0,
             "#0d0887"
            ],
            [
             0.1111111111111111,
             "#46039f"
            ],
            [
             0.2222222222222222,
             "#7201a8"
            ],
            [
             0.3333333333333333,
             "#9c179e"
            ],
            [
             0.4444444444444444,
             "#bd3786"
            ],
            [
             0.5555555555555556,
             "#d8576b"
            ],
            [
             0.6666666666666666,
             "#ed7953"
            ],
            [
             0.7777777777777778,
             "#fb9f3a"
            ],
            [
             0.8888888888888888,
             "#fdca26"
            ],
            [
             1,
             "#f0f921"
            ]
           ],
           "sequentialminus": [
            [
             0,
             "#0d0887"
            ],
            [
             0.1111111111111111,
             "#46039f"
            ],
            [
             0.2222222222222222,
             "#7201a8"
            ],
            [
             0.3333333333333333,
             "#9c179e"
            ],
            [
             0.4444444444444444,
             "#bd3786"
            ],
            [
             0.5555555555555556,
             "#d8576b"
            ],
            [
             0.6666666666666666,
             "#ed7953"
            ],
            [
             0.7777777777777778,
             "#fb9f3a"
            ],
            [
             0.8888888888888888,
             "#fdca26"
            ],
            [
             1,
             "#f0f921"
            ]
           ]
          },
          "colorway": [
           "#636efa",
           "#EF553B",
           "#00cc96",
           "#ab63fa",
           "#FFA15A",
           "#19d3f3",
           "#FF6692",
           "#B6E880",
           "#FF97FF",
           "#FECB52"
          ],
          "font": {
           "color": "#2a3f5f"
          },
          "geo": {
           "bgcolor": "white",
           "lakecolor": "white",
           "landcolor": "#E5ECF6",
           "showlakes": true,
           "showland": true,
           "subunitcolor": "white"
          },
          "hoverlabel": {
           "align": "left"
          },
          "hovermode": "closest",
          "mapbox": {
           "style": "light"
          },
          "paper_bgcolor": "white",
          "plot_bgcolor": "#E5ECF6",
          "polar": {
           "angularaxis": {
            "gridcolor": "white",
            "linecolor": "white",
            "ticks": ""
           },
           "bgcolor": "#E5ECF6",
           "radialaxis": {
            "gridcolor": "white",
            "linecolor": "white",
            "ticks": ""
           }
          },
          "scene": {
           "xaxis": {
            "backgroundcolor": "#E5ECF6",
            "gridcolor": "white",
            "gridwidth": 2,
            "linecolor": "white",
            "showbackground": true,
            "ticks": "",
            "zerolinecolor": "white"
           },
           "yaxis": {
            "backgroundcolor": "#E5ECF6",
            "gridcolor": "white",
            "gridwidth": 2,
            "linecolor": "white",
            "showbackground": true,
            "ticks": "",
            "zerolinecolor": "white"
           },
           "zaxis": {
            "backgroundcolor": "#E5ECF6",
            "gridcolor": "white",
            "gridwidth": 2,
            "linecolor": "white",
            "showbackground": true,
            "ticks": "",
            "zerolinecolor": "white"
           }
          },
          "shapedefaults": {
           "line": {
            "color": "#2a3f5f"
           }
          },
          "ternary": {
           "aaxis": {
            "gridcolor": "white",
            "linecolor": "white",
            "ticks": ""
           },
           "baxis": {
            "gridcolor": "white",
            "linecolor": "white",
            "ticks": ""
           },
           "bgcolor": "#E5ECF6",
           "caxis": {
            "gridcolor": "white",
            "linecolor": "white",
            "ticks": ""
           }
          },
          "title": {
           "x": 0.05
          },
          "xaxis": {
           "automargin": true,
           "gridcolor": "white",
           "linecolor": "white",
           "ticks": "",
           "title": {
            "standoff": 15
           },
           "zerolinecolor": "white",
           "zerolinewidth": 2
          },
          "yaxis": {
           "automargin": true,
           "gridcolor": "white",
           "linecolor": "white",
           "ticks": "",
           "title": {
            "standoff": 15
           },
           "zerolinecolor": "white",
           "zerolinewidth": 2
          }
         }
        },
        "title": {
         "text": "DAS Potential pro Spiel (Tuning: random-R_5-S_1-D_2-N_20)"
        },
        "updatemenus": [
         {
          "active": 0,
          "buttons": [
           {
            "args": [
             {
              "visible": [
               true,
               true,
               true,
               true,
               true,
               true,
               true,
               true,
               false,
               false,
               false,
               false,
               false,
               false,
               false
              ]
             },
             {
              "title": "DAS Potential pro Spiel (Tuning: random-R_5-S_1-D_2-N_20)"
             }
            ],
            "label": "random-R_5-S_1-D_2-N_20",
            "method": "update"
           },
           {
            "args": [
             {
              "visible": [
               false,
               false,
               false,
               false,
               false,
               false,
               false,
               false,
               true,
               false,
               false,
               false,
               false,
               false,
               false
              ]
             },
             {
              "title": "DAS Potential pro Spiel (Tuning: all_positions-R_5-S_1-D_2-N_20)"
             }
            ],
            "label": "all_positions-R_5-S_1-D_2-N_20",
            "method": "update"
           },
           {
            "args": [
             {
              "visible": [
               false,
               false,
               false,
               false,
               false,
               false,
               false,
               false,
               false,
               true,
               false,
               false,
               false,
               false,
               false
              ]
             },
             {
              "title": "DAS Potential pro Spiel (Tuning: random-R_5-S_1-D_2-N_100)"
             }
            ],
            "label": "random-R_5-S_1-D_2-N_100",
            "method": "update"
           },
           {
            "args": [
             {
              "visible": [
               false,
               false,
               false,
               false,
               false,
               false,
               false,
               false,
               false,
               false,
               true,
               false,
               false,
               false,
               false
              ]
             },
             {
              "title": "DAS Potential pro Spiel (Tuning: random-R_5-S_1-D_2-N_50)"
             }
            ],
            "label": "random-R_5-S_1-D_2-N_50",
            "method": "update"
           },
           {
            "args": [
             {
              "visible": [
               false,
               false,
               false,
               false,
               false,
               false,
               false,
               false,
               false,
               false,
               false,
               true,
               false,
               false,
               false
              ]
             },
             {
              "title": "DAS Potential pro Spiel (Tuning: all_positions_cut_1.0-R_5-S_1-D_2-N_20-C_1.0)"
             }
            ],
            "label": "all_positions_cut_1.0-R_5-S_1-D_2-N_20-C_1.0",
            "method": "update"
           },
           {
            "args": [
             {
              "visible": [
               false,
               false,
               false,
               false,
               false,
               false,
               false,
               false,
               false,
               false,
               false,
               false,
               true,
               false,
               false
              ]
             },
             {
              "title": "DAS Potential pro Spiel (Tuning: random_cut_1.0-R_5-S_1-D_2-N_100-C_1.0)"
             }
            ],
            "label": "random_cut_1.0-R_5-S_1-D_2-N_100-C_1.0",
            "method": "update"
           },
           {
            "args": [
             {
              "visible": [
               false,
               false,
               false,
               false,
               false,
               false,
               false,
               false,
               false,
               false,
               false,
               false,
               false,
               true,
               false
              ]
             },
             {
              "title": "DAS Potential pro Spiel (Tuning: random_cut_1.0-R_5-S_1-D_2-N_20-C_1.0)"
             }
            ],
            "label": "random_cut_1.0-R_5-S_1-D_2-N_20-C_1.0",
            "method": "update"
           },
           {
            "args": [
             {
              "visible": [
               false,
               false,
               false,
               false,
               false,
               false,
               false,
               false,
               false,
               false,
               false,
               false,
               false,
               false,
               true
              ]
             },
             {
              "title": "DAS Potential pro Spiel (Tuning: random_cut_1.0-R_5-S_1-D_2-N_50-C_1.0)"
             }
            ],
            "label": "random_cut_1.0-R_5-S_1-D_2-N_50-C_1.0",
            "method": "update"
           }
          ],
          "type": "dropdown",
          "x": 1.1,
          "xanchor": "left",
          "y": 1.15
         }
        ],
        "xaxis": {
         "title": {
          "text": "Spiel"
         }
        },
        "yaxis": {
         "title": {
          "text": "DAS_potential_over1"
         }
        }
       }
      }
     },
     "metadata": {},
     "output_type": "display_data"
    }
   ],
   "source": [
    "# Spieler für alle Spiele\n",
    "n_total_games = grouped_df_125[\"game_id\"].nunique()\n",
    "print(f\"Anzahl Spiele: {n_total_games}\")\n",
    "\n",
    "all_players = add_player_names()\n",
    "grouped_named = grouped_df_125.merge(all_players, on=[\"game_id\", \"player\"], how=\"left\")\n",
    "\n",
    "games_played = grouped_named.groupby(\"id\")[\"game_id\"].nunique().reset_index(name=\"games_played\")\n",
    "n_max_games = games_played[\"games_played\"].max()\n",
    "all_game_players = games_played[games_played[\"games_played\"] == min(n_max_games, n_total_games)]\n",
    "\n",
    "fair_grouped_df = grouped_named.merge(all_game_players, on=\"id\")\n",
    "\n",
    "line_players(fair_grouped_df)\n",
    "line_players(fair_grouped_df, metric=\"DAS_potential_percentage_over1\")\n",
    "line_players(fair_grouped_df, metric=\"DAS_potential_over1\")"
   ]
  },
  {
   "cell_type": "code",
   "execution_count": 56,
   "id": "3f23f4f0",
   "metadata": {},
   "outputs": [
    {
     "data": {
      "application/vnd.plotly.v1+json": {
       "config": {
        "plotlyServerURL": "https://plot.ly"
       },
       "data": [
        {
         "legendgroup": "Christoph Klarer",
         "mode": "lines+markers",
         "name": "Christoph Klarer",
         "showlegend": true,
         "type": "scatter",
         "visible": true,
         "x": [
          "J03WOH",
          "J03WOY",
          "J03WPY",
          "J03WQQ",
          "J03WR9"
         ],
         "y": {
          "bdata": "WXSBwB0A1z8T9t5YWgDbP33Uo5cbbeQ/I3JtsQgn4z/QRWwi7ZTjPw==",
          "dtype": "f8"
         }
        },
        {
         "legendgroup": "Dawid Igor Kownacki",
         "mode": "lines+markers",
         "name": "Dawid Igor Kownacki",
         "showlegend": true,
         "type": "scatter",
         "visible": true,
         "x": [
          "J03WOH",
          "J03WOY",
          "J03WPY",
          "J03WQQ",
          "J03WR9"
         ],
         "y": {
          "bdata": "fM6xcj1TuT8oiELswzXXPwl3qdWW6rQ/lSHDnJARxD+BVsoaVT/TPw==",
          "dtype": "f8"
         }
        },
        {
         "legendgroup": "Emmanuel Iyoha",
         "mode": "lines+markers",
         "name": "Emmanuel Iyoha",
         "showlegend": true,
         "type": "scatter",
         "visible": true,
         "x": [
          "J03WOH",
          "J03WOY",
          "J03WPY",
          "J03WQQ",
          "J03WR9"
         ],
         "y": {
          "bdata": "VVOFaXMWqD/nf6R4VzS4PwjNX7mR5KM/o/0gkLhG0z9CCJ/XYjDSPw==",
          "dtype": "f8"
         }
        },
        {
         "legendgroup": "Felix Klaus",
         "mode": "lines+markers",
         "name": "Felix Klaus",
         "showlegend": true,
         "type": "scatter",
         "visible": true,
         "x": [
          "J03WOH",
          "J03WOY",
          "J03WPY",
          "J03WQQ",
          "J03WR9"
         ],
         "y": {
          "bdata": "r9TeA3Z0wj+UH2RO6nnRPzIAEUM7FcE/dAsc9U942T8bQYGkeAimPw==",
          "dtype": "f8"
         }
        },
        {
         "legendgroup": "Florian Kastenmeier",
         "mode": "lines+markers",
         "name": "Florian Kastenmeier",
         "showlegend": true,
         "type": "scatter",
         "visible": true,
         "x": [
          "J03WOH",
          "J03WOY",
          "J03WPY",
          "J03WQQ",
          "J03WR9"
         ],
         "y": {
          "bdata": "o/MOW9t8yz/diuPg+UbPP/VH1p+Bge4/UIn3Rs2O0D8GEbvzM8fePw==",
          "dtype": "f8"
         }
        },
        {
         "legendgroup": "Kristoffer Paul Peterson",
         "mode": "lines+markers",
         "name": "Kristoffer Paul Peterson",
         "showlegend": true,
         "type": "scatter",
         "visible": true,
         "x": [
          "J03WOH",
          "J03WOY",
          "J03WPY",
          "J03WQQ",
          "J03WR9"
         ],
         "y": {
          "bdata": "9R95DZVrwz9VSrt3NNbJPyAWIsDnW98/SlS03+Ku1T8JFKSllpjUPw==",
          "dtype": "f8"
         }
        },
        {
         "legendgroup": "Matthias Jürgen Zimmermann",
         "mode": "lines+markers",
         "name": "Matthias Jürgen Zimmermann",
         "showlegend": true,
         "type": "scatter",
         "visible": true,
         "x": [
          "J03WOH",
          "J03WOY",
          "J03WPY",
          "J03WQQ",
          "J03WQQ",
          "J03WR9"
         ],
         "y": {
          "bdata": "2mlCPK8e1j+qc+JmzgHRP4i1oToLqtk/auopWfyi4T/4Ui/6sMnhPy6Ldmk3pts/",
          "dtype": "f8"
         }
        },
        {
         "legendgroup": "Shinta Karl Appelkamp",
         "mode": "lines+markers",
         "name": "Shinta Karl Appelkamp",
         "showlegend": true,
         "type": "scatter",
         "visible": true,
         "x": [
          "J03WOH",
          "J03WOY",
          "J03WPY",
          "J03WQQ",
          "J03WR9"
         ],
         "y": {
          "bdata": "DlwMu2w2oz+W/J+EporGPz7ENC2Oz70/wNGus3bc0D/Vq3tF4rtDPw==",
          "dtype": "f8"
         }
        },
        {
         "legendgroup": "Matthias Jürgen Zimmermann",
         "mode": "lines+markers",
         "name": "Matthias Jürgen Zimmermann",
         "showlegend": false,
         "type": "scatter",
         "visible": false,
         "x": [
          "J03WOH",
          "J03WOY",
          "J03WPY",
          "J03WQQ",
          "J03WR9"
         ],
         "y": {
          "bdata": "kuyHpaHL2T/HBqSVB4vWP7beqPav7N8/SacTq5/44z8EJPaGn1zgPw==",
          "dtype": "f8"
         }
        },
        {
         "legendgroup": "Matthias Jürgen Zimmermann",
         "mode": "lines+markers",
         "name": "Matthias Jürgen Zimmermann",
         "showlegend": false,
         "type": "scatter",
         "visible": false,
         "x": [
          "J03WOH",
          "J03WOY",
          "J03WPY",
          "J03WQQ",
          "J03WR9"
         ],
         "y": {
          "bdata": "kuyHpaHL2T/HBqSVB4vWP7beqPav7N8/SacTq5/44z8EJPaGn1zgPw==",
          "dtype": "f8"
         }
        },
        {
         "legendgroup": "Matthias Jürgen Zimmermann",
         "mode": "lines+markers",
         "name": "Matthias Jürgen Zimmermann",
         "showlegend": false,
         "type": "scatter",
         "visible": false,
         "x": [
          "J03WOH",
          "J03WOY",
          "J03WPY",
          "J03WQQ",
          "J03WR9"
         ],
         "y": {
          "bdata": "qdL57U932T+FMNDesPTVP8+AS9p6zd4/RUZYeXQG4z+dFvkEhbvfPw==",
          "dtype": "f8"
         }
        },
        {
         "legendgroup": "Matthias Jürgen Zimmermann",
         "mode": "lines+markers",
         "name": "Matthias Jürgen Zimmermann",
         "showlegend": false,
         "type": "scatter",
         "visible": false,
         "x": [
          "J03WQQ"
         ],
         "y": {
          "bdata": "SacTq5/44z8=",
          "dtype": "f8"
         }
        },
        {
         "legendgroup": "Matthias Jürgen Zimmermann",
         "mode": "lines+markers",
         "name": "Matthias Jürgen Zimmermann",
         "showlegend": false,
         "type": "scatter",
         "visible": false,
         "x": [
          "J03WQQ"
         ],
         "y": {
          "bdata": "SacTq5/44z8=",
          "dtype": "f8"
         }
        },
        {
         "legendgroup": "Matthias Jürgen Zimmermann",
         "mode": "lines+markers",
         "name": "Matthias Jürgen Zimmermann",
         "showlegend": false,
         "type": "scatter",
         "visible": false,
         "x": [
          "J03WQQ",
          "J03WQQ"
         ],
         "y": {
          "bdata": "NMnpLC/T3z/WDj8uMdTlPw==",
          "dtype": "f8"
         }
        },
        {
         "legendgroup": "Matthias Jürgen Zimmermann",
         "mode": "lines+markers",
         "name": "Matthias Jürgen Zimmermann",
         "showlegend": false,
         "type": "scatter",
         "visible": false,
         "x": [
          "J03WQQ"
         ],
         "y": {
          "bdata": "8ECUgeVR4z8=",
          "dtype": "f8"
         }
        }
       ],
       "layout": {
        "legend": {
         "title": {
          "text": "Spieler"
         }
        },
        "template": {
         "data": {
          "bar": [
           {
            "error_x": {
             "color": "#2a3f5f"
            },
            "error_y": {
             "color": "#2a3f5f"
            },
            "marker": {
             "line": {
              "color": "#E5ECF6",
              "width": 0.5
             },
             "pattern": {
              "fillmode": "overlay",
              "size": 10,
              "solidity": 0.2
             }
            },
            "type": "bar"
           }
          ],
          "barpolar": [
           {
            "marker": {
             "line": {
              "color": "#E5ECF6",
              "width": 0.5
             },
             "pattern": {
              "fillmode": "overlay",
              "size": 10,
              "solidity": 0.2
             }
            },
            "type": "barpolar"
           }
          ],
          "carpet": [
           {
            "aaxis": {
             "endlinecolor": "#2a3f5f",
             "gridcolor": "white",
             "linecolor": "white",
             "minorgridcolor": "white",
             "startlinecolor": "#2a3f5f"
            },
            "baxis": {
             "endlinecolor": "#2a3f5f",
             "gridcolor": "white",
             "linecolor": "white",
             "minorgridcolor": "white",
             "startlinecolor": "#2a3f5f"
            },
            "type": "carpet"
           }
          ],
          "choropleth": [
           {
            "colorbar": {
             "outlinewidth": 0,
             "ticks": ""
            },
            "type": "choropleth"
           }
          ],
          "contour": [
           {
            "colorbar": {
             "outlinewidth": 0,
             "ticks": ""
            },
            "colorscale": [
             [
              0,
              "#0d0887"
             ],
             [
              0.1111111111111111,
              "#46039f"
             ],
             [
              0.2222222222222222,
              "#7201a8"
             ],
             [
              0.3333333333333333,
              "#9c179e"
             ],
             [
              0.4444444444444444,
              "#bd3786"
             ],
             [
              0.5555555555555556,
              "#d8576b"
             ],
             [
              0.6666666666666666,
              "#ed7953"
             ],
             [
              0.7777777777777778,
              "#fb9f3a"
             ],
             [
              0.8888888888888888,
              "#fdca26"
             ],
             [
              1,
              "#f0f921"
             ]
            ],
            "type": "contour"
           }
          ],
          "contourcarpet": [
           {
            "colorbar": {
             "outlinewidth": 0,
             "ticks": ""
            },
            "type": "contourcarpet"
           }
          ],
          "heatmap": [
           {
            "colorbar": {
             "outlinewidth": 0,
             "ticks": ""
            },
            "colorscale": [
             [
              0,
              "#0d0887"
             ],
             [
              0.1111111111111111,
              "#46039f"
             ],
             [
              0.2222222222222222,
              "#7201a8"
             ],
             [
              0.3333333333333333,
              "#9c179e"
             ],
             [
              0.4444444444444444,
              "#bd3786"
             ],
             [
              0.5555555555555556,
              "#d8576b"
             ],
             [
              0.6666666666666666,
              "#ed7953"
             ],
             [
              0.7777777777777778,
              "#fb9f3a"
             ],
             [
              0.8888888888888888,
              "#fdca26"
             ],
             [
              1,
              "#f0f921"
             ]
            ],
            "type": "heatmap"
           }
          ],
          "histogram": [
           {
            "marker": {
             "pattern": {
              "fillmode": "overlay",
              "size": 10,
              "solidity": 0.2
             }
            },
            "type": "histogram"
           }
          ],
          "histogram2d": [
           {
            "colorbar": {
             "outlinewidth": 0,
             "ticks": ""
            },
            "colorscale": [
             [
              0,
              "#0d0887"
             ],
             [
              0.1111111111111111,
              "#46039f"
             ],
             [
              0.2222222222222222,
              "#7201a8"
             ],
             [
              0.3333333333333333,
              "#9c179e"
             ],
             [
              0.4444444444444444,
              "#bd3786"
             ],
             [
              0.5555555555555556,
              "#d8576b"
             ],
             [
              0.6666666666666666,
              "#ed7953"
             ],
             [
              0.7777777777777778,
              "#fb9f3a"
             ],
             [
              0.8888888888888888,
              "#fdca26"
             ],
             [
              1,
              "#f0f921"
             ]
            ],
            "type": "histogram2d"
           }
          ],
          "histogram2dcontour": [
           {
            "colorbar": {
             "outlinewidth": 0,
             "ticks": ""
            },
            "colorscale": [
             [
              0,
              "#0d0887"
             ],
             [
              0.1111111111111111,
              "#46039f"
             ],
             [
              0.2222222222222222,
              "#7201a8"
             ],
             [
              0.3333333333333333,
              "#9c179e"
             ],
             [
              0.4444444444444444,
              "#bd3786"
             ],
             [
              0.5555555555555556,
              "#d8576b"
             ],
             [
              0.6666666666666666,
              "#ed7953"
             ],
             [
              0.7777777777777778,
              "#fb9f3a"
             ],
             [
              0.8888888888888888,
              "#fdca26"
             ],
             [
              1,
              "#f0f921"
             ]
            ],
            "type": "histogram2dcontour"
           }
          ],
          "mesh3d": [
           {
            "colorbar": {
             "outlinewidth": 0,
             "ticks": ""
            },
            "type": "mesh3d"
           }
          ],
          "parcoords": [
           {
            "line": {
             "colorbar": {
              "outlinewidth": 0,
              "ticks": ""
             }
            },
            "type": "parcoords"
           }
          ],
          "pie": [
           {
            "automargin": true,
            "type": "pie"
           }
          ],
          "scatter": [
           {
            "fillpattern": {
             "fillmode": "overlay",
             "size": 10,
             "solidity": 0.2
            },
            "type": "scatter"
           }
          ],
          "scatter3d": [
           {
            "line": {
             "colorbar": {
              "outlinewidth": 0,
              "ticks": ""
             }
            },
            "marker": {
             "colorbar": {
              "outlinewidth": 0,
              "ticks": ""
             }
            },
            "type": "scatter3d"
           }
          ],
          "scattercarpet": [
           {
            "marker": {
             "colorbar": {
              "outlinewidth": 0,
              "ticks": ""
             }
            },
            "type": "scattercarpet"
           }
          ],
          "scattergeo": [
           {
            "marker": {
             "colorbar": {
              "outlinewidth": 0,
              "ticks": ""
             }
            },
            "type": "scattergeo"
           }
          ],
          "scattergl": [
           {
            "marker": {
             "colorbar": {
              "outlinewidth": 0,
              "ticks": ""
             }
            },
            "type": "scattergl"
           }
          ],
          "scattermap": [
           {
            "marker": {
             "colorbar": {
              "outlinewidth": 0,
              "ticks": ""
             }
            },
            "type": "scattermap"
           }
          ],
          "scattermapbox": [
           {
            "marker": {
             "colorbar": {
              "outlinewidth": 0,
              "ticks": ""
             }
            },
            "type": "scattermapbox"
           }
          ],
          "scatterpolar": [
           {
            "marker": {
             "colorbar": {
              "outlinewidth": 0,
              "ticks": ""
             }
            },
            "type": "scatterpolar"
           }
          ],
          "scatterpolargl": [
           {
            "marker": {
             "colorbar": {
              "outlinewidth": 0,
              "ticks": ""
             }
            },
            "type": "scatterpolargl"
           }
          ],
          "scatterternary": [
           {
            "marker": {
             "colorbar": {
              "outlinewidth": 0,
              "ticks": ""
             }
            },
            "type": "scatterternary"
           }
          ],
          "surface": [
           {
            "colorbar": {
             "outlinewidth": 0,
             "ticks": ""
            },
            "colorscale": [
             [
              0,
              "#0d0887"
             ],
             [
              0.1111111111111111,
              "#46039f"
             ],
             [
              0.2222222222222222,
              "#7201a8"
             ],
             [
              0.3333333333333333,
              "#9c179e"
             ],
             [
              0.4444444444444444,
              "#bd3786"
             ],
             [
              0.5555555555555556,
              "#d8576b"
             ],
             [
              0.6666666666666666,
              "#ed7953"
             ],
             [
              0.7777777777777778,
              "#fb9f3a"
             ],
             [
              0.8888888888888888,
              "#fdca26"
             ],
             [
              1,
              "#f0f921"
             ]
            ],
            "type": "surface"
           }
          ],
          "table": [
           {
            "cells": {
             "fill": {
              "color": "#EBF0F8"
             },
             "line": {
              "color": "white"
             }
            },
            "header": {
             "fill": {
              "color": "#C8D4E3"
             },
             "line": {
              "color": "white"
             }
            },
            "type": "table"
           }
          ]
         },
         "layout": {
          "annotationdefaults": {
           "arrowcolor": "#2a3f5f",
           "arrowhead": 0,
           "arrowwidth": 1
          },
          "autotypenumbers": "strict",
          "coloraxis": {
           "colorbar": {
            "outlinewidth": 0,
            "ticks": ""
           }
          },
          "colorscale": {
           "diverging": [
            [
             0,
             "#8e0152"
            ],
            [
             0.1,
             "#c51b7d"
            ],
            [
             0.2,
             "#de77ae"
            ],
            [
             0.3,
             "#f1b6da"
            ],
            [
             0.4,
             "#fde0ef"
            ],
            [
             0.5,
             "#f7f7f7"
            ],
            [
             0.6,
             "#e6f5d0"
            ],
            [
             0.7,
             "#b8e186"
            ],
            [
             0.8,
             "#7fbc41"
            ],
            [
             0.9,
             "#4d9221"
            ],
            [
             1,
             "#276419"
            ]
           ],
           "sequential": [
            [
             0,
             "#0d0887"
            ],
            [
             0.1111111111111111,
             "#46039f"
            ],
            [
             0.2222222222222222,
             "#7201a8"
            ],
            [
             0.3333333333333333,
             "#9c179e"
            ],
            [
             0.4444444444444444,
             "#bd3786"
            ],
            [
             0.5555555555555556,
             "#d8576b"
            ],
            [
             0.6666666666666666,
             "#ed7953"
            ],
            [
             0.7777777777777778,
             "#fb9f3a"
            ],
            [
             0.8888888888888888,
             "#fdca26"
            ],
            [
             1,
             "#f0f921"
            ]
           ],
           "sequentialminus": [
            [
             0,
             "#0d0887"
            ],
            [
             0.1111111111111111,
             "#46039f"
            ],
            [
             0.2222222222222222,
             "#7201a8"
            ],
            [
             0.3333333333333333,
             "#9c179e"
            ],
            [
             0.4444444444444444,
             "#bd3786"
            ],
            [
             0.5555555555555556,
             "#d8576b"
            ],
            [
             0.6666666666666666,
             "#ed7953"
            ],
            [
             0.7777777777777778,
             "#fb9f3a"
            ],
            [
             0.8888888888888888,
             "#fdca26"
            ],
            [
             1,
             "#f0f921"
            ]
           ]
          },
          "colorway": [
           "#636efa",
           "#EF553B",
           "#00cc96",
           "#ab63fa",
           "#FFA15A",
           "#19d3f3",
           "#FF6692",
           "#B6E880",
           "#FF97FF",
           "#FECB52"
          ],
          "font": {
           "color": "#2a3f5f"
          },
          "geo": {
           "bgcolor": "white",
           "lakecolor": "white",
           "landcolor": "#E5ECF6",
           "showlakes": true,
           "showland": true,
           "subunitcolor": "white"
          },
          "hoverlabel": {
           "align": "left"
          },
          "hovermode": "closest",
          "mapbox": {
           "style": "light"
          },
          "paper_bgcolor": "white",
          "plot_bgcolor": "#E5ECF6",
          "polar": {
           "angularaxis": {
            "gridcolor": "white",
            "linecolor": "white",
            "ticks": ""
           },
           "bgcolor": "#E5ECF6",
           "radialaxis": {
            "gridcolor": "white",
            "linecolor": "white",
            "ticks": ""
           }
          },
          "scene": {
           "xaxis": {
            "backgroundcolor": "#E5ECF6",
            "gridcolor": "white",
            "gridwidth": 2,
            "linecolor": "white",
            "showbackground": true,
            "ticks": "",
            "zerolinecolor": "white"
           },
           "yaxis": {
            "backgroundcolor": "#E5ECF6",
            "gridcolor": "white",
            "gridwidth": 2,
            "linecolor": "white",
            "showbackground": true,
            "ticks": "",
            "zerolinecolor": "white"
           },
           "zaxis": {
            "backgroundcolor": "#E5ECF6",
            "gridcolor": "white",
            "gridwidth": 2,
            "linecolor": "white",
            "showbackground": true,
            "ticks": "",
            "zerolinecolor": "white"
           }
          },
          "shapedefaults": {
           "line": {
            "color": "#2a3f5f"
           }
          },
          "ternary": {
           "aaxis": {
            "gridcolor": "white",
            "linecolor": "white",
            "ticks": ""
           },
           "baxis": {
            "gridcolor": "white",
            "linecolor": "white",
            "ticks": ""
           },
           "bgcolor": "#E5ECF6",
           "caxis": {
            "gridcolor": "white",
            "linecolor": "white",
            "ticks": ""
           }
          },
          "title": {
           "x": 0.05
          },
          "xaxis": {
           "automargin": true,
           "gridcolor": "white",
           "linecolor": "white",
           "ticks": "",
           "title": {
            "standoff": 15
           },
           "zerolinecolor": "white",
           "zerolinewidth": 2
          },
          "yaxis": {
           "automargin": true,
           "gridcolor": "white",
           "linecolor": "white",
           "ticks": "",
           "title": {
            "standoff": 15
           },
           "zerolinecolor": "white",
           "zerolinewidth": 2
          }
         }
        },
        "title": {
         "text": "DAS Potential pro Spiel (Tuning: random-R_5-S_1-D_2-N_20)"
        },
        "updatemenus": [
         {
          "active": 0,
          "buttons": [
           {
            "args": [
             {
              "visible": [
               true,
               true,
               true,
               true,
               true,
               true,
               true,
               true,
               false,
               false,
               false,
               false,
               false,
               false,
               false
              ]
             },
             {
              "title": "DAS Potential pro Spiel (Tuning: random-R_5-S_1-D_2-N_20)"
             }
            ],
            "label": "random-R_5-S_1-D_2-N_20",
            "method": "update"
           },
           {
            "args": [
             {
              "visible": [
               false,
               false,
               false,
               false,
               false,
               false,
               false,
               false,
               true,
               false,
               false,
               false,
               false,
               false,
               false
              ]
             },
             {
              "title": "DAS Potential pro Spiel (Tuning: all_positions-R_5-S_1-D_2-N_20)"
             }
            ],
            "label": "all_positions-R_5-S_1-D_2-N_20",
            "method": "update"
           },
           {
            "args": [
             {
              "visible": [
               false,
               false,
               false,
               false,
               false,
               false,
               false,
               false,
               false,
               true,
               false,
               false,
               false,
               false,
               false
              ]
             },
             {
              "title": "DAS Potential pro Spiel (Tuning: random-R_5-S_1-D_2-N_100)"
             }
            ],
            "label": "random-R_5-S_1-D_2-N_100",
            "method": "update"
           },
           {
            "args": [
             {
              "visible": [
               false,
               false,
               false,
               false,
               false,
               false,
               false,
               false,
               false,
               false,
               true,
               false,
               false,
               false,
               false
              ]
             },
             {
              "title": "DAS Potential pro Spiel (Tuning: random-R_5-S_1-D_2-N_50)"
             }
            ],
            "label": "random-R_5-S_1-D_2-N_50",
            "method": "update"
           },
           {
            "args": [
             {
              "visible": [
               false,
               false,
               false,
               false,
               false,
               false,
               false,
               false,
               false,
               false,
               false,
               true,
               false,
               false,
               false
              ]
             },
             {
              "title": "DAS Potential pro Spiel (Tuning: all_positions_cut_1.0-R_5-S_1-D_2-N_20-C_1.0)"
             }
            ],
            "label": "all_positions_cut_1.0-R_5-S_1-D_2-N_20-C_1.0",
            "method": "update"
           },
           {
            "args": [
             {
              "visible": [
               false,
               false,
               false,
               false,
               false,
               false,
               false,
               false,
               false,
               false,
               false,
               false,
               true,
               false,
               false
              ]
             },
             {
              "title": "DAS Potential pro Spiel (Tuning: random_cut_1.0-R_5-S_1-D_2-N_100-C_1.0)"
             }
            ],
            "label": "random_cut_1.0-R_5-S_1-D_2-N_100-C_1.0",
            "method": "update"
           },
           {
            "args": [
             {
              "visible": [
               false,
               false,
               false,
               false,
               false,
               false,
               false,
               false,
               false,
               false,
               false,
               false,
               false,
               true,
               false
              ]
             },
             {
              "title": "DAS Potential pro Spiel (Tuning: random_cut_1.0-R_5-S_1-D_2-N_20-C_1.0)"
             }
            ],
            "label": "random_cut_1.0-R_5-S_1-D_2-N_20-C_1.0",
            "method": "update"
           },
           {
            "args": [
             {
              "visible": [
               false,
               false,
               false,
               false,
               false,
               false,
               false,
               false,
               false,
               false,
               false,
               false,
               false,
               false,
               true
              ]
             },
             {
              "title": "DAS Potential pro Spiel (Tuning: random_cut_1.0-R_5-S_1-D_2-N_50-C_1.0)"
             }
            ],
            "label": "random_cut_1.0-R_5-S_1-D_2-N_50-C_1.0",
            "method": "update"
           }
          ],
          "type": "dropdown",
          "x": 1.1,
          "xanchor": "left",
          "y": 1.15
         }
        ],
        "xaxis": {
         "title": {
          "text": "Spiel"
         }
        },
        "yaxis": {
         "title": {
          "text": "DAS_potential"
         }
        }
       }
      }
     },
     "metadata": {},
     "output_type": "display_data"
    },
    {
     "data": {
      "application/vnd.plotly.v1+json": {
       "config": {
        "plotlyServerURL": "https://plot.ly"
       },
       "data": [
        {
         "legendgroup": "Christoph Klarer",
         "mode": "lines+markers",
         "name": "Christoph Klarer",
         "showlegend": true,
         "type": "scatter",
         "visible": true,
         "x": [
          "J03WOH",
          "J03WOY",
          "J03WPY",
          "J03WQQ",
          "J03WR9"
         ],
         "y": {
          "bdata": "9Uookdu85T/owcan+hQCQFM/ondY9SJAsPhHkYGAEUBYh0k+pW4QQA==",
          "dtype": "f8"
         }
        },
        {
         "legendgroup": "Dawid Igor Kownacki",
         "mode": "lines+markers",
         "name": "Dawid Igor Kownacki",
         "showlegend": true,
         "type": "scatter",
         "visible": true,
         "x": [
          "J03WOH",
          "J03WOY",
          "J03WPY",
          "J03WQQ",
          "J03WR9"
         ],
         "y": {
          "bdata": "EN880gQN/D9g+evz4ckKQKDdjK3mYfo/1E9o9mim9T/YS0580msUQA==",
          "dtype": "f8"
         }
        },
        {
         "legendgroup": "Emmanuel Iyoha",
         "mode": "lines+markers",
         "name": "Emmanuel Iyoha",
         "showlegend": true,
         "type": "scatter",
         "visible": true,
         "x": [
          "J03WOH",
          "J03WOY",
          "J03WPY",
          "J03WQQ",
          "J03WR9"
         ],
         "y": {
          "bdata": "VVOFaXMWqD9/uLRG3lDWP0+FQScd0t4/7NRr7+9DBEB4OJWpaWn0Pw==",
          "dtype": "f8"
         }
        },
        {
         "legendgroup": "Felix Klaus",
         "mode": "lines+markers",
         "name": "Felix Klaus",
         "showlegend": true,
         "type": "scatter",
         "visible": true,
         "x": [
          "J03WOH",
          "J03WOY",
          "J03WPY",
          "J03WQQ",
          "J03WR9"
         ],
         "y": {
          "bdata": "WJqv1a2u6z8DbZgv8nABQOe3sjwmi/U/kFwn9jF//D/1Zt2VVoHAPw==",
          "dtype": "f8"
         }
        },
        {
         "legendgroup": "Florian Kastenmeier",
         "mode": "lines+markers",
         "name": "Florian Kastenmeier",
         "showlegend": true,
         "type": "scatter",
         "visible": true,
         "x": [
          "J03WOH",
          "J03WOY",
          "J03WPY",
          "J03WQQ",
          "J03WR9"
         ],
         "y": {
          "bdata": "fLMZfFETC0Al+p94ZLcKQI1FLgtF3yVA0GVXQthBAEBgTzlK4H4TQA==",
          "dtype": "f8"
         }
        },
        {
         "legendgroup": "Kristoffer Paul Peterson",
         "mode": "lines+markers",
         "name": "Kristoffer Paul Peterson",
         "showlegend": true,
         "type": "scatter",
         "visible": true,
         "x": [
          "J03WOH",
          "J03WOY",
          "J03WPY",
          "J03WQQ",
          "J03WR9"
         ],
         "y": {
          "bdata": "/K8ounUS8T8IQk11QpHxP5C+DinJVv8/EmwApahhEUDA2e2DqwgRQA==",
          "dtype": "f8"
         }
        },
        {
         "legendgroup": "Matthias Jürgen Zimmermann",
         "mode": "lines+markers",
         "name": "Matthias Jürgen Zimmermann",
         "showlegend": true,
         "type": "scatter",
         "visible": true,
         "x": [
          "J03WOH",
          "J03WOY",
          "J03WPY",
          "J03WQQ",
          "J03WQQ",
          "J03WR9"
         ],
         "y": {
          "bdata": "XKPQarh8AkD/cyWN8ib+P7CIUd8YhhJAxAKb9nlZEEDsMqY7cmkcQMA2oncf1AZA",
          "dtype": "f8"
         }
        },
        {
         "legendgroup": "Shinta Karl Appelkamp",
         "mode": "lines+markers",
         "name": "Shinta Karl Appelkamp",
         "showlegend": true,
         "type": "scatter",
         "visible": true,
         "x": [
          "J03WOH",
          "J03WOY",
          "J03WPY",
          "J03WQQ",
          "J03WR9"
         ],
         "y": {
          "bdata": "xgEzNMkRwT+AYKHxeejzP2DXd/Dr0uE/UN4at/UXBUAEm5YfMFtRPw==",
          "dtype": "f8"
         }
        },
        {
         "legendgroup": "Matthias Jürgen Zimmermann",
         "mode": "lines+markers",
         "name": "Matthias Jürgen Zimmermann",
         "showlegend": false,
         "type": "scatter",
         "visible": false,
         "x": [
          "J03WOH",
          "J03WOY",
          "J03WPY",
          "J03WQQ",
          "J03WR9"
         ],
         "y": {
          "bdata": "XKPQarh8AkCUZ79k87ACQBAAXs8jWBRAxAKb9nlZEECwNqJ3H9QGQA==",
          "dtype": "f8"
         }
        },
        {
         "legendgroup": "Matthias Jürgen Zimmermann",
         "mode": "lines+markers",
         "name": "Matthias Jürgen Zimmermann",
         "showlegend": false,
         "type": "scatter",
         "visible": false,
         "x": [
          "J03WOH",
          "J03WOY",
          "J03WPY",
          "J03WQQ",
          "J03WR9"
         ],
         "y": {
          "bdata": "XKPQarh8AkCUZ79k87ACQBAAXs8jWBRAxAKb9nlZEECwNqJ3H9QGQA==",
          "dtype": "f8"
         }
        },
        {
         "legendgroup": "Matthias Jürgen Zimmermann",
         "mode": "lines+markers",
         "name": "Matthias Jürgen Zimmermann",
         "showlegend": false,
         "type": "scatter",
         "visible": false,
         "x": [
          "J03WOH",
          "J03WOY",
          "J03WPY",
          "J03WQQ",
          "J03WR9"
         ],
         "y": {
          "bdata": "OD/XtkOcAUCUZ79k87ACQBAAXs8jWBRA7k5WIx0ADkCwNqJ3H9QGQA==",
          "dtype": "f8"
         }
        },
        {
         "legendgroup": "Matthias Jürgen Zimmermann",
         "mode": "lines+markers",
         "name": "Matthias Jürgen Zimmermann",
         "showlegend": false,
         "type": "scatter",
         "visible": false,
         "x": [
          "J03WQQ"
         ],
         "y": {
          "bdata": "xAKb9nlZEEA=",
          "dtype": "f8"
         }
        },
        {
         "legendgroup": "Matthias Jürgen Zimmermann",
         "mode": "lines+markers",
         "name": "Matthias Jürgen Zimmermann",
         "showlegend": false,
         "type": "scatter",
         "visible": false,
         "x": [
          "J03WQQ"
         ],
         "y": {
          "bdata": "xAKb9nlZEEA=",
          "dtype": "f8"
         }
        },
        {
         "legendgroup": "Matthias Jürgen Zimmermann",
         "mode": "lines+markers",
         "name": "Matthias Jürgen Zimmermann",
         "showlegend": false,
         "type": "scatter",
         "visible": false,
         "x": [
          "J03WQQ",
          "J03WQQ"
         ],
         "y": {
          "bdata": "xAKb9nlZEECyKH54gCkiQA==",
          "dtype": "f8"
         }
        },
        {
         "legendgroup": "Matthias Jürgen Zimmermann",
         "mode": "lines+markers",
         "name": "Matthias Jürgen Zimmermann",
         "showlegend": false,
         "type": "scatter",
         "visible": false,
         "x": [
          "J03WQQ"
         ],
         "y": {
          "bdata": "mjK33+aHD0A=",
          "dtype": "f8"
         }
        }
       ],
       "layout": {
        "legend": {
         "title": {
          "text": "Spieler"
         }
        },
        "template": {
         "data": {
          "bar": [
           {
            "error_x": {
             "color": "#2a3f5f"
            },
            "error_y": {
             "color": "#2a3f5f"
            },
            "marker": {
             "line": {
              "color": "#E5ECF6",
              "width": 0.5
             },
             "pattern": {
              "fillmode": "overlay",
              "size": 10,
              "solidity": 0.2
             }
            },
            "type": "bar"
           }
          ],
          "barpolar": [
           {
            "marker": {
             "line": {
              "color": "#E5ECF6",
              "width": 0.5
             },
             "pattern": {
              "fillmode": "overlay",
              "size": 10,
              "solidity": 0.2
             }
            },
            "type": "barpolar"
           }
          ],
          "carpet": [
           {
            "aaxis": {
             "endlinecolor": "#2a3f5f",
             "gridcolor": "white",
             "linecolor": "white",
             "minorgridcolor": "white",
             "startlinecolor": "#2a3f5f"
            },
            "baxis": {
             "endlinecolor": "#2a3f5f",
             "gridcolor": "white",
             "linecolor": "white",
             "minorgridcolor": "white",
             "startlinecolor": "#2a3f5f"
            },
            "type": "carpet"
           }
          ],
          "choropleth": [
           {
            "colorbar": {
             "outlinewidth": 0,
             "ticks": ""
            },
            "type": "choropleth"
           }
          ],
          "contour": [
           {
            "colorbar": {
             "outlinewidth": 0,
             "ticks": ""
            },
            "colorscale": [
             [
              0,
              "#0d0887"
             ],
             [
              0.1111111111111111,
              "#46039f"
             ],
             [
              0.2222222222222222,
              "#7201a8"
             ],
             [
              0.3333333333333333,
              "#9c179e"
             ],
             [
              0.4444444444444444,
              "#bd3786"
             ],
             [
              0.5555555555555556,
              "#d8576b"
             ],
             [
              0.6666666666666666,
              "#ed7953"
             ],
             [
              0.7777777777777778,
              "#fb9f3a"
             ],
             [
              0.8888888888888888,
              "#fdca26"
             ],
             [
              1,
              "#f0f921"
             ]
            ],
            "type": "contour"
           }
          ],
          "contourcarpet": [
           {
            "colorbar": {
             "outlinewidth": 0,
             "ticks": ""
            },
            "type": "contourcarpet"
           }
          ],
          "heatmap": [
           {
            "colorbar": {
             "outlinewidth": 0,
             "ticks": ""
            },
            "colorscale": [
             [
              0,
              "#0d0887"
             ],
             [
              0.1111111111111111,
              "#46039f"
             ],
             [
              0.2222222222222222,
              "#7201a8"
             ],
             [
              0.3333333333333333,
              "#9c179e"
             ],
             [
              0.4444444444444444,
              "#bd3786"
             ],
             [
              0.5555555555555556,
              "#d8576b"
             ],
             [
              0.6666666666666666,
              "#ed7953"
             ],
             [
              0.7777777777777778,
              "#fb9f3a"
             ],
             [
              0.8888888888888888,
              "#fdca26"
             ],
             [
              1,
              "#f0f921"
             ]
            ],
            "type": "heatmap"
           }
          ],
          "histogram": [
           {
            "marker": {
             "pattern": {
              "fillmode": "overlay",
              "size": 10,
              "solidity": 0.2
             }
            },
            "type": "histogram"
           }
          ],
          "histogram2d": [
           {
            "colorbar": {
             "outlinewidth": 0,
             "ticks": ""
            },
            "colorscale": [
             [
              0,
              "#0d0887"
             ],
             [
              0.1111111111111111,
              "#46039f"
             ],
             [
              0.2222222222222222,
              "#7201a8"
             ],
             [
              0.3333333333333333,
              "#9c179e"
             ],
             [
              0.4444444444444444,
              "#bd3786"
             ],
             [
              0.5555555555555556,
              "#d8576b"
             ],
             [
              0.6666666666666666,
              "#ed7953"
             ],
             [
              0.7777777777777778,
              "#fb9f3a"
             ],
             [
              0.8888888888888888,
              "#fdca26"
             ],
             [
              1,
              "#f0f921"
             ]
            ],
            "type": "histogram2d"
           }
          ],
          "histogram2dcontour": [
           {
            "colorbar": {
             "outlinewidth": 0,
             "ticks": ""
            },
            "colorscale": [
             [
              0,
              "#0d0887"
             ],
             [
              0.1111111111111111,
              "#46039f"
             ],
             [
              0.2222222222222222,
              "#7201a8"
             ],
             [
              0.3333333333333333,
              "#9c179e"
             ],
             [
              0.4444444444444444,
              "#bd3786"
             ],
             [
              0.5555555555555556,
              "#d8576b"
             ],
             [
              0.6666666666666666,
              "#ed7953"
             ],
             [
              0.7777777777777778,
              "#fb9f3a"
             ],
             [
              0.8888888888888888,
              "#fdca26"
             ],
             [
              1,
              "#f0f921"
             ]
            ],
            "type": "histogram2dcontour"
           }
          ],
          "mesh3d": [
           {
            "colorbar": {
             "outlinewidth": 0,
             "ticks": ""
            },
            "type": "mesh3d"
           }
          ],
          "parcoords": [
           {
            "line": {
             "colorbar": {
              "outlinewidth": 0,
              "ticks": ""
             }
            },
            "type": "parcoords"
           }
          ],
          "pie": [
           {
            "automargin": true,
            "type": "pie"
           }
          ],
          "scatter": [
           {
            "fillpattern": {
             "fillmode": "overlay",
             "size": 10,
             "solidity": 0.2
            },
            "type": "scatter"
           }
          ],
          "scatter3d": [
           {
            "line": {
             "colorbar": {
              "outlinewidth": 0,
              "ticks": ""
             }
            },
            "marker": {
             "colorbar": {
              "outlinewidth": 0,
              "ticks": ""
             }
            },
            "type": "scatter3d"
           }
          ],
          "scattercarpet": [
           {
            "marker": {
             "colorbar": {
              "outlinewidth": 0,
              "ticks": ""
             }
            },
            "type": "scattercarpet"
           }
          ],
          "scattergeo": [
           {
            "marker": {
             "colorbar": {
              "outlinewidth": 0,
              "ticks": ""
             }
            },
            "type": "scattergeo"
           }
          ],
          "scattergl": [
           {
            "marker": {
             "colorbar": {
              "outlinewidth": 0,
              "ticks": ""
             }
            },
            "type": "scattergl"
           }
          ],
          "scattermap": [
           {
            "marker": {
             "colorbar": {
              "outlinewidth": 0,
              "ticks": ""
             }
            },
            "type": "scattermap"
           }
          ],
          "scattermapbox": [
           {
            "marker": {
             "colorbar": {
              "outlinewidth": 0,
              "ticks": ""
             }
            },
            "type": "scattermapbox"
           }
          ],
          "scatterpolar": [
           {
            "marker": {
             "colorbar": {
              "outlinewidth": 0,
              "ticks": ""
             }
            },
            "type": "scatterpolar"
           }
          ],
          "scatterpolargl": [
           {
            "marker": {
             "colorbar": {
              "outlinewidth": 0,
              "ticks": ""
             }
            },
            "type": "scatterpolargl"
           }
          ],
          "scatterternary": [
           {
            "marker": {
             "colorbar": {
              "outlinewidth": 0,
              "ticks": ""
             }
            },
            "type": "scatterternary"
           }
          ],
          "surface": [
           {
            "colorbar": {
             "outlinewidth": 0,
             "ticks": ""
            },
            "colorscale": [
             [
              0,
              "#0d0887"
             ],
             [
              0.1111111111111111,
              "#46039f"
             ],
             [
              0.2222222222222222,
              "#7201a8"
             ],
             [
              0.3333333333333333,
              "#9c179e"
             ],
             [
              0.4444444444444444,
              "#bd3786"
             ],
             [
              0.5555555555555556,
              "#d8576b"
             ],
             [
              0.6666666666666666,
              "#ed7953"
             ],
             [
              0.7777777777777778,
              "#fb9f3a"
             ],
             [
              0.8888888888888888,
              "#fdca26"
             ],
             [
              1,
              "#f0f921"
             ]
            ],
            "type": "surface"
           }
          ],
          "table": [
           {
            "cells": {
             "fill": {
              "color": "#EBF0F8"
             },
             "line": {
              "color": "white"
             }
            },
            "header": {
             "fill": {
              "color": "#C8D4E3"
             },
             "line": {
              "color": "white"
             }
            },
            "type": "table"
           }
          ]
         },
         "layout": {
          "annotationdefaults": {
           "arrowcolor": "#2a3f5f",
           "arrowhead": 0,
           "arrowwidth": 1
          },
          "autotypenumbers": "strict",
          "coloraxis": {
           "colorbar": {
            "outlinewidth": 0,
            "ticks": ""
           }
          },
          "colorscale": {
           "diverging": [
            [
             0,
             "#8e0152"
            ],
            [
             0.1,
             "#c51b7d"
            ],
            [
             0.2,
             "#de77ae"
            ],
            [
             0.3,
             "#f1b6da"
            ],
            [
             0.4,
             "#fde0ef"
            ],
            [
             0.5,
             "#f7f7f7"
            ],
            [
             0.6,
             "#e6f5d0"
            ],
            [
             0.7,
             "#b8e186"
            ],
            [
             0.8,
             "#7fbc41"
            ],
            [
             0.9,
             "#4d9221"
            ],
            [
             1,
             "#276419"
            ]
           ],
           "sequential": [
            [
             0,
             "#0d0887"
            ],
            [
             0.1111111111111111,
             "#46039f"
            ],
            [
             0.2222222222222222,
             "#7201a8"
            ],
            [
             0.3333333333333333,
             "#9c179e"
            ],
            [
             0.4444444444444444,
             "#bd3786"
            ],
            [
             0.5555555555555556,
             "#d8576b"
            ],
            [
             0.6666666666666666,
             "#ed7953"
            ],
            [
             0.7777777777777778,
             "#fb9f3a"
            ],
            [
             0.8888888888888888,
             "#fdca26"
            ],
            [
             1,
             "#f0f921"
            ]
           ],
           "sequentialminus": [
            [
             0,
             "#0d0887"
            ],
            [
             0.1111111111111111,
             "#46039f"
            ],
            [
             0.2222222222222222,
             "#7201a8"
            ],
            [
             0.3333333333333333,
             "#9c179e"
            ],
            [
             0.4444444444444444,
             "#bd3786"
            ],
            [
             0.5555555555555556,
             "#d8576b"
            ],
            [
             0.6666666666666666,
             "#ed7953"
            ],
            [
             0.7777777777777778,
             "#fb9f3a"
            ],
            [
             0.8888888888888888,
             "#fdca26"
            ],
            [
             1,
             "#f0f921"
            ]
           ]
          },
          "colorway": [
           "#636efa",
           "#EF553B",
           "#00cc96",
           "#ab63fa",
           "#FFA15A",
           "#19d3f3",
           "#FF6692",
           "#B6E880",
           "#FF97FF",
           "#FECB52"
          ],
          "font": {
           "color": "#2a3f5f"
          },
          "geo": {
           "bgcolor": "white",
           "lakecolor": "white",
           "landcolor": "#E5ECF6",
           "showlakes": true,
           "showland": true,
           "subunitcolor": "white"
          },
          "hoverlabel": {
           "align": "left"
          },
          "hovermode": "closest",
          "mapbox": {
           "style": "light"
          },
          "paper_bgcolor": "white",
          "plot_bgcolor": "#E5ECF6",
          "polar": {
           "angularaxis": {
            "gridcolor": "white",
            "linecolor": "white",
            "ticks": ""
           },
           "bgcolor": "#E5ECF6",
           "radialaxis": {
            "gridcolor": "white",
            "linecolor": "white",
            "ticks": ""
           }
          },
          "scene": {
           "xaxis": {
            "backgroundcolor": "#E5ECF6",
            "gridcolor": "white",
            "gridwidth": 2,
            "linecolor": "white",
            "showbackground": true,
            "ticks": "",
            "zerolinecolor": "white"
           },
           "yaxis": {
            "backgroundcolor": "#E5ECF6",
            "gridcolor": "white",
            "gridwidth": 2,
            "linecolor": "white",
            "showbackground": true,
            "ticks": "",
            "zerolinecolor": "white"
           },
           "zaxis": {
            "backgroundcolor": "#E5ECF6",
            "gridcolor": "white",
            "gridwidth": 2,
            "linecolor": "white",
            "showbackground": true,
            "ticks": "",
            "zerolinecolor": "white"
           }
          },
          "shapedefaults": {
           "line": {
            "color": "#2a3f5f"
           }
          },
          "ternary": {
           "aaxis": {
            "gridcolor": "white",
            "linecolor": "white",
            "ticks": ""
           },
           "baxis": {
            "gridcolor": "white",
            "linecolor": "white",
            "ticks": ""
           },
           "bgcolor": "#E5ECF6",
           "caxis": {
            "gridcolor": "white",
            "linecolor": "white",
            "ticks": ""
           }
          },
          "title": {
           "x": 0.05
          },
          "xaxis": {
           "automargin": true,
           "gridcolor": "white",
           "linecolor": "white",
           "ticks": "",
           "title": {
            "standoff": 15
           },
           "zerolinecolor": "white",
           "zerolinewidth": 2
          },
          "yaxis": {
           "automargin": true,
           "gridcolor": "white",
           "linecolor": "white",
           "ticks": "",
           "title": {
            "standoff": 15
           },
           "zerolinecolor": "white",
           "zerolinewidth": 2
          }
         }
        },
        "title": {
         "text": "DAS Potential pro Spiel (Tuning: random-R_5-S_1-D_2-N_20)"
        },
        "updatemenus": [
         {
          "active": 0,
          "buttons": [
           {
            "args": [
             {
              "visible": [
               true,
               true,
               true,
               true,
               true,
               true,
               true,
               true,
               false,
               false,
               false,
               false,
               false,
               false,
               false
              ]
             },
             {
              "title": "DAS Potential pro Spiel (Tuning: random-R_5-S_1-D_2-N_20)"
             }
            ],
            "label": "random-R_5-S_1-D_2-N_20",
            "method": "update"
           },
           {
            "args": [
             {
              "visible": [
               false,
               false,
               false,
               false,
               false,
               false,
               false,
               false,
               true,
               false,
               false,
               false,
               false,
               false,
               false
              ]
             },
             {
              "title": "DAS Potential pro Spiel (Tuning: all_positions-R_5-S_1-D_2-N_20)"
             }
            ],
            "label": "all_positions-R_5-S_1-D_2-N_20",
            "method": "update"
           },
           {
            "args": [
             {
              "visible": [
               false,
               false,
               false,
               false,
               false,
               false,
               false,
               false,
               false,
               true,
               false,
               false,
               false,
               false,
               false
              ]
             },
             {
              "title": "DAS Potential pro Spiel (Tuning: random-R_5-S_1-D_2-N_100)"
             }
            ],
            "label": "random-R_5-S_1-D_2-N_100",
            "method": "update"
           },
           {
            "args": [
             {
              "visible": [
               false,
               false,
               false,
               false,
               false,
               false,
               false,
               false,
               false,
               false,
               true,
               false,
               false,
               false,
               false
              ]
             },
             {
              "title": "DAS Potential pro Spiel (Tuning: random-R_5-S_1-D_2-N_50)"
             }
            ],
            "label": "random-R_5-S_1-D_2-N_50",
            "method": "update"
           },
           {
            "args": [
             {
              "visible": [
               false,
               false,
               false,
               false,
               false,
               false,
               false,
               false,
               false,
               false,
               false,
               true,
               false,
               false,
               false
              ]
             },
             {
              "title": "DAS Potential pro Spiel (Tuning: all_positions_cut_1.0-R_5-S_1-D_2-N_20-C_1.0)"
             }
            ],
            "label": "all_positions_cut_1.0-R_5-S_1-D_2-N_20-C_1.0",
            "method": "update"
           },
           {
            "args": [
             {
              "visible": [
               false,
               false,
               false,
               false,
               false,
               false,
               false,
               false,
               false,
               false,
               false,
               false,
               true,
               false,
               false
              ]
             },
             {
              "title": "DAS Potential pro Spiel (Tuning: random_cut_1.0-R_5-S_1-D_2-N_100-C_1.0)"
             }
            ],
            "label": "random_cut_1.0-R_5-S_1-D_2-N_100-C_1.0",
            "method": "update"
           },
           {
            "args": [
             {
              "visible": [
               false,
               false,
               false,
               false,
               false,
               false,
               false,
               false,
               false,
               false,
               false,
               false,
               false,
               true,
               false
              ]
             },
             {
              "title": "DAS Potential pro Spiel (Tuning: random_cut_1.0-R_5-S_1-D_2-N_20-C_1.0)"
             }
            ],
            "label": "random_cut_1.0-R_5-S_1-D_2-N_20-C_1.0",
            "method": "update"
           },
           {
            "args": [
             {
              "visible": [
               false,
               false,
               false,
               false,
               false,
               false,
               false,
               false,
               false,
               false,
               false,
               false,
               false,
               false,
               true
              ]
             },
             {
              "title": "DAS Potential pro Spiel (Tuning: random_cut_1.0-R_5-S_1-D_2-N_50-C_1.0)"
             }
            ],
            "label": "random_cut_1.0-R_5-S_1-D_2-N_50-C_1.0",
            "method": "update"
           }
          ],
          "type": "dropdown",
          "x": 1.1,
          "xanchor": "left",
          "y": 1.15
         }
        ],
        "xaxis": {
         "title": {
          "text": "Spiel"
         }
        },
        "yaxis": {
         "title": {
          "text": "MAX_DAS_potential"
         }
        }
       }
      }
     },
     "metadata": {},
     "output_type": "display_data"
    }
   ],
   "source": [
    "full_df_das_g1 = full_df[full_df[\"DAS\"] > 1]\n",
    "grouped_df_das_g1 = group_data(full_df_das_g1)\n",
    "\n",
    "grouped_named_das_g1 = grouped_df_das_g1.merge(all_players, on=[\"game_id\", \"player\"], how=\"left\")\n",
    "fair_grouped_das_g1 = grouped_named_das_g1.merge(all_game_players, on=\"id\")\n",
    "\n",
    "line_players(fair_grouped_das_g1)\n",
    "line_players(fair_grouped_das_g1, metric=\"MAX_DAS_potential\")\n"
   ]
  }
 ],
 "metadata": {
  "kernelspec": {
   "display_name": "venv",
   "language": "python",
   "name": "python3"
  },
  "language_info": {
   "codemirror_mode": {
    "name": "ipython",
    "version": 3
   },
   "file_extension": ".py",
   "mimetype": "text/x-python",
   "name": "python",
   "nbconvert_exporter": "python",
   "pygments_lexer": "ipython3",
   "version": "3.13.0"
  }
 },
 "nbformat": 4,
 "nbformat_minor": 5
}
