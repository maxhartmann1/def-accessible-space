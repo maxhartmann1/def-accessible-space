{
 "cells": [
  {
   "cell_type": "code",
   "execution_count": 2,
   "id": "fb55debe",
   "metadata": {},
   "outputs": [],
   "source": [
    "import pandas as pd\n",
    "import seaborn as sns\n",
    "import matplotlib.pyplot as plt\n",
    "import numpy as np\n",
    "import plotly.express as px\n",
    "import plotly.io as pio\n",
    "import plotly.graph_objects as go\n",
    "from pathlib import Path\n",
    "\n",
    "sns.set(style=\"whitegrid\")\n",
    "BASE_PATH = Path(\"../cache_new/optimization/\")\n",
    "DATASET_PATH = Path(\"../datasets/IDSSE/\")\n",
    "pio.renderers.default = \"vscode\"\n"
   ]
  },
  {
   "cell_type": "code",
   "execution_count": 11,
   "id": "781cdb96",
   "metadata": {},
   "outputs": [],
   "source": [
    "def prepare_data():\n",
    "    csv_files = list(BASE_PATH.rglob(\"*df_reduced.csv\"))\n",
    "    dataframes = []\n",
    "\n",
    "    for file in csv_files:\n",
    "        df = pd.read_csv(file)\n",
    "        parts = file.parts[-6:]\n",
    "        \n",
    "        match_id = parts[0]\n",
    "        step = parts[2]\n",
    "        player = parts[1]\n",
    "        method = parts[3]\n",
    "        parameters = parts[4]\n",
    "\n",
    "        df[\"game_id\"] = match_id\n",
    "        df[\"step\"] = step\n",
    "        df[\"player\"] = player\n",
    "        df[\"method\"] = method\n",
    "        df[\"parameters\"] = parameters\n",
    "        df[\"tuning\"] = method + \"-\" + parameters\n",
    "\n",
    "        dataframes.append(df)\n",
    "\n",
    "    full_df = pd.concat(dataframes, ignore_index=True)\n",
    "    full_df[\"DAS_potential_percentage\"] = np.where(\n",
    "        full_df[\"DAS_potential\"] > 0,\n",
    "        ((full_df[\"DAS\"] - full_df[\"DAS_new\"]) / full_df[\"DAS\"]) * 100,\n",
    "        0.0,\n",
    "    )\n",
    "\n",
    "    return full_df\n",
    "\n",
    "def group_data(full_df):\n",
    "    grouped_df = (\n",
    "        full_df.groupby([\"game_id\", \"player\", \"step\", \"method\", \"parameters\", \"tuning\"]).agg(\n",
    "            DAS_potential=(\"DAS_potential\", \"mean\"),\n",
    "            MAX_DAS_potential=(\"DAS_potential\", \"max\"),\n",
    "            SUM_DAS_potential=(\"DAS_potential\", \"sum\"),\n",
    "            DAS_potential_percentage=(\"DAS_potential_percentage\", \"mean\"),\n",
    "            distance=(\"distance\", \"mean\"),\n",
    "            count=(\"DAS_potential\", \"count\")\n",
    "        )\n",
    "        .reset_index()\n",
    "    )\n",
    "    return grouped_df\n",
    "\n",
    "def add_player_names():\n",
    "    files = list(DATASET_PATH.rglob(\"*players.parquet\"))\n",
    "    dataframes = []\n",
    "    \n",
    "    for file in files:\n",
    "        df = pd.read_parquet(file).copy()\n",
    "        parts = file.parts\n",
    "        game_id = parts[3]\n",
    "        df[\"game_id\"] = game_id\n",
    "        df[\"team\"] = \"home\" if \"home_players\" in parts[4] else \"away\"\n",
    "        df[\"player\"] = df['team'] + \"_\" + df['shirt_num'].astype(str)\n",
    "        dataframes.append(df)\n",
    "    \n",
    "    all_players = pd.concat(dataframes, ignore_index=True)\n",
    "    cols = [\"game_id\", \"id\", \"full_name\", \"player\"]\n",
    "    return all_players[cols].drop_duplicates()\n",
    "    \n",
    "def compare_methods(fair_grouped_df):\n",
    "    fig, axes = plt.subplots(3, 1, figsize=(14, 15), sharex=True)\n",
    "    \n",
    "    sns.boxplot(data=fair_grouped_df,\n",
    "                x=\"tuning\",\n",
    "                y=\"DAS_potential_percentage\",\n",
    "                ax=axes[0]\n",
    "    )\n",
    "    axes[0].set_title(\"Boxplot DAS-Potential (%)\")\n",
    "    axes[0].set_ylabel(\"Verbesserung (%)\")\n",
    "    axes[0].set_xlabel(\"\")\n",
    "    axes[0].tick_params(axis=\"x\", which=\"both\", bottom=False, labelbottom=False)\n",
    "\n",
    "    sns.boxplot(data=fair_grouped_df,\n",
    "                x=\"tuning\",\n",
    "                y=\"DAS_potential\",\n",
    "                ax=axes[1]\n",
    "    )\n",
    "    axes[1].set_title(\"Boxplot DAS-Potential\")\n",
    "    axes[1].set_ylabel(\"Verbesserung\")\n",
    "    axes[1].set_xlabel(\"\")\n",
    "    axes[1].tick_params(axis=\"x\", which=\"both\", bottom=False, labelbottom=False)\n",
    "    \n",
    "    sns.boxplot(data=fair_grouped_df,\n",
    "                x=\"tuning\",\n",
    "                y=\"distance\",\n",
    "                ax=axes[2]\n",
    "    )\n",
    "    axes[2].set_title(\"Boxplot Distance\")\n",
    "    axes[2].set_ylabel(\"Verbesserung\")\n",
    "    axes[2].tick_params(axis=\"x\", rotation=45)\n",
    "    \n",
    "    fig.suptitle(\"Vergleich der Methoden\", fontsize=16)\n",
    "    fig.tight_layout()\n",
    "    plt.show()\n",
    "\n",
    "def line_players(grouped_df, metric=\"DAS_potential\"):\n",
    "    df = grouped_df.copy()\n",
    "    df[\"game_id\"] = df[\"game_id\"].astype(str)\n",
    "    tunings = df[\"tuning\"].unique()\n",
    "    \n",
    "    fig = go.Figure()\n",
    "    trace_tuning = []\n",
    "    for t in tunings:\n",
    "        dft = df[df[\"tuning\"] == t]\n",
    "        for name, g in dft.groupby(\"full_name\"):\n",
    "            fig.add_trace(\n",
    "                go.Scatter(\n",
    "                    x=g[\"game_id\"], y=g[metric],\n",
    "                    mode=\"lines+markers\",\n",
    "                    name=name,\n",
    "                    legendgroup=name,\n",
    "                    showlegend=(t == tunings[0])\n",
    "                )\n",
    "            )\n",
    "            trace_tuning.append(t)\n",
    "    buttons = []\n",
    "    for t in tunings:\n",
    "        visible_mask = [tt == t for tt in trace_tuning]\n",
    "        buttons.append(dict(\n",
    "            label=t,\n",
    "            method=\"update\",\n",
    "            args=[\n",
    "                {\"visible\": visible_mask},\n",
    "                {\"title\": f\"DAS Potential pro Spiel (Tuning: {t})\"}\n",
    "            ]\n",
    "        ))\n",
    "    initial_mask = [tt == tunings[0] for tt in trace_tuning]\n",
    "    fig.update_traces(visible=False)\n",
    "    for i, vis in enumerate(initial_mask):\n",
    "        fig.data[i].visible = vis\n",
    "        \n",
    "    # fig = px.line(\n",
    "    #     grouped_df,\n",
    "    #     x=\"game_id\",\n",
    "    #     y=\"DAS_potential\",\n",
    "    #     color=\"full_name\",\n",
    "    #     markers=True,\n",
    "    #     title=\"DAS Potential pro Spiel\"\n",
    "    # )\n",
    "\n",
    "    \n",
    "    fig.update_layout(\n",
    "        title=f\"DAS Potential pro Spiel (Tuning: {tunings[0]})\",\n",
    "        xaxis_title=\"Spiel\",\n",
    "        yaxis_title=metric,\n",
    "        legend_title=\"Spieler\",\n",
    "        updatemenus=[dict(\n",
    "            type=\"dropdown\",\n",
    "            x=1.1,\n",
    "            y=1.15,\n",
    "            xanchor=\"left\",\n",
    "            buttons=buttons,\n",
    "            active=0\n",
    "        )]\n",
    "    )\n",
    "    fig.show()\n",
    "    \n",
    "def scatter_dist_pot(grouped_df):\n",
    "    plt.figure(figsize=(8,6))\n",
    "    sns.scatterplot(data=grouped_df, x=\"distance\", y=\"DAS_potential_percentage\", hue=\"method\")\n",
    "    plt.title(\"Zusammenhang: Entfernung vs. Potential\")\n",
    "    plt.xlabel(\"Entfernung (m)\")\n",
    "    plt.ylabel(\"DAS_potential_percentage (%)\")\n",
    "    plt.tight_layout()\n",
    "    plt.show()\n",
    "    \n",
    "def facet_grid(grouped_df):\n",
    "    g = sns.FacetGrid(\n",
    "        data=grouped_df,\n",
    "        col=\"game_id\",\n",
    "        hue=\"method\",\n",
    "        sharey=True,\n",
    "        height=4,\n",
    "        aspect=1.5\n",
    "    )\n",
    "    g.map(sns.barplot, \"player\", \"DAS_potential_percentage\", order=sorted(grouped_df[\"player\"].unique()), errorbar=None)\n",
    "    g.add_legend()\n",
    "    g.set_titles(col_template=\"Match: {col_name}\")\n",
    "    g.set_axis_labels(\"Spieler\", \"Verbesserung (%)\")\n",
    "    for ax in g.axes.flat:\n",
    "        ax.tick_params(axis=\"x\", rotation=45)\n",
    "        \n",
    "    plt.tight_layout()\n",
    "    plt.show()\n",
    "    "
   ]
  },
  {
   "cell_type": "code",
   "execution_count": 12,
   "id": "35a941b8",
   "metadata": {},
   "outputs": [
    {
     "data": {
      "application/vnd.microsoft.datawrangler.viewer.v0+json": {
       "columns": [
        {
         "name": "index",
         "rawType": "int64",
         "type": "integer"
        },
        {
         "name": "player_id",
         "rawType": "object",
         "type": "string"
        },
        {
         "name": "frame",
         "rawType": "int64",
         "type": "integer"
        },
        {
         "name": "DAS",
         "rawType": "float64",
         "type": "float"
        },
        {
         "name": "DAS_new",
         "rawType": "float64",
         "type": "float"
        },
        {
         "name": "new_frame",
         "rawType": "object",
         "type": "string"
        },
        {
         "name": "DAS_potential",
         "rawType": "float64",
         "type": "float"
        },
        {
         "name": "move_x",
         "rawType": "float64",
         "type": "float"
        },
        {
         "name": "move_y",
         "rawType": "float64",
         "type": "float"
        },
        {
         "name": "distance",
         "rawType": "float64",
         "type": "float"
        },
        {
         "name": "game_id",
         "rawType": "object",
         "type": "string"
        },
        {
         "name": "step",
         "rawType": "object",
         "type": "string"
        },
        {
         "name": "player",
         "rawType": "object",
         "type": "string"
        },
        {
         "name": "method",
         "rawType": "object",
         "type": "string"
        },
        {
         "name": "parameters",
         "rawType": "object",
         "type": "string"
        },
        {
         "name": "tuning",
         "rawType": "object",
         "type": "string"
        },
        {
         "name": "DAS_potential_percentage",
         "rawType": "float64",
         "type": "float"
        }
       ],
       "ref": "878c403b-0fc8-4e28-bd19-976fc1e1bb37",
       "rows": [
        [
         "0",
         "home_19",
         "160412",
         "0.24402100190626",
         "0.2301102958494663",
         "160412_home_19_0.00_1.00",
         "0.0139107060567936",
         "0.0",
         "1.0",
         "1.0",
         "J03WOH",
         "step125",
         "home_19",
         "random",
         "R_5-S_1-D_2-N_20",
         "random-R_5-S_1-D_2-N_20",
         "5.7006183681425355"
        ],
        [
         "1",
         "home_19",
         "160728",
         "0.5915251782401425",
         "0.2929318454943629",
         "160728_home_19_-3.00_0.00",
         "0.2985933327457796",
         "-3.0",
         "0.0",
         "3.0",
         "J03WOH",
         "step125",
         "home_19",
         "random",
         "R_5-S_1-D_2-N_20",
         "random-R_5-S_1-D_2-N_20",
         "50.47854998059933"
        ],
        [
         "2",
         "home_19",
         "160887",
         "1.9646076115001276",
         "1.903490758671228",
         "160887_home_19_-3.00_4.00",
         "0.0611168528288996",
         "-3.0",
         "4.0",
         "5.0",
         "J03WOH",
         "step125",
         "home_19",
         "random",
         "R_5-S_1-D_2-N_20",
         "random-R_5-S_1-D_2-N_20",
         "3.110893619221616"
        ],
        [
         "3",
         "home_19",
         "164080",
         "0.0207537783360861",
         "0.0207370284140719",
         "164080_home_19_-3.00_1.00",
         "1.6749922014249602e-05",
         "-3.0",
         "1.0",
         "3.1622776601683795",
         "J03WOH",
         "step125",
         "home_19",
         "random",
         "R_5-S_1-D_2-N_20",
         "random-R_5-S_1-D_2-N_20",
         "0.08070781976637346"
        ],
        [
         "4",
         "home_19",
         "164747",
         "0.1403226953580471",
         "0.1404656029185276",
         "164747_home_19_-2.00_-1.00",
         "0.0",
         "-2.0",
         "-1.0",
         "2.23606797749979",
         "J03WOH",
         "step125",
         "home_19",
         "random",
         "R_5-S_1-D_2-N_20",
         "random-R_5-S_1-D_2-N_20",
         "0.0"
        ]
       ],
       "shape": {
        "columns": 16,
        "rows": 5
       }
      },
      "text/html": [
       "<div>\n",
       "<style scoped>\n",
       "    .dataframe tbody tr th:only-of-type {\n",
       "        vertical-align: middle;\n",
       "    }\n",
       "\n",
       "    .dataframe tbody tr th {\n",
       "        vertical-align: top;\n",
       "    }\n",
       "\n",
       "    .dataframe thead th {\n",
       "        text-align: right;\n",
       "    }\n",
       "</style>\n",
       "<table border=\"1\" class=\"dataframe\">\n",
       "  <thead>\n",
       "    <tr style=\"text-align: right;\">\n",
       "      <th></th>\n",
       "      <th>player_id</th>\n",
       "      <th>frame</th>\n",
       "      <th>DAS</th>\n",
       "      <th>DAS_new</th>\n",
       "      <th>new_frame</th>\n",
       "      <th>DAS_potential</th>\n",
       "      <th>move_x</th>\n",
       "      <th>move_y</th>\n",
       "      <th>distance</th>\n",
       "      <th>game_id</th>\n",
       "      <th>step</th>\n",
       "      <th>player</th>\n",
       "      <th>method</th>\n",
       "      <th>parameters</th>\n",
       "      <th>tuning</th>\n",
       "      <th>DAS_potential_percentage</th>\n",
       "    </tr>\n",
       "  </thead>\n",
       "  <tbody>\n",
       "    <tr>\n",
       "      <th>0</th>\n",
       "      <td>home_19</td>\n",
       "      <td>160412</td>\n",
       "      <td>0.244021</td>\n",
       "      <td>0.230110</td>\n",
       "      <td>160412_home_19_0.00_1.00</td>\n",
       "      <td>0.013911</td>\n",
       "      <td>0.0</td>\n",
       "      <td>1.0</td>\n",
       "      <td>1.000000</td>\n",
       "      <td>J03WOH</td>\n",
       "      <td>step125</td>\n",
       "      <td>home_19</td>\n",
       "      <td>random</td>\n",
       "      <td>R_5-S_1-D_2-N_20</td>\n",
       "      <td>random-R_5-S_1-D_2-N_20</td>\n",
       "      <td>5.700618</td>\n",
       "    </tr>\n",
       "    <tr>\n",
       "      <th>1</th>\n",
       "      <td>home_19</td>\n",
       "      <td>160728</td>\n",
       "      <td>0.591525</td>\n",
       "      <td>0.292932</td>\n",
       "      <td>160728_home_19_-3.00_0.00</td>\n",
       "      <td>0.298593</td>\n",
       "      <td>-3.0</td>\n",
       "      <td>0.0</td>\n",
       "      <td>3.000000</td>\n",
       "      <td>J03WOH</td>\n",
       "      <td>step125</td>\n",
       "      <td>home_19</td>\n",
       "      <td>random</td>\n",
       "      <td>R_5-S_1-D_2-N_20</td>\n",
       "      <td>random-R_5-S_1-D_2-N_20</td>\n",
       "      <td>50.478550</td>\n",
       "    </tr>\n",
       "    <tr>\n",
       "      <th>2</th>\n",
       "      <td>home_19</td>\n",
       "      <td>160887</td>\n",
       "      <td>1.964608</td>\n",
       "      <td>1.903491</td>\n",
       "      <td>160887_home_19_-3.00_4.00</td>\n",
       "      <td>0.061117</td>\n",
       "      <td>-3.0</td>\n",
       "      <td>4.0</td>\n",
       "      <td>5.000000</td>\n",
       "      <td>J03WOH</td>\n",
       "      <td>step125</td>\n",
       "      <td>home_19</td>\n",
       "      <td>random</td>\n",
       "      <td>R_5-S_1-D_2-N_20</td>\n",
       "      <td>random-R_5-S_1-D_2-N_20</td>\n",
       "      <td>3.110894</td>\n",
       "    </tr>\n",
       "    <tr>\n",
       "      <th>3</th>\n",
       "      <td>home_19</td>\n",
       "      <td>164080</td>\n",
       "      <td>0.020754</td>\n",
       "      <td>0.020737</td>\n",
       "      <td>164080_home_19_-3.00_1.00</td>\n",
       "      <td>0.000017</td>\n",
       "      <td>-3.0</td>\n",
       "      <td>1.0</td>\n",
       "      <td>3.162278</td>\n",
       "      <td>J03WOH</td>\n",
       "      <td>step125</td>\n",
       "      <td>home_19</td>\n",
       "      <td>random</td>\n",
       "      <td>R_5-S_1-D_2-N_20</td>\n",
       "      <td>random-R_5-S_1-D_2-N_20</td>\n",
       "      <td>0.080708</td>\n",
       "    </tr>\n",
       "    <tr>\n",
       "      <th>4</th>\n",
       "      <td>home_19</td>\n",
       "      <td>164747</td>\n",
       "      <td>0.140323</td>\n",
       "      <td>0.140466</td>\n",
       "      <td>164747_home_19_-2.00_-1.00</td>\n",
       "      <td>0.000000</td>\n",
       "      <td>-2.0</td>\n",
       "      <td>-1.0</td>\n",
       "      <td>2.236068</td>\n",
       "      <td>J03WOH</td>\n",
       "      <td>step125</td>\n",
       "      <td>home_19</td>\n",
       "      <td>random</td>\n",
       "      <td>R_5-S_1-D_2-N_20</td>\n",
       "      <td>random-R_5-S_1-D_2-N_20</td>\n",
       "      <td>0.000000</td>\n",
       "    </tr>\n",
       "  </tbody>\n",
       "</table>\n",
       "</div>"
      ],
      "text/plain": [
       "  player_id   frame       DAS   DAS_new                   new_frame  \\\n",
       "0   home_19  160412  0.244021  0.230110    160412_home_19_0.00_1.00   \n",
       "1   home_19  160728  0.591525  0.292932   160728_home_19_-3.00_0.00   \n",
       "2   home_19  160887  1.964608  1.903491   160887_home_19_-3.00_4.00   \n",
       "3   home_19  164080  0.020754  0.020737   164080_home_19_-3.00_1.00   \n",
       "4   home_19  164747  0.140323  0.140466  164747_home_19_-2.00_-1.00   \n",
       "\n",
       "   DAS_potential  move_x  move_y  distance game_id     step   player  method  \\\n",
       "0       0.013911     0.0     1.0  1.000000  J03WOH  step125  home_19  random   \n",
       "1       0.298593    -3.0     0.0  3.000000  J03WOH  step125  home_19  random   \n",
       "2       0.061117    -3.0     4.0  5.000000  J03WOH  step125  home_19  random   \n",
       "3       0.000017    -3.0     1.0  3.162278  J03WOH  step125  home_19  random   \n",
       "4       0.000000    -2.0    -1.0  2.236068  J03WOH  step125  home_19  random   \n",
       "\n",
       "         parameters                   tuning  DAS_potential_percentage  \n",
       "0  R_5-S_1-D_2-N_20  random-R_5-S_1-D_2-N_20                  5.700618  \n",
       "1  R_5-S_1-D_2-N_20  random-R_5-S_1-D_2-N_20                 50.478550  \n",
       "2  R_5-S_1-D_2-N_20  random-R_5-S_1-D_2-N_20                  3.110894  \n",
       "3  R_5-S_1-D_2-N_20  random-R_5-S_1-D_2-N_20                  0.080708  \n",
       "4  R_5-S_1-D_2-N_20  random-R_5-S_1-D_2-N_20                  0.000000  "
      ]
     },
     "metadata": {},
     "output_type": "display_data"
    },
    {
     "data": {
      "application/vnd.microsoft.datawrangler.viewer.v0+json": {
       "columns": [
        {
         "name": "index",
         "rawType": "int64",
         "type": "integer"
        },
        {
         "name": "game_id",
         "rawType": "object",
         "type": "string"
        },
        {
         "name": "player",
         "rawType": "object",
         "type": "string"
        },
        {
         "name": "step",
         "rawType": "object",
         "type": "string"
        },
        {
         "name": "method",
         "rawType": "object",
         "type": "string"
        },
        {
         "name": "parameters",
         "rawType": "object",
         "type": "string"
        },
        {
         "name": "tuning",
         "rawType": "object",
         "type": "string"
        },
        {
         "name": "DAS_potential",
         "rawType": "float64",
         "type": "float"
        },
        {
         "name": "MAX_DAS_potential",
         "rawType": "float64",
         "type": "float"
        },
        {
         "name": "SUM_DAS_potential",
         "rawType": "float64",
         "type": "float"
        },
        {
         "name": "DAS_potential_percentage",
         "rawType": "float64",
         "type": "float"
        },
        {
         "name": "distance",
         "rawType": "float64",
         "type": "float"
        },
        {
         "name": "count",
         "rawType": "int64",
         "type": "integer"
        }
       ],
       "ref": "d2153044-2291-49a7-b9bf-639d754bc55d",
       "rows": [
        [
         "0",
         "J03WOH",
         "away_1",
         "step125",
         "random",
         "R_5-S_1-D_2-N_20",
         "random-R_5-S_1-D_2-N_20",
         "0.20662755553389203",
         "5.3125021505432",
         "32.44052621882105",
         "2.1324210964025223",
         "4.433720705846991",
         "157"
        ],
        [
         "1",
         "J03WOH",
         "away_1",
         "step125",
         "random",
         "R_5-S_1-D_2-N_50",
         "random-R_5-S_1-D_2-N_50",
         "0.21429809762527238",
         "5.3125021505432",
         "33.64480132716776",
         "2.320122064503793",
         "4.760747356453041",
         "157"
        ],
        [
         "2",
         "J03WOH",
         "away_10",
         "step125",
         "random",
         "R_5-S_1-D_2-N_20",
         "random-R_5-S_1-D_2-N_20",
         "0.1304822395379218",
         "0.9073131758791944",
         "0.9133756767654525",
         "14.667395317892169",
         "4.1489860752245225",
         "7"
        ],
        [
         "3",
         "J03WOH",
         "away_10",
         "step125",
         "random",
         "R_5-S_1-D_2-N_50",
         "random-R_5-S_1-D_2-N_50",
         "0.0014383192699067714",
         "0.0033412413908318",
         "0.0100682348893474",
         "8.114311158423813",
         "3.7549564507201203",
         "7"
        ],
        [
         "4",
         "J03WOH",
         "away_11",
         "step125",
         "random",
         "R_5-S_1-D_2-N_20",
         "random-R_5-S_1-D_2-N_20",
         "0.13431815759503404",
         "4.006297511997092",
         "21.087950742420347",
         "6.748207260165846",
         "4.2605862373301875",
         "157"
        ]
       ],
       "shape": {
        "columns": 12,
        "rows": 5
       }
      },
      "text/html": [
       "<div>\n",
       "<style scoped>\n",
       "    .dataframe tbody tr th:only-of-type {\n",
       "        vertical-align: middle;\n",
       "    }\n",
       "\n",
       "    .dataframe tbody tr th {\n",
       "        vertical-align: top;\n",
       "    }\n",
       "\n",
       "    .dataframe thead th {\n",
       "        text-align: right;\n",
       "    }\n",
       "</style>\n",
       "<table border=\"1\" class=\"dataframe\">\n",
       "  <thead>\n",
       "    <tr style=\"text-align: right;\">\n",
       "      <th></th>\n",
       "      <th>game_id</th>\n",
       "      <th>player</th>\n",
       "      <th>step</th>\n",
       "      <th>method</th>\n",
       "      <th>parameters</th>\n",
       "      <th>tuning</th>\n",
       "      <th>DAS_potential</th>\n",
       "      <th>MAX_DAS_potential</th>\n",
       "      <th>SUM_DAS_potential</th>\n",
       "      <th>DAS_potential_percentage</th>\n",
       "      <th>distance</th>\n",
       "      <th>count</th>\n",
       "    </tr>\n",
       "  </thead>\n",
       "  <tbody>\n",
       "    <tr>\n",
       "      <th>0</th>\n",
       "      <td>J03WOH</td>\n",
       "      <td>away_1</td>\n",
       "      <td>step125</td>\n",
       "      <td>random</td>\n",
       "      <td>R_5-S_1-D_2-N_20</td>\n",
       "      <td>random-R_5-S_1-D_2-N_20</td>\n",
       "      <td>0.206628</td>\n",
       "      <td>5.312502</td>\n",
       "      <td>32.440526</td>\n",
       "      <td>2.132421</td>\n",
       "      <td>4.433721</td>\n",
       "      <td>157</td>\n",
       "    </tr>\n",
       "    <tr>\n",
       "      <th>1</th>\n",
       "      <td>J03WOH</td>\n",
       "      <td>away_1</td>\n",
       "      <td>step125</td>\n",
       "      <td>random</td>\n",
       "      <td>R_5-S_1-D_2-N_50</td>\n",
       "      <td>random-R_5-S_1-D_2-N_50</td>\n",
       "      <td>0.214298</td>\n",
       "      <td>5.312502</td>\n",
       "      <td>33.644801</td>\n",
       "      <td>2.320122</td>\n",
       "      <td>4.760747</td>\n",
       "      <td>157</td>\n",
       "    </tr>\n",
       "    <tr>\n",
       "      <th>2</th>\n",
       "      <td>J03WOH</td>\n",
       "      <td>away_10</td>\n",
       "      <td>step125</td>\n",
       "      <td>random</td>\n",
       "      <td>R_5-S_1-D_2-N_20</td>\n",
       "      <td>random-R_5-S_1-D_2-N_20</td>\n",
       "      <td>0.130482</td>\n",
       "      <td>0.907313</td>\n",
       "      <td>0.913376</td>\n",
       "      <td>14.667395</td>\n",
       "      <td>4.148986</td>\n",
       "      <td>7</td>\n",
       "    </tr>\n",
       "    <tr>\n",
       "      <th>3</th>\n",
       "      <td>J03WOH</td>\n",
       "      <td>away_10</td>\n",
       "      <td>step125</td>\n",
       "      <td>random</td>\n",
       "      <td>R_5-S_1-D_2-N_50</td>\n",
       "      <td>random-R_5-S_1-D_2-N_50</td>\n",
       "      <td>0.001438</td>\n",
       "      <td>0.003341</td>\n",
       "      <td>0.010068</td>\n",
       "      <td>8.114311</td>\n",
       "      <td>3.754956</td>\n",
       "      <td>7</td>\n",
       "    </tr>\n",
       "    <tr>\n",
       "      <th>4</th>\n",
       "      <td>J03WOH</td>\n",
       "      <td>away_11</td>\n",
       "      <td>step125</td>\n",
       "      <td>random</td>\n",
       "      <td>R_5-S_1-D_2-N_20</td>\n",
       "      <td>random-R_5-S_1-D_2-N_20</td>\n",
       "      <td>0.134318</td>\n",
       "      <td>4.006298</td>\n",
       "      <td>21.087951</td>\n",
       "      <td>6.748207</td>\n",
       "      <td>4.260586</td>\n",
       "      <td>157</td>\n",
       "    </tr>\n",
       "  </tbody>\n",
       "</table>\n",
       "</div>"
      ],
      "text/plain": [
       "  game_id   player     step  method        parameters  \\\n",
       "0  J03WOH   away_1  step125  random  R_5-S_1-D_2-N_20   \n",
       "1  J03WOH   away_1  step125  random  R_5-S_1-D_2-N_50   \n",
       "2  J03WOH  away_10  step125  random  R_5-S_1-D_2-N_20   \n",
       "3  J03WOH  away_10  step125  random  R_5-S_1-D_2-N_50   \n",
       "4  J03WOH  away_11  step125  random  R_5-S_1-D_2-N_20   \n",
       "\n",
       "                    tuning  DAS_potential  MAX_DAS_potential  \\\n",
       "0  random-R_5-S_1-D_2-N_20       0.206628           5.312502   \n",
       "1  random-R_5-S_1-D_2-N_50       0.214298           5.312502   \n",
       "2  random-R_5-S_1-D_2-N_20       0.130482           0.907313   \n",
       "3  random-R_5-S_1-D_2-N_50       0.001438           0.003341   \n",
       "4  random-R_5-S_1-D_2-N_20       0.134318           4.006298   \n",
       "\n",
       "   SUM_DAS_potential  DAS_potential_percentage  distance  count  \n",
       "0          32.440526                  2.132421  4.433721    157  \n",
       "1          33.644801                  2.320122  4.760747    157  \n",
       "2           0.913376                 14.667395  4.148986      7  \n",
       "3           0.010068                  8.114311  3.754956      7  \n",
       "4          21.087951                  6.748207  4.260586    157  "
      ]
     },
     "metadata": {},
     "output_type": "display_data"
    }
   ],
   "source": [
    "full_df = prepare_data()\n",
    "full_df.to_csv(\"output/full_das.csv\", index=False)\n",
    "grouped_df = group_data(full_df)\n",
    "grouped_df.to_csv(\"output/grouped_das.csv\", index=False)\n",
    "\n",
    "display(full_df.head())\n",
    "display(grouped_df.head())\n",
    "# display(\"Values By Step\")\n",
    "# display(full_df[\"step\"].value_counts())\n",
    "# => Aktuell nur 125 Ergebnisse\n",
    "\n",
    "# display(\"Values By Game\")\n",
    "# display(full_df.value_counts([\"game_id\", \"player\", \"tuning\"]))"
   ]
  },
  {
   "cell_type": "code",
   "execution_count": 5,
   "id": "da49d633",
   "metadata": {},
   "outputs": [
    {
     "data": {
      "application/vnd.microsoft.datawrangler.viewer.v0+json": {
       "columns": [
        {
         "name": "index",
         "rawType": "int64",
         "type": "integer"
        },
        {
         "name": "game_id",
         "rawType": "object",
         "type": "string"
        },
        {
         "name": "all_positions-R_5-S_1-D_2-N_20",
         "rawType": "int64",
         "type": "integer"
        },
        {
         "name": "random-R_5-S_1-D_2-N_100",
         "rawType": "int64",
         "type": "integer"
        },
        {
         "name": "random-R_5-S_1-D_2-N_20",
         "rawType": "int64",
         "type": "integer"
        },
        {
         "name": "random-R_5-S_1-D_2-N_50",
         "rawType": "int64",
         "type": "integer"
        }
       ],
       "ref": "a21fb0fe-4f36-4cca-ad08-4c0df1c43f78",
       "rows": [
        [
         "0",
         "J03WOH",
         "1",
         "0",
         "32",
         "32"
        ],
        [
         "1",
         "J03WOY",
         "1",
         "1",
         "32",
         "32"
        ],
        [
         "2",
         "J03WPY",
         "1",
         "1",
         "31",
         "27"
        ],
        [
         "3",
         "J03WQQ",
         "1",
         "0",
         "31",
         "1"
        ],
        [
         "4",
         "J03WR9",
         "1",
         "1",
         "30",
         "1"
        ]
       ],
       "shape": {
        "columns": 5,
        "rows": 5
       }
      },
      "text/html": [
       "<div>\n",
       "<style scoped>\n",
       "    .dataframe tbody tr th:only-of-type {\n",
       "        vertical-align: middle;\n",
       "    }\n",
       "\n",
       "    .dataframe tbody tr th {\n",
       "        vertical-align: top;\n",
       "    }\n",
       "\n",
       "    .dataframe thead th {\n",
       "        text-align: right;\n",
       "    }\n",
       "</style>\n",
       "<table border=\"1\" class=\"dataframe\">\n",
       "  <thead>\n",
       "    <tr style=\"text-align: right;\">\n",
       "      <th>tuning</th>\n",
       "      <th>game_id</th>\n",
       "      <th>all_positions-R_5-S_1-D_2-N_20</th>\n",
       "      <th>random-R_5-S_1-D_2-N_100</th>\n",
       "      <th>random-R_5-S_1-D_2-N_20</th>\n",
       "      <th>random-R_5-S_1-D_2-N_50</th>\n",
       "    </tr>\n",
       "  </thead>\n",
       "  <tbody>\n",
       "    <tr>\n",
       "      <th>0</th>\n",
       "      <td>J03WOH</td>\n",
       "      <td>1</td>\n",
       "      <td>0</td>\n",
       "      <td>32</td>\n",
       "      <td>32</td>\n",
       "    </tr>\n",
       "    <tr>\n",
       "      <th>1</th>\n",
       "      <td>J03WOY</td>\n",
       "      <td>1</td>\n",
       "      <td>1</td>\n",
       "      <td>32</td>\n",
       "      <td>32</td>\n",
       "    </tr>\n",
       "    <tr>\n",
       "      <th>2</th>\n",
       "      <td>J03WPY</td>\n",
       "      <td>1</td>\n",
       "      <td>1</td>\n",
       "      <td>31</td>\n",
       "      <td>27</td>\n",
       "    </tr>\n",
       "    <tr>\n",
       "      <th>3</th>\n",
       "      <td>J03WQQ</td>\n",
       "      <td>1</td>\n",
       "      <td>0</td>\n",
       "      <td>31</td>\n",
       "      <td>1</td>\n",
       "    </tr>\n",
       "    <tr>\n",
       "      <th>4</th>\n",
       "      <td>J03WR9</td>\n",
       "      <td>1</td>\n",
       "      <td>1</td>\n",
       "      <td>30</td>\n",
       "      <td>1</td>\n",
       "    </tr>\n",
       "  </tbody>\n",
       "</table>\n",
       "</div>"
      ],
      "text/plain": [
       "tuning game_id  all_positions-R_5-S_1-D_2-N_20  random-R_5-S_1-D_2-N_100  \\\n",
       "0       J03WOH                               1                         0   \n",
       "1       J03WOY                               1                         1   \n",
       "2       J03WPY                               1                         1   \n",
       "3       J03WQQ                               1                         0   \n",
       "4       J03WR9                               1                         1   \n",
       "\n",
       "tuning  random-R_5-S_1-D_2-N_20  random-R_5-S_1-D_2-N_50  \n",
       "0                            32                       32  \n",
       "1                            32                       32  \n",
       "2                            31                       27  \n",
       "3                            31                        1  \n",
       "4                            30                        1  "
      ]
     },
     "execution_count": 5,
     "metadata": {},
     "output_type": "execute_result"
    }
   ],
   "source": [
    "# Übersicht vorhandene databallpy_event\n",
    "pivot = full_df.groupby([\"game_id\", \"tuning\"])[\"player\"].nunique().unstack(fill_value=0).reset_index()\n",
    "\n",
    "pivot"
   ]
  },
  {
   "cell_type": "code",
   "execution_count": 6,
   "id": "854f10bd",
   "metadata": {},
   "outputs": [
    {
     "name": "stdout",
     "output_type": "stream",
     "text": [
      "Anzahl verschiedener Parameterkombinationen: 4\n"
     ]
    },
    {
     "data": {
      "text/plain": [
       "'Vollständige Kombinationen: 3'"
      ]
     },
     "metadata": {},
     "output_type": "display_data"
    },
    {
     "data": {
      "image/png": "[encoded data removed]",
      "text/plain": [
       "<Figure size 1400x1500 with 3 Axes>"
      ]
     },
     "metadata": {},
     "output_type": "display_data"
    }
   ],
   "source": [
    "# Fairer Vergleich Methoden / Parameter\n",
    "n_total_params = grouped_df[\"tuning\"].nunique()\n",
    "print(f\"Anzahl verschiedener Parameterkombinationen: {n_total_params}\")\n",
    "\n",
    "param_counts = (\n",
    "    grouped_df.groupby([\"game_id\", \"player\"])[\"tuning\"]\n",
    "    .nunique()\n",
    "    .reset_index(name=\"param_count\")\n",
    ")\n",
    "complete_combinations = param_counts[param_counts[\"param_count\"] == n_total_params]\n",
    "display(f\"Vollständige Kombinationen: {len(complete_combinations)}\")\n",
    "\n",
    "fair_grouped_df = grouped_df.merge(complete_combinations, on=[\"game_id\", \"player\"])\n",
    "\n",
    "compare_methods(fair_grouped_df)\n",
    "\n"
   ]
  },
  {
   "cell_type": "code",
   "execution_count": 7,
   "id": "7c1dc01b",
   "metadata": {},
   "outputs": [
    {
     "data": {
      "image/png": "[encoded data removed]",
      "text/plain": [
       "<Figure size 800x600 with 1 Axes>"
      ]
     },
     "metadata": {},
     "output_type": "display_data"
    }
   ],
   "source": [
    "scatter_dist_pot(grouped_df)\n",
    "\n"
   ]
  },
  {
   "cell_type": "code",
   "execution_count": 8,
   "id": "a2a55a06",
   "metadata": {},
   "outputs": [
    {
     "name": "stdout",
     "output_type": "stream",
     "text": [
      "Anzahl Spiele: 5\n"
     ]
    },
    {
     "data": {
      "application/vnd.plotly.v1+json": {
       "config": {
        "plotlyServerURL": "https://plot.ly"
       },
       "data": [
        {
         "legendgroup": "Christoph Klarer",
         "mode": "lines+markers",
         "name": "Christoph Klarer",
         "showlegend": true,
         "type": "scatter",
         "visible": true,
         "x": [
          "J03WOH",
          "J03WOY",
          "J03WPY",
          "J03WQQ",
          "J03WR9"
         ],
         "y": {
          "bdata": "r4ZGnRqcsT/nef18xuK5P9MJlXfWMMU/CMNw97ImyD87IS2uJnC9Pw==",
          "dtype": "f8"
         }
        },
        {
         "legendgroup": "Dawid Igor Kownacki",
         "mode": "lines+markers",
         "name": "Dawid Igor Kownacki",
         "showlegend": true,
         "type": "scatter",
         "visible": true,
         "x": [
          "J03WOH",
          "J03WOY",
          "J03WPY",
          "J03WQQ",
          "J03WR9"
         ],
         "y": {
          "bdata": "pu1NU3F7pj+SNUiVsXTiP+xO6+DmE6E/t8bo7+4w5T/R7+tWWiSpPw==",
          "dtype": "f8"
         }
        },
        {
         "legendgroup": "Emmanuel Iyoha",
         "mode": "lines+markers",
         "name": "Emmanuel Iyoha",
         "showlegend": true,
         "type": "scatter",
         "visible": true,
         "x": [
          "J03WOH",
          "J03WOY",
          "J03WPY",
          "J03WQQ",
          "J03WR9"
         ],
         "y": {
          "bdata": "cZI04lchsz/lwhz3yFiiPyPj06TgAuA/e1m7nX1ctz/nSJ/uFcHjPw==",
          "dtype": "f8"
         }
        },
        {
         "legendgroup": "Felix Klaus",
         "mode": "lines+markers",
         "name": "Felix Klaus",
         "showlegend": true,
         "type": "scatter",
         "visible": true,
         "x": [
          "J03WOH",
          "J03WOY",
          "J03WPY",
          "J03WQQ",
          "J03WR9"
         ],
         "y": {
          "bdata": "fbzZst5Prz9xeI7nBaGyP8fVSFYZQq8/HmpPg/lXyz+jXVl9ygeUPw==",
          "dtype": "f8"
         }
        },
        {
         "legendgroup": "Florian Kastenmeier",
         "mode": "lines+markers",
         "name": "Florian Kastenmeier",
         "showlegend": true,
         "type": "scatter",
         "visible": true,
         "x": [
          "J03WOH",
          "J03WOY",
          "J03WPY",
          "J03WQQ",
          "J03WR9"
         ],
         "y": {
          "bdata": "BYUkfqrltD8ZP7VZHmazP6ORWnP6jdU/IUEaIzaAtz/E0QMy+naxPw==",
          "dtype": "f8"
         }
        },
        {
         "legendgroup": "Kristoffer Paul Peterson",
         "mode": "lines+markers",
         "name": "Kristoffer Paul Peterson",
         "showlegend": true,
         "type": "scatter",
         "visible": true,
         "x": [
          "J03WOH",
          "J03WOY",
          "J03WPY",
          "J03WQQ",
          "J03WR9"
         ],
         "y": {
          "bdata": "NZLsSZcK6D94x0ZnQIavP614RfcuSPI/FVy4G4wp5j9gsLFIzoXjPw==",
          "dtype": "f8"
         }
        },
        {
         "legendgroup": "Matthias Jürgen Zimmermann",
         "mode": "lines+markers",
         "name": "Matthias Jürgen Zimmermann",
         "showlegend": true,
         "type": "scatter",
         "visible": true,
         "x": [
          "J03WOH",
          "J03WOY",
          "J03WPY",
          "J03WQQ",
          "J03WR9"
         ],
         "y": {
          "bdata": "keOmEoVFvT8AA0uUMT+0P/Y3usEgwcA/T8dxYlKHxT9ea6F+kyG0Pw==",
          "dtype": "f8"
         }
        },
        {
         "legendgroup": "Shinta Karl Appelkamp",
         "mode": "lines+markers",
         "name": "Shinta Karl Appelkamp",
         "showlegend": true,
         "type": "scatter",
         "visible": true,
         "x": [
          "J03WOH",
          "J03WOY",
          "J03WPY",
          "J03WQQ",
          "J03WR9"
         ],
         "y": {
          "bdata": "Smat6eJklD/nMoudTKbhPxhy3LQapOA/brgEtiRAsz9/rlRhPiiXPw==",
          "dtype": "f8"
         }
        },
        {
         "legendgroup": "Christoph Klarer",
         "mode": "lines+markers",
         "name": "Christoph Klarer",
         "showlegend": false,
         "type": "scatter",
         "visible": false,
         "x": [
          "J03WOH",
          "J03WOY",
          "J03WPY"
         ],
         "y": {
          "bdata": "QeFiZZo9uD+Mi9EoqQ3BP2woBgE+/s0/",
          "dtype": "f8"
         }
        },
        {
         "legendgroup": "Dawid Igor Kownacki",
         "mode": "lines+markers",
         "name": "Dawid Igor Kownacki",
         "showlegend": false,
         "type": "scatter",
         "visible": false,
         "x": [
          "J03WOH",
          "J03WOY",
          "J03WPY"
         ],
         "y": {
          "bdata": "vGX0S0r+qT9R+laSt07fP/bGEGNu+6Q/",
          "dtype": "f8"
         }
        },
        {
         "legendgroup": "Emmanuel Iyoha",
         "mode": "lines+markers",
         "name": "Emmanuel Iyoha",
         "showlegend": false,
         "type": "scatter",
         "visible": false,
         "x": [
          "J03WOH",
          "J03WOY",
          "J03WPY"
         ],
         "y": {
          "bdata": "HZrtUmOs0j9LZCSOzOSvP+pci/Tgv9U/",
          "dtype": "f8"
         }
        },
        {
         "legendgroup": "Felix Klaus",
         "mode": "lines+markers",
         "name": "Felix Klaus",
         "showlegend": false,
         "type": "scatter",
         "visible": false,
         "x": [
          "J03WOH",
          "J03WOY",
          "J03WPY"
         ],
         "y": {
          "bdata": "57HRgey+sj9EyQDVCEC2P12p2uOAHbI/",
          "dtype": "f8"
         }
        },
        {
         "legendgroup": "Florian Kastenmeier",
         "mode": "lines+markers",
         "name": "Florian Kastenmeier",
         "showlegend": false,
         "type": "scatter",
         "visible": false,
         "x": [
          "J03WOH",
          "J03WOY",
          "J03WPY"
         ],
         "y": {
          "bdata": "8mxL9aYPtz9vOVefBT+1P1opZ1j89dc/",
          "dtype": "f8"
         }
        },
        {
         "legendgroup": "Kristoffer Paul Peterson",
         "mode": "lines+markers",
         "name": "Kristoffer Paul Peterson",
         "showlegend": false,
         "type": "scatter",
         "visible": false,
         "x": [
          "J03WOH",
          "J03WOY",
          "J03WPY"
         ],
         "y": {
          "bdata": "qYvDkr1R5D9IoaIEGv6zP2f8oasZP/A/",
          "dtype": "f8"
         }
        },
        {
         "legendgroup": "Matthias Jürgen Zimmermann",
         "mode": "lines+markers",
         "name": "Matthias Jürgen Zimmermann",
         "showlegend": false,
         "type": "scatter",
         "visible": false,
         "x": [
          "J03WOH",
          "J03WOY",
          "J03WPY",
          "J03WQQ",
          "J03WR9"
         ],
         "y": {
          "bdata": "XVboZxgGwT+EMWWOfTe8P8L6sMA15sE//U8Exx73yD+sXYlhqBO0Pw==",
          "dtype": "f8"
         }
        },
        {
         "legendgroup": "Shinta Karl Appelkamp",
         "mode": "lines+markers",
         "name": "Shinta Karl Appelkamp",
         "showlegend": false,
         "type": "scatter",
         "visible": false,
         "x": [
          "J03WOH",
          "J03WOY",
          "J03WPY"
         ],
         "y": {
          "bdata": "Hl84oLn4oD/JOVmmAjnWP0+FIb/IONc/",
          "dtype": "f8"
         }
        },
        {
         "legendgroup": "Matthias Jürgen Zimmermann",
         "mode": "lines+markers",
         "name": "Matthias Jürgen Zimmermann",
         "showlegend": false,
         "type": "scatter",
         "visible": false,
         "x": [
          "J03WOH",
          "J03WOY",
          "J03WPY",
          "J03WQQ",
          "J03WR9"
         ],
         "y": {
          "bdata": "XYp/9Dopwj+z+h69f9m8PyaHHpSxRMM/b7B3JUS7yT/U/SZ1RVK3Pw==",
          "dtype": "f8"
         }
        },
        {
         "legendgroup": "Matthias Jürgen Zimmermann",
         "mode": "lines+markers",
         "name": "Matthias Jürgen Zimmermann",
         "showlegend": false,
         "type": "scatter",
         "visible": false,
         "x": [
          "J03WOY",
          "J03WPY",
          "J03WR9"
         ],
         "y": {
          "bdata": "s/oevX/ZvD8mhx6UsUTDP9T9JnVFUrc/",
          "dtype": "f8"
         }
        }
       ],
       "layout": {
        "legend": {
         "title": {
          "text": "Spieler"
         }
        },
        "template": {
         "data": {
          "bar": [
           {
            "error_x": {
             "color": "#2a3f5f"
            },
            "error_y": {
             "color": "#2a3f5f"
            },
            "marker": {
             "line": {
              "color": "#E5ECF6",
              "width": 0.5
             },
             "pattern": {
              "fillmode": "overlay",
              "size": 10,
              "solidity": 0.2
             }
            },
            "type": "bar"
           }
          ],
          "barpolar": [
           {
            "marker": {
             "line": {
              "color": "#E5ECF6",
              "width": 0.5
             },
             "pattern": {
              "fillmode": "overlay",
              "size": 10,
              "solidity": 0.2
             }
            },
            "type": "barpolar"
           }
          ],
          "carpet": [
           {
            "aaxis": {
             "endlinecolor": "#2a3f5f",
             "gridcolor": "white",
             "linecolor": "white",
             "minorgridcolor": "white",
             "startlinecolor": "#2a3f5f"
            },
            "baxis": {
             "endlinecolor": "#2a3f5f",
             "gridcolor": "white",
             "linecolor": "white",
             "minorgridcolor": "white",
             "startlinecolor": "#2a3f5f"
            },
            "type": "carpet"
           }
          ],
          "choropleth": [
           {
            "colorbar": {
             "outlinewidth": 0,
             "ticks": ""
            },
            "type": "choropleth"
           }
          ],
          "contour": [
           {
            "colorbar": {
             "outlinewidth": 0,
             "ticks": ""
            },
            "colorscale": [
             [
              0,
              "#0d0887"
             ],
             [
              0.1111111111111111,
              "#46039f"
             ],
             [
              0.2222222222222222,
              "#7201a8"
             ],
             [
              0.3333333333333333,
              "#9c179e"
             ],
             [
              0.4444444444444444,
              "#bd3786"
             ],
             [
              0.5555555555555556,
              "#d8576b"
             ],
             [
              0.6666666666666666,
              "#ed7953"
             ],
             [
              0.7777777777777778,
              "#fb9f3a"
             ],
             [
              0.8888888888888888,
              "#fdca26"
             ],
             [
              1,
              "#f0f921"
             ]
            ],
            "type": "contour"
           }
          ],
          "contourcarpet": [
           {
            "colorbar": {
             "outlinewidth": 0,
             "ticks": ""
            },
            "type": "contourcarpet"
           }
          ],
          "heatmap": [
           {
            "colorbar": {
             "outlinewidth": 0,
             "ticks": ""
            },
            "colorscale": [
             [
              0,
              "#0d0887"
             ],
             [
              0.1111111111111111,
              "#46039f"
             ],
             [
              0.2222222222222222,
              "#7201a8"
             ],
             [
              0.3333333333333333,
              "#9c179e"
             ],
             [
              0.4444444444444444,
              "#bd3786"
             ],
             [
              0.5555555555555556,
              "#d8576b"
             ],
             [
              0.6666666666666666,
              "#ed7953"
             ],
             [
              0.7777777777777778,
              "#fb9f3a"
             ],
             [
              0.8888888888888888,
              "#fdca26"
             ],
             [
              1,
              "#f0f921"
             ]
            ],
            "type": "heatmap"
           }
          ],
          "histogram": [
           {
            "marker": {
             "pattern": {
              "fillmode": "overlay",
              "size": 10,
              "solidity": 0.2
             }
            },
            "type": "histogram"
           }
          ],
          "histogram2d": [
           {
            "colorbar": {
             "outlinewidth": 0,
             "ticks": ""
            },
            "colorscale": [
             [
              0,
              "#0d0887"
             ],
             [
              0.1111111111111111,
              "#46039f"
             ],
             [
              0.2222222222222222,
              "#7201a8"
             ],
             [
              0.3333333333333333,
              "#9c179e"
             ],
             [
              0.4444444444444444,
              "#bd3786"
             ],
             [
              0.5555555555555556,
              "#d8576b"
             ],
             [
              0.6666666666666666,
              "#ed7953"
             ],
             [
              0.7777777777777778,
              "#fb9f3a"
             ],
             [
              0.8888888888888888,
              "#fdca26"
             ],
             [
              1,
              "#f0f921"
             ]
            ],
            "type": "histogram2d"
           }
          ],
          "histogram2dcontour": [
           {
            "colorbar": {
             "outlinewidth": 0,
             "ticks": ""
            },
            "colorscale": [
             [
              0,
              "#0d0887"
             ],
             [
              0.1111111111111111,
              "#46039f"
             ],
             [
              0.2222222222222222,
              "#7201a8"
             ],
             [
              0.3333333333333333,
              "#9c179e"
             ],
             [
              0.4444444444444444,
              "#bd3786"
             ],
             [
              0.5555555555555556,
              "#d8576b"
             ],
             [
              0.6666666666666666,
              "#ed7953"
             ],
             [
              0.7777777777777778,
              "#fb9f3a"
             ],
             [
              0.8888888888888888,
              "#fdca26"
             ],
             [
              1,
              "#f0f921"
             ]
            ],
            "type": "histogram2dcontour"
           }
          ],
          "mesh3d": [
           {
            "colorbar": {
             "outlinewidth": 0,
             "ticks": ""
            },
            "type": "mesh3d"
           }
          ],
          "parcoords": [
           {
            "line": {
             "colorbar": {
              "outlinewidth": 0,
              "ticks": ""
             }
            },
            "type": "parcoords"
           }
          ],
          "pie": [
           {
            "automargin": true,
            "type": "pie"
           }
          ],
          "scatter": [
           {
            "fillpattern": {
             "fillmode": "overlay",
             "size": 10,
             "solidity": 0.2
            },
            "type": "scatter"
           }
          ],
          "scatter3d": [
           {
            "line": {
             "colorbar": {
              "outlinewidth": 0,
              "ticks": ""
             }
            },
            "marker": {
             "colorbar": {
              "outlinewidth": 0,
              "ticks": ""
             }
            },
            "type": "scatter3d"
           }
          ],
          "scattercarpet": [
           {
            "marker": {
             "colorbar": {
              "outlinewidth": 0,
              "ticks": ""
             }
            },
            "type": "scattercarpet"
           }
          ],
          "scattergeo": [
           {
            "marker": {
             "colorbar": {
              "outlinewidth": 0,
              "ticks": ""
             }
            },
            "type": "scattergeo"
           }
          ],
          "scattergl": [
           {
            "marker": {
             "colorbar": {
              "outlinewidth": 0,
              "ticks": ""
             }
            },
            "type": "scattergl"
           }
          ],
          "scattermap": [
           {
            "marker": {
             "colorbar": {
              "outlinewidth": 0,
              "ticks": ""
             }
            },
            "type": "scattermap"
           }
          ],
          "scattermapbox": [
           {
            "marker": {
             "colorbar": {
              "outlinewidth": 0,
              "ticks": ""
             }
            },
            "type": "scattermapbox"
           }
          ],
          "scatterpolar": [
           {
            "marker": {
             "colorbar": {
              "outlinewidth": 0,
              "ticks": ""
             }
            },
            "type": "scatterpolar"
           }
          ],
          "scatterpolargl": [
           {
            "marker": {
             "colorbar": {
              "outlinewidth": 0,
              "ticks": ""
             }
            },
            "type": "scatterpolargl"
           }
          ],
          "scatterternary": [
           {
            "marker": {
             "colorbar": {
              "outlinewidth": 0,
              "ticks": ""
             }
            },
            "type": "scatterternary"
           }
          ],
          "surface": [
           {
            "colorbar": {
             "outlinewidth": 0,
             "ticks": ""
            },
            "colorscale": [
             [
              0,
              "#0d0887"
             ],
             [
              0.1111111111111111,
              "#46039f"
             ],
             [
              0.2222222222222222,
              "#7201a8"
             ],
             [
              0.3333333333333333,
              "#9c179e"
             ],
             [
              0.4444444444444444,
              "#bd3786"
             ],
             [
              0.5555555555555556,
              "#d8576b"
             ],
             [
              0.6666666666666666,
              "#ed7953"
             ],
             [
              0.7777777777777778,
              "#fb9f3a"
             ],
             [
              0.8888888888888888,
              "#fdca26"
             ],
             [
              1,
              "#f0f921"
             ]
            ],
            "type": "surface"
           }
          ],
          "table": [
           {
            "cells": {
             "fill": {
              "color": "#EBF0F8"
             },
             "line": {
              "color": "white"
             }
            },
            "header": {
             "fill": {
              "color": "#C8D4E3"
             },
             "line": {
              "color": "white"
             }
            },
            "type": "table"
           }
          ]
         },
         "layout": {
          "annotationdefaults": {
           "arrowcolor": "#2a3f5f",
           "arrowhead": 0,
           "arrowwidth": 1
          },
          "autotypenumbers": "strict",
          "coloraxis": {
           "colorbar": {
            "outlinewidth": 0,
            "ticks": ""
           }
          },
          "colorscale": {
           "diverging": [
            [
             0,
             "#8e0152"
            ],
            [
             0.1,
             "#c51b7d"
            ],
            [
             0.2,
             "#de77ae"
            ],
            [
             0.3,
             "#f1b6da"
            ],
            [
             0.4,
             "#fde0ef"
            ],
            [
             0.5,
             "#f7f7f7"
            ],
            [
             0.6,
             "#e6f5d0"
            ],
            [
             0.7,
             "#b8e186"
            ],
            [
             0.8,
             "#7fbc41"
            ],
            [
             0.9,
             "#4d9221"
            ],
            [
             1,
             "#276419"
            ]
           ],
           "sequential": [
            [
             0,
             "#0d0887"
            ],
            [
             0.1111111111111111,
             "#46039f"
            ],
            [
             0.2222222222222222,
             "#7201a8"
            ],
            [
             0.3333333333333333,
             "#9c179e"
            ],
            [
             0.4444444444444444,
             "#bd3786"
            ],
            [
             0.5555555555555556,
             "#d8576b"
            ],
            [
             0.6666666666666666,
             "#ed7953"
            ],
            [
             0.7777777777777778,
             "#fb9f3a"
            ],
            [
             0.8888888888888888,
             "#fdca26"
            ],
            [
             1,
             "#f0f921"
            ]
           ],
           "sequentialminus": [
            [
             0,
             "#0d0887"
            ],
            [
             0.1111111111111111,
             "#46039f"
            ],
            [
             0.2222222222222222,
             "#7201a8"
            ],
            [
             0.3333333333333333,
             "#9c179e"
            ],
            [
             0.4444444444444444,
             "#bd3786"
            ],
            [
             0.5555555555555556,
             "#d8576b"
            ],
            [
             0.6666666666666666,
             "#ed7953"
            ],
            [
             0.7777777777777778,
             "#fb9f3a"
            ],
            [
             0.8888888888888888,
             "#fdca26"
            ],
            [
             1,
             "#f0f921"
            ]
           ]
          },
          "colorway": [
           "#636efa",
           "#EF553B",
           "#00cc96",
           "#ab63fa",
           "#FFA15A",
           "#19d3f3",
           "#FF6692",
           "#B6E880",
           "#FF97FF",
           "#FECB52"
          ],
          "font": {
           "color": "#2a3f5f"
          },
          "geo": {
           "bgcolor": "white",
           "lakecolor": "white",
           "landcolor": "#E5ECF6",
           "showlakes": true,
           "showland": true,
           "subunitcolor": "white"
          },
          "hoverlabel": {
           "align": "left"
          },
          "hovermode": "closest",
          "mapbox": {
           "style": "light"
          },
          "paper_bgcolor": "white",
          "plot_bgcolor": "#E5ECF6",
          "polar": {
           "angularaxis": {
            "gridcolor": "white",
            "linecolor": "white",
            "ticks": ""
           },
           "bgcolor": "#E5ECF6",
           "radialaxis": {
            "gridcolor": "white",
            "linecolor": "white",
            "ticks": ""
           }
          },
          "scene": {
           "xaxis": {
            "backgroundcolor": "#E5ECF6",
            "gridcolor": "white",
            "gridwidth": 2,
            "linecolor": "white",
            "showbackground": true,
            "ticks": "",
            "zerolinecolor": "white"
           },
           "yaxis": {
            "backgroundcolor": "#E5ECF6",
            "gridcolor": "white",
            "gridwidth": 2,
            "linecolor": "white",
            "showbackground": true,
            "ticks": "",
            "zerolinecolor": "white"
           },
           "zaxis": {
            "backgroundcolor": "#E5ECF6",
            "gridcolor": "white",
            "gridwidth": 2,
            "linecolor": "white",
            "showbackground": true,
            "ticks": "",
            "zerolinecolor": "white"
           }
          },
          "shapedefaults": {
           "line": {
            "color": "#2a3f5f"
           }
          },
          "ternary": {
           "aaxis": {
            "gridcolor": "white",
            "linecolor": "white",
            "ticks": ""
           },
           "baxis": {
            "gridcolor": "white",
            "linecolor": "white",
            "ticks": ""
           },
           "bgcolor": "#E5ECF6",
           "caxis": {
            "gridcolor": "white",
            "linecolor": "white",
            "ticks": ""
           }
          },
          "title": {
           "x": 0.05
          },
          "xaxis": {
           "automargin": true,
           "gridcolor": "white",
           "linecolor": "white",
           "ticks": "",
           "title": {
            "standoff": 15
           },
           "zerolinecolor": "white",
           "zerolinewidth": 2
          },
          "yaxis": {
           "automargin": true,
           "gridcolor": "white",
           "linecolor": "white",
           "ticks": "",
           "title": {
            "standoff": 15
           },
           "zerolinecolor": "white",
           "zerolinewidth": 2
          }
         }
        },
        "title": {
         "text": "DAS Potential pro Spiel (Tuning: random-R_5-S_1-D_2-N_20)"
        },
        "updatemenus": [
         {
          "active": 0,
          "buttons": [
           {
            "args": [
             {
              "visible": [
               true,
               true,
               true,
               true,
               true,
               true,
               true,
               true,
               false,
               false,
               false,
               false,
               false,
               false,
               false,
               false,
               false,
               false
              ]
             },
             {
              "title": "DAS Potential pro Spiel (Tuning: random-R_5-S_1-D_2-N_20)"
             }
            ],
            "label": "random-R_5-S_1-D_2-N_20",
            "method": "update"
           },
           {
            "args": [
             {
              "visible": [
               false,
               false,
               false,
               false,
               false,
               false,
               false,
               false,
               true,
               true,
               true,
               true,
               true,
               true,
               true,
               true,
               false,
               false
              ]
             },
             {
              "title": "DAS Potential pro Spiel (Tuning: random-R_5-S_1-D_2-N_50)"
             }
            ],
            "label": "random-R_5-S_1-D_2-N_50",
            "method": "update"
           },
           {
            "args": [
             {
              "visible": [
               false,
               false,
               false,
               false,
               false,
               false,
               false,
               false,
               false,
               false,
               false,
               false,
               false,
               false,
               false,
               false,
               true,
               false
              ]
             },
             {
              "title": "DAS Potential pro Spiel (Tuning: all_positions-R_5-S_1-D_2-N_20)"
             }
            ],
            "label": "all_positions-R_5-S_1-D_2-N_20",
            "method": "update"
           },
           {
            "args": [
             {
              "visible": [
               false,
               false,
               false,
               false,
               false,
               false,
               false,
               false,
               false,
               false,
               false,
               false,
               false,
               false,
               false,
               false,
               false,
               true
              ]
             },
             {
              "title": "DAS Potential pro Spiel (Tuning: random-R_5-S_1-D_2-N_100)"
             }
            ],
            "label": "random-R_5-S_1-D_2-N_100",
            "method": "update"
           }
          ],
          "type": "dropdown",
          "x": 1.1,
          "xanchor": "left",
          "y": 1.15
         }
        ],
        "xaxis": {
         "title": {
          "text": "Spiel"
         }
        },
        "yaxis": {
         "title": {
          "text": "DAS_potential"
         }
        }
       }
      }
     },
     "metadata": {},
     "output_type": "display_data"
    }
   ],
   "source": [
    "# Spieler für alle Spiele\n",
    "n_total_games = grouped_df[\"game_id\"].nunique()\n",
    "print(f\"Anzahl Spiele: {n_total_games}\")\n",
    "\n",
    "all_players = add_player_names()\n",
    "grouped_named = grouped_df.merge(all_players, on=[\"game_id\", \"player\"], how=\"left\")\n",
    "\n",
    "games_played = grouped_named.groupby(\"id\")[\"game_id\"].nunique().reset_index(name=\"games_played\")\n",
    "all_game_players = games_played[games_played[\"games_played\"] == n_total_games]\n",
    "\n",
    "fair_grouped_df = grouped_named.merge(all_game_players, on=\"id\")\n",
    "\n",
    "line_players(fair_grouped_df)"
   ]
  },
  {
   "cell_type": "code",
   "execution_count": 9,
   "id": "3f23f4f0",
   "metadata": {},
   "outputs": [
    {
     "data": {
      "application/vnd.plotly.v1+json": {
       "config": {
        "plotlyServerURL": "https://plot.ly"
       },
       "data": [
        {
         "legendgroup": "Christoph Klarer",
         "mode": "lines+markers",
         "name": "Christoph Klarer",
         "showlegend": true,
         "type": "scatter",
         "visible": true,
         "x": [
          "J03WOH",
          "J03WOY",
          "J03WPY",
          "J03WQQ",
          "J03WR9"
         ],
         "y": {
          "bdata": "ML0o6wq9zT/lKwglTZvXP56SammA8t0/9B8667GL4j8mml/8TArkPw==",
          "dtype": "f8"
         }
        },
        {
         "legendgroup": "Dawid Igor Kownacki",
         "mode": "lines+markers",
         "name": "Dawid Igor Kownacki",
         "showlegend": true,
         "type": "scatter",
         "visible": true,
         "x": [
          "J03WOH",
          "J03WOY",
          "J03WPY",
          "J03WQQ",
          "J03WR9"
         ],
         "y": {
          "bdata": "CbN9vehfuz8G0dh0mccFQBvqd7JiX7Y/Tv/RQobAAkBABJQIlMTQPw==",
          "dtype": "f8"
         }
        },
        {
         "legendgroup": "Emmanuel Iyoha",
         "mode": "lines+markers",
         "name": "Emmanuel Iyoha",
         "showlegend": true,
         "type": "scatter",
         "visible": true,
         "x": [
          "J03WOH",
          "J03WOY",
          "J03WPY",
          "J03WQQ",
          "J03WR9"
         ],
         "y": {
          "bdata": "NuZESLVKrz9u3div2nezP9cIVDSvQvM/i+f+Mf7P0T+F3ACR6AIMQA==",
          "dtype": "f8"
         }
        },
        {
         "legendgroup": "Felix Klaus",
         "mode": "lines+markers",
         "name": "Felix Klaus",
         "showlegend": true,
         "type": "scatter",
         "visible": true,
         "x": [
          "J03WOH",
          "J03WOY",
          "J03WPY",
          "J03WQQ",
          "J03WR9"
         ],
         "y": {
          "bdata": "g3nh9k0VxD/Cblrk3DzSPy++XbQeb8I/lVHqeuQR3T/VJNnckzm1Pw==",
          "dtype": "f8"
         }
        },
        {
         "legendgroup": "Florian Kastenmeier",
         "mode": "lines+markers",
         "name": "Florian Kastenmeier",
         "showlegend": true,
         "type": "scatter",
         "visible": true,
         "x": [
          "J03WOH",
          "J03WOY",
          "J03WPY",
          "J03WQQ",
          "J03WR9"
         ],
         "y": {
          "bdata": "Dlu74Csazz9GlhDwPi/TP0KVcHpiEfA/nxBaQWgZ0z/DAG4Rz6XYPw==",
          "dtype": "f8"
         }
        },
        {
         "legendgroup": "Kristoffer Paul Peterson",
         "mode": "lines+markers",
         "name": "Kristoffer Paul Peterson",
         "showlegend": true,
         "type": "scatter",
         "visible": true,
         "x": [
          "J03WOH",
          "J03WOY",
          "J03WPY",
          "J03WQQ",
          "J03WR9"
         ],
         "y": {
          "bdata": "02L4VSNXAEDvh6eUyoLLP0/XDisOlRlA/6B5/n+xA0DOcEU7pKkLQA==",
          "dtype": "f8"
         }
        },
        {
         "legendgroup": "Matthias Jürgen Zimmermann",
         "mode": "lines+markers",
         "name": "Matthias Jürgen Zimmermann",
         "showlegend": true,
         "type": "scatter",
         "visible": true,
         "x": [
          "J03WOH",
          "J03WOY",
          "J03WPY",
          "J03WQQ",
          "J03WR9"
         ],
         "y": {
          "bdata": "e8rfqrxU1D9AuO/R1jXSPwJG02KVztc/ZPq3kx514D8RmD4ChmDbPw==",
          "dtype": "f8"
         }
        },
        {
         "legendgroup": "Shinta Karl Appelkamp",
         "mode": "lines+markers",
         "name": "Shinta Karl Appelkamp",
         "showlegend": true,
         "type": "scatter",
         "visible": true,
         "x": [
          "J03WOH",
          "J03WOY",
          "J03WPY",
          "J03WQQ",
          "J03WR9"
         ],
         "y": {
          "bdata": "ZeUslk5Loj99I1u4ObcEQCefWWxPFfQ/v33gbmaMzz95SG5wO8azPw==",
          "dtype": "f8"
         }
        },
        {
         "legendgroup": "Christoph Klarer",
         "mode": "lines+markers",
         "name": "Christoph Klarer",
         "showlegend": false,
         "type": "scatter",
         "visible": false,
         "x": [
          "J03WOH",
          "J03WOY",
          "J03WPY"
         ],
         "y": {
          "bdata": "oowUXA/G1D/zMasK7Y7fPyJ21suLgOU/",
          "dtype": "f8"
         }
        },
        {
         "legendgroup": "Dawid Igor Kownacki",
         "mode": "lines+markers",
         "name": "Dawid Igor Kownacki",
         "showlegend": false,
         "type": "scatter",
         "visible": false,
         "x": [
          "J03WOH",
          "J03WOY",
          "J03WPY"
         ],
         "y": {
          "bdata": "gxW76mHKvz9O+oJxnj0CQBAQG4C/abs/",
          "dtype": "f8"
         }
        },
        {
         "legendgroup": "Emmanuel Iyoha",
         "mode": "lines+markers",
         "name": "Emmanuel Iyoha",
         "showlegend": false,
         "type": "scatter",
         "visible": false,
         "x": [
          "J03WOH",
          "J03WOY",
          "J03WPY"
         ],
         "y": {
          "bdata": "mkz32JNq9T9q/35VQf/BP/1iJrSVYew/",
          "dtype": "f8"
         }
        },
        {
         "legendgroup": "Felix Klaus",
         "mode": "lines+markers",
         "name": "Felix Klaus",
         "showlegend": false,
         "type": "scatter",
         "visible": false,
         "x": [
          "J03WOH",
          "J03WOY",
          "J03WPY"
         ],
         "y": {
          "bdata": "vyIIY6oxyD/Z9WunIs3VP3E1qEF1Q8U/",
          "dtype": "f8"
         }
        },
        {
         "legendgroup": "Florian Kastenmeier",
         "mode": "lines+markers",
         "name": "Florian Kastenmeier",
         "showlegend": false,
         "type": "scatter",
         "visible": false,
         "x": [
          "J03WOH",
          "J03WOY",
          "J03WPY"
         ],
         "y": {
          "bdata": "/qVnw1ok0T++vF7GxOnUP1Cu48o83vE/",
          "dtype": "f8"
         }
        },
        {
         "legendgroup": "Kristoffer Paul Peterson",
         "mode": "lines+markers",
         "name": "Kristoffer Paul Peterson",
         "showlegend": false,
         "type": "scatter",
         "visible": false,
         "x": [
          "J03WOH",
          "J03WOY",
          "J03WPY"
         ],
         "y": {
          "bdata": "Tca+yJfJ+z9CuRzKC/DRPzUpZE1GtBZA",
          "dtype": "f8"
         }
        },
        {
         "legendgroup": "Matthias Jürgen Zimmermann",
         "mode": "lines+markers",
         "name": "Matthias Jürgen Zimmermann",
         "showlegend": false,
         "type": "scatter",
         "visible": false,
         "x": [
          "J03WOH",
          "J03WOY",
          "J03WPY",
          "J03WQQ",
          "J03WR9"
         ],
         "y": {
          "bdata": "QFVtQKeP1z/R5PpovhTaP7aHJmgrLdk/XdZnS4Ab4z+DutS/T7TaPw==",
          "dtype": "f8"
         }
        },
        {
         "legendgroup": "Shinta Karl Appelkamp",
         "mode": "lines+markers",
         "name": "Shinta Karl Appelkamp",
         "showlegend": false,
         "type": "scatter",
         "visible": false,
         "x": [
          "J03WOH",
          "J03WOY",
          "J03WPY"
         ],
         "y": {
          "bdata": "G90bSd14tT8oM0a0JO75P8vwi0LNK+4/",
          "dtype": "f8"
         }
        },
        {
         "legendgroup": "Matthias Jürgen Zimmermann",
         "mode": "lines+markers",
         "name": "Matthias Jürgen Zimmermann",
         "showlegend": false,
         "type": "scatter",
         "visible": false,
         "x": [
          "J03WOH",
          "J03WOY",
          "J03WPY",
          "J03WQQ",
          "J03WR9"
         ],
         "y": {
          "bdata": "MvV7S2g62T8/J+mLIIPaP6wpfxQ/Jts/XbqY8GGp4z8Njr48CkzfPw==",
          "dtype": "f8"
         }
        },
        {
         "legendgroup": "Matthias Jürgen Zimmermann",
         "mode": "lines+markers",
         "name": "Matthias Jürgen Zimmermann",
         "showlegend": false,
         "type": "scatter",
         "visible": false,
         "x": [
          "J03WOY",
          "J03WPY",
          "J03WR9"
         ],
         "y": {
          "bdata": "PyfpiyCD2j+sKX8UPybbPw2OvjwKTN8/",
          "dtype": "f8"
         }
        }
       ],
       "layout": {
        "legend": {
         "title": {
          "text": "Spieler"
         }
        },
        "template": {
         "data": {
          "bar": [
           {
            "error_x": {
             "color": "#2a3f5f"
            },
            "error_y": {
             "color": "#2a3f5f"
            },
            "marker": {
             "line": {
              "color": "#E5ECF6",
              "width": 0.5
             },
             "pattern": {
              "fillmode": "overlay",
              "size": 10,
              "solidity": 0.2
             }
            },
            "type": "bar"
           }
          ],
          "barpolar": [
           {
            "marker": {
             "line": {
              "color": "#E5ECF6",
              "width": 0.5
             },
             "pattern": {
              "fillmode": "overlay",
              "size": 10,
              "solidity": 0.2
             }
            },
            "type": "barpolar"
           }
          ],
          "carpet": [
           {
            "aaxis": {
             "endlinecolor": "#2a3f5f",
             "gridcolor": "white",
             "linecolor": "white",
             "minorgridcolor": "white",
             "startlinecolor": "#2a3f5f"
            },
            "baxis": {
             "endlinecolor": "#2a3f5f",
             "gridcolor": "white",
             "linecolor": "white",
             "minorgridcolor": "white",
             "startlinecolor": "#2a3f5f"
            },
            "type": "carpet"
           }
          ],
          "choropleth": [
           {
            "colorbar": {
             "outlinewidth": 0,
             "ticks": ""
            },
            "type": "choropleth"
           }
          ],
          "contour": [
           {
            "colorbar": {
             "outlinewidth": 0,
             "ticks": ""
            },
            "colorscale": [
             [
              0,
              "#0d0887"
             ],
             [
              0.1111111111111111,
              "#46039f"
             ],
             [
              0.2222222222222222,
              "#7201a8"
             ],
             [
              0.3333333333333333,
              "#9c179e"
             ],
             [
              0.4444444444444444,
              "#bd3786"
             ],
             [
              0.5555555555555556,
              "#d8576b"
             ],
             [
              0.6666666666666666,
              "#ed7953"
             ],
             [
              0.7777777777777778,
              "#fb9f3a"
             ],
             [
              0.8888888888888888,
              "#fdca26"
             ],
             [
              1,
              "#f0f921"
             ]
            ],
            "type": "contour"
           }
          ],
          "contourcarpet": [
           {
            "colorbar": {
             "outlinewidth": 0,
             "ticks": ""
            },
            "type": "contourcarpet"
           }
          ],
          "heatmap": [
           {
            "colorbar": {
             "outlinewidth": 0,
             "ticks": ""
            },
            "colorscale": [
             [
              0,
              "#0d0887"
             ],
             [
              0.1111111111111111,
              "#46039f"
             ],
             [
              0.2222222222222222,
              "#7201a8"
             ],
             [
              0.3333333333333333,
              "#9c179e"
             ],
             [
              0.4444444444444444,
              "#bd3786"
             ],
             [
              0.5555555555555556,
              "#d8576b"
             ],
             [
              0.6666666666666666,
              "#ed7953"
             ],
             [
              0.7777777777777778,
              "#fb9f3a"
             ],
             [
              0.8888888888888888,
              "#fdca26"
             ],
             [
              1,
              "#f0f921"
             ]
            ],
            "type": "heatmap"
           }
          ],
          "histogram": [
           {
            "marker": {
             "pattern": {
              "fillmode": "overlay",
              "size": 10,
              "solidity": 0.2
             }
            },
            "type": "histogram"
           }
          ],
          "histogram2d": [
           {
            "colorbar": {
             "outlinewidth": 0,
             "ticks": ""
            },
            "colorscale": [
             [
              0,
              "#0d0887"
             ],
             [
              0.1111111111111111,
              "#46039f"
             ],
             [
              0.2222222222222222,
              "#7201a8"
             ],
             [
              0.3333333333333333,
              "#9c179e"
             ],
             [
              0.4444444444444444,
              "#bd3786"
             ],
             [
              0.5555555555555556,
              "#d8576b"
             ],
             [
              0.6666666666666666,
              "#ed7953"
             ],
             [
              0.7777777777777778,
              "#fb9f3a"
             ],
             [
              0.8888888888888888,
              "#fdca26"
             ],
             [
              1,
              "#f0f921"
             ]
            ],
            "type": "histogram2d"
           }
          ],
          "histogram2dcontour": [
           {
            "colorbar": {
             "outlinewidth": 0,
             "ticks": ""
            },
            "colorscale": [
             [
              0,
              "#0d0887"
             ],
             [
              0.1111111111111111,
              "#46039f"
             ],
             [
              0.2222222222222222,
              "#7201a8"
             ],
             [
              0.3333333333333333,
              "#9c179e"
             ],
             [
              0.4444444444444444,
              "#bd3786"
             ],
             [
              0.5555555555555556,
              "#d8576b"
             ],
             [
              0.6666666666666666,
              "#ed7953"
             ],
             [
              0.7777777777777778,
              "#fb9f3a"
             ],
             [
              0.8888888888888888,
              "#fdca26"
             ],
             [
              1,
              "#f0f921"
             ]
            ],
            "type": "histogram2dcontour"
           }
          ],
          "mesh3d": [
           {
            "colorbar": {
             "outlinewidth": 0,
             "ticks": ""
            },
            "type": "mesh3d"
           }
          ],
          "parcoords": [
           {
            "line": {
             "colorbar": {
              "outlinewidth": 0,
              "ticks": ""
             }
            },
            "type": "parcoords"
           }
          ],
          "pie": [
           {
            "automargin": true,
            "type": "pie"
           }
          ],
          "scatter": [
           {
            "fillpattern": {
             "fillmode": "overlay",
             "size": 10,
             "solidity": 0.2
            },
            "type": "scatter"
           }
          ],
          "scatter3d": [
           {
            "line": {
             "colorbar": {
              "outlinewidth": 0,
              "ticks": ""
             }
            },
            "marker": {
             "colorbar": {
              "outlinewidth": 0,
              "ticks": ""
             }
            },
            "type": "scatter3d"
           }
          ],
          "scattercarpet": [
           {
            "marker": {
             "colorbar": {
              "outlinewidth": 0,
              "ticks": ""
             }
            },
            "type": "scattercarpet"
           }
          ],
          "scattergeo": [
           {
            "marker": {
             "colorbar": {
              "outlinewidth": 0,
              "ticks": ""
             }
            },
            "type": "scattergeo"
           }
          ],
          "scattergl": [
           {
            "marker": {
             "colorbar": {
              "outlinewidth": 0,
              "ticks": ""
             }
            },
            "type": "scattergl"
           }
          ],
          "scattermap": [
           {
            "marker": {
             "colorbar": {
              "outlinewidth": 0,
              "ticks": ""
             }
            },
            "type": "scattermap"
           }
          ],
          "scattermapbox": [
           {
            "marker": {
             "colorbar": {
              "outlinewidth": 0,
              "ticks": ""
             }
            },
            "type": "scattermapbox"
           }
          ],
          "scatterpolar": [
           {
            "marker": {
             "colorbar": {
              "outlinewidth": 0,
              "ticks": ""
             }
            },
            "type": "scatterpolar"
           }
          ],
          "scatterpolargl": [
           {
            "marker": {
             "colorbar": {
              "outlinewidth": 0,
              "ticks": ""
             }
            },
            "type": "scatterpolargl"
           }
          ],
          "scatterternary": [
           {
            "marker": {
             "colorbar": {
              "outlinewidth": 0,
              "ticks": ""
             }
            },
            "type": "scatterternary"
           }
          ],
          "surface": [
           {
            "colorbar": {
             "outlinewidth": 0,
             "ticks": ""
            },
            "colorscale": [
             [
              0,
              "#0d0887"
             ],
             [
              0.1111111111111111,
              "#46039f"
             ],
             [
              0.2222222222222222,
              "#7201a8"
             ],
             [
              0.3333333333333333,
              "#9c179e"
             ],
             [
              0.4444444444444444,
              "#bd3786"
             ],
             [
              0.5555555555555556,
              "#d8576b"
             ],
             [
              0.6666666666666666,
              "#ed7953"
             ],
             [
              0.7777777777777778,
              "#fb9f3a"
             ],
             [
              0.8888888888888888,
              "#fdca26"
             ],
             [
              1,
              "#f0f921"
             ]
            ],
            "type": "surface"
           }
          ],
          "table": [
           {
            "cells": {
             "fill": {
              "color": "#EBF0F8"
             },
             "line": {
              "color": "white"
             }
            },
            "header": {
             "fill": {
              "color": "#C8D4E3"
             },
             "line": {
              "color": "white"
             }
            },
            "type": "table"
           }
          ]
         },
         "layout": {
          "annotationdefaults": {
           "arrowcolor": "#2a3f5f",
           "arrowhead": 0,
           "arrowwidth": 1
          },
          "autotypenumbers": "strict",
          "coloraxis": {
           "colorbar": {
            "outlinewidth": 0,
            "ticks": ""
           }
          },
          "colorscale": {
           "diverging": [
            [
             0,
             "#8e0152"
            ],
            [
             0.1,
             "#c51b7d"
            ],
            [
             0.2,
             "#de77ae"
            ],
            [
             0.3,
             "#f1b6da"
            ],
            [
             0.4,
             "#fde0ef"
            ],
            [
             0.5,
             "#f7f7f7"
            ],
            [
             0.6,
             "#e6f5d0"
            ],
            [
             0.7,
             "#b8e186"
            ],
            [
             0.8,
             "#7fbc41"
            ],
            [
             0.9,
             "#4d9221"
            ],
            [
             1,
             "#276419"
            ]
           ],
           "sequential": [
            [
             0,
             "#0d0887"
            ],
            [
             0.1111111111111111,
             "#46039f"
            ],
            [
             0.2222222222222222,
             "#7201a8"
            ],
            [
             0.3333333333333333,
             "#9c179e"
            ],
            [
             0.4444444444444444,
             "#bd3786"
            ],
            [
             0.5555555555555556,
             "#d8576b"
            ],
            [
             0.6666666666666666,
             "#ed7953"
            ],
            [
             0.7777777777777778,
             "#fb9f3a"
            ],
            [
             0.8888888888888888,
             "#fdca26"
            ],
            [
             1,
             "#f0f921"
            ]
           ],
           "sequentialminus": [
            [
             0,
             "#0d0887"
            ],
            [
             0.1111111111111111,
             "#46039f"
            ],
            [
             0.2222222222222222,
             "#7201a8"
            ],
            [
             0.3333333333333333,
             "#9c179e"
            ],
            [
             0.4444444444444444,
             "#bd3786"
            ],
            [
             0.5555555555555556,
             "#d8576b"
            ],
            [
             0.6666666666666666,
             "#ed7953"
            ],
            [
             0.7777777777777778,
             "#fb9f3a"
            ],
            [
             0.8888888888888888,
             "#fdca26"
            ],
            [
             1,
             "#f0f921"
            ]
           ]
          },
          "colorway": [
           "#636efa",
           "#EF553B",
           "#00cc96",
           "#ab63fa",
           "#FFA15A",
           "#19d3f3",
           "#FF6692",
           "#B6E880",
           "#FF97FF",
           "#FECB52"
          ],
          "font": {
           "color": "#2a3f5f"
          },
          "geo": {
           "bgcolor": "white",
           "lakecolor": "white",
           "landcolor": "#E5ECF6",
           "showlakes": true,
           "showland": true,
           "subunitcolor": "white"
          },
          "hoverlabel": {
           "align": "left"
          },
          "hovermode": "closest",
          "mapbox": {
           "style": "light"
          },
          "paper_bgcolor": "white",
          "plot_bgcolor": "#E5ECF6",
          "polar": {
           "angularaxis": {
            "gridcolor": "white",
            "linecolor": "white",
            "ticks": ""
           },
           "bgcolor": "#E5ECF6",
           "radialaxis": {
            "gridcolor": "white",
            "linecolor": "white",
            "ticks": ""
           }
          },
          "scene": {
           "xaxis": {
            "backgroundcolor": "#E5ECF6",
            "gridcolor": "white",
            "gridwidth": 2,
            "linecolor": "white",
            "showbackground": true,
            "ticks": "",
            "zerolinecolor": "white"
           },
           "yaxis": {
            "backgroundcolor": "#E5ECF6",
            "gridcolor": "white",
            "gridwidth": 2,
            "linecolor": "white",
            "showbackground": true,
            "ticks": "",
            "zerolinecolor": "white"
           },
           "zaxis": {
            "backgroundcolor": "#E5ECF6",
            "gridcolor": "white",
            "gridwidth": 2,
            "linecolor": "white",
            "showbackground": true,
            "ticks": "",
            "zerolinecolor": "white"
           }
          },
          "shapedefaults": {
           "line": {
            "color": "#2a3f5f"
           }
          },
          "ternary": {
           "aaxis": {
            "gridcolor": "white",
            "linecolor": "white",
            "ticks": ""
           },
           "baxis": {
            "gridcolor": "white",
            "linecolor": "white",
            "ticks": ""
           },
           "bgcolor": "#E5ECF6",
           "caxis": {
            "gridcolor": "white",
            "linecolor": "white",
            "ticks": ""
           }
          },
          "title": {
           "x": 0.05
          },
          "xaxis": {
           "automargin": true,
           "gridcolor": "white",
           "linecolor": "white",
           "ticks": "",
           "title": {
            "standoff": 15
           },
           "zerolinecolor": "white",
           "zerolinewidth": 2
          },
          "yaxis": {
           "automargin": true,
           "gridcolor": "white",
           "linecolor": "white",
           "ticks": "",
           "title": {
            "standoff": 15
           },
           "zerolinecolor": "white",
           "zerolinewidth": 2
          }
         }
        },
        "title": {
         "text": "DAS Potential pro Spiel (Tuning: random-R_5-S_1-D_2-N_20)"
        },
        "updatemenus": [
         {
          "active": 0,
          "buttons": [
           {
            "args": [
             {
              "visible": [
               true,
               true,
               true,
               true,
               true,
               true,
               true,
               true,
               false,
               false,
               false,
               false,
               false,
               false,
               false,
               false,
               false,
               false
              ]
             },
             {
              "title": "DAS Potential pro Spiel (Tuning: random-R_5-S_1-D_2-N_20)"
             }
            ],
            "label": "random-R_5-S_1-D_2-N_20",
            "method": "update"
           },
           {
            "args": [
             {
              "visible": [
               false,
               false,
               false,
               false,
               false,
               false,
               false,
               false,
               true,
               true,
               true,
               true,
               true,
               true,
               true,
               true,
               false,
               false
              ]
             },
             {
              "title": "DAS Potential pro Spiel (Tuning: random-R_5-S_1-D_2-N_50)"
             }
            ],
            "label": "random-R_5-S_1-D_2-N_50",
            "method": "update"
           },
           {
            "args": [
             {
              "visible": [
               false,
               false,
               false,
               false,
               false,
               false,
               false,
               false,
               false,
               false,
               false,
               false,
               false,
               false,
               false,
               false,
               true,
               false
              ]
             },
             {
              "title": "DAS Potential pro Spiel (Tuning: all_positions-R_5-S_1-D_2-N_20)"
             }
            ],
            "label": "all_positions-R_5-S_1-D_2-N_20",
            "method": "update"
           },
           {
            "args": [
             {
              "visible": [
               false,
               false,
               false,
               false,
               false,
               false,
               false,
               false,
               false,
               false,
               false,
               false,
               false,
               false,
               false,
               false,
               false,
               true
              ]
             },
             {
              "title": "DAS Potential pro Spiel (Tuning: random-R_5-S_1-D_2-N_100)"
             }
            ],
            "label": "random-R_5-S_1-D_2-N_100",
            "method": "update"
           }
          ],
          "type": "dropdown",
          "x": 1.1,
          "xanchor": "left",
          "y": 1.15
         }
        ],
        "xaxis": {
         "title": {
          "text": "Spiel"
         }
        },
        "yaxis": {
         "title": {
          "text": "DAS_potential"
         }
        }
       }
      }
     },
     "metadata": {},
     "output_type": "display_data"
    },
    {
     "data": {
      "application/vnd.plotly.v1+json": {
       "config": {
        "plotlyServerURL": "https://plot.ly"
       },
       "data": [
        {
         "legendgroup": "Christoph Klarer",
         "mode": "lines+markers",
         "name": "Christoph Klarer",
         "showlegend": true,
         "type": "scatter",
         "visible": true,
         "x": [
          "J03WOH",
          "J03WOY",
          "J03WPY",
          "J03WQQ",
          "J03WR9"
         ],
         "y": {
          "bdata": "wMBlfbb04D+4o8n6egoAQHA9oYD+/RFAsPhHkYGAEUB4/QA/DiQTQA==",
          "dtype": "f8"
         }
        },
        {
         "legendgroup": "Dawid Igor Kownacki",
         "mode": "lines+markers",
         "name": "Dawid Igor Kownacki",
         "showlegend": true,
         "type": "scatter",
         "visible": true,
         "x": [
          "J03WOH",
          "J03WOY",
          "J03WPY",
          "J03WQQ",
          "J03WR9"
         ],
         "y": {
          "bdata": "M66KA8Qx/D+5kGkuV7oiQIDgKuCcwPs/vs1al107K0Agnpz9WZURQA==",
          "dtype": "f8"
         }
        },
        {
         "legendgroup": "Emmanuel Iyoha",
         "mode": "lines+markers",
         "name": "Emmanuel Iyoha",
         "showlegend": true,
         "type": "scatter",
         "visible": true,
         "x": [
          "J03WOH",
          "J03WOY",
          "J03WPY",
          "J03WQQ",
          "J03WR9"
         ],
         "y": {
          "bdata": "NuZESLVKrz9/ZYczg2vUP6Bjekq9ARhAKbJcp27a/j8dvoxRDbgtQA==",
          "dtype": "f8"
         }
        },
        {
         "legendgroup": "Felix Klaus",
         "mode": "lines+markers",
         "name": "Felix Klaus",
         "showlegend": true,
         "type": "scatter",
         "visible": true,
         "x": [
          "J03WOH",
          "J03WOY",
          "J03WPY",
          "J03WQQ",
          "J03WR9"
         ],
         "y": {
          "bdata": "uDn9UISB8D+DVd8SQmMEQFC3BLB1FPY/lZtz6tmlA0CDEWgGNszPPw==",
          "dtype": "f8"
         }
        },
        {
         "legendgroup": "Florian Kastenmeier",
         "mode": "lines+markers",
         "name": "Florian Kastenmeier",
         "showlegend": true,
         "type": "scatter",
         "visible": true,
         "x": [
          "J03WOH",
          "J03WOY",
          "J03WPY",
          "J03WQQ",
          "J03WR9"
         ],
         "y": {
          "bdata": "bKgMLTJ3DkDUoDd3kDIQQEw9POczyyRAUBzQ0BQQCEAQ+Ikun+cIQA==",
          "dtype": "f8"
         }
        },
        {
         "legendgroup": "Kristoffer Paul Peterson",
         "mode": "lines+markers",
         "name": "Kristoffer Paul Peterson",
         "showlegend": true,
         "type": "scatter",
         "visible": true,
         "x": [
          "J03WOH",
          "J03WOY",
          "J03WPY",
          "J03WQQ",
          "J03WR9"
         ],
         "y": {
          "bdata": "6A/B2rPIJEBAMOB2LRHxP3aZnccnLzJATpc7gFTcLEB4iB59s9QrQA==",
          "dtype": "f8"
         }
        },
        {
         "legendgroup": "Matthias Jürgen Zimmermann",
         "mode": "lines+markers",
         "name": "Matthias Jürgen Zimmermann",
         "showlegend": true,
         "type": "scatter",
         "visible": true,
         "x": [
          "J03WOH",
          "J03WOY",
          "J03WPY",
          "J03WQQ",
          "J03WR9"
         ],
         "y": {
          "bdata": "OD/XtkOcAUDI2K4Hbt77P9haJDACFBFA7k5WIx0ADkAAyZ1FgXoFQA==",
          "dtype": "f8"
         }
        },
        {
         "legendgroup": "Shinta Karl Appelkamp",
         "mode": "lines+markers",
         "name": "Shinta Karl Appelkamp",
         "showlegend": true,
         "type": "scatter",
         "visible": true,
         "x": [
          "J03WOH",
          "J03WOY",
          "J03WPY",
          "J03WQQ",
          "J03WR9"
         ],
         "y": {
          "bdata": "P6/UHYg+tj8x3ACIfWwiQCAErloSxhdAgA+GEzqtBUDh6t8NgIjNPw==",
          "dtype": "f8"
         }
        },
        {
         "legendgroup": "Christoph Klarer",
         "mode": "lines+markers",
         "name": "Christoph Klarer",
         "showlegend": false,
         "type": "scatter",
         "visible": false,
         "x": [
          "J03WOH",
          "J03WOY",
          "J03WPY"
         ],
         "y": {
          "bdata": "QJ59rsWX6D9sr08fIx8IQOCDOVeJeSJA",
          "dtype": "f8"
         }
        },
        {
         "legendgroup": "Dawid Igor Kownacki",
         "mode": "lines+markers",
         "name": "Dawid Igor Kownacki",
         "showlegend": false,
         "type": "scatter",
         "visible": false,
         "x": [
          "J03WOH",
          "J03WOY",
          "J03WPY"
         ],
         "y": {
          "bdata": "Vr30u9oZAEBQ1S0jgMMiQLBanVk3igJA",
          "dtype": "f8"
         }
        },
        {
         "legendgroup": "Emmanuel Iyoha",
         "mode": "lines+markers",
         "name": "Emmanuel Iyoha",
         "showlegend": false,
         "type": "scatter",
         "visible": false,
         "x": [
          "J03WOH",
          "J03WOY",
          "J03WPY"
         ],
         "y": {
          "bdata": "mkz32JNq9T/wjtIjSPfiP1Bi0SoiVBhA",
          "dtype": "f8"
         }
        },
        {
         "legendgroup": "Felix Klaus",
         "mode": "lines+markers",
         "name": "Felix Klaus",
         "showlegend": false,
         "type": "scatter",
         "visible": false,
         "x": [
          "J03WOH",
          "J03WOY",
          "J03WPY"
         ],
         "y": {
          "bdata": "7OdfxOrb8j8wp5/QWwsGQFC3BLB1FPY/",
          "dtype": "f8"
         }
        },
        {
         "legendgroup": "Florian Kastenmeier",
         "mode": "lines+markers",
         "name": "Florian Kastenmeier",
         "showlegend": false,
         "type": "scatter",
         "visible": false,
         "x": [
          "J03WOH",
          "J03WOY",
          "J03WPY"
         ],
         "y": {
          "bdata": "AGFfGAB9EECQohvDzicQQEw9POczyyRA",
          "dtype": "f8"
         }
        },
        {
         "legendgroup": "Kristoffer Paul Peterson",
         "mode": "lines+markers",
         "name": "Kristoffer Paul Peterson",
         "showlegend": false,
         "type": "scatter",
         "visible": false,
         "x": [
          "J03WOH",
          "J03WOY",
          "J03WPY"
         ],
         "y": {
          "bdata": "cB2jdOrTIkCQrIPdDRX2P9xf1U1ZtzJA",
          "dtype": "f8"
         }
        },
        {
         "legendgroup": "Matthias Jürgen Zimmermann",
         "mode": "lines+markers",
         "name": "Matthias Jürgen Zimmermann",
         "showlegend": false,
         "type": "scatter",
         "visible": false,
         "x": [
          "J03WOH",
          "J03WOY",
          "J03WPY",
          "J03WQQ",
          "J03WR9"
         ],
         "y": {
          "bdata": "NA5UVUvXAECUZ79k87ACQMg7ancnIRNAxAKb9nlZEECfrLzFqlb5Pw==",
          "dtype": "f8"
         }
        },
        {
         "legendgroup": "Shinta Karl Appelkamp",
         "mode": "lines+markers",
         "name": "Shinta Karl Appelkamp",
         "showlegend": false,
         "type": "scatter",
         "visible": false,
         "x": [
          "J03WOH",
          "J03WOY",
          "J03WPY"
         ],
         "y": {
          "bdata": "r/jY00JX0T/BpkAwAtkiQHCM1SrFFRhA",
          "dtype": "f8"
         }
        },
        {
         "legendgroup": "Matthias Jürgen Zimmermann",
         "mode": "lines+markers",
         "name": "Matthias Jürgen Zimmermann",
         "showlegend": false,
         "type": "scatter",
         "visible": false,
         "x": [
          "J03WOH",
          "J03WOY",
          "J03WPY",
          "J03WQQ",
          "J03WR9"
         ],
         "y": {
          "bdata": "XKPQarh8AkCUZ79k87ACQFhCiA2wWRRAxAKb9nlZEEBAas3WntQGQA==",
          "dtype": "f8"
         }
        },
        {
         "legendgroup": "Matthias Jürgen Zimmermann",
         "mode": "lines+markers",
         "name": "Matthias Jürgen Zimmermann",
         "showlegend": false,
         "type": "scatter",
         "visible": false,
         "x": [
          "J03WOY",
          "J03WPY",
          "J03WR9"
         ],
         "y": {
          "bdata": "lGe/ZPOwAkBYQogNsFkUQEBqzdae1AZA",
          "dtype": "f8"
         }
        }
       ],
       "layout": {
        "legend": {
         "title": {
          "text": "Spieler"
         }
        },
        "template": {
         "data": {
          "bar": [
           {
            "error_x": {
             "color": "#2a3f5f"
            },
            "error_y": {
             "color": "#2a3f5f"
            },
            "marker": {
             "line": {
              "color": "#E5ECF6",
              "width": 0.5
             },
             "pattern": {
              "fillmode": "overlay",
              "size": 10,
              "solidity": 0.2
             }
            },
            "type": "bar"
           }
          ],
          "barpolar": [
           {
            "marker": {
             "line": {
              "color": "#E5ECF6",
              "width": 0.5
             },
             "pattern": {
              "fillmode": "overlay",
              "size": 10,
              "solidity": 0.2
             }
            },
            "type": "barpolar"
           }
          ],
          "carpet": [
           {
            "aaxis": {
             "endlinecolor": "#2a3f5f",
             "gridcolor": "white",
             "linecolor": "white",
             "minorgridcolor": "white",
             "startlinecolor": "#2a3f5f"
            },
            "baxis": {
             "endlinecolor": "#2a3f5f",
             "gridcolor": "white",
             "linecolor": "white",
             "minorgridcolor": "white",
             "startlinecolor": "#2a3f5f"
            },
            "type": "carpet"
           }
          ],
          "choropleth": [
           {
            "colorbar": {
             "outlinewidth": 0,
             "ticks": ""
            },
            "type": "choropleth"
           }
          ],
          "contour": [
           {
            "colorbar": {
             "outlinewidth": 0,
             "ticks": ""
            },
            "colorscale": [
             [
              0,
              "#0d0887"
             ],
             [
              0.1111111111111111,
              "#46039f"
             ],
             [
              0.2222222222222222,
              "#7201a8"
             ],
             [
              0.3333333333333333,
              "#9c179e"
             ],
             [
              0.4444444444444444,
              "#bd3786"
             ],
             [
              0.5555555555555556,
              "#d8576b"
             ],
             [
              0.6666666666666666,
              "#ed7953"
             ],
             [
              0.7777777777777778,
              "#fb9f3a"
             ],
             [
              0.8888888888888888,
              "#fdca26"
             ],
             [
              1,
              "#f0f921"
             ]
            ],
            "type": "contour"
           }
          ],
          "contourcarpet": [
           {
            "colorbar": {
             "outlinewidth": 0,
             "ticks": ""
            },
            "type": "contourcarpet"
           }
          ],
          "heatmap": [
           {
            "colorbar": {
             "outlinewidth": 0,
             "ticks": ""
            },
            "colorscale": [
             [
              0,
              "#0d0887"
             ],
             [
              0.1111111111111111,
              "#46039f"
             ],
             [
              0.2222222222222222,
              "#7201a8"
             ],
             [
              0.3333333333333333,
              "#9c179e"
             ],
             [
              0.4444444444444444,
              "#bd3786"
             ],
             [
              0.5555555555555556,
              "#d8576b"
             ],
             [
              0.6666666666666666,
              "#ed7953"
             ],
             [
              0.7777777777777778,
              "#fb9f3a"
             ],
             [
              0.8888888888888888,
              "#fdca26"
             ],
             [
              1,
              "#f0f921"
             ]
            ],
            "type": "heatmap"
           }
          ],
          "histogram": [
           {
            "marker": {
             "pattern": {
              "fillmode": "overlay",
              "size": 10,
              "solidity": 0.2
             }
            },
            "type": "histogram"
           }
          ],
          "histogram2d": [
           {
            "colorbar": {
             "outlinewidth": 0,
             "ticks": ""
            },
            "colorscale": [
             [
              0,
              "#0d0887"
             ],
             [
              0.1111111111111111,
              "#46039f"
             ],
             [
              0.2222222222222222,
              "#7201a8"
             ],
             [
              0.3333333333333333,
              "#9c179e"
             ],
             [
              0.4444444444444444,
              "#bd3786"
             ],
             [
              0.5555555555555556,
              "#d8576b"
             ],
             [
              0.6666666666666666,
              "#ed7953"
             ],
             [
              0.7777777777777778,
              "#fb9f3a"
             ],
             [
              0.8888888888888888,
              "#fdca26"
             ],
             [
              1,
              "#f0f921"
             ]
            ],
            "type": "histogram2d"
           }
          ],
          "histogram2dcontour": [
           {
            "colorbar": {
             "outlinewidth": 0,
             "ticks": ""
            },
            "colorscale": [
             [
              0,
              "#0d0887"
             ],
             [
              0.1111111111111111,
              "#46039f"
             ],
             [
              0.2222222222222222,
              "#7201a8"
             ],
             [
              0.3333333333333333,
              "#9c179e"
             ],
             [
              0.4444444444444444,
              "#bd3786"
             ],
             [
              0.5555555555555556,
              "#d8576b"
             ],
             [
              0.6666666666666666,
              "#ed7953"
             ],
             [
              0.7777777777777778,
              "#fb9f3a"
             ],
             [
              0.8888888888888888,
              "#fdca26"
             ],
             [
              1,
              "#f0f921"
             ]
            ],
            "type": "histogram2dcontour"
           }
          ],
          "mesh3d": [
           {
            "colorbar": {
             "outlinewidth": 0,
             "ticks": ""
            },
            "type": "mesh3d"
           }
          ],
          "parcoords": [
           {
            "line": {
             "colorbar": {
              "outlinewidth": 0,
              "ticks": ""
             }
            },
            "type": "parcoords"
           }
          ],
          "pie": [
           {
            "automargin": true,
            "type": "pie"
           }
          ],
          "scatter": [
           {
            "fillpattern": {
             "fillmode": "overlay",
             "size": 10,
             "solidity": 0.2
            },
            "type": "scatter"
           }
          ],
          "scatter3d": [
           {
            "line": {
             "colorbar": {
              "outlinewidth": 0,
              "ticks": ""
             }
            },
            "marker": {
             "colorbar": {
              "outlinewidth": 0,
              "ticks": ""
             }
            },
            "type": "scatter3d"
           }
          ],
          "scattercarpet": [
           {
            "marker": {
             "colorbar": {
              "outlinewidth": 0,
              "ticks": ""
             }
            },
            "type": "scattercarpet"
           }
          ],
          "scattergeo": [
           {
            "marker": {
             "colorbar": {
              "outlinewidth": 0,
              "ticks": ""
             }
            },
            "type": "scattergeo"
           }
          ],
          "scattergl": [
           {
            "marker": {
             "colorbar": {
              "outlinewidth": 0,
              "ticks": ""
             }
            },
            "type": "scattergl"
           }
          ],
          "scattermap": [
           {
            "marker": {
             "colorbar": {
              "outlinewidth": 0,
              "ticks": ""
             }
            },
            "type": "scattermap"
           }
          ],
          "scattermapbox": [
           {
            "marker": {
             "colorbar": {
              "outlinewidth": 0,
              "ticks": ""
             }
            },
            "type": "scattermapbox"
           }
          ],
          "scatterpolar": [
           {
            "marker": {
             "colorbar": {
              "outlinewidth": 0,
              "ticks": ""
             }
            },
            "type": "scatterpolar"
           }
          ],
          "scatterpolargl": [
           {
            "marker": {
             "colorbar": {
              "outlinewidth": 0,
              "ticks": ""
             }
            },
            "type": "scatterpolargl"
           }
          ],
          "scatterternary": [
           {
            "marker": {
             "colorbar": {
              "outlinewidth": 0,
              "ticks": ""
             }
            },
            "type": "scatterternary"
           }
          ],
          "surface": [
           {
            "colorbar": {
             "outlinewidth": 0,
             "ticks": ""
            },
            "colorscale": [
             [
              0,
              "#0d0887"
             ],
             [
              0.1111111111111111,
              "#46039f"
             ],
             [
              0.2222222222222222,
              "#7201a8"
             ],
             [
              0.3333333333333333,
              "#9c179e"
             ],
             [
              0.4444444444444444,
              "#bd3786"
             ],
             [
              0.5555555555555556,
              "#d8576b"
             ],
             [
              0.6666666666666666,
              "#ed7953"
             ],
             [
              0.7777777777777778,
              "#fb9f3a"
             ],
             [
              0.8888888888888888,
              "#fdca26"
             ],
             [
              1,
              "#f0f921"
             ]
            ],
            "type": "surface"
           }
          ],
          "table": [
           {
            "cells": {
             "fill": {
              "color": "#EBF0F8"
             },
             "line": {
              "color": "white"
             }
            },
            "header": {
             "fill": {
              "color": "#C8D4E3"
             },
             "line": {
              "color": "white"
             }
            },
            "type": "table"
           }
          ]
         },
         "layout": {
          "annotationdefaults": {
           "arrowcolor": "#2a3f5f",
           "arrowhead": 0,
           "arrowwidth": 1
          },
          "autotypenumbers": "strict",
          "coloraxis": {
           "colorbar": {
            "outlinewidth": 0,
            "ticks": ""
           }
          },
          "colorscale": {
           "diverging": [
            [
             0,
             "#8e0152"
            ],
            [
             0.1,
             "#c51b7d"
            ],
            [
             0.2,
             "#de77ae"
            ],
            [
             0.3,
             "#f1b6da"
            ],
            [
             0.4,
             "#fde0ef"
            ],
            [
             0.5,
             "#f7f7f7"
            ],
            [
             0.6,
             "#e6f5d0"
            ],
            [
             0.7,
             "#b8e186"
            ],
            [
             0.8,
             "#7fbc41"
            ],
            [
             0.9,
             "#4d9221"
            ],
            [
             1,
             "#276419"
            ]
           ],
           "sequential": [
            [
             0,
             "#0d0887"
            ],
            [
             0.1111111111111111,
             "#46039f"
            ],
            [
             0.2222222222222222,
             "#7201a8"
            ],
            [
             0.3333333333333333,
             "#9c179e"
            ],
            [
             0.4444444444444444,
             "#bd3786"
            ],
            [
             0.5555555555555556,
             "#d8576b"
            ],
            [
             0.6666666666666666,
             "#ed7953"
            ],
            [
             0.7777777777777778,
             "#fb9f3a"
            ],
            [
             0.8888888888888888,
             "#fdca26"
            ],
            [
             1,
             "#f0f921"
            ]
           ],
           "sequentialminus": [
            [
             0,
             "#0d0887"
            ],
            [
             0.1111111111111111,
             "#46039f"
            ],
            [
             0.2222222222222222,
             "#7201a8"
            ],
            [
             0.3333333333333333,
             "#9c179e"
            ],
            [
             0.4444444444444444,
             "#bd3786"
            ],
            [
             0.5555555555555556,
             "#d8576b"
            ],
            [
             0.6666666666666666,
             "#ed7953"
            ],
            [
             0.7777777777777778,
             "#fb9f3a"
            ],
            [
             0.8888888888888888,
             "#fdca26"
            ],
            [
             1,
             "#f0f921"
            ]
           ]
          },
          "colorway": [
           "#636efa",
           "#EF553B",
           "#00cc96",
           "#ab63fa",
           "#FFA15A",
           "#19d3f3",
           "#FF6692",
           "#B6E880",
           "#FF97FF",
           "#FECB52"
          ],
          "font": {
           "color": "#2a3f5f"
          },
          "geo": {
           "bgcolor": "white",
           "lakecolor": "white",
           "landcolor": "#E5ECF6",
           "showlakes": true,
           "showland": true,
           "subunitcolor": "white"
          },
          "hoverlabel": {
           "align": "left"
          },
          "hovermode": "closest",
          "mapbox": {
           "style": "light"
          },
          "paper_bgcolor": "white",
          "plot_bgcolor": "#E5ECF6",
          "polar": {
           "angularaxis": {
            "gridcolor": "white",
            "linecolor": "white",
            "ticks": ""
           },
           "bgcolor": "#E5ECF6",
           "radialaxis": {
            "gridcolor": "white",
            "linecolor": "white",
            "ticks": ""
           }
          },
          "scene": {
           "xaxis": {
            "backgroundcolor": "#E5ECF6",
            "gridcolor": "white",
            "gridwidth": 2,
            "linecolor": "white",
            "showbackground": true,
            "ticks": "",
            "zerolinecolor": "white"
           },
           "yaxis": {
            "backgroundcolor": "#E5ECF6",
            "gridcolor": "white",
            "gridwidth": 2,
            "linecolor": "white",
            "showbackground": true,
            "ticks": "",
            "zerolinecolor": "white"
           },
           "zaxis": {
            "backgroundcolor": "#E5ECF6",
            "gridcolor": "white",
            "gridwidth": 2,
            "linecolor": "white",
            "showbackground": true,
            "ticks": "",
            "zerolinecolor": "white"
           }
          },
          "shapedefaults": {
           "line": {
            "color": "#2a3f5f"
           }
          },
          "ternary": {
           "aaxis": {
            "gridcolor": "white",
            "linecolor": "white",
            "ticks": ""
           },
           "baxis": {
            "gridcolor": "white",
            "linecolor": "white",
            "ticks": ""
           },
           "bgcolor": "#E5ECF6",
           "caxis": {
            "gridcolor": "white",
            "linecolor": "white",
            "ticks": ""
           }
          },
          "title": {
           "x": 0.05
          },
          "xaxis": {
           "automargin": true,
           "gridcolor": "white",
           "linecolor": "white",
           "ticks": "",
           "title": {
            "standoff": 15
           },
           "zerolinecolor": "white",
           "zerolinewidth": 2
          },
          "yaxis": {
           "automargin": true,
           "gridcolor": "white",
           "linecolor": "white",
           "ticks": "",
           "title": {
            "standoff": 15
           },
           "zerolinecolor": "white",
           "zerolinewidth": 2
          }
         }
        },
        "title": {
         "text": "DAS Potential pro Spiel (Tuning: random-R_5-S_1-D_2-N_20)"
        },
        "updatemenus": [
         {
          "active": 0,
          "buttons": [
           {
            "args": [
             {
              "visible": [
               true,
               true,
               true,
               true,
               true,
               true,
               true,
               true,
               false,
               false,
               false,
               false,
               false,
               false,
               false,
               false,
               false,
               false
              ]
             },
             {
              "title": "DAS Potential pro Spiel (Tuning: random-R_5-S_1-D_2-N_20)"
             }
            ],
            "label": "random-R_5-S_1-D_2-N_20",
            "method": "update"
           },
           {
            "args": [
             {
              "visible": [
               false,
               false,
               false,
               false,
               false,
               false,
               false,
               false,
               true,
               true,
               true,
               true,
               true,
               true,
               true,
               true,
               false,
               false
              ]
             },
             {
              "title": "DAS Potential pro Spiel (Tuning: random-R_5-S_1-D_2-N_50)"
             }
            ],
            "label": "random-R_5-S_1-D_2-N_50",
            "method": "update"
           },
           {
            "args": [
             {
              "visible": [
               false,
               false,
               false,
               false,
               false,
               false,
               false,
               false,
               false,
               false,
               false,
               false,
               false,
               false,
               false,
               false,
               true,
               false
              ]
             },
             {
              "title": "DAS Potential pro Spiel (Tuning: all_positions-R_5-S_1-D_2-N_20)"
             }
            ],
            "label": "all_positions-R_5-S_1-D_2-N_20",
            "method": "update"
           },
           {
            "args": [
             {
              "visible": [
               false,
               false,
               false,
               false,
               false,
               false,
               false,
               false,
               false,
               false,
               false,
               false,
               false,
               false,
               false,
               false,
               false,
               true
              ]
             },
             {
              "title": "DAS Potential pro Spiel (Tuning: random-R_5-S_1-D_2-N_100)"
             }
            ],
            "label": "random-R_5-S_1-D_2-N_100",
            "method": "update"
           }
          ],
          "type": "dropdown",
          "x": 1.1,
          "xanchor": "left",
          "y": 1.15
         }
        ],
        "xaxis": {
         "title": {
          "text": "Spiel"
         }
        },
        "yaxis": {
         "title": {
          "text": "MAX_DAS_potential"
         }
        }
       }
      }
     },
     "metadata": {},
     "output_type": "display_data"
    }
   ],
   "source": [
    "full_df_das_g1 = full_df[full_df[\"DAS\"] > 1]\n",
    "grouped_df_das_g1 = group_data(full_df_das_g1)\n",
    "\n",
    "grouped_named_das_g1 = grouped_df_das_g1.merge(all_players, on=[\"game_id\", \"player\"], how=\"left\")\n",
    "fair_grouped_das_g1 = grouped_named_das_g1.merge(all_game_players, on=\"id\")\n",
    "\n",
    "line_players(fair_grouped_das_g1)\n",
    "line_players(fair_grouped_das_g1, metric=\"MAX_DAS_potential\")\n"
   ]
  },
  {
   "cell_type": "code",
   "execution_count": 10,
   "id": "650be818",
   "metadata": {},
   "outputs": [
    {
     "data": {
      "application/vnd.microsoft.datawrangler.viewer.v0+json": {
       "columns": [
        {
         "name": "index",
         "rawType": "int64",
         "type": "integer"
        },
        {
         "name": "game_id",
         "rawType": "object",
         "type": "string"
        },
        {
         "name": "player",
         "rawType": "object",
         "type": "string"
        },
        {
         "name": "step",
         "rawType": "object",
         "type": "string"
        },
        {
         "name": "method",
         "rawType": "object",
         "type": "string"
        },
        {
         "name": "parameters",
         "rawType": "object",
         "type": "string"
        },
        {
         "name": "tuning",
         "rawType": "object",
         "type": "string"
        },
        {
         "name": "DAS_potential",
         "rawType": "float64",
         "type": "float"
        },
        {
         "name": "MAX_DAS_potential",
         "rawType": "float64",
         "type": "float"
        },
        {
         "name": "SUM_DAS_potential",
         "rawType": "float64",
         "type": "float"
        },
        {
         "name": "DAS_potential_percentage",
         "rawType": "float64",
         "type": "float"
        },
        {
         "name": "distance",
         "rawType": "float64",
         "type": "float"
        },
        {
         "name": "count",
         "rawType": "int64",
         "type": "integer"
        },
        {
         "name": "id",
         "rawType": "object",
         "type": "string"
        },
        {
         "name": "full_name",
         "rawType": "object",
         "type": "string"
        },
        {
         "name": "games_played",
         "rawType": "int64",
         "type": "integer"
        }
       ],
       "ref": "b6fb0088-6564-4017-95ef-61af3d9b1e7f",
       "rows": [
        [
         "0",
         "J03WOH",
         "home_11",
         "step125",
         "random",
         "R_5-S_1-D_2-N_20",
         "random-R_5-S_1-D_2-N_20",
         "0.0611562341044811",
         "1.031620327342905",
         "7.461060560746694",
         "7.547305234706591",
         "3.9788456259018874",
         "122",
         "DFL-OBJ-0000F8",
         "Felix Klaus",
         "5"
        ],
        [
         "1",
         "J03WOH",
         "home_11",
         "step125",
         "random",
         "R_5-S_1-D_2-N_50",
         "random-R_5-S_1-D_2-N_50",
         "0.07322576684391145",
         "1.1786906882175527",
         "8.933543554957197",
         "8.51002763745168",
         "4.32004672716105",
         "122",
         "DFL-OBJ-0000F8",
         "Felix Klaus",
         "5"
        ],
        [
         "2",
         "J03WOH",
         "home_19",
         "step125",
         "random",
         "R_5-S_1-D_2-N_20",
         "random-R_5-S_1-D_2-N_20",
         "0.07472752831069741",
         "0.2985933327457796",
         "0.37363764155348705",
         "11.874153957545971",
         "2.879669127533634",
         "5",
         "DFL-OBJ-0026RH",
         "Emmanuel Iyoha",
         "5"
        ],
        [
         "3",
         "J03WOH",
         "home_19",
         "step125",
         "random",
         "R_5-S_1-D_2-N_50",
         "random-R_5-S_1-D_2-N_50",
         "0.29177172754717323",
         "1.3385199046358935",
         "1.458858637735866",
         "29.259299712764538",
         "4.134585762216162",
         "5",
         "DFL-OBJ-0026RH",
         "Emmanuel Iyoha",
         "5"
        ],
        [
         "4",
         "J03WOH",
         "home_23",
         "step125",
         "random",
         "R_5-S_1-D_2-N_20",
         "random-R_5-S_1-D_2-N_20",
         "0.0199161009908038",
         "0.1099510264270254",
         "0.5178186257608988",
         "8.241985458933131",
         "4.046813691591236",
         "26",
         "DFL-OBJ-002G5J",
         "Shinta Karl Appelkamp",
         "5"
        ],
        [
         "5",
         "J03WOH",
         "home_23",
         "step125",
         "random",
         "R_5-S_1-D_2-N_50",
         "random-R_5-S_1-D_2-N_50",
         "0.03314762192547803",
         "0.2709509915183714",
         "0.8618381700624288",
         "9.439954632500488",
         "4.48299598360603",
         "26",
         "DFL-OBJ-002G5J",
         "Shinta Karl Appelkamp",
         "5"
        ],
        [
         "6",
         "J03WOH",
         "home_25",
         "step125",
         "all_positions",
         "R_5-S_1-D_2-N_20",
         "all_positions-R_5-S_1-D_2-N_20",
         "0.14188324869526783",
         "2.3108986229821493",
         "18.019172584299014",
         "9.760686843876147",
         "4.641291911962722",
         "127",
         "DFL-OBJ-0000NZ",
         "Matthias Jürgen Zimmermann",
         "5"
        ],
        [
         "7",
         "J03WOH",
         "home_25",
         "step125",
         "random",
         "R_5-S_1-D_2-N_20",
         "random-R_5-S_1-D_2-N_20",
         "0.11434203820580381",
         "2.2013010296285778",
         "14.521438852137084",
         "7.568178540089063",
         "4.122919599435881",
         "127",
         "DFL-OBJ-0000NZ",
         "Matthias Jürgen Zimmermann",
         "5"
        ],
        [
         "8",
         "J03WOH",
         "home_25",
         "step125",
         "random",
         "R_5-S_1-D_2-N_50",
         "random-R_5-S_1-D_2-N_50",
         "0.132998514877431",
         "2.105124155643148",
         "16.890811389433736",
         "9.10516152991302",
         "4.536118641481028",
         "127",
         "DFL-OBJ-0000NZ",
         "Matthias Jürgen Zimmermann",
         "5"
        ],
        [
         "9",
         "J03WOH",
         "home_33",
         "step125",
         "random",
         "R_5-S_1-D_2-N_20",
         "random-R_5-S_1-D_2-N_20",
         "0.0816294248547998",
         "3.808201171826161",
         "10.366936956559575",
         "1.7492311800894478",
         "4.4511304656771955",
         "127",
         "DFL-OBJ-0028FW",
         "Florian Kastenmeier",
         "5"
        ],
        [
         "10",
         "J03WOH",
         "home_33",
         "step125",
         "random",
         "R_5-S_1-D_2-N_50",
         "random-R_5-S_1-D_2-N_50",
         "0.09008258331907706",
         "4.122070675679652",
         "11.440488081522787",
         "1.9561123022693898",
         "4.796413949294476",
         "127",
         "DFL-OBJ-0028FW",
         "Florian Kastenmeier",
         "5"
        ],
        [
         "11",
         "J03WOH",
         "home_5",
         "step125",
         "random",
         "R_5-S_1-D_2-N_20",
         "random-R_5-S_1-D_2-N_20",
         "0.06878820743306834",
         "0.5298721741837866",
         "1.7884933932597769",
         "6.847507728441967",
         "4.12078407257614",
         "26",
         "DFL-OBJ-002GM9",
         "Christoph Klarer",
         "5"
        ],
        [
         "12",
         "J03WOH",
         "home_5",
         "step125",
         "random",
         "R_5-S_1-D_2-N_50",
         "random-R_5-S_1-D_2-N_50",
         "0.09468998885393366",
         "0.7685268791219144",
         "2.4619397102022753",
         "8.73455220952592",
         "4.4990066741679025",
         "26",
         "DFL-OBJ-002GM9",
         "Christoph Klarer",
         "5"
        ],
        [
         "13",
         "J03WOH",
         "home_7",
         "step125",
         "random",
         "R_5-S_1-D_2-N_20",
         "random-R_5-S_1-D_2-N_20",
         "0.751292843230266",
         "10.391997181002765",
         "75.88057716625687",
         "29.81084398795035",
         "4.0624489529443455",
         "101",
         "DFL-OBJ-002GM1",
         "Kristoffer Paul Peterson",
         "5"
        ],
        [
         "14",
         "J03WOH",
         "home_7",
         "step125",
         "random",
         "R_5-S_1-D_2-N_50",
         "random-R_5-S_1-D_2-N_50",
         "0.6349780909043733",
         "9.413898129378794",
         "64.1327871813417",
         "26.459076676130127",
         "4.19751638083222",
         "101",
         "DFL-OBJ-002GM1",
         "Kristoffer Paul Peterson",
         "5"
        ],
        [
         "15",
         "J03WOH",
         "home_9",
         "step125",
         "random",
         "R_5-S_1-D_2-N_20",
         "random-R_5-S_1-D_2-N_20",
         "0.043910542887682966",
         "1.762149823984953",
         "5.357086232297322",
         "8.378753070028885",
         "4.161479386522187",
         "122",
         "DFL-OBJ-002FXT",
         "Dawid Igor Kownacki",
         "5"
        ],
        [
         "16",
         "J03WOH",
         "home_9",
         "step125",
         "random",
         "R_5-S_1-D_2-N_50",
         "random-R_5-S_1-D_2-N_50",
         "0.0507682054250824",
         "2.0126242336333844",
         "6.193721061860052",
         "9.211765724292187",
         "4.426440563755049",
         "122",
         "DFL-OBJ-002FXT",
         "Dawid Igor Kownacki",
         "5"
        ],
        [
         "17",
         "J03WOY",
         "home_11",
         "step125",
         "random",
         "R_5-S_1-D_2-N_20",
         "random-R_5-S_1-D_2-N_20",
         "0.0727695169757412",
         "2.548465869370092",
         "9.67834575777358",
         "6.257181087437121",
         "4.0708137712271695",
         "133",
         "DFL-OBJ-0000F8",
         "Felix Klaus",
         "5"
        ],
        [
         "18",
         "J03WOY",
         "home_11",
         "step125",
         "random",
         "R_5-S_1-D_2-N_50",
         "random-R_5-S_1-D_2-N_50",
         "0.08691458893080034",
         "2.755546216842866",
         "11.559640327796446",
         "7.231112058785436",
         "4.316825332602441",
         "133",
         "DFL-OBJ-0000F8",
         "Felix Klaus",
         "5"
        ],
        [
         "19",
         "J03WOY",
         "home_19",
         "step125",
         "random",
         "R_5-S_1-D_2-N_20",
         "random-R_5-S_1-D_2-N_20",
         "0.03583362595089116",
         "0.3190620425426331",
         "1.2541769082811904",
         "6.392611623541451",
         "4.191931478077119",
         "35",
         "DFL-OBJ-0026RH",
         "Emmanuel Iyoha",
         "5"
        ],
        [
         "20",
         "J03WOY",
         "home_19",
         "step125",
         "random",
         "R_5-S_1-D_2-N_50",
         "random-R_5-S_1-D_2-N_50",
         "0.06229247317441685",
         "0.5926857661874845",
         "2.1802365611045897",
         "7.76481154117887",
         "4.503662511795999",
         "35",
         "DFL-OBJ-0026RH",
         "Emmanuel Iyoha",
         "5"
        ],
        [
         "21",
         "J03WOY",
         "home_23",
         "step125",
         "random",
         "R_5-S_1-D_2-N_20",
         "random-R_5-S_1-D_2-N_20",
         "0.5515502049471167",
         "9.211895227532382",
         "59.5674221342886",
         "27.356566499025174",
         "4.104682971590175",
         "108",
         "DFL-OBJ-002G5J",
         "Shinta Karl Appelkamp",
         "5"
        ],
        [
         "22",
         "J03WOY",
         "home_23",
         "step125",
         "random",
         "R_5-S_1-D_2-N_50",
         "random-R_5-S_1-D_2-N_50",
         "0.3472296356675569",
         "9.423844821826949",
         "37.500800652096146",
         "20.197737653397596",
         "4.190453187796835",
         "108",
         "DFL-OBJ-002G5J",
         "Shinta Karl Appelkamp",
         "5"
        ],
        [
         "23",
         "J03WOY",
         "home_25",
         "step125",
         "all_positions",
         "R_5-S_1-D_2-N_20",
         "all_positions-R_5-S_1-D_2-N_20",
         "0.11269377104961613",
         "2.33640173634644",
         "16.115209260095106",
         "9.13209366298154",
         "4.525103827387043",
         "143",
         "DFL-OBJ-0000NZ",
         "Matthias Jürgen Zimmermann",
         "5"
        ],
        [
         "24",
         "J03WOY",
         "home_25",
         "step125",
         "random",
         "R_5-S_1-D_2-N_100",
         "random-R_5-S_1-D_2-N_100",
         "0.11269377104961613",
         "2.33640173634644",
         "16.115209260095106",
         "9.13209366298154",
         "4.525103827387043",
         "143",
         "DFL-OBJ-0000NZ",
         "Matthias Jürgen Zimmermann",
         "5"
        ],
        [
         "25",
         "J03WOY",
         "home_25",
         "step125",
         "random",
         "R_5-S_1-D_2-N_20",
         "random-R_5-S_1-D_2-N_20",
         "0.07908925886568952",
         "1.7418041515461926",
         "11.3097640177936",
         "7.161191009125863",
         "3.9928842295025806",
         "143",
         "DFL-OBJ-0000NZ",
         "Matthias Jürgen Zimmermann",
         "5"
        ],
        [
         "26",
         "J03WOY",
         "home_25",
         "step125",
         "random",
         "R_5-S_1-D_2-N_50",
         "random-R_5-S_1-D_2-N_50",
         "0.1102217171330207",
         "2.33640173634644",
         "15.761705550021961",
         "8.639513551292987",
         "4.435108635753369",
         "143",
         "DFL-OBJ-0000NZ",
         "Matthias Jürgen Zimmermann",
         "5"
        ],
        [
         "27",
         "J03WOY",
         "home_33",
         "step125",
         "random",
         "R_5-S_1-D_2-N_20",
         "random-R_5-S_1-D_2-N_20",
         "0.07577695551048826",
         "4.0493792178824215",
         "10.83610463799982",
         "1.9659469382343793",
         "4.51431956680387",
         "143",
         "DFL-OBJ-0028FW",
         "Florian Kastenmeier",
         "5"
        ],
        [
         "28",
         "J03WOY",
         "home_33",
         "step125",
         "random",
         "R_5-S_1-D_2-N_50",
         "random-R_5-S_1-D_2-N_50",
         "0.0829928888335638",
         "4.038874672471721",
         "11.867983103199624",
         "2.2295693463882484",
         "4.80222123587313",
         "143",
         "DFL-OBJ-0028FW",
         "Florian Kastenmeier",
         "5"
        ],
        [
         "29",
         "J03WOY",
         "home_5",
         "step125",
         "random",
         "R_5-S_1-D_2-N_20",
         "random-R_5-S_1-D_2-N_20",
         "0.10111656714932558",
         "2.005117377546835",
         "14.459669102353558",
         "7.951050743461205",
         "4.220167067581722",
         "143",
         "DFL-OBJ-002GM9",
         "Christoph Klarer",
         "5"
        ],
        [
         "30",
         "J03WOY",
         "home_5",
         "step125",
         "random",
         "R_5-S_1-D_2-N_50",
         "random-R_5-S_1-D_2-N_50",
         "0.1332293938931709",
         "3.0152037092392927",
         "19.051803326723437",
         "9.607300471214828",
         "4.586024134624096",
         "143",
         "DFL-OBJ-002GM9",
         "Christoph Klarer",
         "5"
        ],
        [
         "31",
         "J03WOY",
         "home_7",
         "step125",
         "random",
         "R_5-S_1-D_2-N_20",
         "random-R_5-S_1-D_2-N_20",
         "0.0615711332387851",
         "1.0666937488158652",
         "7.819533921325708",
         "7.4095377178489965",
         "3.761703946955413",
         "127",
         "DFL-OBJ-002GM1",
         "Kristoffer Paul Peterson",
         "5"
        ],
        [
         "32",
         "J03WOY",
         "home_7",
         "step125",
         "random",
         "R_5-S_1-D_2-N_50",
         "random-R_5-S_1-D_2-N_50",
         "0.07809603322187286",
         "1.3801401760963792",
         "9.918196219177853",
         "8.121313796328092",
         "4.149476215829828",
         "127",
         "DFL-OBJ-002GM1",
         "Kristoffer Paul Peterson",
         "5"
        ],
        [
         "33",
         "J03WOY",
         "home_9",
         "step125",
         "random",
         "R_5-S_1-D_2-N_20",
         "random-R_5-S_1-D_2-N_20",
         "0.5767448344865207",
         "9.36394639052047",
         "62.28844212454424",
         "25.909995892347858",
         "3.97306956523865",
         "108",
         "DFL-OBJ-002FXT",
         "Dawid Igor Kownacki",
         "5"
        ],
        [
         "34",
         "J03WOY",
         "home_9",
         "step125",
         "random",
         "R_5-S_1-D_2-N_50",
         "random-R_5-S_1-D_2-N_50",
         "0.48917950907699487",
         "9.381836985916976",
         "52.83138698031544",
         "25.786460729386217",
         "4.3401102459676375",
         "108",
         "DFL-OBJ-002FXT",
         "Dawid Igor Kownacki",
         "5"
        ],
        [
         "35",
         "J03WPY",
         "home_11",
         "step125",
         "random",
         "R_5-S_1-D_2-N_20",
         "random-R_5-S_1-D_2-N_20",
         "0.061051170141961424",
         "1.3799950481147398",
         "5.738809993344374",
         "5.810790272323926",
         "3.9641259288455375",
         "94",
         "DFL-OBJ-0000F8",
         "Felix Klaus",
         "5"
        ],
        [
         "36",
         "J03WPY",
         "home_11",
         "step125",
         "random",
         "R_5-S_1-D_2-N_50",
         "random-R_5-S_1-D_2-N_50",
         "0.0707626873287714",
         "1.3799950481147398",
         "6.651692608904512",
         "7.096289842078337",
         "4.40021736800235",
         "94",
         "DFL-OBJ-0000F8",
         "Felix Klaus",
         "5"
        ],
        [
         "37",
         "J03WPY",
         "home_19",
         "step125",
         "random",
         "R_5-S_1-D_2-N_20",
         "random-R_5-S_1-D_2-N_20",
         "0.5003512591639246",
         "6.001698650093118",
         "42.02950576976967",
         "28.775555576208472",
         "3.988340622466175",
         "84",
         "DFL-OBJ-0026RH",
         "Emmanuel Iyoha",
         "5"
        ],
        [
         "38",
         "J03WPY",
         "home_19",
         "step125",
         "random",
         "R_5-S_1-D_2-N_50",
         "random-R_5-S_1-D_2-N_50",
         "0.3398363483551764",
         "6.082161587743556",
         "28.546253261834817",
         "16.249769593294115",
         "4.312171480713142",
         "84",
         "DFL-OBJ-0026RH",
         "Emmanuel Iyoha",
         "5"
        ],
        [
         "39",
         "J03WPY",
         "home_23",
         "step125",
         "random",
         "R_5-S_1-D_2-N_20",
         "random-R_5-S_1-D_2-N_20",
         "0.5200322658961936",
         "5.94342939078436",
         "43.68271033528026",
         "30.51187968588806",
         "3.9732885680197265",
         "84",
         "DFL-OBJ-002G5J",
         "Shinta Karl Appelkamp",
         "5"
        ],
        [
         "40",
         "J03WPY",
         "home_23",
         "step125",
         "random",
         "R_5-S_1-D_2-N_50",
         "random-R_5-S_1-D_2-N_50",
         "0.3628408304703798",
         "6.021259946140262",
         "30.478629759511904",
         "18.12294288662161",
         "4.4403014514600345",
         "84",
         "DFL-OBJ-002G5J",
         "Shinta Karl Appelkamp",
         "5"
        ],
        [
         "41",
         "J03WPY",
         "home_25",
         "step125",
         "all_positions",
         "R_5-S_1-D_2-N_20",
         "all_positions-R_5-S_1-D_2-N_20",
         "0.15053386433015098",
         "5.087585650865172",
         "17.612462126627666",
         "7.4233377415235635",
         "4.521258118614748",
         "117",
         "DFL-OBJ-0000NZ",
         "Matthias Jürgen Zimmermann",
         "5"
        ],
        [
         "42",
         "J03WPY",
         "home_25",
         "step125",
         "random",
         "R_5-S_1-D_2-N_100",
         "random-R_5-S_1-D_2-N_100",
         "0.15053386433015098",
         "5.087585650865172",
         "17.612462126627666",
         "7.4233377415235635",
         "4.521258118614748",
         "117",
         "DFL-OBJ-0000NZ",
         "Matthias Jürgen Zimmermann",
         "5"
        ],
        [
         "43",
         "J03WPY",
         "home_25",
         "step125",
         "random",
         "R_5-S_1-D_2-N_20",
         "random-R_5-S_1-D_2-N_20",
         "0.13089379748674873",
         "4.2695395967664",
         "15.3145743059496",
         "5.955029323145833",
         "4.094920384025956",
         "117",
         "DFL-OBJ-0000NZ",
         "Matthias Jürgen Zimmermann",
         "5"
        ],
        [
         "44",
         "J03WPY",
         "home_25",
         "step125",
         "random",
         "R_5-S_1-D_2-N_50",
         "random-R_5-S_1-D_2-N_50",
         "0.13983795078998723",
         "4.782377115115146",
         "16.361040242428505",
         "7.174913415189283",
         "4.451851268453591",
         "117",
         "DFL-OBJ-0000NZ",
         "Matthias Jürgen Zimmermann",
         "5"
        ],
        [
         "45",
         "J03WPY",
         "home_33",
         "step125",
         "random",
         "R_5-S_1-D_2-N_20",
         "random-R_5-S_1-D_2-N_20",
         "0.3367906691076092",
         "10.39688036547036",
         "39.404508285590275",
         "4.04799980492127",
         "4.443660294109124",
         "117",
         "DFL-OBJ-0028FW",
         "Florian Kastenmeier",
         "5"
        ],
        [
         "46",
         "J03WPY",
         "home_33",
         "step125",
         "random",
         "R_5-S_1-D_2-N_50",
         "random-R_5-S_1-D_2-N_50",
         "0.3743887770948696",
         "10.39688036547036",
         "43.80348692009974",
         "4.683848793035175",
         "4.75852173238695",
         "117",
         "DFL-OBJ-0028FW",
         "Florian Kastenmeier",
         "5"
        ],
        [
         "47",
         "J03WPY",
         "home_5",
         "step125",
         "random",
         "R_5-S_1-D_2-N_20",
         "random-R_5-S_1-D_2-N_20",
         "0.16555291022275628",
         "4.498041162339504",
         "19.369690496062486",
         "7.635101184918374",
         "4.215681394180341",
         "117",
         "DFL-OBJ-002GM9",
         "Christoph Klarer",
         "5"
        ],
        [
         "48",
         "J03WPY",
         "home_5",
         "step125",
         "random",
         "R_5-S_1-D_2-N_50",
         "random-R_5-S_1-D_2-N_50",
         "0.2343213562965646",
         "9.237375951548472",
         "27.415598686698058",
         "9.425732214739446",
         "4.607478227159171",
         "117",
         "DFL-OBJ-002GM9",
         "Christoph Klarer",
         "5"
        ],
        [
         "49",
         "J03WPY",
         "home_7",
         "step125",
         "random",
         "R_5-S_1-D_2-N_20",
         "random-R_5-S_1-D_2-N_20",
         "1.1426229151762002",
         "18.18420074079173",
         "26.280327049052605",
         "27.712546840870438",
         "4.02039529928595",
         "23",
         "DFL-OBJ-002GM1",
         "Kristoffer Paul Peterson",
         "5"
        ]
       ],
       "shape": {
        "columns": 15,
        "rows": 74
       }
      },
      "text/html": [
       "<div>\n",
       "<style scoped>\n",
       "    .dataframe tbody tr th:only-of-type {\n",
       "        vertical-align: middle;\n",
       "    }\n",
       "\n",
       "    .dataframe tbody tr th {\n",
       "        vertical-align: top;\n",
       "    }\n",
       "\n",
       "    .dataframe thead th {\n",
       "        text-align: right;\n",
       "    }\n",
       "</style>\n",
       "<table border=\"1\" class=\"dataframe\">\n",
       "  <thead>\n",
       "    <tr style=\"text-align: right;\">\n",
       "      <th></th>\n",
       "      <th>game_id</th>\n",
       "      <th>player</th>\n",
       "      <th>step</th>\n",
       "      <th>method</th>\n",
       "      <th>parameters</th>\n",
       "      <th>tuning</th>\n",
       "      <th>DAS_potential</th>\n",
       "      <th>MAX_DAS_potential</th>\n",
       "      <th>SUM_DAS_potential</th>\n",
       "      <th>DAS_potential_percentage</th>\n",
       "      <th>distance</th>\n",
       "      <th>count</th>\n",
       "      <th>id</th>\n",
       "      <th>full_name</th>\n",
       "      <th>games_played</th>\n",
       "    </tr>\n",
       "  </thead>\n",
       "  <tbody>\n",
       "    <tr>\n",
       "      <th>0</th>\n",
       "      <td>J03WOH</td>\n",
       "      <td>home_11</td>\n",
       "      <td>step125</td>\n",
       "      <td>random</td>\n",
       "      <td>R_5-S_1-D_2-N_20</td>\n",
       "      <td>random-R_5-S_1-D_2-N_20</td>\n",
       "      <td>0.061156</td>\n",
       "      <td>1.031620</td>\n",
       "      <td>7.461061</td>\n",
       "      <td>7.547305</td>\n",
       "      <td>3.978846</td>\n",
       "      <td>122</td>\n",
       "      <td>DFL-OBJ-0000F8</td>\n",
       "      <td>Felix Klaus</td>\n",
       "      <td>5</td>\n",
       "    </tr>\n",
       "    <tr>\n",
       "      <th>1</th>\n",
       "      <td>J03WOH</td>\n",
       "      <td>home_11</td>\n",
       "      <td>step125</td>\n",
       "      <td>random</td>\n",
       "      <td>R_5-S_1-D_2-N_50</td>\n",
       "      <td>random-R_5-S_1-D_2-N_50</td>\n",
       "      <td>0.073226</td>\n",
       "      <td>1.178691</td>\n",
       "      <td>8.933544</td>\n",
       "      <td>8.510028</td>\n",
       "      <td>4.320047</td>\n",
       "      <td>122</td>\n",
       "      <td>DFL-OBJ-0000F8</td>\n",
       "      <td>Felix Klaus</td>\n",
       "      <td>5</td>\n",
       "    </tr>\n",
       "    <tr>\n",
       "      <th>2</th>\n",
       "      <td>J03WOH</td>\n",
       "      <td>home_19</td>\n",
       "      <td>step125</td>\n",
       "      <td>random</td>\n",
       "      <td>R_5-S_1-D_2-N_20</td>\n",
       "      <td>random-R_5-S_1-D_2-N_20</td>\n",
       "      <td>0.074728</td>\n",
       "      <td>0.298593</td>\n",
       "      <td>0.373638</td>\n",
       "      <td>11.874154</td>\n",
       "      <td>2.879669</td>\n",
       "      <td>5</td>\n",
       "      <td>DFL-OBJ-0026RH</td>\n",
       "      <td>Emmanuel Iyoha</td>\n",
       "      <td>5</td>\n",
       "    </tr>\n",
       "    <tr>\n",
       "      <th>3</th>\n",
       "      <td>J03WOH</td>\n",
       "      <td>home_19</td>\n",
       "      <td>step125</td>\n",
       "      <td>random</td>\n",
       "      <td>R_5-S_1-D_2-N_50</td>\n",
       "      <td>random-R_5-S_1-D_2-N_50</td>\n",
       "      <td>0.291772</td>\n",
       "      <td>1.338520</td>\n",
       "      <td>1.458859</td>\n",
       "      <td>29.259300</td>\n",
       "      <td>4.134586</td>\n",
       "      <td>5</td>\n",
       "      <td>DFL-OBJ-0026RH</td>\n",
       "      <td>Emmanuel Iyoha</td>\n",
       "      <td>5</td>\n",
       "    </tr>\n",
       "    <tr>\n",
       "      <th>4</th>\n",
       "      <td>J03WOH</td>\n",
       "      <td>home_23</td>\n",
       "      <td>step125</td>\n",
       "      <td>random</td>\n",
       "      <td>R_5-S_1-D_2-N_20</td>\n",
       "      <td>random-R_5-S_1-D_2-N_20</td>\n",
       "      <td>0.019916</td>\n",
       "      <td>0.109951</td>\n",
       "      <td>0.517819</td>\n",
       "      <td>8.241985</td>\n",
       "      <td>4.046814</td>\n",
       "      <td>26</td>\n",
       "      <td>DFL-OBJ-002G5J</td>\n",
       "      <td>Shinta Karl Appelkamp</td>\n",
       "      <td>5</td>\n",
       "    </tr>\n",
       "    <tr>\n",
       "      <th>...</th>\n",
       "      <td>...</td>\n",
       "      <td>...</td>\n",
       "      <td>...</td>\n",
       "      <td>...</td>\n",
       "      <td>...</td>\n",
       "      <td>...</td>\n",
       "      <td>...</td>\n",
       "      <td>...</td>\n",
       "      <td>...</td>\n",
       "      <td>...</td>\n",
       "      <td>...</td>\n",
       "      <td>...</td>\n",
       "      <td>...</td>\n",
       "      <td>...</td>\n",
       "      <td>...</td>\n",
       "    </tr>\n",
       "    <tr>\n",
       "      <th>69</th>\n",
       "      <td>J03WR9</td>\n",
       "      <td>home_25</td>\n",
       "      <td>step125</td>\n",
       "      <td>random</td>\n",
       "      <td>R_5-S_1-D_2-N_50</td>\n",
       "      <td>random-R_5-S_1-D_2-N_50</td>\n",
       "      <td>0.078425</td>\n",
       "      <td>1.583659</td>\n",
       "      <td>10.508944</td>\n",
       "      <td>8.372633</td>\n",
       "      <td>4.533169</td>\n",
       "      <td>134</td>\n",
       "      <td>DFL-OBJ-0000NZ</td>\n",
       "      <td>Matthias Jürgen Zimmermann</td>\n",
       "      <td>5</td>\n",
       "    </tr>\n",
       "    <tr>\n",
       "      <th>70</th>\n",
       "      <td>J03WR9</td>\n",
       "      <td>home_33</td>\n",
       "      <td>step125</td>\n",
       "      <td>random</td>\n",
       "      <td>R_5-S_1-D_2-N_20</td>\n",
       "      <td>random-R_5-S_1-D_2-N_20</td>\n",
       "      <td>0.068222</td>\n",
       "      <td>3.113097</td>\n",
       "      <td>9.141708</td>\n",
       "      <td>1.691647</td>\n",
       "      <td>4.421332</td>\n",
       "      <td>134</td>\n",
       "      <td>DFL-OBJ-0028FW</td>\n",
       "      <td>Florian Kastenmeier</td>\n",
       "      <td>5</td>\n",
       "    </tr>\n",
       "    <tr>\n",
       "      <th>71</th>\n",
       "      <td>J03WR9</td>\n",
       "      <td>home_5</td>\n",
       "      <td>step125</td>\n",
       "      <td>random</td>\n",
       "      <td>R_5-S_1-D_2-N_20</td>\n",
       "      <td>random-R_5-S_1-D_2-N_20</td>\n",
       "      <td>0.114993</td>\n",
       "      <td>4.785211</td>\n",
       "      <td>15.409000</td>\n",
       "      <td>10.566591</td>\n",
       "      <td>4.243077</td>\n",
       "      <td>134</td>\n",
       "      <td>DFL-OBJ-002GM9</td>\n",
       "      <td>Christoph Klarer</td>\n",
       "      <td>5</td>\n",
       "    </tr>\n",
       "    <tr>\n",
       "      <th>72</th>\n",
       "      <td>J03WR9</td>\n",
       "      <td>home_7</td>\n",
       "      <td>step125</td>\n",
       "      <td>random</td>\n",
       "      <td>R_5-S_1-D_2-N_20</td>\n",
       "      <td>random-R_5-S_1-D_2-N_20</td>\n",
       "      <td>0.610084</td>\n",
       "      <td>13.915432</td>\n",
       "      <td>73.210046</td>\n",
       "      <td>28.485651</td>\n",
       "      <td>4.078140</td>\n",
       "      <td>120</td>\n",
       "      <td>DFL-OBJ-002GM1</td>\n",
       "      <td>Kristoffer Paul Peterson</td>\n",
       "      <td>5</td>\n",
       "    </tr>\n",
       "    <tr>\n",
       "      <th>73</th>\n",
       "      <td>J03WR9</td>\n",
       "      <td>home_9</td>\n",
       "      <td>step125</td>\n",
       "      <td>random</td>\n",
       "      <td>R_5-S_1-D_2-N_20</td>\n",
       "      <td>random-R_5-S_1-D_2-N_20</td>\n",
       "      <td>0.049105</td>\n",
       "      <td>4.395851</td>\n",
       "      <td>6.580134</td>\n",
       "      <td>7.466458</td>\n",
       "      <td>4.282948</td>\n",
       "      <td>134</td>\n",
       "      <td>DFL-OBJ-002FXT</td>\n",
       "      <td>Dawid Igor Kownacki</td>\n",
       "      <td>5</td>\n",
       "    </tr>\n",
       "  </tbody>\n",
       "</table>\n",
       "<p>74 rows × 15 columns</p>\n",
       "</div>"
      ],
      "text/plain": [
       "   game_id   player     step  method        parameters  \\\n",
       "0   J03WOH  home_11  step125  random  R_5-S_1-D_2-N_20   \n",
       "1   J03WOH  home_11  step125  random  R_5-S_1-D_2-N_50   \n",
       "2   J03WOH  home_19  step125  random  R_5-S_1-D_2-N_20   \n",
       "3   J03WOH  home_19  step125  random  R_5-S_1-D_2-N_50   \n",
       "4   J03WOH  home_23  step125  random  R_5-S_1-D_2-N_20   \n",
       "..     ...      ...      ...     ...               ...   \n",
       "69  J03WR9  home_25  step125  random  R_5-S_1-D_2-N_50   \n",
       "70  J03WR9  home_33  step125  random  R_5-S_1-D_2-N_20   \n",
       "71  J03WR9   home_5  step125  random  R_5-S_1-D_2-N_20   \n",
       "72  J03WR9   home_7  step125  random  R_5-S_1-D_2-N_20   \n",
       "73  J03WR9   home_9  step125  random  R_5-S_1-D_2-N_20   \n",
       "\n",
       "                     tuning  DAS_potential  MAX_DAS_potential  \\\n",
       "0   random-R_5-S_1-D_2-N_20       0.061156           1.031620   \n",
       "1   random-R_5-S_1-D_2-N_50       0.073226           1.178691   \n",
       "2   random-R_5-S_1-D_2-N_20       0.074728           0.298593   \n",
       "3   random-R_5-S_1-D_2-N_50       0.291772           1.338520   \n",
       "4   random-R_5-S_1-D_2-N_20       0.019916           0.109951   \n",
       "..                      ...            ...                ...   \n",
       "69  random-R_5-S_1-D_2-N_50       0.078425           1.583659   \n",
       "70  random-R_5-S_1-D_2-N_20       0.068222           3.113097   \n",
       "71  random-R_5-S_1-D_2-N_20       0.114993           4.785211   \n",
       "72  random-R_5-S_1-D_2-N_20       0.610084          13.915432   \n",
       "73  random-R_5-S_1-D_2-N_20       0.049105           4.395851   \n",
       "\n",
       "    SUM_DAS_potential  DAS_potential_percentage  distance  count  \\\n",
       "0            7.461061                  7.547305  3.978846    122   \n",
       "1            8.933544                  8.510028  4.320047    122   \n",
       "2            0.373638                 11.874154  2.879669      5   \n",
       "3            1.458859                 29.259300  4.134586      5   \n",
       "4            0.517819                  8.241985  4.046814     26   \n",
       "..                ...                       ...       ...    ...   \n",
       "69          10.508944                  8.372633  4.533169    134   \n",
       "70           9.141708                  1.691647  4.421332    134   \n",
       "71          15.409000                 10.566591  4.243077    134   \n",
       "72          73.210046                 28.485651  4.078140    120   \n",
       "73           6.580134                  7.466458  4.282948    134   \n",
       "\n",
       "                id                   full_name  games_played  \n",
       "0   DFL-OBJ-0000F8                 Felix Klaus             5  \n",
       "1   DFL-OBJ-0000F8                 Felix Klaus             5  \n",
       "2   DFL-OBJ-0026RH              Emmanuel Iyoha             5  \n",
       "3   DFL-OBJ-0026RH              Emmanuel Iyoha             5  \n",
       "4   DFL-OBJ-002G5J       Shinta Karl Appelkamp             5  \n",
       "..             ...                         ...           ...  \n",
       "69  DFL-OBJ-0000NZ  Matthias Jürgen Zimmermann             5  \n",
       "70  DFL-OBJ-0028FW         Florian Kastenmeier             5  \n",
       "71  DFL-OBJ-002GM9            Christoph Klarer             5  \n",
       "72  DFL-OBJ-002GM1    Kristoffer Paul Peterson             5  \n",
       "73  DFL-OBJ-002FXT         Dawid Igor Kownacki             5  \n",
       "\n",
       "[74 rows x 15 columns]"
      ]
     },
     "metadata": {},
     "output_type": "display_data"
    },
    {
     "data": {
      "application/vnd.microsoft.datawrangler.viewer.v0+json": {
       "columns": [
        {
         "name": "index",
         "rawType": "int64",
         "type": "integer"
        },
        {
         "name": "game_id",
         "rawType": "object",
         "type": "string"
        },
        {
         "name": "player",
         "rawType": "object",
         "type": "string"
        },
        {
         "name": "step",
         "rawType": "object",
         "type": "string"
        },
        {
         "name": "method",
         "rawType": "object",
         "type": "string"
        },
        {
         "name": "parameters",
         "rawType": "object",
         "type": "string"
        },
        {
         "name": "tuning",
         "rawType": "object",
         "type": "string"
        },
        {
         "name": "DAS_potential",
         "rawType": "float64",
         "type": "float"
        },
        {
         "name": "MAX_DAS_potential",
         "rawType": "float64",
         "type": "float"
        },
        {
         "name": "SUM_DAS_potential",
         "rawType": "float64",
         "type": "float"
        },
        {
         "name": "DAS_potential_percentage",
         "rawType": "float64",
         "type": "float"
        },
        {
         "name": "distance",
         "rawType": "float64",
         "type": "float"
        },
        {
         "name": "count",
         "rawType": "int64",
         "type": "integer"
        },
        {
         "name": "id",
         "rawType": "object",
         "type": "string"
        },
        {
         "name": "full_name",
         "rawType": "object",
         "type": "string"
        },
        {
         "name": "games_played",
         "rawType": "int64",
         "type": "integer"
        }
       ],
       "ref": "83c5d4cb-9271-468c-8ee6-574379246d33",
       "rows": [
        [
         "0",
         "J03WOH",
         "home_11",
         "step125",
         "random",
         "R_5-S_1-D_2-N_20",
         "random-R_5-S_1-D_2-N_20",
         "0.1569001632187331",
         "1.031620327342905",
         "6.432906691968057",
         "5.103355420496082",
         "4.189763800148452",
         "41",
         "DFL-OBJ-0000F8",
         "Felix Klaus",
         "5"
        ],
        [
         "1",
         "J03WOH",
         "home_11",
         "step125",
         "random",
         "R_5-S_1-D_2-N_50",
         "random-R_5-S_1-D_2-N_50",
         "0.18901567302261488",
         "1.1786906882175527",
         "7.74964259392721",
         "6.368056160746463",
         "4.4448004142027475",
         "41",
         "DFL-OBJ-0000F8",
         "Felix Klaus",
         "5"
        ],
        [
         "2",
         "J03WOH",
         "home_19",
         "step125",
         "random",
         "R_5-S_1-D_2-N_20",
         "random-R_5-S_1-D_2-N_20",
         "0.0611168528288996",
         "0.0611168528288996",
         "0.0611168528288996",
         "3.110893619221616",
         "5.0",
         "1",
         "DFL-OBJ-0026RH",
         "Emmanuel Iyoha",
         "5"
        ],
        [
         "3",
         "J03WOH",
         "home_19",
         "step125",
         "random",
         "R_5-S_1-D_2-N_50",
         "random-R_5-S_1-D_2-N_50",
         "1.3385199046358935",
         "1.3385199046358935",
         "1.3385199046358935",
         "68.13166643561111",
         "4.47213595499958",
         "1",
         "DFL-OBJ-0026RH",
         "Emmanuel Iyoha",
         "5"
        ],
        [
         "4",
         "J03WOH",
         "home_23",
         "step125",
         "random",
         "R_5-S_1-D_2-N_20",
         "random-R_5-S_1-D_2-N_20",
         "0.035730796653704634",
         "0.0868916580990886",
         "0.2501155765759324",
         "1.1353477153617177",
         "4.016160325683862",
         "7",
         "DFL-OBJ-002G5J",
         "Shinta Karl Appelkamp",
         "5"
        ],
        [
         "5",
         "J03WOH",
         "home_23",
         "step125",
         "random",
         "R_5-S_1-D_2-N_50",
         "random-R_5-S_1-D_2-N_50",
         "0.08387549433597423",
         "0.2709509915183714",
         "0.5871284603518196",
         "2.5113859389424684",
         "4.740987513874063",
         "7",
         "DFL-OBJ-002G5J",
         "Shinta Karl Appelkamp",
         "5"
        ],
        [
         "6",
         "J03WOH",
         "home_25",
         "step125",
         "all_positions",
         "R_5-S_1-D_2-N_20",
         "all_positions-R_5-S_1-D_2-N_20",
         "0.3941899048948755",
         "2.3108986229821493",
         "16.55597600558477",
         "8.825424370674934",
         "4.446113585313233",
         "42",
         "DFL-OBJ-0000NZ",
         "Matthias Jürgen Zimmermann",
         "5"
        ],
        [
         "7",
         "J03WOH",
         "home_25",
         "step125",
         "random",
         "R_5-S_1-D_2-N_20",
         "random-R_5-S_1-D_2-N_20",
         "0.3176719349568555",
         "2.2013010296285778",
         "13.34222126818793",
         "6.573959782824188",
         "4.0812702829802765",
         "42",
         "DFL-OBJ-0000NZ",
         "Matthias Jürgen Zimmermann",
         "5"
        ],
        [
         "8",
         "J03WOH",
         "home_25",
         "step125",
         "random",
         "R_5-S_1-D_2-N_50",
         "random-R_5-S_1-D_2-N_50",
         "0.3681429032488559",
         "2.105124155643148",
         "15.462001936451948",
         "8.384464976572346",
         "4.379622289258488",
         "42",
         "DFL-OBJ-0000NZ",
         "Matthias Jürgen Zimmermann",
         "5"
        ],
        [
         "9",
         "J03WOH",
         "home_33",
         "step125",
         "random",
         "R_5-S_1-D_2-N_20",
         "random-R_5-S_1-D_2-N_20",
         "0.24298618767962704",
         "3.808201171826161",
         "10.205419882544335",
         "3.766358786014049",
         "4.499522244154798",
         "42",
         "DFL-OBJ-0028FW",
         "Florian Kastenmeier",
         "5"
        ],
        [
         "10",
         "J03WOH",
         "home_33",
         "step125",
         "random",
         "R_5-S_1-D_2-N_50",
         "random-R_5-S_1-D_2-N_50",
         "0.2678439052820919",
         "4.122070675679652",
         "11.249444021847859",
         "4.229587216045789",
         "4.825577822901191",
         "42",
         "DFL-OBJ-0028FW",
         "Florian Kastenmeier",
         "5"
        ],
        [
         "11",
         "J03WOH",
         "home_5",
         "step125",
         "random",
         "R_5-S_1-D_2-N_20",
         "random-R_5-S_1-D_2-N_20",
         "0.23233162386302686",
         "0.5298721741837866",
         "1.626321367041188",
         "6.8435217285414165",
         "3.693108932385616",
         "7",
         "DFL-OBJ-002GM9",
         "Christoph Klarer",
         "5"
        ],
        [
         "12",
         "J03WOH",
         "home_5",
         "step125",
         "random",
         "R_5-S_1-D_2-N_50",
         "random-R_5-S_1-D_2-N_50",
         "0.3245886229726215",
         "0.7685268791219144",
         "2.2721203608083504",
         "9.505918395505915",
         "3.9746717819681137",
         "7",
         "DFL-OBJ-002GM9",
         "Christoph Klarer",
         "5"
        ],
        [
         "13",
         "J03WOH",
         "home_7",
         "step125",
         "random",
         "R_5-S_1-D_2-N_20",
         "random-R_5-S_1-D_2-N_20",
         "2.042547866480484",
         "10.391997181002765",
         "71.48917532681695",
         "50.741389722655036",
         "3.7865285604575547",
         "35",
         "DFL-OBJ-002GM1",
         "Kristoffer Paul Peterson",
         "5"
        ],
        [
         "14",
         "J03WOH",
         "home_7",
         "step125",
         "random",
         "R_5-S_1-D_2-N_50",
         "random-R_5-S_1-D_2-N_50",
         "1.736717018280973",
         "9.413898129378794",
         "60.785095639834054",
         "42.751979267952294",
         "4.010092333755789",
         "35",
         "DFL-OBJ-002GM1",
         "Kristoffer Paul Peterson",
         "5"
        ],
        [
         "15",
         "J03WOH",
         "home_9",
         "step125",
         "random",
         "R_5-S_1-D_2-N_20",
         "random-R_5-S_1-D_2-N_20",
         "0.10693220735783994",
         "1.762149823984953",
         "4.384220501671438",
         "3.4957528013605152",
         "4.285537894916961",
         "41",
         "DFL-OBJ-002FXT",
         "Dawid Igor Kownacki",
         "5"
        ],
        [
         "16",
         "J03WOH",
         "home_9",
         "step125",
         "random",
         "R_5-S_1-D_2-N_50",
         "random-R_5-S_1-D_2-N_50",
         "0.12418186169369076",
         "2.0126242336333844",
         "5.091456329441321",
         "4.0866457174399775",
         "4.484674409310248",
         "41",
         "DFL-OBJ-002FXT",
         "Dawid Igor Kownacki",
         "5"
        ],
        [
         "17",
         "J03WOY",
         "home_11",
         "step125",
         "random",
         "R_5-S_1-D_2-N_20",
         "random-R_5-S_1-D_2-N_20",
         "0.2849647741329414",
         "2.548465869370092",
         "9.118872772254125",
         "6.384008286807296",
         "4.265972841707098",
         "32",
         "DFL-OBJ-0000F8",
         "Felix Klaus",
         "5"
        ],
        [
         "18",
         "J03WOY",
         "home_11",
         "step125",
         "random",
         "R_5-S_1-D_2-N_50",
         "random-R_5-S_1-D_2-N_50",
         "0.34064546918656685",
         "2.755546216842866",
         "10.90065501397014",
         "7.294439645832992",
         "4.678417910048492",
         "32",
         "DFL-OBJ-0000F8",
         "Felix Klaus",
         "5"
        ],
        [
         "19",
         "J03WOY",
         "home_19",
         "step125",
         "random",
         "R_5-S_1-D_2-N_20",
         "random-R_5-S_1-D_2-N_20",
         "0.0760475806535987",
         "0.3190620425426331",
         "1.0646661291503818",
         "2.387725620463658",
         "4.225319514292295",
         "14",
         "DFL-OBJ-0026RH",
         "Emmanuel Iyoha",
         "5"
        ],
        [
         "20",
         "J03WOY",
         "home_19",
         "step125",
         "random",
         "R_5-S_1-D_2-N_50",
         "random-R_5-S_1-D_2-N_50",
         "0.1406022708379127",
         "0.5926857661874845",
         "1.968431791730778",
         "3.7226758565798863",
         "4.8085948512559185",
         "14",
         "DFL-OBJ-0026RH",
         "Emmanuel Iyoha",
         "5"
        ],
        [
         "21",
         "J03WOY",
         "home_23",
         "step125",
         "random",
         "R_5-S_1-D_2-N_20",
         "random-R_5-S_1-D_2-N_20",
         "2.5894655611813833",
         "9.211895227532382",
         "54.37877678480905",
         "48.04113997452734",
         "4.231792154022075",
         "21",
         "DFL-OBJ-002G5J",
         "Shinta Karl Appelkamp",
         "5"
        ],
        [
         "22",
         "J03WOY",
         "home_23",
         "step125",
         "random",
         "R_5-S_1-D_2-N_50",
         "random-R_5-S_1-D_2-N_50",
         "1.6206404725991863",
         "9.423844821826949",
         "34.03344992458291",
         "33.43726600896801",
         "4.483403186380145",
         "21",
         "DFL-OBJ-002G5J",
         "Shinta Karl Appelkamp",
         "5"
        ],
        [
         "23",
         "J03WOY",
         "home_25",
         "step125",
         "all_positions",
         "R_5-S_1-D_2-N_20",
         "all_positions-R_5-S_1-D_2-N_20",
         "0.4142533651653259",
         "2.33640173634644",
         "14.498867780786407",
         "7.925390712194205",
         "4.435480820103882",
         "35",
         "DFL-OBJ-0000NZ",
         "Matthias Jürgen Zimmermann",
         "5"
        ],
        [
         "24",
         "J03WOY",
         "home_25",
         "step125",
         "random",
         "R_5-S_1-D_2-N_100",
         "random-R_5-S_1-D_2-N_100",
         "0.4142533651653259",
         "2.33640173634644",
         "14.498867780786407",
         "7.925390712194205",
         "4.435480820103882",
         "35",
         "DFL-OBJ-0000NZ",
         "Matthias Jürgen Zimmermann",
         "5"
        ],
        [
         "25",
         "J03WOY",
         "home_25",
         "step125",
         "random",
         "R_5-S_1-D_2-N_20",
         "random-R_5-S_1-D_2-N_20",
         "0.2845360803756911",
         "1.7418041515461926",
         "9.958762813149189",
         "6.125549879212053",
         "4.084624021001818",
         "35",
         "DFL-OBJ-0000NZ",
         "Matthias Jürgen Zimmermann",
         "5"
        ],
        [
         "26",
         "J03WOY",
         "home_25",
         "step125",
         "random",
         "R_5-S_1-D_2-N_50",
         "random-R_5-S_1-D_2-N_50",
         "0.40751610042532344",
         "2.33640173634644",
         "14.263063514886321",
         "7.753208623766402",
         "4.237990263080998",
         "35",
         "DFL-OBJ-0000NZ",
         "Matthias Jürgen Zimmermann",
         "5"
        ],
        [
         "27",
         "J03WOY",
         "home_33",
         "step125",
         "random",
         "R_5-S_1-D_2-N_20",
         "random-R_5-S_1-D_2-N_20",
         "0.2997586578734154",
         "4.0493792178824215",
         "10.491553025569539",
         "4.410494352366245",
         "4.709145556052276",
         "35",
         "DFL-OBJ-0028FW",
         "Florian Kastenmeier",
         "5"
        ],
        [
         "28",
         "J03WOY",
         "home_33",
         "step125",
         "random",
         "R_5-S_1-D_2-N_50",
         "random-R_5-S_1-D_2-N_50",
         "0.3267681061942759",
         "4.038874672471721",
         "11.436883716799656",
         "4.816961214264671",
         "4.801186024234572",
         "35",
         "DFL-OBJ-0028FW",
         "Florian Kastenmeier",
         "5"
        ],
        [
         "29",
         "J03WOY",
         "home_5",
         "step125",
         "random",
         "R_5-S_1-D_2-N_20",
         "random-R_5-S_1-D_2-N_20",
         "0.3688538419380037",
         "2.005117377546835",
         "12.909884467830128",
         "7.821585203592906",
         "4.04519281556395",
         "35",
         "DFL-OBJ-002GM9",
         "Christoph Klarer",
         "5"
        ],
        [
         "30",
         "J03WOY",
         "home_5",
         "step125",
         "random",
         "R_5-S_1-D_2-N_50",
         "random-R_5-S_1-D_2-N_50",
         "0.493098507326777",
         "3.0152037092392927",
         "17.258447756437196",
         "10.018285841940083",
         "4.472466879525602",
         "35",
         "DFL-OBJ-002GM9",
         "Christoph Klarer",
         "5"
        ],
        [
         "31",
         "J03WOY",
         "home_7",
         "step125",
         "random",
         "R_5-S_1-D_2-N_20",
         "random-R_5-S_1-D_2-N_20",
         "0.21492893465534688",
         "1.0666937488158652",
         "6.662796974315754",
         "4.413912278810239",
         "4.160779408298562",
         "31",
         "DFL-OBJ-002GM1",
         "Kristoffer Paul Peterson",
         "5"
        ],
        [
         "32",
         "J03WOY",
         "home_7",
         "step125",
         "random",
         "R_5-S_1-D_2-N_50",
         "random-R_5-S_1-D_2-N_50",
         "0.28027624833602627",
         "1.3801401760963792",
         "8.688563698416814",
         "5.324643007290595",
         "4.4863661370205",
         "31",
         "DFL-OBJ-002GM1",
         "Kristoffer Paul Peterson",
         "5"
        ],
        [
         "33",
         "J03WOY",
         "home_9",
         "step125",
         "random",
         "R_5-S_1-D_2-N_20",
         "random-R_5-S_1-D_2-N_20",
         "2.72246066366836",
         "9.36394639052047",
         "57.171673937035564",
         "48.79714101935159",
         "3.510700860096678",
         "21",
         "DFL-OBJ-002FXT",
         "Dawid Igor Kownacki",
         "5"
        ],
        [
         "34",
         "J03WOY",
         "home_9",
         "step125",
         "random",
         "R_5-S_1-D_2-N_50",
         "random-R_5-S_1-D_2-N_50",
         "2.280087363061546",
         "9.381836985916976",
         "47.88183462429247",
         "45.092393576081",
         "4.506939646245819",
         "21",
         "DFL-OBJ-002FXT",
         "Dawid Igor Kownacki",
         "5"
        ],
        [
         "35",
         "J03WPY",
         "home_11",
         "step125",
         "random",
         "R_5-S_1-D_2-N_20",
         "random-R_5-S_1-D_2-N_20",
         "0.1440161114401106",
         "1.3799950481147398",
         "5.04056390040387",
         "3.5243875688920836",
         "4.155194676558425",
         "35",
         "DFL-OBJ-0000F8",
         "Felix Klaus",
         "5"
        ],
        [
         "36",
         "J03WPY",
         "home_11",
         "step125",
         "random",
         "R_5-S_1-D_2-N_50",
         "random-R_5-S_1-D_2-N_50",
         "0.16612115579520606",
         "1.3799950481147398",
         "5.8142404528322125",
         "4.268803372444481",
         "4.554041027006304",
         "35",
         "DFL-OBJ-0000F8",
         "Felix Klaus",
         "5"
        ],
        [
         "37",
         "J03WPY",
         "home_19",
         "step125",
         "random",
         "R_5-S_1-D_2-N_20",
         "random-R_5-S_1-D_2-N_20",
         "1.20378036919333",
         "6.001698650093118",
         "37.31719144499323",
         "37.024789352726955",
         "4.058291020273499",
         "31",
         "DFL-OBJ-0026RH",
         "Emmanuel Iyoha",
         "5"
        ],
        [
         "38",
         "J03WPY",
         "home_19",
         "step125",
         "random",
         "R_5-S_1-D_2-N_50",
         "random-R_5-S_1-D_2-N_50",
         "0.8869122046044989",
         "6.082161587743556",
         "27.494278342739467",
         "21.917291047425365",
         "4.477486417531538",
         "31",
         "DFL-OBJ-0026RH",
         "Emmanuel Iyoha",
         "5"
        ],
        [
         "39",
         "J03WPY",
         "home_23",
         "step125",
         "random",
         "R_5-S_1-D_2-N_20",
         "random-R_5-S_1-D_2-N_20",
         "1.2552026970315155",
         "5.94342939078436",
         "38.91128360797698",
         "38.17986428191056",
         "3.6990926582387167",
         "31",
         "DFL-OBJ-002G5J",
         "Shinta Karl Appelkamp",
         "5"
        ],
        [
         "40",
         "J03WPY",
         "home_23",
         "step125",
         "random",
         "R_5-S_1-D_2-N_50",
         "random-R_5-S_1-D_2-N_50",
         "0.9428468990077133",
         "6.021259946140262",
         "29.228253869239115",
         "23.220000394461003",
         "4.297599603901168",
         "31",
         "DFL-OBJ-002G5J",
         "Shinta Karl Appelkamp",
         "5"
        ],
        [
         "41",
         "J03WPY",
         "home_25",
         "step125",
         "all_positions",
         "R_5-S_1-D_2-N_20",
         "all_positions-R_5-S_1-D_2-N_20",
         "0.4242093753970504",
         "5.087585650865172",
         "16.544165640484966",
         "6.960546367709976",
         "4.3625555503622335",
         "39",
         "DFL-OBJ-0000NZ",
         "Matthias Jürgen Zimmermann",
         "5"
        ],
        [
         "42",
         "J03WPY",
         "home_25",
         "step125",
         "random",
         "R_5-S_1-D_2-N_100",
         "random-R_5-S_1-D_2-N_100",
         "0.4242093753970504",
         "5.087585650865172",
         "16.544165640484966",
         "6.960546367709976",
         "4.3625555503622335",
         "39",
         "DFL-OBJ-0000NZ",
         "Matthias Jürgen Zimmermann",
         "5"
        ],
        [
         "43",
         "J03WPY",
         "home_25",
         "step125",
         "random",
         "R_5-S_1-D_2-N_20",
         "random-R_5-S_1-D_2-N_20",
         "0.37198385859400684",
         "4.2695395967664",
         "14.507370485166268",
         "6.087733392700193",
         "4.053151621109196",
         "39",
         "DFL-OBJ-0000NZ",
         "Matthias Jürgen Zimmermann",
         "5"
        ],
        [
         "44",
         "J03WPY",
         "home_25",
         "step125",
         "random",
         "R_5-S_1-D_2-N_50",
         "random-R_5-S_1-D_2-N_50",
         "0.3933819310278709",
         "4.782377115115146",
         "15.341895310086965",
         "6.703325394689803",
         "4.349868667161687",
         "39",
         "DFL-OBJ-0000NZ",
         "Matthias Jürgen Zimmermann",
         "5"
        ],
        [
         "45",
         "J03WPY",
         "home_33",
         "step125",
         "random",
         "R_5-S_1-D_2-N_20",
         "random-R_5-S_1-D_2-N_20",
         "1.004244306831723",
         "10.39688036547036",
         "39.1655279664372",
         "8.305765402653376",
         "4.43370228819952",
         "39",
         "DFL-OBJ-0028FW",
         "Florian Kastenmeier",
         "5"
        ],
        [
         "46",
         "J03WPY",
         "home_33",
         "step125",
         "random",
         "R_5-S_1-D_2-N_50",
         "random-R_5-S_1-D_2-N_50",
         "1.116757195030818",
         "10.39688036547036",
         "43.553530606201896",
         "9.59984234217452",
         "4.830189634829562",
         "39",
         "DFL-OBJ-0028FW",
         "Florian Kastenmeier",
         "5"
        ],
        [
         "47",
         "J03WPY",
         "home_5",
         "step125",
         "random",
         "R_5-S_1-D_2-N_20",
         "random-R_5-S_1-D_2-N_20",
         "0.46792612356720464",
         "4.498041162339504",
         "18.24911881912098",
         "6.417181654608228",
         "4.243365185744919",
         "39",
         "DFL-OBJ-002GM9",
         "Christoph Klarer",
         "5"
        ],
        [
         "48",
         "J03WPY",
         "home_5",
         "step125",
         "random",
         "R_5-S_1-D_2-N_50",
         "random-R_5-S_1-D_2-N_50",
         "0.671941660042368",
         "9.237375951548472",
         "26.205724741652354",
         "8.160710770360266",
         "4.535184076527191",
         "39",
         "DFL-OBJ-002GM9",
         "Christoph Klarer",
         "5"
        ],
        [
         "49",
         "J03WPY",
         "home_7",
         "step125",
         "random",
         "R_5-S_1-D_2-N_20",
         "random-R_5-S_1-D_2-N_20",
         "6.395561859875513",
         "18.18420074079173",
         "25.58224743950205",
         "39.738958545935986",
         "2.9125703849682214",
         "4",
         "DFL-OBJ-002GM1",
         "Kristoffer Paul Peterson",
         "5"
        ]
       ],
       "shape": {
        "columns": 15,
        "rows": 74
       }
      },
      "text/html": [
       "<div>\n",
       "<style scoped>\n",
       "    .dataframe tbody tr th:only-of-type {\n",
       "        vertical-align: middle;\n",
       "    }\n",
       "\n",
       "    .dataframe tbody tr th {\n",
       "        vertical-align: top;\n",
       "    }\n",
       "\n",
       "    .dataframe thead th {\n",
       "        text-align: right;\n",
       "    }\n",
       "</style>\n",
       "<table border=\"1\" class=\"dataframe\">\n",
       "  <thead>\n",
       "    <tr style=\"text-align: right;\">\n",
       "      <th></th>\n",
       "      <th>game_id</th>\n",
       "      <th>player</th>\n",
       "      <th>step</th>\n",
       "      <th>method</th>\n",
       "      <th>parameters</th>\n",
       "      <th>tuning</th>\n",
       "      <th>DAS_potential</th>\n",
       "      <th>MAX_DAS_potential</th>\n",
       "      <th>SUM_DAS_potential</th>\n",
       "      <th>DAS_potential_percentage</th>\n",
       "      <th>distance</th>\n",
       "      <th>count</th>\n",
       "      <th>id</th>\n",
       "      <th>full_name</th>\n",
       "      <th>games_played</th>\n",
       "    </tr>\n",
       "  </thead>\n",
       "  <tbody>\n",
       "    <tr>\n",
       "      <th>0</th>\n",
       "      <td>J03WOH</td>\n",
       "      <td>home_11</td>\n",
       "      <td>step125</td>\n",
       "      <td>random</td>\n",
       "      <td>R_5-S_1-D_2-N_20</td>\n",
       "      <td>random-R_5-S_1-D_2-N_20</td>\n",
       "      <td>0.156900</td>\n",
       "      <td>1.031620</td>\n",
       "      <td>6.432907</td>\n",
       "      <td>5.103355</td>\n",
       "      <td>4.189764</td>\n",
       "      <td>41</td>\n",
       "      <td>DFL-OBJ-0000F8</td>\n",
       "      <td>Felix Klaus</td>\n",
       "      <td>5</td>\n",
       "    </tr>\n",
       "    <tr>\n",
       "      <th>1</th>\n",
       "      <td>J03WOH</td>\n",
       "      <td>home_11</td>\n",
       "      <td>step125</td>\n",
       "      <td>random</td>\n",
       "      <td>R_5-S_1-D_2-N_50</td>\n",
       "      <td>random-R_5-S_1-D_2-N_50</td>\n",
       "      <td>0.189016</td>\n",
       "      <td>1.178691</td>\n",
       "      <td>7.749643</td>\n",
       "      <td>6.368056</td>\n",
       "      <td>4.444800</td>\n",
       "      <td>41</td>\n",
       "      <td>DFL-OBJ-0000F8</td>\n",
       "      <td>Felix Klaus</td>\n",
       "      <td>5</td>\n",
       "    </tr>\n",
       "    <tr>\n",
       "      <th>2</th>\n",
       "      <td>J03WOH</td>\n",
       "      <td>home_19</td>\n",
       "      <td>step125</td>\n",
       "      <td>random</td>\n",
       "      <td>R_5-S_1-D_2-N_20</td>\n",
       "      <td>random-R_5-S_1-D_2-N_20</td>\n",
       "      <td>0.061117</td>\n",
       "      <td>0.061117</td>\n",
       "      <td>0.061117</td>\n",
       "      <td>3.110894</td>\n",
       "      <td>5.000000</td>\n",
       "      <td>1</td>\n",
       "      <td>DFL-OBJ-0026RH</td>\n",
       "      <td>Emmanuel Iyoha</td>\n",
       "      <td>5</td>\n",
       "    </tr>\n",
       "    <tr>\n",
       "      <th>3</th>\n",
       "      <td>J03WOH</td>\n",
       "      <td>home_19</td>\n",
       "      <td>step125</td>\n",
       "      <td>random</td>\n",
       "      <td>R_5-S_1-D_2-N_50</td>\n",
       "      <td>random-R_5-S_1-D_2-N_50</td>\n",
       "      <td>1.338520</td>\n",
       "      <td>1.338520</td>\n",
       "      <td>1.338520</td>\n",
       "      <td>68.131666</td>\n",
       "      <td>4.472136</td>\n",
       "      <td>1</td>\n",
       "      <td>DFL-OBJ-0026RH</td>\n",
       "      <td>Emmanuel Iyoha</td>\n",
       "      <td>5</td>\n",
       "    </tr>\n",
       "    <tr>\n",
       "      <th>4</th>\n",
       "      <td>J03WOH</td>\n",
       "      <td>home_23</td>\n",
       "      <td>step125</td>\n",
       "      <td>random</td>\n",
       "      <td>R_5-S_1-D_2-N_20</td>\n",
       "      <td>random-R_5-S_1-D_2-N_20</td>\n",
       "      <td>0.035731</td>\n",
       "      <td>0.086892</td>\n",
       "      <td>0.250116</td>\n",
       "      <td>1.135348</td>\n",
       "      <td>4.016160</td>\n",
       "      <td>7</td>\n",
       "      <td>DFL-OBJ-002G5J</td>\n",
       "      <td>Shinta Karl Appelkamp</td>\n",
       "      <td>5</td>\n",
       "    </tr>\n",
       "    <tr>\n",
       "      <th>...</th>\n",
       "      <td>...</td>\n",
       "      <td>...</td>\n",
       "      <td>...</td>\n",
       "      <td>...</td>\n",
       "      <td>...</td>\n",
       "      <td>...</td>\n",
       "      <td>...</td>\n",
       "      <td>...</td>\n",
       "      <td>...</td>\n",
       "      <td>...</td>\n",
       "      <td>...</td>\n",
       "      <td>...</td>\n",
       "      <td>...</td>\n",
       "      <td>...</td>\n",
       "      <td>...</td>\n",
       "    </tr>\n",
       "    <tr>\n",
       "      <th>69</th>\n",
       "      <td>J03WR9</td>\n",
       "      <td>home_25</td>\n",
       "      <td>step125</td>\n",
       "      <td>random</td>\n",
       "      <td>R_5-S_1-D_2-N_50</td>\n",
       "      <td>random-R_5-S_1-D_2-N_50</td>\n",
       "      <td>0.417255</td>\n",
       "      <td>1.583659</td>\n",
       "      <td>9.596873</td>\n",
       "      <td>11.194510</td>\n",
       "      <td>3.989914</td>\n",
       "      <td>23</td>\n",
       "      <td>DFL-OBJ-0000NZ</td>\n",
       "      <td>Matthias Jürgen Zimmermann</td>\n",
       "      <td>5</td>\n",
       "    </tr>\n",
       "    <tr>\n",
       "      <th>70</th>\n",
       "      <td>J03WR9</td>\n",
       "      <td>home_33</td>\n",
       "      <td>step125</td>\n",
       "      <td>random</td>\n",
       "      <td>R_5-S_1-D_2-N_20</td>\n",
       "      <td>random-R_5-S_1-D_2-N_20</td>\n",
       "      <td>0.385120</td>\n",
       "      <td>3.113097</td>\n",
       "      <td>8.857764</td>\n",
       "      <td>3.813694</td>\n",
       "      <td>4.471042</td>\n",
       "      <td>23</td>\n",
       "      <td>DFL-OBJ-0028FW</td>\n",
       "      <td>Florian Kastenmeier</td>\n",
       "      <td>5</td>\n",
       "    </tr>\n",
       "    <tr>\n",
       "      <th>71</th>\n",
       "      <td>J03WR9</td>\n",
       "      <td>home_5</td>\n",
       "      <td>step125</td>\n",
       "      <td>random</td>\n",
       "      <td>R_5-S_1-D_2-N_20</td>\n",
       "      <td>random-R_5-S_1-D_2-N_20</td>\n",
       "      <td>0.626257</td>\n",
       "      <td>4.785211</td>\n",
       "      <td>14.403920</td>\n",
       "      <td>11.761031</td>\n",
       "      <td>3.585171</td>\n",
       "      <td>23</td>\n",
       "      <td>DFL-OBJ-002GM9</td>\n",
       "      <td>Christoph Klarer</td>\n",
       "      <td>5</td>\n",
       "    </tr>\n",
       "    <tr>\n",
       "      <th>72</th>\n",
       "      <td>J03WR9</td>\n",
       "      <td>home_7</td>\n",
       "      <td>step125</td>\n",
       "      <td>random</td>\n",
       "      <td>R_5-S_1-D_2-N_20</td>\n",
       "      <td>random-R_5-S_1-D_2-N_20</td>\n",
       "      <td>3.457833</td>\n",
       "      <td>13.915432</td>\n",
       "      <td>69.156656</td>\n",
       "      <td>55.298117</td>\n",
       "      <td>4.096463</td>\n",
       "      <td>20</td>\n",
       "      <td>DFL-OBJ-002GM1</td>\n",
       "      <td>Kristoffer Paul Peterson</td>\n",
       "      <td>5</td>\n",
       "    </tr>\n",
       "    <tr>\n",
       "      <th>73</th>\n",
       "      <td>J03WR9</td>\n",
       "      <td>home_9</td>\n",
       "      <td>step125</td>\n",
       "      <td>random</td>\n",
       "      <td>R_5-S_1-D_2-N_20</td>\n",
       "      <td>random-R_5-S_1-D_2-N_20</td>\n",
       "      <td>0.261998</td>\n",
       "      <td>4.395851</td>\n",
       "      <td>6.025958</td>\n",
       "      <td>1.400509</td>\n",
       "      <td>4.619759</td>\n",
       "      <td>23</td>\n",
       "      <td>DFL-OBJ-002FXT</td>\n",
       "      <td>Dawid Igor Kownacki</td>\n",
       "      <td>5</td>\n",
       "    </tr>\n",
       "  </tbody>\n",
       "</table>\n",
       "<p>74 rows × 15 columns</p>\n",
       "</div>"
      ],
      "text/plain": [
       "   game_id   player     step  method        parameters  \\\n",
       "0   J03WOH  home_11  step125  random  R_5-S_1-D_2-N_20   \n",
       "1   J03WOH  home_11  step125  random  R_5-S_1-D_2-N_50   \n",
       "2   J03WOH  home_19  step125  random  R_5-S_1-D_2-N_20   \n",
       "3   J03WOH  home_19  step125  random  R_5-S_1-D_2-N_50   \n",
       "4   J03WOH  home_23  step125  random  R_5-S_1-D_2-N_20   \n",
       "..     ...      ...      ...     ...               ...   \n",
       "69  J03WR9  home_25  step125  random  R_5-S_1-D_2-N_50   \n",
       "70  J03WR9  home_33  step125  random  R_5-S_1-D_2-N_20   \n",
       "71  J03WR9   home_5  step125  random  R_5-S_1-D_2-N_20   \n",
       "72  J03WR9   home_7  step125  random  R_5-S_1-D_2-N_20   \n",
       "73  J03WR9   home_9  step125  random  R_5-S_1-D_2-N_20   \n",
       "\n",
       "                     tuning  DAS_potential  MAX_DAS_potential  \\\n",
       "0   random-R_5-S_1-D_2-N_20       0.156900           1.031620   \n",
       "1   random-R_5-S_1-D_2-N_50       0.189016           1.178691   \n",
       "2   random-R_5-S_1-D_2-N_20       0.061117           0.061117   \n",
       "3   random-R_5-S_1-D_2-N_50       1.338520           1.338520   \n",
       "4   random-R_5-S_1-D_2-N_20       0.035731           0.086892   \n",
       "..                      ...            ...                ...   \n",
       "69  random-R_5-S_1-D_2-N_50       0.417255           1.583659   \n",
       "70  random-R_5-S_1-D_2-N_20       0.385120           3.113097   \n",
       "71  random-R_5-S_1-D_2-N_20       0.626257           4.785211   \n",
       "72  random-R_5-S_1-D_2-N_20       3.457833          13.915432   \n",
       "73  random-R_5-S_1-D_2-N_20       0.261998           4.395851   \n",
       "\n",
       "    SUM_DAS_potential  DAS_potential_percentage  distance  count  \\\n",
       "0            6.432907                  5.103355  4.189764     41   \n",
       "1            7.749643                  6.368056  4.444800     41   \n",
       "2            0.061117                  3.110894  5.000000      1   \n",
       "3            1.338520                 68.131666  4.472136      1   \n",
       "4            0.250116                  1.135348  4.016160      7   \n",
       "..                ...                       ...       ...    ...   \n",
       "69           9.596873                 11.194510  3.989914     23   \n",
       "70           8.857764                  3.813694  4.471042     23   \n",
       "71          14.403920                 11.761031  3.585171     23   \n",
       "72          69.156656                 55.298117  4.096463     20   \n",
       "73           6.025958                  1.400509  4.619759     23   \n",
       "\n",
       "                id                   full_name  games_played  \n",
       "0   DFL-OBJ-0000F8                 Felix Klaus             5  \n",
       "1   DFL-OBJ-0000F8                 Felix Klaus             5  \n",
       "2   DFL-OBJ-0026RH              Emmanuel Iyoha             5  \n",
       "3   DFL-OBJ-0026RH              Emmanuel Iyoha             5  \n",
       "4   DFL-OBJ-002G5J       Shinta Karl Appelkamp             5  \n",
       "..             ...                         ...           ...  \n",
       "69  DFL-OBJ-0000NZ  Matthias Jürgen Zimmermann             5  \n",
       "70  DFL-OBJ-0028FW         Florian Kastenmeier             5  \n",
       "71  DFL-OBJ-002GM9            Christoph Klarer             5  \n",
       "72  DFL-OBJ-002GM1    Kristoffer Paul Peterson             5  \n",
       "73  DFL-OBJ-002FXT         Dawid Igor Kownacki             5  \n",
       "\n",
       "[74 rows x 15 columns]"
      ]
     },
     "metadata": {},
     "output_type": "display_data"
    }
   ],
   "source": [
    "display(fair_grouped_df)\n",
    "display(fair_grouped_das_g1)"
   ]
  }
 ],
 "metadata": {
  "kernelspec": {
   "display_name": "venv",
   "language": "python",
   "name": "python3"
  },
  "language_info": {
   "codemirror_mode": {
    "name": "ipython",
    "version": 3
   },
   "file_extension": ".py",
   "mimetype": "text/x-python",
   "name": "python",
   "nbconvert_exporter": "python",
   "pygments_lexer": "ipython3",
   "version": "3.13.0"
  }
 },
 "nbformat": 4,
 "nbformat_minor": 5
}
